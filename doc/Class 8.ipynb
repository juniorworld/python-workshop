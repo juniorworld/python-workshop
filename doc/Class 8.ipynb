{
 "cells": [
  {
   "cell_type": "markdown",
   "id": "2c5ecaf6",
   "metadata": {},
   "source": [
    "# Class 10 - Web Crawling (Continued)"
   ]
  },
  {
   "cell_type": "markdown",
   "id": "9113b797-0b88-4165-ada9-c46091a22169",
   "metadata": {},
   "source": [
    "### Element Not Found error\n",
    "1. Page is not properly loaded\n",
    "    - Solution: Check the browser status, refresh the page and relocate your cursor\n",
    "2. Element is not visible or is removed from the current page → Stale Element Reference Exception\n",
    "    - Solution: Check the browser status, refresh the page and relocate your cursor\n",
    "3. Wrong XPATH or element match conditions\n",
    "    - Solution: Check the code, Copy the automatically generated XPATH (inspect ) for a reference"
   ]
  },
  {
   "cell_type": "markdown",
   "id": "59446b7d-5ce8-48e6-8c20-95df8e791095",
   "metadata": {},
   "source": [
    "### Anti-Bot Techniques\n",
    "\n",
    "1. Rate limit: prevent the frequency of an operation from exceeding some threshold and allows relatively infrequent accesses, e.g. 100 calls/min\n",
    "    - Calls (aka. Hits or Requests): data exchange activities that you launch in order to get a HTML document or other documents from a remote server.\n",
    "        - <font color=\"red\"> driver.get('URL')</font> One line One call\n",
    "    - Mechanism: (1) Account-based; (2) IP-based; (3) Session-based\n",
    "    - Consequent: Account blocked or IP blocked\n",
    "    - Solutions:\n",
    "        - Reverse engineer the rate limit: count the call number and identify the threshold\n",
    "        - Account-based: Slow down and use pseudo accounts\n",
    "            - Add time.sleep() before every drive.get()\n",
    "        - IP-based: Use proxy and rotate a IP pool\n",
    "            - A proxy is an intermediary between client requests and server responses. e.g. HKBU's VPN\n",
    "            - Unauthenticated proxy:\n",
    "            >```python\n",
    "            chrome_options = Options()\n",
    "            PROXY = \"212.237.16.60:3128\"\n",
    "            #add proxy in chrome_options\n",
    "            chrome_options.add_argument(f'--proxy-server={PROXY}')\n",
    "            driver = webdriver.Chrome(PATH,options=chrome_options)\n",
    "            #check new IP\n",
    "            driver.get(\"https://api.ipify.org/?format=json\")\n",
    "               ```\n",
    "        - Session-based: Use multiple browsers and rotate user-agent"
   ]
  },
  {
   "cell_type": "markdown",
   "id": "3a4ef66d-ec5b-4e19-8728-ade39b8234c7",
   "metadata": {},
   "source": [
    "<img src=\"https://madooei.github.io/cs421_sp20_homepage/assets/client-server-1.png\" width=400>"
   ]
  },
  {
   "cell_type": "markdown",
   "id": "00a200f2-1b63-4fb7-850b-4fa93add3247",
   "metadata": {},
   "source": [
    "2. Header & Cookies: The host will investigate each request's header to see if it contains non-human signifier, such as \"automation control\". Block browsers without authentic cookies (browsing history).\n",
    "    - Solutions: \n",
    "        - Turn off \"useAutomationExtension\" and \"Exclude enable-automation switch\"\n",
    "        - Add cookies\n",
    "        - Rotate user-agent\n",
    "\n",
    "        >```python\n",
    "        #Add cookies\n",
    "        driver.add_cookie(cookie_dict)\n",
    "        driver.get_cookie()\n",
    "        #Change user-agent\n",
    "        driver.execute_cdp_cmd('Network.setUserAgentOverride', {\"userAgent\": 'Mozilla/5.0 (Windows NT 10.0; Win64; x64) AppleWebKit/537.36 (KHTML, like Gecko) Chrome/83.0.4103.53 Safari/537.36'})\n",
    "        ```\n",
    "3. CAPTCHA: Ask users to perform a certain task that is hard to be completed by bots to verify their identities\n",
    "    - Text recognition\n",
    "    - Click\n",
    "    - Simple slider\n",
    "    - Puzzle slider\n",
    "    - Automatic reCAPTCHA"
   ]
  },
  {
   "cell_type": "markdown",
   "id": "702fd820-c12b-49ee-9aec-4fe849f27651",
   "metadata": {},
   "source": [
    "<table>\n",
    "<tr><td><img src=\"https://miro.medium.com/v2/resize:fit:1100/format:webp/1*0LXnPGyW3gHt_tKZlGL4Bg.png\" width=500></td><td><img src=\"https://miro.medium.com/v2/resize:fit:1100/format:webp/1*GMcgXCSRkGW7GORpTh543Q.png\" width=500></td><td><img src=\"https://images.squarespace-cdn.com/content/v1/5f8efd464888244a12c59aaf/3abf136f-6200-4343-84b7-eaca49d5f94b/Bot-Verification.png?format=1000w\" width=500></td></tr>\n",
    "    <tr><td><img src=\"https://www.jqueryscript.net/images/alphanumeric-captcha.jpg\" width=500></td>\n",
    "    <td><img src=\"https://www.jqueryscript.net/images/google-recaptcha-async.jpg\" width=500></td>\n",
    "    </tr>\n",
    "    "
   ]
  },
  {
   "cell_type": "code",
   "execution_count": null,
   "id": "d0b61f82",
   "metadata": {},
   "outputs": [],
   "source": [
    "from selenium import webdriver\n",
    "from selenium.webdriver.common.keys import Keys\n",
    "import chromedriver_autoinstaller\n",
    "from selenium.webdriver.common.by import By\n",
    "import pandas as pd\n",
    "import numpy as np\n",
    "import time"
   ]
  },
  {
   "cell_type": "code",
   "execution_count": null,
   "id": "ddf9b95b-161a-4bc1-99cb-845344396830",
   "metadata": {},
   "outputs": [],
   "source": [
    "import ssl\n",
    "ssl._create_default_https_context = ssl._create_unverified_context"
   ]
  },
  {
   "cell_type": "code",
   "execution_count": null,
   "id": "9eabc5fe-99dc-4fae-8021-1a1612e5189f",
   "metadata": {},
   "outputs": [],
   "source": [
    "#install the chrome driver\n",
    "#copy the returned path\n",
    "chromedriver_autoinstaller.install()"
   ]
  },
  {
   "cell_type": "code",
   "execution_count": null,
   "id": "feae2327-0007-45a8-a370-b3ae1828754e",
   "metadata": {},
   "outputs": [],
   "source": [
    "#Disable the automatic control signifier\n",
    "options = webdriver.ChromeOptions() \n",
    "options.add_argument(\"--disable-blink-features=AutomationControlled\") \n",
    "options.add_experimental_option(\"excludeSwitches\", [\"enable-automation\"]) \n",
    "options.add_experimental_option(\"useAutomationExtension\", False)"
   ]
  },
  {
   "cell_type": "code",
   "execution_count": null,
   "id": "6eb626b2-f6cc-4924-8df7-b1bb6c5de397",
   "metadata": {},
   "outputs": [],
   "source": [
    "#past the returned path inside the quotation\n",
    "#run an automatically controlled chrome\n",
    "driver=webdriver.Chrome(service=webdriver.ChromeService('Your Path'),options=options)"
   ]
  },
  {
   "cell_type": "markdown",
   "id": "ad6cbd21",
   "metadata": {},
   "source": [
    "## Red Book - Collect Post Details"
   ]
  },
  {
   "cell_type": "markdown",
   "id": "c6e18627",
   "metadata": {},
   "source": [
    "Download the file https://juniorworld.github.io/python-workshop/doc/RedBook_HKBU_COMM.csv"
   ]
  },
  {
   "cell_type": "code",
   "execution_count": null,
   "id": "b0648684",
   "metadata": {},
   "outputs": [],
   "source": [
    "#Read post table\n",
    "table=pd.read_csv('https://juniorworld.github.io/python-workshop/doc/RedBook_HKBU_COMM.csv')"
   ]
  },
  {
   "cell_type": "code",
   "execution_count": null,
   "id": "57229c43-7486-413a-a9bc-b638f936330e",
   "metadata": {},
   "outputs": [],
   "source": [
    "table.head()"
   ]
  },
  {
   "cell_type": "code",
   "execution_count": null,
   "id": "6a8b2422",
   "metadata": {},
   "outputs": [],
   "source": [
    "#Open first post\n"
   ]
  },
  {
   "cell_type": "code",
   "execution_count": null,
   "id": "7dc6e31f",
   "metadata": {},
   "outputs": [],
   "source": [
    "#Get title\n",
    "#Fill in the blank\n",
    "title=driver.find_element(By.ID, ).text"
   ]
  },
  {
   "cell_type": "code",
   "execution_count": null,
   "id": "0141158c",
   "metadata": {},
   "outputs": [],
   "source": [
    "title"
   ]
  },
  {
   "cell_type": "code",
   "execution_count": null,
   "id": "1f60a8fd",
   "metadata": {},
   "outputs": [],
   "source": [
    "#Get post content\n",
    "#Fill in the blank\n",
    "content=driver.find_element().text"
   ]
  },
  {
   "cell_type": "code",
   "execution_count": null,
   "id": "f6ca04af",
   "metadata": {},
   "outputs": [],
   "source": [
    "print(content)"
   ]
  },
  {
   "cell_type": "code",
   "execution_count": null,
   "id": "3d06974b",
   "metadata": {},
   "outputs": [],
   "source": [
    "#Get the post time\n",
    "date=driver.find_element(By.CLASS_NAME,'date').text"
   ]
  },
  {
   "cell_type": "code",
   "execution_count": null,
   "id": "09340d85-ac30-4026-b477-0881b2285a34",
   "metadata": {},
   "outputs": [],
   "source": [
    "date"
   ]
  },
  {
   "cell_type": "code",
   "execution_count": null,
   "id": "47197586",
   "metadata": {},
   "outputs": [],
   "source": [
    "#Get the numbers of likes, favorites, and comments received\n",
    "#Hint: To avoid mismatch, you need to look up the condition in inspect window \n",
    "#      to assure you will not have mismatched results\n",
    "likes=driver.find_element(By.XPATH,\"//div[@class='interact-container']//div[@class='left']/span[1]\").text\n",
    "favs=\n",
    "comments="
   ]
  },
  {
   "cell_type": "code",
   "execution_count": null,
   "id": "57ba831d",
   "metadata": {},
   "outputs": [],
   "source": [
    "print(likes,favs,comments)"
   ]
  },
  {
   "cell_type": "markdown",
   "id": "7e3a7beb-6798-48a8-ad1c-0f8f30cbc4f4",
   "metadata": {},
   "source": [
    "<div class=\"alert alert-block alert-info\">\n",
    "**<b>Contain Selector</b>** You can use contain() function to locate an element that contains a value as a part of an attribute. Syntax: Xpath=//tagname[contains (@Attribute, 'Value')]</div>"
   ]
  },
  {
   "cell_type": "code",
   "execution_count": null,
   "id": "ebfca4ea",
   "metadata": {},
   "outputs": [],
   "source": [
    "#Get img list\n",
    "#Find Element By Class Name does not support class name with spaces\n",
    "#You need to use XPATH to locate the element\n",
    "imgs=driver.find_elements(By.XPATH,'//div[contains(@class,\"swiper-slide\")]')"
   ]
  },
  {
   "cell_type": "code",
   "execution_count": null,
   "id": "d8de2d13-64ae-472d-9532-19e9f2725e19",
   "metadata": {},
   "outputs": [],
   "source": [
    "#Actual image number = 7\n",
    "#Contains duplicates that are inserted to ensure that the slider can iterate seemingly endless\n",
    "len(imgs)"
   ]
  },
  {
   "cell_type": "code",
   "execution_count": null,
   "id": "b839fd58-72c4-49b8-84f4-23face445c3e",
   "metadata": {},
   "outputs": [],
   "source": [
    "#imgs[0] is identitical to imgs[8]\n",
    "imgs[0].get_attribute('style')"
   ]
  },
  {
   "cell_type": "markdown",
   "id": "b20f7761-00ce-4fc9-af7a-7e7530093db9",
   "metadata": {},
   "source": [
    "<div class=\"alert alert-block alert-info\">\n",
    "**<b>Regular Expression</b>** You can use re.findall() function to extract all matches from a string. The return value will be a list.</div>"
   ]
  },
  {
   "cell_type": "code",
   "execution_count": null,
   "id": "14c9ae7a-7f81-48da-be9b-7bb0f033fc7e",
   "metadata": {},
   "outputs": [],
   "source": [
    "#Use regular expression to find URL in any string\n",
    "#Characters allowed in URL: alphabetic, numbers, and a few special characters like ! . ? / : _and -\n",
    "import re\n",
    "a = imgs[0].get_attribute('style')\n",
    "re.findall('http',a)"
   ]
  },
  {
   "cell_type": "code",
   "execution_count": null,
   "id": "efed88c4",
   "metadata": {},
   "outputs": [],
   "source": [
    "re.findall('http[a-zA-Z0-9!.?/:_\\-]+',a)[0]"
   ]
  },
  {
   "cell_type": "code",
   "execution_count": null,
   "id": "ee6fc753",
   "metadata": {},
   "outputs": [],
   "source": [
    "#Write a loop to extract image links and save them as a list\n",
    "img_links=[]\n"
   ]
  },
  {
   "cell_type": "code",
   "execution_count": null,
   "id": "1f5c81dd-de25-4d13-ad6e-24037ee5ecbd",
   "metadata": {},
   "outputs": [],
   "source": [
    "img_links"
   ]
  },
  {
   "cell_type": "code",
   "execution_count": null,
   "id": "b3ef54a4-f641-403f-8b4a-1c5de596ae6d",
   "metadata": {},
   "outputs": [],
   "source": [
    "#Remove duplicates\n",
    "#1: set() function can convert a list to a set with distinct elements\n",
    "list(set(img_links))"
   ]
  },
  {
   "cell_type": "code",
   "execution_count": null,
   "id": "f7294b44-8ae4-4700-9732-ca736b9d9c18",
   "metadata": {},
   "outputs": [],
   "source": [
    "#2. np.unique() function\n",
    "np.unique(img_links)"
   ]
  },
  {
   "cell_type": "markdown",
   "id": "509af090",
   "metadata": {},
   "source": [
    "### Exercise 1\n",
    "Write a Loop to extract first 10 posts' details and save them as a csv named \"COMM_Post_Details.csv\"<br>\n",
    "Post details should include title, content, date, likes, favs, comments, and imgs"
   ]
  },
  {
   "cell_type": "code",
   "execution_count": null,
   "id": "2d9c5586",
   "metadata": {},
   "outputs": [],
   "source": [
    "#Write your code here\n",
    "import csv\n",
    "file=open('COMM_Post_Details.csv','w',encoding='utf-8',newline='\\n')\n",
    "writer=csv.writer(file)\n",
    "\n",
    "\n",
    "\n",
    "\n",
    "file.close()"
   ]
  },
  {
   "cell_type": "code",
   "execution_count": null,
   "id": "d10c5779",
   "metadata": {},
   "outputs": [],
   "source": [
    "posts_table=pd.read_csv('COMM_Post_Details.csv',header=None)"
   ]
  },
  {
   "cell_type": "code",
   "execution_count": null,
   "id": "a4606e45-e75f-4ac5-b66c-75c5516b4818",
   "metadata": {},
   "outputs": [],
   "source": [
    "posts_table.head()"
   ]
  },
  {
   "cell_type": "markdown",
   "id": "4f9394eb",
   "metadata": {},
   "source": [
    "## Red Book - Collect Comment Details"
   ]
  },
  {
   "cell_type": "code",
   "execution_count": null,
   "id": "eeb8343e",
   "metadata": {},
   "outputs": [],
   "source": [
    "driver.get(table['Link'].iloc[0])"
   ]
  },
  {
   "cell_type": "code",
   "execution_count": null,
   "id": "4cab76d8",
   "metadata": {},
   "outputs": [],
   "source": [
    "#Get a LIST of comments visible in the current view\n",
    "#Find Elements\n",
    "comments=driver.find_elements(By.CLASS_NAME,\"comment-item\")"
   ]
  },
  {
   "cell_type": "code",
   "execution_count": null,
   "id": "81ae6192",
   "metadata": {},
   "outputs": [],
   "source": [
    "#How many comments are visible?\n",
    "len(comments)"
   ]
  },
  {
   "cell_type": "code",
   "execution_count": null,
   "id": "f63aedb0",
   "metadata": {
    "scrolled": true
   },
   "outputs": [],
   "source": [
    "print(comments[0].text)"
   ]
  },
  {
   "cell_type": "code",
   "execution_count": null,
   "id": "9fb7e900",
   "metadata": {},
   "outputs": [],
   "source": [
    "#Way 1: Rude match. Split by Line Breaks\n",
    "#You can use line break to split text into various pieces of info\n",
    "#But this has a strong condition: Red Book does not allow line break in the comment\n",
    "#This rule does not apply to other platforms, like Weibo or Facebook\n",
    "commenter=comments[0].text.split('\\n')[0]\n",
    "comment_content=comments[0].text.split('\\n')[1]\n",
    "comment_time=comments[0].text.split('\\n')[2]\n",
    "comment_likes=comments[0].text.split('\\n')[3]\n",
    "comment_replies=comments[0].text.split('\\n')[4]"
   ]
  },
  {
   "cell_type": "code",
   "execution_count": null,
   "id": "472eaf26",
   "metadata": {},
   "outputs": [],
   "source": [
    "print(commenter,comment_content,comment_time,comment_likes,comment_replies)"
   ]
  },
  {
   "cell_type": "code",
   "execution_count": null,
   "id": "0ef2de26-2d98-4840-9fd3-aa4a69cfe158",
   "metadata": {},
   "outputs": [],
   "source": [
    "#Shortcut to assign a list of values to multiple variables\n",
    "commenter,comment_content,comment_time,comment_likes,comment_replies=comments[0].text.split('\\n')"
   ]
  },
  {
   "cell_type": "code",
   "execution_count": null,
   "id": "af10c3ba-95c0-4947-a421-3eddf5f12732",
   "metadata": {},
   "outputs": [],
   "source": [
    "#You can use _ to skip elements that you are uninterested in\n",
    "commenter,comment_content,comment_time,_,_=comments[0].text.split('\\n')"
   ]
  },
  {
   "cell_type": "code",
   "execution_count": null,
   "id": "cbe66b7f",
   "metadata": {},
   "outputs": [],
   "source": [
    "#Way 2: Precise match\n",
    "#Identify the child nodes by their XPATH\n",
    "#RELATIVE PATH: Start the path with \".\" which will confine the search to the elements subordinate to the current node\n",
    "#Author screen name\n",
    "comments[0].find_element(By.XPATH,'.//div[@class=\"author\"]').text"
   ]
  },
  {
   "cell_type": "code",
   "execution_count": null,
   "id": "4a1845b8",
   "metadata": {},
   "outputs": [],
   "source": [
    "#Author Profile Link\n",
    "#Write the path\n",
    "comments[0].find_element(By.XPATH,'WRITE YOUR PATH').get_attribute('href')"
   ]
  },
  {
   "cell_type": "code",
   "execution_count": null,
   "id": "b0d2bc66",
   "metadata": {},
   "outputs": [],
   "source": [
    "#Get the comment content, comment time, comment location, likes received by the comment\n",
    "comment_content=comments[0].find_element(By.XPATH,'.//div[@class=\"content\"]').text\n",
    "comment_date=\n",
    "comment_likes="
   ]
  },
  {
   "cell_type": "code",
   "execution_count": null,
   "id": "b5a7fe45",
   "metadata": {},
   "outputs": [],
   "source": [
    "print(comment_content,comment_date,comment_likes)"
   ]
  },
  {
   "cell_type": "markdown",
   "id": "6b4a67f7",
   "metadata": {},
   "source": [
    "### Exercise 2\n",
    "Write a Loop to extract first 10 comments and save them as a csv named \"COMM_1POST_10comments.csv\"\n",
    "<br>Required columns: commenter, comment_content, comment_date, comment_likes"
   ]
  },
  {
   "cell_type": "code",
   "execution_count": null,
   "id": "9b6d63de",
   "metadata": {},
   "outputs": [],
   "source": [
    "#Write your code here\n",
    "file=open(\"COMM_1POST_10comments.csv\",'w',encoding='utf-8',newline='\\n')\n",
    "writer=csv.writer(file)\n",
    "for comment in comments:\n",
    "    \n",
    "file.close()"
   ]
  },
  {
   "cell_type": "code",
   "execution_count": null,
   "id": "308034b6",
   "metadata": {},
   "outputs": [],
   "source": [
    "comment_table=pd.read_csv('COMM_1POST_10comments.csv',header=None)\n",
    "comment_table.head()"
   ]
  },
  {
   "cell_type": "markdown",
   "id": "8e78c882",
   "metadata": {},
   "source": [
    "## Scroll down in an internal container\n",
    "We need to scroll down in the comment container to load more posts. <br>\n",
    "However, comment container's behavior is independent from the page's behavior at large. If you scroll to bottom in the page, the status of the comment container will not be changed.<br>\n",
    "So, what we need to do here is to imitate scrolling behaviors specifically on the container element.<br>\n",
    "Technically, it is equivalent to scroll to the last visible content to the top of the container. "
   ]
  },
  {
   "cell_type": "markdown",
   "id": "1e4273f5",
   "metadata": {},
   "source": [
    "<div style=\"background-color:#B5CAA0\">\n",
    "<h2>Check the content loading mode</h2>\n",
    "<hr>\n",
    "Old Content: 1. Existing 2. Partly Removed 3. Completely Removed<br>\n",
    "New Content: 1. Seamlessly Following 2. Gap\n",
    "</div>"
   ]
  },
  {
   "cell_type": "code",
   "execution_count": null,
   "id": "df8321ce",
   "metadata": {},
   "outputs": [],
   "source": [
    "#print out the last comment visible on the current page for reference\n",
    "comments[-1].text"
   ]
  },
  {
   "cell_type": "code",
   "execution_count": null,
   "id": "3fa5ce74",
   "metadata": {},
   "outputs": [],
   "source": [
    "#Way 1: Automate Scrolling Behaviors: ScrollIntoView\n",
    "#Reminder: You may need to switch to the automate browser to realize the scrolling effect\n",
    "driver.execute_script(\"arguments[0].scrollIntoView(true);\",comments[-1])"
   ]
  },
  {
   "cell_type": "code",
   "execution_count": null,
   "id": "d1186a31",
   "metadata": {},
   "outputs": [],
   "source": [
    "comments=driver.find_elements(By.CLASS_NAME,\"comment-item\")"
   ]
  },
  {
   "cell_type": "code",
   "execution_count": null,
   "id": "0888e532",
   "metadata": {},
   "outputs": [],
   "source": [
    "comments[0].text"
   ]
  },
  {
   "cell_type": "code",
   "execution_count": null,
   "id": "fdfcddf9",
   "metadata": {},
   "outputs": [],
   "source": [
    "len(comments)"
   ]
  },
  {
   "cell_type": "code",
   "execution_count": null,
   "id": "3fb248dd",
   "metadata": {},
   "outputs": [],
   "source": [
    "comments[-1].text"
   ]
  },
  {
   "cell_type": "code",
   "execution_count": null,
   "id": "c081bc58",
   "metadata": {},
   "outputs": [],
   "source": [
    "#check the content loading mode\n",
    "for comment in comments:\n",
    "    print(comment.text)"
   ]
  },
  {
   "cell_type": "code",
   "execution_count": null,
   "id": "a3960ede",
   "metadata": {},
   "outputs": [],
   "source": [
    "#Way 2: Automate Mouse Behaviors\n",
    "from selenium.webdriver.common.action_chains import ActionChains\n",
    "actions = ActionChains(driver)"
   ]
  },
  {
   "cell_type": "markdown",
   "id": "4cdbc2f3",
   "metadata": {},
   "source": [
    "<div class=\"alert alert-block alert-info\">\n",
    "**<b>Tip</b>** move_to_element() move the mouse to the in-view center point of the element. This is otherwise known as “hovering.” Note that the element must be in the viewport or else the command will error.</div>"
   ]
  },
  {
   "cell_type": "code",
   "execution_count": null,
   "id": "230915ac",
   "metadata": {},
   "outputs": [],
   "source": [
    "#Scroll to the last comment to load more comments\n",
    "actions.move_to_element(comments[-1]).perform()"
   ]
  },
  {
   "cell_type": "markdown",
   "id": "85ddf8a6",
   "metadata": {},
   "source": [
    "### Exercise 3\n",
    "Write a Loop to extract ALL comments and save them as a data frame"
   ]
  },
  {
   "cell_type": "code",
   "execution_count": null,
   "id": "97d828aa-7e75-429f-9146-e6f06672f334",
   "metadata": {},
   "outputs": [],
   "source": [
    "#Write your code here\n",
    "\n"
   ]
  },
  {
   "cell_type": "code",
   "execution_count": null,
   "id": "8a707ba3",
   "metadata": {},
   "outputs": [],
   "source": [
    "file=open(\"COMM_1POST_all_comments.csv\",'w',encoding='utf-8',newline='\\n')\n",
    "writer=csv.writer(file)\n",
    "for comment in comments:\n",
    "    \n",
    "file.close()"
   ]
  },
  {
   "cell_type": "code",
   "execution_count": null,
   "id": "1d761776",
   "metadata": {},
   "outputs": [],
   "source": [
    "comments_table=pd.read_csv(\"COMM_1POST_all_comments.csv\")\n",
    "comments_table.head()"
   ]
  },
  {
   "cell_type": "markdown",
   "id": "8db6e79a",
   "metadata": {},
   "source": [
    "## Weibo - People's Daily"
   ]
  },
  {
   "cell_type": "markdown",
   "id": "a8524142",
   "metadata": {},
   "source": [
    "Scrolling method is not reliable if you want to collect many posts. It's hard to identify concrete points where the collection process starts and ends.<br>\n",
    "To circumvent this limitation, we will limit our search to the month of February 2024 and subsequently iterate over the remaining months. "
   ]
  },
  {
   "cell_type": "code",
   "execution_count": null,
   "id": "6eff973c",
   "metadata": {},
   "outputs": [],
   "source": [
    "driver.get(\"https://weibo.com/rmrb\")"
   ]
  },
  {
   "cell_type": "code",
   "execution_count": null,
   "id": "86c66d18",
   "metadata": {},
   "outputs": [],
   "source": [
    "Feb_link=\"https://weibo.com/rmrb?is_ori=1&is_text=1&is_pic=1&is_video=1&is_music=1&is_forward=1&start_time=1706716800&end_time=1709222400\""
   ]
  },
  {
   "cell_type": "markdown",
   "id": "9df0c931-f344-4c53-b0a5-218d35294eb7",
   "metadata": {},
   "source": [
    "- The start time and end time are formated as UNIX Timestamps, which represent the number of seconds that have elapsed since 00:00:00 UTC on 1 January 1970.\n",
    "- To get the corresponding UNIX Timestamp for a certain time, we can utlize `datetime` package.\n",
    "- `datetime.datetime(Year, Month, Date, Hour, Minute)` to create a datetime element and then convert to time tuple with `.timetuple()` method\n",
    "- <font color='red'>Time Zone</font>: We are in UTC+8 Time zone. We need to <font color='red'>**-8**</font> hours from our time to yield a universal time code.\n",
    "- `datetime.timedelta(days=X, weeks=Y)` function allow you to create a time difference element\n",
    "- datetime +/- timedelta can be added or substracted."
   ]
  },
  {
   "cell_type": "code",
   "execution_count": null,
   "id": "719f0a2e-b09b-4416-9af1-12852dd2863a",
   "metadata": {},
   "outputs": [],
   "source": [
    "import datetime\n",
    "start_time=datetime.datetime(2024, 1, 31, 16, 00)"
   ]
  },
  {
   "cell_type": "code",
   "execution_count": null,
   "id": "1d55da56-5aa3-4507-a139-f18110d8b27d",
   "metadata": {},
   "outputs": [],
   "source": [
    "start_time"
   ]
  },
  {
   "cell_type": "code",
   "execution_count": null,
   "id": "9d22df79-729d-4726-954e-90538ae2c608",
   "metadata": {},
   "outputs": [],
   "source": [
    "#Get the UNIX Timestamp of the start time\n",
    "time.mktime(start_time.timetuple())"
   ]
  },
  {
   "cell_type": "code",
   "execution_count": null,
   "id": "8478ba8f-da24-4b80-bdd9-0ba196b27d48",
   "metadata": {},
   "outputs": [],
   "source": [
    "duration=datetime.timedelta(days=29)"
   ]
  },
  {
   "cell_type": "code",
   "execution_count": null,
   "id": "b4488594-7233-4bc1-bdba-cd8f2722e325",
   "metadata": {},
   "outputs": [],
   "source": [
    "start_time+duration"
   ]
  },
  {
   "cell_type": "code",
   "execution_count": null,
   "id": "e1919ae8-5817-4cfe-ac62-32116262b9bf",
   "metadata": {},
   "outputs": [],
   "source": [
    "#Get the UNIX Timestamp of the end time\n"
   ]
  },
  {
   "cell_type": "code",
   "execution_count": null,
   "id": "531ac34a-cfb9-432b-8a75-a2c2523e06dd",
   "metadata": {},
   "outputs": [],
   "source": [
    "driver.get(Feb_link)"
   ]
  },
  {
   "cell_type": "markdown",
   "id": "6c3c9a9a-683f-4cc3-811a-e5e6d522fe1e",
   "metadata": {},
   "source": [
    "<div class=\"alert alert-block alert-info\">\n",
    "**<b>Reverse Selector</b>** You can use not() function to reverse your selection.</div>"
   ]
  },
  {
   "cell_type": "code",
   "execution_count": null,
   "id": "a7f5b204",
   "metadata": {},
   "outputs": [],
   "source": [
    "#get the posts visible on the current page\n",
    "post_list=driver.find_elements(By.XPATH,'//div[@class=\"vue-recycle-scroller__item-view\" and not(contains(@style, \"z-index\"))]')"
   ]
  },
  {
   "cell_type": "code",
   "execution_count": null,
   "id": "2ee5a104",
   "metadata": {},
   "outputs": [],
   "source": [
    "len(post_list)"
   ]
  },
  {
   "cell_type": "code",
   "execution_count": null,
   "id": "5350fa36",
   "metadata": {},
   "outputs": [],
   "source": [
    "post_list[0].text"
   ]
  },
  {
   "cell_type": "code",
   "execution_count": null,
   "id": "ad4bd10d",
   "metadata": {},
   "outputs": [],
   "source": [
    "first_post=post_list[0]"
   ]
  },
  {
   "cell_type": "code",
   "execution_count": null,
   "id": "9a6c14f8",
   "metadata": {},
   "outputs": [],
   "source": [
    "#Get the post time\n",
    "created_at=first_post.find_element(By.XPATH,'.//a[@class=\"head-info_time_6sFQg\"]').get_attribute('title')"
   ]
  },
  {
   "cell_type": "code",
   "execution_count": null,
   "id": "6d041674-390e-446b-96d7-9b34b906e4ae",
   "metadata": {},
   "outputs": [],
   "source": [
    "created_at"
   ]
  },
  {
   "cell_type": "code",
   "execution_count": null,
   "id": "d680d38b",
   "metadata": {},
   "outputs": [],
   "source": [
    "#Get the following values for the first post\n",
    "#pid, text, comments, shares, likes\n",
    "pid=\n",
    "text=\n",
    "comments=\n",
    "shares=\n",
    "likes="
   ]
  },
  {
   "cell_type": "code",
   "execution_count": null,
   "id": "2d020b46",
   "metadata": {},
   "outputs": [],
   "source": [
    "#scroll to the bottom to load more posts\n",
    "driver.execute_script(\"window.scrollTo(0, document.body.scrollHeight);\")"
   ]
  },
  {
   "cell_type": "code",
   "execution_count": null,
   "id": "be9f98a0",
   "metadata": {},
   "outputs": [],
   "source": [
    "#check the page loading mode\n",
    "#If we scroll to the page bottom, the posts in between will be unfortunately skipped.\n",
    "post_list=driver.find_elements(By.XPATH,'//div[@class=\"vue-recycle-scroller__item-view\" and not(contains(@style, \"z-index\"))]')\n",
    "post_list[0].text"
   ]
  },
  {
   "cell_type": "code",
   "execution_count": null,
   "id": "6646b95f-ccf8-43d0-a9d1-b77c40ebab65",
   "metadata": {
    "scrolled": true
   },
   "outputs": [],
   "source": [
    "#We need to scroll the page step by step, by increments of 500 pixels.\n",
    "#First stop (0, 500)\n",
    "driver.execute_script(\"window.scrollTo(0, 500);\")\n",
    "post_list=driver.find_elements(By.XPATH,'//div[@class=\"vue-recycle-scroller__item-view\" and not(contains(@style, \"z-index\"))]')\n",
    "print(len(post_list))\n",
    "print(post_list[0].text)\n",
    "print(post_list[-1].text)"
   ]
  },
  {
   "cell_type": "code",
   "execution_count": null,
   "id": "75205d56-2db9-4680-823c-2456c8f1cc49",
   "metadata": {},
   "outputs": [],
   "source": [
    "#Scroll to (0, 1000)\n",
    "driver.execute_script(\"window.scrollTo(0, 1000);\")\n",
    "post_list=driver.find_elements(By.XPATH,'//div[@class=\"vue-recycle-scroller__item-view\" and not(contains(@style, \"z-index\"))]')\n",
    "print(len(post_list))\n",
    "print(post_list[0].text)\n",
    "print(post_list[-1].text)"
   ]
  },
  {
   "cell_type": "code",
   "execution_count": null,
   "id": "160e6903",
   "metadata": {},
   "outputs": [],
   "source": [
    "#scroll down the page five times\n",
    "#collect all posts\n",
    "\n"
   ]
  },
  {
   "cell_type": "code",
   "execution_count": null,
   "id": "ec58fc3b",
   "metadata": {},
   "outputs": [],
   "source": [
    "#collapse the post to show full text\n",
    "\n"
   ]
  }
 ],
 "metadata": {
  "kernelspec": {
   "display_name": "Python 3 (ipykernel)",
   "language": "python",
   "name": "python3"
  },
  "language_info": {
   "codemirror_mode": {
    "name": "ipython",
    "version": 3
   },
   "file_extension": ".py",
   "mimetype": "text/x-python",
   "name": "python",
   "nbconvert_exporter": "python",
   "pygments_lexer": "ipython3",
   "version": "3.12.0"
  }
 },
 "nbformat": 4,
 "nbformat_minor": 5
}
