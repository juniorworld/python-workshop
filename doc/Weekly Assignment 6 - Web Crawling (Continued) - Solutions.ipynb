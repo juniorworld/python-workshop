{
 "cells": [
  {
   "cell_type": "markdown",
   "metadata": {},
   "source": [
    "# Weekly Assignment 6\n",
    "Due Date: 15:30, 14 Mar"
   ]
  },
  {
   "cell_type": "markdown",
   "metadata": {},
   "source": [
    "Collect all posts mentioning 俄罗斯 on Weibo between 6:00pm-11:59pm, 6 Mar, 2023.\n",
    "\n",
    "1. Control your selenium web driver to open this page: https://s.weibo.com/weibo/%25E8%25B0%2583%25E6%259F%25A5%25E8%25AE%25B0%25E8%2580%2585?q=%E4%BF%84%E7%BD%97%E6%96%AF&typeall=1&suball=1&timescope=custom:2023-03-06-18:2023-03-06-23&Refer=g\n",
    "\n",
    "2. Search results are scatterd on 19 pages.\n",
    "\n",
    "3. Collect all posts listed from 1st to the 19nd page. Required columns: user_id, user_screen_name, created_at, mid, text, comments, shares, likes\n",
    "\n",
    "4. Save the post details into a csv file, named \"Russia_Weibo.csv\".\n",
    "\n",
    "Submit your jupyter notebook on Moodle."
   ]
  },
  {
   "cell_type": "code",
   "execution_count": 1,
   "metadata": {},
   "outputs": [],
   "source": [
    "from selenium import webdriver\n",
    "from selenium.webdriver.common.keys import Keys\n",
    "import chromedriver_autoinstaller\n",
    "from selenium.webdriver.common.by import By\n",
    "import time"
   ]
  },
  {
   "cell_type": "code",
   "execution_count": 2,
   "metadata": {},
   "outputs": [],
   "source": [
    "driver=webdriver.Chrome()"
   ]
  },
  {
   "cell_type": "code",
   "execution_count": 3,
   "metadata": {},
   "outputs": [],
   "source": [
    "base_url=\"https://s.weibo.com/weibo/%25E8%25B0%2583%25E6%259F%25A5%25E8%25AE%25B0%25E8%2580%2585?q=%E4%BF%84%E7%BD%97%E6%96%AF&typeall=1&suball=1&timescope=custom:2023-03-06-18:2023-03-06-23&Refer=g\""
   ]
  },
  {
   "cell_type": "code",
   "execution_count": 6,
   "metadata": {},
   "outputs": [],
   "source": [
    "driver.get(base_url)"
   ]
  },
  {
   "cell_type": "code",
   "execution_count": 7,
   "metadata": {},
   "outputs": [],
   "source": [
    "post_list=driver.find_elements(By.XPATH,\"//div[@action-type='feed_list_item']\")"
   ]
  },
  {
   "cell_type": "code",
   "execution_count": 8,
   "metadata": {},
   "outputs": [
    {
     "data": {
      "text/plain": [
       "10"
      ]
     },
     "execution_count": 8,
     "metadata": {},
     "output_type": "execute_result"
    }
   ],
   "source": [
    "len(post_list)"
   ]
  },
  {
   "cell_type": "code",
   "execution_count": 9,
   "metadata": {},
   "outputs": [],
   "source": [
    "post=post_list[0]"
   ]
  },
  {
   "cell_type": "code",
   "execution_count": 10,
   "metadata": {},
   "outputs": [
    {
     "data": {
      "text/plain": [
       "'c\\n津包饺\\n各國應轟炸俄羅斯境內“暈輸線”……當年“炮擊金門”很久，最後因美國切斷了“廈門車站”運輸線，炮擊金門才止。（而不應去烏克蘭建軍工廠：俄會集中火力轟炸。）@美国驻华大使馆 @英國駐華使館 @歐盟在中國 @烏克蘭信使\\n03月06日 22:59  来自 微博极速版\\n收藏\\n转发\\n评论 5\\n3'"
      ]
     },
     "execution_count": 10,
     "metadata": {},
     "output_type": "execute_result"
    }
   ],
   "source": [
    "post.text"
   ]
  },
  {
   "cell_type": "code",
   "execution_count": 11,
   "metadata": {},
   "outputs": [
    {
     "data": {
      "text/plain": [
       "'4876429206487187'"
      ]
     },
     "execution_count": 11,
     "metadata": {},
     "output_type": "execute_result"
    }
   ],
   "source": [
    "# user_id, user_screen_name, created_at, mid, text, comments, shares, likes\n",
    "post.get_attribute('mid')"
   ]
  },
  {
   "cell_type": "code",
   "execution_count": 15,
   "metadata": {},
   "outputs": [
    {
     "data": {
      "text/plain": [
       "'7805625463'"
      ]
     },
     "execution_count": 15,
     "metadata": {},
     "output_type": "execute_result"
    }
   ],
   "source": [
    "#. means current node\n",
    "post.find_element(By.XPATH,\".//div[@class='info']/div[2]/a\").get_attribute('href').split('.com/')[1].split('?')[0]"
   ]
  },
  {
   "cell_type": "code",
   "execution_count": 16,
   "metadata": {},
   "outputs": [
    {
     "data": {
      "text/plain": [
       "'津包饺'"
      ]
     },
     "execution_count": 16,
     "metadata": {},
     "output_type": "execute_result"
    }
   ],
   "source": [
    "post.find_element(By.XPATH,\".//div[@class='info']/div[2]/a\").get_attribute('nick-name')"
   ]
  },
  {
   "cell_type": "code",
   "execution_count": 17,
   "metadata": {},
   "outputs": [
    {
     "data": {
      "text/plain": [
       "'03月06日 22:59'"
      ]
     },
     "execution_count": 17,
     "metadata": {},
     "output_type": "execute_result"
    }
   ],
   "source": [
    "post.find_element(By.XPATH,\".//p[@class='from']/a\").text"
   ]
  },
  {
   "cell_type": "code",
   "execution_count": 18,
   "metadata": {},
   "outputs": [
    {
     "data": {
      "text/plain": [
       "'各國應轟炸俄羅斯境內“暈輸線”……當年“炮擊金門”很久，最後因美國切斷了“廈門車站”運輸線，炮擊金門才止。（而不應去烏克蘭建軍工廠：俄會集中火力轟炸。）@美国驻华大使馆 @英國駐華使館 @歐盟在中國 @烏克蘭信使'"
      ]
     },
     "execution_count": 18,
     "metadata": {},
     "output_type": "execute_result"
    }
   ],
   "source": [
    "post.find_element(By.CLASS_NAME,\"txt\").text"
   ]
  },
  {
   "cell_type": "code",
   "execution_count": 22,
   "metadata": {},
   "outputs": [
    {
     "data": {
      "text/plain": [
       "''"
      ]
     },
     "execution_count": 22,
     "metadata": {},
     "output_type": "execute_result"
    }
   ],
   "source": [
    "post.find_element(By.XPATH,\".//div[@class='card-act']/ul/li[2]\").text.replace('转发','')"
   ]
  },
  {
   "cell_type": "code",
   "execution_count": 24,
   "metadata": {},
   "outputs": [
    {
     "data": {
      "text/plain": [
       "'5'"
      ]
     },
     "execution_count": 24,
     "metadata": {},
     "output_type": "execute_result"
    }
   ],
   "source": [
    "post.find_element(By.XPATH,\".//div[@class='card-act']/ul/li[3]\").text.replace('评论','').strip()"
   ]
  },
  {
   "cell_type": "code",
   "execution_count": 21,
   "metadata": {},
   "outputs": [
    {
     "data": {
      "text/plain": [
       "'3'"
      ]
     },
     "execution_count": 21,
     "metadata": {},
     "output_type": "execute_result"
    }
   ],
   "source": [
    "post.find_element(By.XPATH,\".//div[@class='card-act']/ul/li[4]\").text"
   ]
  },
  {
   "cell_type": "code",
   "execution_count": 25,
   "metadata": {},
   "outputs": [],
   "source": [
    "import csv\n",
    "import time"
   ]
  },
  {
   "cell_type": "code",
   "execution_count": 26,
   "metadata": {},
   "outputs": [
    {
     "data": {
      "text/plain": [
       "68"
      ]
     },
     "execution_count": 26,
     "metadata": {},
     "output_type": "execute_result"
    }
   ],
   "source": [
    "file=open(\"Weibo_Russia.csv\",'w',encoding=\"utf-8\",newline='\\n')\n",
    "writer=csv.writer(file)\n",
    "writer.writerow(['user_id','user_screen_name', 'created_at', 'mid', 'text', 'comments', 'shares', 'likes'])"
   ]
  },
  {
   "cell_type": "code",
   "execution_count": 27,
   "metadata": {},
   "outputs": [
    {
     "name": "stdout",
     "output_type": "stream",
     "text": [
      "1\n",
      "2\n",
      "3\n",
      "4\n",
      "5\n",
      "6\n",
      "7\n",
      "8\n",
      "9\n",
      "10\n",
      "11\n",
      "12\n",
      "13\n",
      "14\n",
      "15\n",
      "16\n",
      "17\n",
      "18\n",
      "19\n"
     ]
    }
   ],
   "source": [
    "for page in range(1,20):\n",
    "    driver.get(base_url+'&page='+str(page))\n",
    "    time.sleep(5)\n",
    "    post_list=driver.find_elements(By.XPATH,\"//div[@action-type='feed_list_item']\")\n",
    "    print(page)\n",
    "    for post in post_list:\n",
    "        mid=post.get_attribute('mid')\n",
    "        uid=post.find_element(By.XPATH,\".//div[@class='info']/div[2]/a\").get_attribute('href').split('.com/')[1].split('?')[0]\n",
    "        sn=post.find_element(By.XPATH,\".//div[@class='info']/div[2]/a\").get_attribute('nick-name')\n",
    "        created_at=post.find_element(By.XPATH,\".//p[@class='from']/a\").text\n",
    "        text=post.find_element(By.CLASS_NAME,\"txt\").text\n",
    "        shares=post.find_element(By.XPATH,\".//div[@class='card-act']/ul/li[2]\").text.replace('转发','')\n",
    "        comments=post.find_element(By.XPATH,\".//div[@class='card-act']/ul/li[3]\").text.replace('评论','').strip()\n",
    "        likes=post.find_element(By.XPATH,\".//div[@class='card-act']/ul/li[4]\").text\n",
    "        writer.writerow([uid,sn,created_at,mid,text,comments,shares,likes])\n",
    "file.close()"
   ]
  }
 ],
 "metadata": {
  "kernelspec": {
   "display_name": "Python 3 (ipykernel)",
   "language": "python",
   "name": "python3"
  },
  "language_info": {
   "codemirror_mode": {
    "name": "ipython",
    "version": 3
   },
   "file_extension": ".py",
   "mimetype": "text/x-python",
   "name": "python",
   "nbconvert_exporter": "python",
   "pygments_lexer": "ipython3",
   "version": "3.10.9"
  },
  "widgets": {
   "application/vnd.jupyter.widget-state+json": {
    "state": {
     "09d403da72ce484c8059f560bd837121": {
      "model_module": "@jupyter-widgets/controls",
      "model_module_version": "1.4.0",
      "model_name": "DropdownModel",
      "state": {
       "_options_labels": [
        "Washington",
        "Jefferson",
        "Lincoln",
        "Roosevelt",
        "Kennedy",
        "Nixon",
        "Reagan",
        "Bush",
        "Clinton",
        "W Bush",
        "Obama",
        "Trump"
       ],
       "index": 0,
       "layout": "IPY_MODEL_5d041920c7cd48e2a363485668907b6d",
       "style": "IPY_MODEL_0e118725a2304b21b80c9097e5078e48"
      }
     },
     "0c14d355c296406cafa55fc7a8ff8703": {
      "model_module": "@jupyter-widgets/base",
      "model_module_version": "1.1.0",
      "model_name": "LayoutModel",
      "state": {}
     },
     "0e118725a2304b21b80c9097e5078e48": {
      "model_module": "@jupyter-widgets/controls",
      "model_module_version": "1.4.0",
      "model_name": "DescriptionStyleModel",
      "state": {
       "description_width": ""
      }
     },
     "108e50ab0f634a8e8356903e8b05b383": {
      "model_module": "@jupyter-widgets/base",
      "model_module_version": "1.1.0",
      "model_name": "LayoutModel",
      "state": {}
     },
     "36f14aa0711647fcaf7d3c41e5098cba": {
      "model_module": "@jupyter-widgets/controls",
      "model_module_version": "1.4.0",
      "model_name": "DescriptionStyleModel",
      "state": {
       "description_width": ""
      }
     },
     "427453b1a0234b0795232b2204adf254": {
      "model_module": "@jupyter-widgets/base",
      "model_module_version": "1.1.0",
      "model_name": "LayoutModel",
      "state": {}
     },
     "447e287667804afdb3703200255435b7": {
      "model_module": "@jupyter-widgets/base",
      "model_module_version": "1.1.0",
      "model_name": "LayoutModel",
      "state": {}
     },
     "48c28b30321d42b5aa6ca23b457faec8": {
      "model_module": "@jupyter-widgets/controls",
      "model_module_version": "1.4.0",
      "model_name": "DropdownModel",
      "state": {
       "_options_labels": [
        "Self-Direction",
        "Stimulation",
        "Hedonism",
        "Achievement",
        "Power",
        "Security",
        "Tradition",
        "Conformity",
        "Benevolence",
        "Universalism"
       ],
       "index": 0,
       "layout": "IPY_MODEL_0c14d355c296406cafa55fc7a8ff8703",
       "style": "IPY_MODEL_36f14aa0711647fcaf7d3c41e5098cba"
      }
     },
     "50b1ce134bfb4976b5524b63af79063b": {
      "model_module": "@jupyter-widgets/controls",
      "model_module_version": "1.4.0",
      "model_name": "DescriptionStyleModel",
      "state": {
       "description_width": ""
      }
     },
     "5d041920c7cd48e2a363485668907b6d": {
      "model_module": "@jupyter-widgets/base",
      "model_module_version": "1.1.0",
      "model_name": "LayoutModel",
      "state": {}
     },
     "6bf5d15ed7ba4ce48882118753034deb": {
      "model_module": "@jupyter-widgets/base",
      "model_module_version": "1.1.0",
      "model_name": "LayoutModel",
      "state": {}
     },
     "92f1a9bf5e1e456a9e928334a2c94444": {
      "model_module": "@jupyter-widgets/controls",
      "model_module_version": "1.4.0",
      "model_name": "DropdownModel",
      "state": {
       "_options_labels": [
        "Self-Direction",
        "Stimulation",
        "Hedonism",
        "Achievement",
        "Power",
        "Security",
        "Tradition",
        "Conformity",
        "Benevolence",
        "Universalism"
       ],
       "index": 0,
       "layout": "IPY_MODEL_108e50ab0f634a8e8356903e8b05b383",
       "style": "IPY_MODEL_9482fb8de0f24b67a9ea4476a4ab865a"
      }
     },
     "9482fb8de0f24b67a9ea4476a4ab865a": {
      "model_module": "@jupyter-widgets/controls",
      "model_module_version": "1.4.0",
      "model_name": "DescriptionStyleModel",
      "state": {
       "description_width": ""
      }
     },
     "b342823aa0e74a50bbbe2659fd0a1980": {
      "model_module": "@jupyter-widgets/controls",
      "model_module_version": "1.4.0",
      "model_name": "DropdownModel",
      "state": {
       "_options_labels": [
        "Washington",
        "Jefferson",
        "Lincoln",
        "Roosevelt",
        "Kennedy",
        "Nixon",
        "Reagan",
        "Bush",
        "Clinton",
        "W Bush",
        "Obama",
        "Trump"
       ],
       "index": 0,
       "layout": "IPY_MODEL_427453b1a0234b0795232b2204adf254",
       "style": "IPY_MODEL_e2aa6eccef004eda98c547964bb65ab1"
      }
     },
     "b79d13a09c964e2c9ad68347bc444f73": {
      "model_module": "@jupyter-widgets/controls",
      "model_module_version": "1.4.0",
      "model_name": "DropdownModel",
      "state": {
       "_options_labels": [
        "Self-Direction",
        "Stimulation",
        "Hedonism",
        "Achievement",
        "Power",
        "Security",
        "Tradition",
        "Conformity",
        "Benevolence",
        "Universalism"
       ],
       "index": 0,
       "layout": "IPY_MODEL_447e287667804afdb3703200255435b7",
       "style": "IPY_MODEL_50b1ce134bfb4976b5524b63af79063b"
      }
     },
     "e2aa6eccef004eda98c547964bb65ab1": {
      "model_module": "@jupyter-widgets/controls",
      "model_module_version": "1.4.0",
      "model_name": "DescriptionStyleModel",
      "state": {
       "description_width": ""
      }
     },
     "fa3f15da2c5b48ef902cb9eced151a83": {
      "model_module": "@jupyter-widgets/controls",
      "model_module_version": "1.4.0",
      "model_name": "AccordionModel",
      "state": {
       "_titles": {
        "0": "If all inauguration speeches are considered, which value is the most important and most mentioned?",
        "1": "Among all studied presidents, who emphasizes the value of STIMULATION more often than others?",
        "2": "Among all studied presidents, who emphasizes the value of POWER more often than others?",
        "3": "Among all studied values, what is the most important thing for Trump?",
        "4": "Among all studied values, what is the least important thing for Trump?"
       },
       "children": [
        "IPY_MODEL_b79d13a09c964e2c9ad68347bc444f73",
        "IPY_MODEL_b342823aa0e74a50bbbe2659fd0a1980",
        "IPY_MODEL_09d403da72ce484c8059f560bd837121",
        "IPY_MODEL_92f1a9bf5e1e456a9e928334a2c94444",
        "IPY_MODEL_48c28b30321d42b5aa6ca23b457faec8"
       ],
       "layout": "IPY_MODEL_6bf5d15ed7ba4ce48882118753034deb"
      }
     }
    },
    "version_major": 2,
    "version_minor": 0
   }
  }
 },
 "nbformat": 4,
 "nbformat_minor": 2
}
