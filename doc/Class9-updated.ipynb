{
 "cells": [
  {
   "cell_type": "markdown",
   "metadata": {},
   "source": [
    "<img src=\"https://juniorworld.github.io/python-workshop-2018/img/portfolio/week9.png\" width=\"350px\">"
   ]
  },
  {
   "cell_type": "markdown",
   "metadata": {},
   "source": [
    "---"
   ]
  },
  {
   "cell_type": "markdown",
   "metadata": {},
   "source": [
    "# Unsupervised Machine Learning"
   ]
  },
  {
   "cell_type": "markdown",
   "metadata": {},
   "source": [
    "- Train a model to give predictions only based on input data\n",
    "- Dimension Reduction: PCA or SVD\n",
    "- Clustering Analysis: Modularity, KMeans"
   ]
  },
  {
   "cell_type": "markdown",
   "metadata": {},
   "source": [
    "## PCA: Principal Component Analysis\n",
    "- Purpose: Dimension Reduction + Visualization\n",
    "- Input: high-dimensional data\n",
    "- Output: low-dimensional data\n",
    "- Survey: 100 items -> 5 components"
   ]
  },
  {
   "cell_type": "code",
   "execution_count": 1,
   "metadata": {},
   "outputs": [],
   "source": [
    "import pandas as pd\n",
    "import numpy as np\n",
    "from sklearn.decomposition import PCA\n",
    "from sklearn.datasets import load_iris"
   ]
  },
  {
   "cell_type": "code",
   "execution_count": 2,
   "metadata": {},
   "outputs": [],
   "source": [
    "iris=load_iris()"
   ]
  },
  {
   "cell_type": "code",
   "execution_count": 3,
   "metadata": {},
   "outputs": [
    {
     "name": "stdout",
     "output_type": "stream",
     "text": [
      "['sepal length (cm)', 'sepal width (cm)', 'petal length (cm)', 'petal width (cm)']\n"
     ]
    }
   ],
   "source": [
    "print(iris.feature_names)"
   ]
  },
  {
   "cell_type": "code",
   "execution_count": 4,
   "metadata": {},
   "outputs": [],
   "source": [
    "data=iris.data"
   ]
  },
  {
   "cell_type": "code",
   "execution_count": 5,
   "metadata": {},
   "outputs": [
    {
     "data": {
      "text/plain": [
       "(150, 4)"
      ]
     },
     "execution_count": 5,
     "metadata": {},
     "output_type": "execute_result"
    }
   ],
   "source": [
    "data.shape"
   ]
  },
  {
   "cell_type": "code",
   "execution_count": 7,
   "metadata": {},
   "outputs": [
    {
     "data": {
      "text/plain": [
       "0"
      ]
     },
     "execution_count": 7,
     "metadata": {},
     "output_type": "execute_result"
    }
   ],
   "source": [
    "iris.target[0]"
   ]
  },
  {
   "cell_type": "code",
   "execution_count": 8,
   "metadata": {},
   "outputs": [
    {
     "data": {
      "text/plain": [
       "PCA(copy=True, iterated_power='auto', n_components=2, random_state=None,\n",
       "  svd_solver='auto', tol=0.0, whiten=False)"
      ]
     },
     "execution_count": 8,
     "metadata": {},
     "output_type": "execute_result"
    }
   ],
   "source": [
    "pca = PCA(n_components=2)\n",
    "pca.fit(data)"
   ]
  },
  {
   "cell_type": "code",
   "execution_count": 9,
   "metadata": {},
   "outputs": [
    {
     "data": {
      "text/plain": [
       "array([0.92461872, 0.05306648])"
      ]
     },
     "execution_count": 9,
     "metadata": {},
     "output_type": "execute_result"
    }
   ],
   "source": [
    "pca.explained_variance_ratio_"
   ]
  },
  {
   "cell_type": "code",
   "execution_count": 10,
   "metadata": {},
   "outputs": [
    {
     "data": {
      "text/plain": [
       "PCA(copy=True, iterated_power='auto', n_components=3, random_state=None,\n",
       "  svd_solver='auto', tol=0.0, whiten=False)"
      ]
     },
     "execution_count": 10,
     "metadata": {},
     "output_type": "execute_result"
    }
   ],
   "source": [
    "pca = PCA(n_components=3) #initialize a PCA decomposer\n",
    "pca.fit(data) #train this decomposer with current data set"
   ]
  },
  {
   "cell_type": "code",
   "execution_count": 11,
   "metadata": {},
   "outputs": [
    {
     "data": {
      "text/plain": [
       "array([0.92461872, 0.05306648, 0.01710261])"
      ]
     },
     "execution_count": 11,
     "metadata": {},
     "output_type": "execute_result"
    }
   ],
   "source": [
    "pca.explained_variance_ratio_"
   ]
  },
  {
   "cell_type": "code",
   "execution_count": 12,
   "metadata": {},
   "outputs": [],
   "source": [
    "iris_pca=pca.transform(data)"
   ]
  },
  {
   "cell_type": "code",
   "execution_count": 13,
   "metadata": {},
   "outputs": [
    {
     "data": {
      "text/plain": [
       "(150, 3)"
      ]
     },
     "execution_count": 13,
     "metadata": {},
     "output_type": "execute_result"
    }
   ],
   "source": [
    "iris_pca.shape"
   ]
  },
  {
   "cell_type": "code",
   "execution_count": 14,
   "metadata": {},
   "outputs": [
    {
     "data": {
      "text/plain": [
       "array([-2.68412563,  0.31939725, -0.02791483])"
      ]
     },
     "execution_count": 14,
     "metadata": {},
     "output_type": "execute_result"
    }
   ],
   "source": [
    "iris_pca[0,:]"
   ]
  },
  {
   "cell_type": "code",
   "execution_count": 15,
   "metadata": {},
   "outputs": [],
   "source": [
    "#plot this matrix\n",
    "import plotly.plotly as py\n",
    "import plotly.graph_objs as go\n",
    "\n",
    "py.sign_in('yunerzhu','IPqlBadz4qYbTEuOxbL5')"
   ]
  },
  {
   "cell_type": "code",
   "execution_count": 16,
   "metadata": {},
   "outputs": [
    {
     "name": "stderr",
     "output_type": "stream",
     "text": [
      "c:\\users\\yuner\\appdata\\local\\programs\\python\\python36\\lib\\site-packages\\IPython\\core\\display.py:689: UserWarning:\n",
      "\n",
      "Consider using IPython.display.IFrame instead\n",
      "\n"
     ]
    },
    {
     "data": {
      "text/html": [
       "<iframe id=\"igraph\" scrolling=\"no\" style=\"border:none;\" seamless=\"seamless\" src=\"https://plot.ly/~yunerzhu/40.embed\" height=\"525px\" width=\"100%\"></iframe>"
      ],
      "text/plain": [
       "<plotly.tools.PlotlyDisplay object>"
      ]
     },
     "execution_count": 16,
     "metadata": {},
     "output_type": "execute_result"
    }
   ],
   "source": [
    "trace=go.Scatter3d(\n",
    "                 x=iris_pca[:,0],\n",
    "                 y=iris_pca[:,1],\n",
    "                 z=iris_pca[:,2],\n",
    "                 mode='markers',\n",
    "                 marker={'size':3,'color':iris.target})\n",
    "py.iplot([trace],filename='iris pca')"
   ]
  },
  {
   "cell_type": "code",
   "execution_count": 18,
   "metadata": {},
   "outputs": [
    {
     "data": {
      "text/html": [
       "<iframe id=\"igraph\" scrolling=\"no\" style=\"border:none;\" seamless=\"seamless\" src=\"https://plot.ly/~yunerzhu/40.embed\" height=\"525px\" width=\"100%\"></iframe>"
      ],
      "text/plain": [
       "<plotly.tools.PlotlyDisplay object>"
      ]
     },
     "execution_count": 18,
     "metadata": {},
     "output_type": "execute_result"
    }
   ],
   "source": [
    "trace=go.Scatter(\n",
    "                 x=iris_pca[:,0],\n",
    "                 y=iris_pca[:,1],\n",
    "                 mode='markers',\n",
    "                 marker={'size':5,'color':iris.target})\n",
    "py.iplot([trace],filename='iris pca')"
   ]
  },
  {
   "cell_type": "markdown",
   "metadata": {},
   "source": [
    "Try another data set..."
   ]
  },
  {
   "cell_type": "code",
   "execution_count": 19,
   "metadata": {
    "collapsed": true
   },
   "outputs": [
    {
     "name": "stdout",
     "output_type": "stream",
     "text": [
      "Requirement already satisfied: matplotlib in c:\\users\\yuner\\appdata\\local\\programs\\python\\python36\\lib\\site-packages\n",
      "Requirement already satisfied: numpy>=1.10.0 in c:\\users\\yuner\\appdata\\local\\programs\\python\\python36\\lib\\site-packages (from matplotlib)\n",
      "Requirement already satisfied: cycler>=0.10 in c:\\users\\yuner\\appdata\\local\\programs\\python\\python36\\lib\\site-packages (from matplotlib)\n",
      "Requirement already satisfied: pyparsing!=2.0.4,!=2.1.2,!=2.1.6,>=2.0.1 in c:\\users\\yuner\\appdata\\local\\programs\\python\\python36\\lib\\site-packages (from matplotlib)\n",
      "Requirement already satisfied: kiwisolver>=1.0.1 in c:\\users\\yuner\\appdata\\local\\programs\\python\\python36\\lib\\site-packages (from matplotlib)\n",
      "Requirement already satisfied: python-dateutil>=2.1 in c:\\users\\yuner\\appdata\\local\\programs\\python\\python36\\lib\\site-packages (from matplotlib)\n",
      "Requirement already satisfied: six in c:\\users\\yuner\\appdata\\local\\programs\\python\\python36\\lib\\site-packages (from cycler>=0.10->matplotlib)\n",
      "Requirement already satisfied: setuptools in c:\\users\\yuner\\appdata\\local\\programs\\python\\python36\\lib\\site-packages (from kiwisolver>=1.0.1->matplotlib)\n"
     ]
    },
    {
     "name": "stderr",
     "output_type": "stream",
     "text": [
      "You are using pip version 9.0.3, however version 19.0.3 is available.\n",
      "You should consider upgrading via the 'python -m pip install --upgrade pip' command.\n"
     ]
    }
   ],
   "source": [
    "! pip3 install matplotlib"
   ]
  },
  {
   "cell_type": "code",
   "execution_count": 20,
   "metadata": {},
   "outputs": [],
   "source": [
    "import matplotlib.pyplot as plt\n",
    "from sklearn.datasets import load_digits\n",
    "#load digits data\n",
    "digits = load_digits()"
   ]
  },
  {
   "cell_type": "markdown",
   "metadata": {},
   "source": [
    "digits is composed of three lists: image list, data list, and label list"
   ]
  },
  {
   "cell_type": "code",
   "execution_count": 24,
   "metadata": {},
   "outputs": [
    {
     "data": {
      "text/plain": [
       "<Figure size 432x288 with 0 Axes>"
      ]
     },
     "metadata": {},
     "output_type": "display_data"
    },
    {
     "data": {
      "image/png": "[encoded data removed]",
      "text/plain": [
       "<Figure size 288x288 with 1 Axes>"
      ]
     },
     "metadata": {
      "needs_background": "light"
     },
     "output_type": "display_data"
    }
   ],
   "source": [
    "#\"images\" contains 8x8 images of each data point.\n",
    "plt.gray() \n",
    "plt.matshow(digits.images[0])\n",
    "plt.show() "
   ]
  },
  {
   "cell_type": "code",
   "execution_count": 28,
   "metadata": {},
   "outputs": [
    {
     "data": {
      "text/plain": [
       "0"
      ]
     },
     "execution_count": 28,
     "metadata": {},
     "output_type": "execute_result"
    }
   ],
   "source": [
    "#\"target\" contains a list of results\n",
    "digits.target[0]"
   ]
  },
  {
   "cell_type": "code",
   "execution_count": 29,
   "metadata": {},
   "outputs": [],
   "source": [
    "#\"data\" contains brighness numbers of each data point\n",
    "data=digits.data"
   ]
  },
  {
   "cell_type": "code",
   "execution_count": 30,
   "metadata": {},
   "outputs": [
    {
     "data": {
      "text/plain": [
       "(1797, 64)"
      ]
     },
     "execution_count": 30,
     "metadata": {},
     "output_type": "execute_result"
    }
   ],
   "source": [
    "data.shape #overall 1797 cases * 64 brightness number"
   ]
  },
  {
   "cell_type": "code",
   "execution_count": 31,
   "metadata": {},
   "outputs": [
    {
     "data": {
      "text/plain": [
       "array([ 0.,  0.,  5., 13.,  9.,  1.,  0.,  0.,  0.,  0., 13., 15., 10.,\n",
       "       15.,  5.,  0.,  0.,  3., 15.,  2.,  0., 11.,  8.,  0.,  0.,  4.,\n",
       "       12.,  0.,  0.,  8.,  8.,  0.,  0.,  5.,  8.,  0.,  0.,  9.,  8.,\n",
       "        0.,  0.,  4., 11.,  0.,  1., 12.,  7.,  0.,  0.,  2., 14.,  5.,\n",
       "       10., 12.,  0.,  0.,  0.,  0.,  6., 13., 10.,  0.,  0.,  0.])"
      ]
     },
     "execution_count": 31,
     "metadata": {},
     "output_type": "execute_result"
    }
   ],
   "source": [
    "data[0,:] #first case"
   ]
  },
  {
   "cell_type": "code",
   "execution_count": 36,
   "metadata": {},
   "outputs": [
    {
     "data": {
      "text/plain": [
       "PCA(copy=True, iterated_power='auto', n_components=15, random_state=None,\n",
       "  svd_solver='auto', tol=0.0, whiten=False)"
      ]
     },
     "execution_count": 36,
     "metadata": {},
     "output_type": "execute_result"
    }
   ],
   "source": [
    "#Find the minimum number of components which can explain over 80% of data variance\n",
    "pca=PCA(n_components=15)\n",
    "pca.fit(data)"
   ]
  },
  {
   "cell_type": "code",
   "execution_count": 40,
   "metadata": {},
   "outputs": [],
   "source": [
    "pca = PCA(n_components=3) #specify the component number to 3\n",
    "pca.fit(data)\n",
    "digits_3d=pca.transform(data) #obtain the transformed data"
   ]
  },
  {
   "cell_type": "code",
   "execution_count": 48,
   "metadata": {},
   "outputs": [
    {
     "data": {
      "text/plain": [
       "array([0.14890594, 0.13618771, 0.11794594])"
      ]
     },
     "execution_count": 48,
     "metadata": {},
     "output_type": "execute_result"
    }
   ],
   "source": [
    "pca.explained_variance_ratio_"
   ]
  },
  {
   "cell_type": "code",
   "execution_count": 42,
   "metadata": {},
   "outputs": [
    {
     "data": {
      "text/plain": [
       "array([[ -1.25946638,  21.27488357,  -9.4630554 ],\n",
       "       [  7.95761118, -20.768699  ,   4.43950644],\n",
       "       [  6.99192297,  -9.95598641,   2.95855845],\n",
       "       [-15.90610509,   3.33246439,   9.8243711 ],\n",
       "       [ 23.30686717,   4.26906069,  -5.67512767]])"
      ]
     },
     "execution_count": 42,
     "metadata": {},
     "output_type": "execute_result"
    }
   ],
   "source": [
    "digits_3d[0:5,:]"
   ]
  },
  {
   "cell_type": "code",
   "execution_count": 43,
   "metadata": {},
   "outputs": [
    {
     "name": "stderr",
     "output_type": "stream",
     "text": [
      "c:\\users\\yuner\\appdata\\local\\programs\\python\\python36\\lib\\site-packages\\IPython\\core\\display.py:689: UserWarning:\n",
      "\n",
      "Consider using IPython.display.IFrame instead\n",
      "\n"
     ]
    },
    {
     "data": {
      "text/html": [
       "<iframe id=\"igraph\" scrolling=\"no\" style=\"border:none;\" seamless=\"seamless\" src=\"https://plot.ly/~yunerzhu/34.embed\" height=\"525px\" width=\"100%\"></iframe>"
      ],
      "text/plain": [
       "<plotly.tools.PlotlyDisplay object>"
      ]
     },
     "execution_count": 43,
     "metadata": {},
     "output_type": "execute_result"
    }
   ],
   "source": [
    "trace=go.Scatter3d(\n",
    "        x=digits_3d[:,0],\n",
    "        y=digits_3d[:,1],\n",
    "        z=digits_3d[:,2],\n",
    "        mode='markers',\n",
    "        marker={'size':2,'color':digits.target,'colorscale':'Rainbow'},\n",
    "        text=digits.target)\n",
    "py.iplot([trace],filename='digits space')"
   ]
  },
  {
   "cell_type": "code",
   "execution_count": 45,
   "metadata": {},
   "outputs": [
    {
     "data": {
      "text/html": [
       "<iframe id=\"igraph\" scrolling=\"no\" style=\"border:none;\" seamless=\"seamless\" src=\"https://plot.ly/~yunerzhu/34.embed\" height=\"525px\" width=\"100%\"></iframe>"
      ],
      "text/plain": [
       "<plotly.tools.PlotlyDisplay object>"
      ]
     },
     "execution_count": 45,
     "metadata": {},
     "output_type": "execute_result"
    }
   ],
   "source": [
    "trace=go.Scatter(\n",
    "        x=digits_3d[:,0],\n",
    "        y=digits_3d[:,1],\n",
    "        mode='markers',\n",
    "        marker={'size':5,'color':digits.target,'colorscale':'Rainbow'},\n",
    "        text=digits.target)\n",
    "py.iplot([trace],filename='digits space')"
   ]
  },
  {
   "cell_type": "markdown",
   "metadata": {},
   "source": [
    "---\n",
    "## Break\n",
    "---"
   ]
  },
  {
   "cell_type": "markdown",
   "metadata": {},
   "source": [
    "## KMeans\n",
    "- Purpose: cluster data points according to their euclidean distance\n",
    "- Input: observation data\n",
    "- Output: predicted groups\n",
    "- Procedure:\n",
    "    - STEP 1. Intialize K cluster centroids\n",
    "    - STEP 2. Calculate the distance between each data point and each centroid\n",
    "    - STEP 3. Assign data point to the cluster whose centroid is closest to it\n",
    "    - STEP 4. Update the cluster centroids with new group\n",
    "    - STEP 5. Repeat STEP 1~4 for specific time or until convergence"
   ]
  },
  {
   "cell_type": "markdown",
   "metadata": {},
   "source": [
    "<h3 style=\"color: red\">1. Step-by-Step Breakdowns</h3>"
   ]
  },
  {
   "cell_type": "markdown",
   "metadata": {},
   "source": [
    "### STEP 1. Initialize K cluster centroids"
   ]
  },
  {
   "cell_type": "code",
   "execution_count": 51,
   "metadata": {},
   "outputs": [],
   "source": [
    "#randomly pick K points as centroids\n",
    "#Suppose: K=10\n",
    "random_centroids_index=np.random.choice(range(data.shape[0]),10)"
   ]
  },
  {
   "cell_type": "code",
   "execution_count": 52,
   "metadata": {},
   "outputs": [
    {
     "data": {
      "text/plain": [
       "array([1266, 1375, 1192,  283, 1388,  160, 1741, 1538,  440,  622])"
      ]
     },
     "execution_count": 52,
     "metadata": {},
     "output_type": "execute_result"
    }
   ],
   "source": [
    "random_centroids_index"
   ]
  },
  {
   "cell_type": "code",
   "execution_count": 50,
   "metadata": {},
   "outputs": [
    {
     "data": {
      "text/plain": [
       "range(0, 1797)"
      ]
     },
     "execution_count": 50,
     "metadata": {},
     "output_type": "execute_result"
    }
   ],
   "source": [
    "range(data.shape[0])"
   ]
  },
  {
   "cell_type": "code",
   "execution_count": 58,
   "metadata": {},
   "outputs": [],
   "source": [
    "random_centroids=data[random_centroids_index,:]"
   ]
  },
  {
   "cell_type": "code",
   "execution_count": 59,
   "metadata": {},
   "outputs": [
    {
     "data": {
      "text/plain": [
       "(10, 64)"
      ]
     },
     "execution_count": 59,
     "metadata": {},
     "output_type": "execute_result"
    }
   ],
   "source": [
    "random_centroids.shape"
   ]
  },
  {
   "cell_type": "markdown",
   "metadata": {},
   "source": [
    "### STEP 2. Calculate the pairwise distance between data point and each centroid"
   ]
  },
  {
   "cell_type": "markdown",
   "metadata": {},
   "source": [
    "**a) VECTOR NORM**"
   ]
  },
  {
   "cell_type": "markdown",
   "metadata": {},
   "source": [
    "<img src=\"https://juniorworld.github.io/python-workshop-2018/img/vector_norm.png\" width=\"200px\" align='left'>"
   ]
  },
  {
   "cell_type": "code",
   "execution_count": 63,
   "metadata": {},
   "outputs": [],
   "source": [
    "#According to Pythagorean theorem, if U=(U1,U2,U3,...,Un), ‖U‖=sqrt(U1^2 + U2^2 + U3^2 +...+ Un^2)\n",
    "a=np.array([0,1,2,3])\n",
    "norm=np.sqrt(sum([i**2 for i in a]))"
   ]
  },
  {
   "cell_type": "code",
   "execution_count": 66,
   "metadata": {},
   "outputs": [
    {
     "data": {
      "text/plain": [
       "[0, 1, 4, 9]"
      ]
     },
     "execution_count": 66,
     "metadata": {},
     "output_type": "execute_result"
    }
   ],
   "source": [
    "np.sqrt(sum([i**2 for i in a]))"
   ]
  },
  {
   "cell_type": "code",
   "execution_count": 64,
   "metadata": {},
   "outputs": [
    {
     "data": {
      "text/plain": [
       "3.7416573867739413"
      ]
     },
     "execution_count": 64,
     "metadata": {},
     "output_type": "execute_result"
    }
   ],
   "source": [
    "norm"
   ]
  },
  {
   "cell_type": "code",
   "execution_count": 62,
   "metadata": {},
   "outputs": [
    {
     "data": {
      "text/plain": [
       "9"
      ]
     },
     "execution_count": 62,
     "metadata": {},
     "output_type": "execute_result"
    }
   ],
   "source": [
    "np.power(3,2)"
   ]
  },
  {
   "cell_type": "code",
   "execution_count": 67,
   "metadata": {},
   "outputs": [
    {
     "data": {
      "text/plain": [
       "3.7416573867739413"
      ]
     },
     "execution_count": 67,
     "metadata": {},
     "output_type": "execute_result"
    }
   ],
   "source": [
    "#SHORTCUT: Use np.linalg.norm() to calculate the vector norm\n",
    "np.linalg.norm(a)"
   ]
  },
  {
   "cell_type": "markdown",
   "metadata": {},
   "source": [
    "**b) VECTOR SUBTRACTION**"
   ]
  },
  {
   "cell_type": "markdown",
   "metadata": {},
   "source": [
    "<img src=\"https://juniorworld.github.io/python-workshop-2018/img/vector_minus.png\" width=\"250px\" align='left'>"
   ]
  },
  {
   "cell_type": "code",
   "execution_count": 68,
   "metadata": {},
   "outputs": [
    {
     "data": {
      "text/plain": [
       "1.0"
      ]
     },
     "execution_count": 68,
     "metadata": {},
     "output_type": "execute_result"
    }
   ],
   "source": [
    "a=np.array([0,1])\n",
    "b=np.array([0,2])\n",
    "np.linalg.norm(a-b)"
   ]
  },
  {
   "cell_type": "code",
   "execution_count": 69,
   "metadata": {},
   "outputs": [
    {
     "data": {
      "text/plain": [
       "46.06517122512408"
      ]
     },
     "execution_count": 69,
     "metadata": {},
     "output_type": "execute_result"
    }
   ],
   "source": [
    "#get the pairwise distance between first data point and first cluster's centroid\n",
    "np.linalg.norm(data[0]-random_centroids[0])"
   ]
  },
  {
   "cell_type": "code",
   "execution_count": 82,
   "metadata": {},
   "outputs": [
    {
     "data": {
      "text/plain": [
       "(1797,)"
      ]
     },
     "execution_count": 82,
     "metadata": {},
     "output_type": "execute_result"
    }
   ],
   "source": [
    "#get the distance between all data and first centroid in one line\n",
    "np.linalg.norm(data-random_centroids[0],axis=1).shape"
   ]
  },
  {
   "cell_type": "markdown",
   "metadata": {},
   "source": [
    "### STEP 3. Pairwise Distance of digit data"
   ]
  },
  {
   "cell_type": "code",
   "execution_count": 76,
   "metadata": {},
   "outputs": [
    {
     "data": {
      "text/plain": [
       "1"
      ]
     },
     "execution_count": 76,
     "metadata": {},
     "output_type": "execute_result"
    }
   ],
   "source": [
    "np.argmin([2,1,3,4,5,6,7,8,9,10]) #index of smallest value"
   ]
  },
  {
   "cell_type": "code",
   "execution_count": 77,
   "metadata": {},
   "outputs": [],
   "source": [
    "#Calculate the distance between each data point and each centroid, assign point to the cluster depending on this distance\n",
    "#You need to get a list of cluster assignment\n",
    "#HINT: you can use np.argmin() to find the index of minimum value\n",
    "#----------------------------------\n",
    "def single_run_KMeans(data,centroids):\n",
    "    clusters=[] #initialization\n",
    "    for i in data:\n",
    "        distances=[] #a list for each data point\n",
    "        for centroid in centroids: #go through every centroids\n",
    "            distances.append(np.linalg.norm(i-centroid))\n",
    "        clusters.append(np.argmin(distances))\n",
    "    #Write your code here\n",
    "    clusters=np.array(clusters)\n",
    "    return(clusters)"
   ]
  },
  {
   "cell_type": "code",
   "execution_count": 83,
   "metadata": {},
   "outputs": [],
   "source": [
    "def single_run_KMeans2(data,centroids):\n",
    "    clusters=[] #initialization\n",
    "    for i in data:\n",
    "        distances=np.linalg.norm(i-centroids,axis=1)\n",
    "        clusters.append(np.argmin(distances))\n",
    "    #Write your code here\n",
    "    clusters=np.array(clusters)\n",
    "    return(clusters)"
   ]
  },
  {
   "cell_type": "code",
   "execution_count": 78,
   "metadata": {},
   "outputs": [],
   "source": [
    "first_run_cluster=single_run_KMeans(data,random_centroids)"
   ]
  },
  {
   "cell_type": "code",
   "execution_count": 84,
   "metadata": {},
   "outputs": [
    {
     "data": {
      "text/plain": [
       "array([5, 7, 7, ..., 7, 4, 9], dtype=int64)"
      ]
     },
     "execution_count": 84,
     "metadata": {},
     "output_type": "execute_result"
    }
   ],
   "source": [
    "first_run_cluster #first point belongs to this cluster after first run"
   ]
  },
  {
   "cell_type": "code",
   "execution_count": 85,
   "metadata": {},
   "outputs": [
    {
     "data": {
      "text/plain": [
       "array([5, 7, 7, ..., 7, 4, 9], dtype=int64)"
      ]
     },
     "execution_count": 85,
     "metadata": {},
     "output_type": "execute_result"
    }
   ],
   "source": [
    "single_run_KMeans2(data,random_centroids)"
   ]
  },
  {
   "cell_type": "markdown",
   "metadata": {},
   "source": [
    "### STEP 4. Update the centroids"
   ]
  },
  {
   "cell_type": "markdown",
   "metadata": {},
   "source": [
    "Centroids: centers of a group of points/vectors\n",
    "    - Measure: avarage of coordinates"
   ]
  },
  {
   "cell_type": "markdown",
   "metadata": {},
   "source": [
    "<img src=\"https://juniorworld.github.io/python-workshop-2018/img/centroids.png\" width=\"250px\" align='left'>"
   ]
  },
  {
   "cell_type": "code",
   "execution_count": 86,
   "metadata": {},
   "outputs": [
    {
     "name": "stdout",
     "output_type": "stream",
     "text": [
      "[3.25 4.25 5.25]\n",
      "[2. 3. 5. 7.]\n"
     ]
    }
   ],
   "source": [
    "a=[[1,2,3],\n",
    "   [2,3,4],\n",
    "   [4,5,6],\n",
    "   [6,7,8]]\n",
    "print(np.mean(a,axis=0)) #column mean\n",
    "print(np.mean(a,axis=1)) #row mean"
   ]
  },
  {
   "cell_type": "code",
   "execution_count": 89,
   "metadata": {},
   "outputs": [
    {
     "data": {
      "text/plain": [
       "(3,)"
      ]
     },
     "execution_count": 89,
     "metadata": {},
     "output_type": "execute_result"
    }
   ],
   "source": [
    "np.mean(a,axis=0).shape"
   ]
  },
  {
   "cell_type": "code",
   "execution_count": 102,
   "metadata": {},
   "outputs": [
    {
     "data": {
      "text/plain": [
       "array([[ 0.,  0.,  5., ...,  0.,  0.,  0.],\n",
       "       [ 0.,  0.,  1., ...,  3.,  0.,  0.],\n",
       "       [ 0.,  0., 10., ...,  3.,  0.,  0.],\n",
       "       ...,\n",
       "       [ 0.,  0.,  9., ...,  4.,  0.,  0.],\n",
       "       [ 0.,  0.,  0., ...,  4.,  0.,  0.],\n",
       "       [ 0.,  0.,  6., ...,  6.,  0.,  0.]])"
      ]
     },
     "execution_count": 102,
     "metadata": {},
     "output_type": "execute_result"
    }
   ],
   "source": [
    "data[first_run_cluster==5,:] #points in cluster 5"
   ]
  },
  {
   "cell_type": "code",
   "execution_count": 98,
   "metadata": {},
   "outputs": [
    {
     "data": {
      "text/plain": [
       "array([False, False, False, ..., False, False, False])"
      ]
     },
     "execution_count": 98,
     "metadata": {},
     "output_type": "execute_result"
    }
   ],
   "source": [
    "first_run_cluster==0"
   ]
  },
  {
   "cell_type": "code",
   "execution_count": 106,
   "metadata": {},
   "outputs": [
    {
     "name": "stdout",
     "output_type": "stream",
     "text": [
      "[1, 2, 3, [3, 4, 5]]\n"
     ]
    }
   ],
   "source": [
    "a=[1,2,3]\n",
    "a.append([3,4,5])\n",
    "print(a)"
   ]
  },
  {
   "cell_type": "code",
   "execution_count": 107,
   "metadata": {},
   "outputs": [
    {
     "name": "stdout",
     "output_type": "stream",
     "text": [
      "[1, 2, 3, 3, 4, 5]\n"
     ]
    }
   ],
   "source": [
    "a=[1,2,3]\n",
    "a.extend([3,4,5])\n",
    "print(a)"
   ]
  },
  {
   "cell_type": "code",
   "execution_count": 176,
   "metadata": {},
   "outputs": [],
   "source": [
    "#Update the centroids of clusters\n",
    "def update_centroids(data,n_clusters,clusters):\n",
    "    centroids=[]\n",
    "    for i in range(n_clusters):\n",
    "        centroids.append(np.mean(data[clusters==i,:],axis=0))\n",
    "        #Write your code here\n",
    "    centroids=np.array(centroids)\n",
    "    return(centroids)"
   ]
  },
  {
   "cell_type": "code",
   "execution_count": null,
   "metadata": {},
   "outputs": [],
   "source": [
    "data[first_run_cluster==0]"
   ]
  },
  {
   "cell_type": "code",
   "execution_count": 113,
   "metadata": {},
   "outputs": [
    {
     "data": {
      "text/plain": [
       "array([[0.00000000e+00, 1.33043478e+00, 1.06869565e+01, 1.42434783e+01,\n",
       "        1.20086957e+01, 6.72173913e+00, 1.51304348e+00, 1.73913043e-02,\n",
       "        0.00000000e+00, 4.35652174e+00, 1.35217391e+01, 1.27478261e+01,\n",
       "        1.13130435e+01, 6.32173913e+00, 1.04347826e+00, 0.00000000e+00,\n",
       "        1.73913043e-02, 3.80000000e+00, 9.38260870e+00, 6.99130435e+00,\n",
       "        8.43478261e+00, 3.10434783e+00, 4.00000000e-01, 8.69565217e-03,\n",
       "        8.69565217e-03, 2.33043478e+00, 9.03478261e+00, 1.16260870e+01,\n",
       "        7.72173913e+00, 2.44347826e+00, 1.37391304e+00, 0.00000000e+00,\n",
       "        0.00000000e+00, 1.53043478e+00, 9.42608696e+00, 1.46782609e+01,\n",
       "        7.06086957e+00, 1.63478261e+00, 6.60869565e-01, 0.00000000e+00,\n",
       "        0.00000000e+00, 7.82608696e-01, 6.93913043e+00, 1.24000000e+01,\n",
       "        6.36521739e+00, 8.00000000e-01, 1.39130435e-01, 0.00000000e+00,\n",
       "        0.00000000e+00, 1.43478261e+00, 9.45217391e+00, 1.19391304e+01,\n",
       "        8.01739130e+00, 3.10434783e+00, 1.06956522e+00, 1.73913043e-02,\n",
       "        0.00000000e+00, 1.35652174e+00, 1.17217391e+01, 1.27391304e+01,\n",
       "        7.36521739e+00, 3.17391304e+00, 1.03478261e+00, 1.91304348e-01],\n",
       "       [0.00000000e+00, 4.54545455e-02, 1.50000000e+00, 1.10909091e+01,\n",
       "        8.97727273e+00, 4.65909091e-01, 0.00000000e+00, 0.00000000e+00,\n",
       "        0.00000000e+00, 1.02272727e-01, 5.01136364e+00, 1.47840909e+01,\n",
       "        7.48863636e+00, 7.38636364e-01, 0.00000000e+00, 0.00000000e+00,\n",
       "        0.00000000e+00, 1.81818182e-01, 9.34090909e+00, 1.21022727e+01,\n",
       "        3.02272727e+00, 8.63636364e-01, 3.40909091e-02, 0.00000000e+00,\n",
       "        0.00000000e+00, 6.70454545e-01, 1.15795455e+01, 1.09431818e+01,\n",
       "        6.95454545e+00, 3.38636364e+00, 3.29545455e-01, 0.00000000e+00,\n",
       "        0.00000000e+00, 1.48863636e+00, 1.27386364e+01, 1.33750000e+01,\n",
       "        1.23636364e+01, 1.04659091e+01, 4.43181818e+00, 0.00000000e+00,\n",
       "        0.00000000e+00, 7.72727273e-01, 1.12727273e+01, 1.08636364e+01,\n",
       "        5.80681818e+00, 6.67045455e+00, 1.04659091e+01, 5.11363636e-01,\n",
       "        0.00000000e+00, 5.68181818e-02, 8.00000000e+00, 1.22386364e+01,\n",
       "        6.07954545e+00, 9.00000000e+00, 1.28522727e+01, 1.94318182e+00,\n",
       "        0.00000000e+00, 4.54545455e-02, 1.51136364e+00, 1.04090909e+01,\n",
       "        1.48295455e+01, 1.38181818e+01, 7.31818182e+00, 1.02272727e+00],\n",
       "       [0.00000000e+00, 1.29870130e+00, 1.09480519e+01, 1.39870130e+01,\n",
       "        1.32597403e+01, 1.13896104e+01, 4.49350649e+00, 1.03896104e-01,\n",
       "        0.00000000e+00, 4.80519481e+00, 1.41948052e+01, 1.14415584e+01,\n",
       "        8.87012987e+00, 7.90909091e+00, 3.19480519e+00, 6.49350649e-02,\n",
       "        0.00000000e+00, 5.31168831e+00, 1.28311688e+01, 8.50649351e+00,\n",
       "        5.16883117e+00, 2.94805195e+00, 4.02597403e-01, 0.00000000e+00,\n",
       "        0.00000000e+00, 3.53246753e+00, 1.07792208e+01, 1.41688312e+01,\n",
       "        1.10519481e+01, 1.93506494e+00, 5.19480519e-02, 0.00000000e+00,\n",
       "        0.00000000e+00, 1.07792208e+00, 4.51948052e+00, 9.68831169e+00,\n",
       "        1.30909091e+01, 3.87012987e+00, 1.94805195e-01, 0.00000000e+00,\n",
       "        0.00000000e+00, 3.76623377e-01, 2.19480519e+00, 5.18181818e+00,\n",
       "        1.30129870e+01, 5.09090909e+00, 1.16883117e-01, 0.00000000e+00,\n",
       "        0.00000000e+00, 8.83116883e-01, 6.06493506e+00, 9.77922078e+00,\n",
       "        1.31688312e+01, 3.01298701e+00, 3.89610390e-02, 0.00000000e+00,\n",
       "        0.00000000e+00, 1.10389610e+00, 1.24155844e+01, 1.45974026e+01,\n",
       "        7.05194805e+00, 5.19480519e-01, 2.07792208e-01, 6.49350649e-02],\n",
       "       [0.00000000e+00, 1.62601626e-02, 3.79674797e+00, 1.22032520e+01,\n",
       "        1.42195122e+01, 1.20731707e+01, 6.65853659e+00, 1.40650407e+00,\n",
       "        0.00000000e+00, 4.55284553e-01, 9.52032520e+00, 1.23089431e+01,\n",
       "        1.03902439e+01, 1.28455285e+01, 7.41463415e+00, 9.18699187e-01,\n",
       "        0.00000000e+00, 4.39024390e-01, 4.60975610e+00, 2.54471545e+00,\n",
       "        5.00000000e+00, 1.20000000e+01, 4.54471545e+00, 1.95121951e-01,\n",
       "        0.00000000e+00, 4.06504065e-01, 3.49593496e+00, 4.55284553e+00,\n",
       "        1.06341463e+01, 1.30975610e+01, 4.95934959e+00, 8.13008130e-03,\n",
       "        0.00000000e+00, 1.54471545e+00, 9.21138211e+00, 1.30731707e+01,\n",
       "        1.50813008e+01, 1.27154472e+01, 4.62601626e+00, 0.00000000e+00,\n",
       "        0.00000000e+00, 1.53658537e+00, 6.39024390e+00, 1.13170732e+01,\n",
       "        1.24878049e+01, 4.39024390e+00, 5.85365854e-01, 0.00000000e+00,\n",
       "        0.00000000e+00, 6.50406504e-02, 2.19512195e+00, 1.22276423e+01,\n",
       "        7.64227642e+00, 3.98373984e-01, 4.06504065e-02, 0.00000000e+00,\n",
       "        0.00000000e+00, 0.00000000e+00, 4.82113821e+00, 1.24227642e+01,\n",
       "        3.13821138e+00, 4.55284553e-01, 1.95121951e-01, 0.00000000e+00],\n",
       "       [0.00000000e+00, 1.07438017e-01, 4.49173554e+00, 1.23884298e+01,\n",
       "        1.10289256e+01, 3.30578512e+00, 1.98347107e-01, 0.00000000e+00,\n",
       "        0.00000000e+00, 1.62396694e+00, 1.16694215e+01, 1.13347107e+01,\n",
       "        1.08347107e+01, 1.02933884e+01, 5.90909091e-01, 0.00000000e+00,\n",
       "        0.00000000e+00, 3.35950413e+00, 1.26694215e+01, 6.07438017e+00,\n",
       "        5.69421488e+00, 1.27479339e+01, 2.35537190e+00, 0.00000000e+00,\n",
       "        0.00000000e+00, 3.35123967e+00, 1.05206612e+01, 6.25206612e+00,\n",
       "        6.21487603e+00, 1.19917355e+01, 4.88016529e+00, 0.00000000e+00,\n",
       "        0.00000000e+00, 3.23140496e+00, 7.13636364e+00, 2.54132231e+00,\n",
       "        2.54958678e+00, 1.08264463e+01, 6.53305785e+00, 0.00000000e+00,\n",
       "        1.23966942e-02, 2.00413223e+00, 7.64462810e+00, 1.89256198e+00,\n",
       "        1.85537190e+00, 1.03057851e+01, 6.96694215e+00, 0.00000000e+00,\n",
       "        0.00000000e+00, 6.77685950e-01, 9.53719008e+00, 7.06611570e+00,\n",
       "        6.97107438e+00, 1.28264463e+01, 4.88429752e+00, 2.47933884e-02,\n",
       "        0.00000000e+00, 7.43801653e-02, 4.45867769e+00, 1.25619835e+01,\n",
       "        1.43595041e+01, 8.96694215e+00, 1.43801653e+00, 4.95867769e-02],\n",
       "       [0.00000000e+00, 2.19780220e-02, 4.74725275e+00, 1.24395604e+01,\n",
       "        1.22197802e+01, 4.29670330e+00, 2.63736264e-01, 0.00000000e+00,\n",
       "        0.00000000e+00, 7.80219780e-01, 1.18571429e+01, 1.37032967e+01,\n",
       "        1.10000000e+01, 1.19010989e+01, 2.13186813e+00, 1.09890110e-02,\n",
       "        0.00000000e+00, 2.89010989e+00, 1.39230769e+01, 6.57142857e+00,\n",
       "        2.61538462e+00, 1.14175824e+01, 5.46153846e+00, 1.09890110e-02,\n",
       "        0.00000000e+00, 4.87912088e+00, 1.27692308e+01, 2.36263736e+00,\n",
       "        1.18681319e+00, 9.65934066e+00, 7.24175824e+00, 1.09890110e-02,\n",
       "        0.00000000e+00, 6.45054945e+00, 1.14065934e+01, 9.12087912e-01,\n",
       "        1.38461538e+00, 1.07802198e+01, 6.62637363e+00, 0.00000000e+00,\n",
       "        2.19780220e-02, 5.41758242e+00, 1.31208791e+01, 3.67032967e+00,\n",
       "        4.60439560e+00, 1.32637363e+01, 3.87912088e+00, 0.00000000e+00,\n",
       "        9.89010989e-02, 1.96703297e+00, 1.38351648e+01, 1.11098901e+01,\n",
       "        1.31868132e+01, 1.12747253e+01, 1.14285714e+00, 4.39560440e-02,\n",
       "        0.00000000e+00, 5.49450549e-02, 5.01098901e+00, 1.34395604e+01,\n",
       "        1.20109890e+01, 2.96703297e+00, 1.75824176e-01, 3.29670330e-02],\n",
       "       [0.00000000e+00, 1.54255319e-01, 4.25531915e+00, 9.45212766e+00,\n",
       "        1.18670213e+01, 6.44148936e+00, 1.90957447e+00, 1.54255319e-01,\n",
       "        0.00000000e+00, 1.10106383e+00, 8.86170213e+00, 1.12765957e+01,\n",
       "        7.32978723e+00, 3.96276596e+00, 2.01063830e+00, 3.40425532e-01,\n",
       "        0.00000000e+00, 2.23936170e+00, 1.20212766e+01, 7.54255319e+00,\n",
       "        4.22872340e+00, 5.03723404e+00, 3.05319149e+00, 3.08510638e-01,\n",
       "        0.00000000e+00, 4.52127660e+00, 1.40000000e+01, 1.02074468e+01,\n",
       "        1.11063830e+01, 1.14840426e+01, 4.30851064e+00, 1.06382979e-02,\n",
       "        0.00000000e+00, 4.56914894e+00, 1.07978723e+01, 8.84574468e+00,\n",
       "        9.63297872e+00, 1.38776596e+01, 4.67021277e+00, 0.00000000e+00,\n",
       "        1.06382979e-02, 1.82446809e+00, 4.72340426e+00, 4.56382979e+00,\n",
       "        7.61170213e+00, 1.07978723e+01, 3.15957447e+00, 0.00000000e+00,\n",
       "        0.00000000e+00, 3.72340426e-01, 3.01063830e+00, 4.70212766e+00,\n",
       "        1.09042553e+01, 7.93617021e+00, 1.59574468e+00, 0.00000000e+00,\n",
       "        0.00000000e+00, 1.54255319e-01, 4.39893617e+00, 1.08085106e+01,\n",
       "        1.18617021e+01, 3.60638298e+00, 3.08510638e-01, 0.00000000e+00],\n",
       "       [0.00000000e+00, 1.29930394e-01, 4.20185615e+00, 1.12552204e+01,\n",
       "        1.32575406e+01, 8.10440835e+00, 1.39907193e+00, 4.87238979e-02,\n",
       "        1.16009281e-02, 1.81670534e+00, 1.00788863e+01, 1.12088167e+01,\n",
       "        1.13526682e+01, 1.24872390e+01, 2.78422274e+00, 2.55220418e-02,\n",
       "        2.32018561e-03, 2.55916473e+00, 8.62412993e+00, 6.82598608e+00,\n",
       "        1.02853828e+01, 1.15916473e+01, 1.76102088e+00, 6.96055684e-03,\n",
       "        2.32018561e-03, 1.91647332e+00, 7.67517401e+00, 1.11438515e+01,\n",
       "        1.43039443e+01, 8.07656613e+00, 1.11136891e+00, 0.00000000e+00,\n",
       "        0.00000000e+00, 7.37819026e-01, 4.92575406e+00, 1.07842227e+01,\n",
       "        1.35939675e+01, 7.51044084e+00, 1.19953596e+00, 0.00000000e+00,\n",
       "        0.00000000e+00, 5.05800464e-01, 4.74941995e+00, 8.09976798e+00,\n",
       "        9.61716937e+00, 8.21809745e+00, 1.88863109e+00, 0.00000000e+00,\n",
       "        6.96055684e-03, 4.33874710e-01, 6.01856148e+00, 9.48723898e+00,\n",
       "        1.00765661e+01, 8.62645012e+00, 1.98839907e+00, 2.32018561e-03,\n",
       "        2.32018561e-03, 1.04408353e-01, 4.52668213e+00, 1.18770302e+01,\n",
       "        1.19744780e+01, 6.19953596e+00, 6.24129930e-01, 0.00000000e+00],\n",
       "       [0.00000000e+00, 7.63636364e-01, 9.58636364e+00, 1.43136364e+01,\n",
       "        9.27727273e+00, 1.88181818e+00, 1.36363636e-02, 0.00000000e+00,\n",
       "        1.81818182e-02, 4.98636364e+00, 1.30636364e+01, 1.10681818e+01,\n",
       "        1.23363636e+01, 5.45000000e+00, 2.00000000e-01, 0.00000000e+00,\n",
       "        9.09090909e-03, 4.15909091e+00, 6.81363636e+00, 4.66363636e+00,\n",
       "        1.25318182e+01, 5.62727273e+00, 2.72727273e-01, 0.00000000e+00,\n",
       "        0.00000000e+00, 8.36363636e-01, 2.31818182e+00, 6.45000000e+00,\n",
       "        1.35954545e+01, 5.14090909e+00, 1.22727273e-01, 0.00000000e+00,\n",
       "        0.00000000e+00, 5.00000000e-02, 6.63636364e-01, 6.61818182e+00,\n",
       "        1.15454545e+01, 5.99545455e+00, 8.18181818e-01, 0.00000000e+00,\n",
       "        0.00000000e+00, 2.95454545e-01, 2.78636364e+00, 7.25454545e+00,\n",
       "        7.20454545e+00, 5.57727273e+00, 3.09090909e+00, 1.36363636e-02,\n",
       "        0.00000000e+00, 9.72727273e-01, 9.60000000e+00, 1.14636364e+01,\n",
       "        1.06454545e+01, 1.11363636e+01, 7.95909091e+00, 8.18181818e-01,\n",
       "        0.00000000e+00, 6.86363636e-01, 9.80000000e+00, 1.40772727e+01,\n",
       "        1.33409091e+01, 1.13500000e+01, 7.68181818e+00, 2.36818182e+00],\n",
       "       [0.00000000e+00, 2.70270270e-02, 1.99549550e+00, 9.77477477e+00,\n",
       "        1.16351351e+01, 4.07657658e+00, 3.24324324e-01, 0.00000000e+00,\n",
       "        4.50450450e-03, 4.32432432e-01, 7.25225225e+00, 1.34639640e+01,\n",
       "        8.75225225e+00, 3.65315315e+00, 3.64864865e-01, 0.00000000e+00,\n",
       "        0.00000000e+00, 1.09909910e+00, 1.14009009e+01, 1.02477477e+01,\n",
       "        4.07657658e+00, 2.64414414e+00, 5.18018018e-01, 1.35135135e-02,\n",
       "        0.00000000e+00, 3.03603604e+00, 1.28873874e+01, 9.15315315e+00,\n",
       "        5.96396396e+00, 3.05855856e+00, 9.36936937e-01, 0.00000000e+00,\n",
       "        0.00000000e+00, 4.80630631e+00, 1.36396396e+01, 1.17927928e+01,\n",
       "        1.25945946e+01, 8.90090090e+00, 1.88738739e+00, 0.00000000e+00,\n",
       "        4.05405405e-02, 3.90090090e+00, 1.36441441e+01, 9.36486486e+00,\n",
       "        8.90540541e+00, 1.21171171e+01, 4.80180180e+00, 4.50450450e-03,\n",
       "        4.50450450e-03, 9.27927928e-01, 9.56306306e+00, 9.99549550e+00,\n",
       "        8.50450450e+00, 1.13468468e+01, 5.57657658e+00, 3.15315315e-02,\n",
       "        0.00000000e+00, 4.05405405e-02, 2.19819820e+00, 9.81981982e+00,\n",
       "        1.46216216e+01, 9.86936937e+00, 2.39639640e+00, 9.00900901e-03]])"
      ]
     },
     "execution_count": 113,
     "metadata": {},
     "output_type": "execute_result"
    }
   ],
   "source": [
    "update_centroids(data,first_run_cluster) #get our second-run centroids"
   ]
  },
  {
   "cell_type": "markdown",
   "metadata": {},
   "source": [
    "### STEP 5. Calculate the Loss"
   ]
  },
  {
   "cell_type": "markdown",
   "metadata": {},
   "source": [
    "Loss in Machine Learning = Goodness-of-fit in Social Sciences\n",
    "- Types of loss: L1 (abs error), L2 (sqaured error) and logistic/cross-entropy\n",
    "    - L1: mean(abs(y-ŷ))\n",
    "    - L2: mean((y-ŷ)^2)\n",
    "    - Log: mean(-sum(y*log(ŷ))\n",
    "- For KMeans, we use L2 loss:\n",
    "    - average squared distance between points and their centroids\n",
    "    - formula: mean((y-centroid)^2)"
   ]
  },
  {
   "cell_type": "code",
   "execution_count": 175,
   "metadata": {},
   "outputs": [],
   "source": [
    "def loss(data,n_clusters,clusters,centroids):\n",
    "    ls=[]\n",
    "    for i in range(n_clusters):\n",
    "        ls.extend(np.linalg.norm(data[clusters==i,:]-centroids[i],axis=1)) #distance\n",
    "    ls=np.mean([j**2 for j in ls]) #squared distance\n",
    "    return(ls)"
   ]
  },
  {
   "cell_type": "code",
   "execution_count": 126,
   "metadata": {},
   "outputs": [
    {
     "data": {
      "text/plain": [
       "1363.787979966611"
      ]
     },
     "execution_count": 126,
     "metadata": {},
     "output_type": "execute_result"
    }
   ],
   "source": [
    "#performance of first run\n",
    "loss(data,first_run_cluster,random_centroids)"
   ]
  },
  {
   "cell_type": "markdown",
   "metadata": {},
   "source": [
    "### Training model for specific times (integrated)"
   ]
  },
  {
   "cell_type": "code",
   "execution_count": 127,
   "metadata": {},
   "outputs": [
    {
     "name": "stdout",
     "output_type": "stream",
     "text": [
      "0 1363.787979966611\n",
      "1 789.9560542948624\n",
      "2 725.5972554019689\n",
      "3 691.0219991710748\n",
      "4 675.8058224845905\n",
      "5 668.3272164703228\n",
      "6 665.2167085382956\n",
      "7 662.9769950418288\n",
      "8 661.0157214090037\n",
      "9 659.7670030831385\n",
      "10 658.8320880245899\n",
      "11 657.7588307023788\n",
      "12 656.2639585369155\n",
      "13 655.5877328027624\n",
      "14 655.2654891707729\n",
      "15 655.0609552532225\n",
      "16 654.9987559450808\n",
      "17 654.9858214934817\n",
      "18 654.9858214934817\n",
      "19 654.9858214934817\n"
     ]
    }
   ],
   "source": [
    "centroids=random_centroids\n",
    "loss_list=[]\n",
    "for run in range(20):\n",
    "    clusters=single_run_KMeans(data,centroids)\n",
    "    current_loss=loss(data,clusters,centroids)\n",
    "    print(run,current_loss)\n",
    "    loss_list.append(current_loss)\n",
    "    centroids=update_centroids(data,clusters)"
   ]
  },
  {
   "cell_type": "code",
   "execution_count": 128,
   "metadata": {},
   "outputs": [
    {
     "name": "stderr",
     "output_type": "stream",
     "text": [
      "c:\\users\\yuner\\appdata\\local\\programs\\python\\python36\\lib\\site-packages\\IPython\\core\\display.py:689: UserWarning:\n",
      "\n",
      "Consider using IPython.display.IFrame instead\n",
      "\n"
     ]
    },
    {
     "data": {
      "text/html": [
       "<iframe id=\"igraph\" scrolling=\"no\" style=\"border:none;\" seamless=\"seamless\" src=\"https://plot.ly/~yunerzhu/42.embed\" height=\"525px\" width=\"100%\"></iframe>"
      ],
      "text/plain": [
       "<plotly.tools.PlotlyDisplay object>"
      ]
     },
     "execution_count": 128,
     "metadata": {},
     "output_type": "execute_result"
    }
   ],
   "source": [
    "#elbow method of finding the optimal number of iteration\n",
    "trace=go.Scatter(\n",
    "    x=list(range(20)),\n",
    "    y=loss_list,\n",
    "    mode='lines'\n",
    ")\n",
    "py.iplot([trace],filename='learning curve')"
   ]
  },
  {
   "cell_type": "code",
   "execution_count": 131,
   "metadata": {},
   "outputs": [
    {
     "data": {
      "text/plain": [
       "array([5, 5, 5, 5, 5, 5, 5, 5, 5, 5, 5, 5, 5, 5, 5, 5, 5, 5, 5, 5, 5, 5,\n",
       "       5, 5, 5, 9, 5, 5, 5, 5, 5, 5, 5, 5, 5, 5, 5, 5, 5, 5, 5, 5, 5, 5,\n",
       "       5, 5, 5, 5, 5, 5, 5, 5, 5, 5, 5, 5, 5, 5, 5, 5, 5, 5, 5, 5, 5, 5,\n",
       "       5, 5, 5, 5, 5, 5, 5, 5, 5, 5, 5, 5, 5, 5, 5, 5, 5, 5, 5, 9, 5, 5,\n",
       "       5, 5, 5, 5, 5, 5, 5, 5, 5, 8, 8, 5, 8, 5, 5, 8, 5, 1, 5, 5, 5, 5,\n",
       "       5, 5, 5, 5, 5, 5, 5, 5, 5, 5, 5, 5, 5, 5, 5, 5, 8, 5, 5, 5, 9, 9,\n",
       "       5, 5, 5, 5, 5, 5, 5, 9, 9, 5, 5, 3, 5, 5, 5, 5, 5, 5, 3, 5])"
      ]
     },
     "execution_count": 131,
     "metadata": {},
     "output_type": "execute_result"
    }
   ],
   "source": [
    "#have a look at the cluster results\n",
    "digits.target[clusters==2]"
   ]
  },
  {
   "cell_type": "markdown",
   "metadata": {},
   "source": [
    "### Training model until convergence (integrated)"
   ]
  },
  {
   "cell_type": "code",
   "execution_count": 132,
   "metadata": {},
   "outputs": [
    {
     "name": "stdout",
     "output_type": "stream",
     "text": [
      "1363.787979966611\n",
      "789.9560542948624\n",
      "725.5972554019689\n",
      "691.0219991710748\n"
     ]
    }
   ],
   "source": [
    "centroids=random_centroids\n",
    "current_loss=10000\n",
    "loss_list=[]\n",
    "while current_loss>700:\n",
    "    clusters=single_run_KMeans(data,centroids)\n",
    "    current_loss=loss(data,clusters,centroids)\n",
    "    print(current_loss)\n",
    "    loss_list.append(current_loss)\n",
    "    centroids=update_centroids(data,clusters)"
   ]
  },
  {
   "cell_type": "code",
   "execution_count": 139,
   "metadata": {},
   "outputs": [
    {
     "name": "stdout",
     "output_type": "stream",
     "text": [
      "1347.6099053978853\n",
      "801.6459420976695\n",
      "744.0509944684038\n",
      "709.9453408940414\n",
      "694.4442587019139\n",
      "683.7608035555243\n",
      "678.355620207011\n",
      "676.775945811433\n",
      "675.1954905387353\n",
      "673.7478791266252\n",
      "672.5163372612132\n",
      "670.5952115521789\n",
      "666.4148893310872\n",
      "661.4045960362796\n",
      "657.0103038300518\n",
      "653.9478939181524\n",
      "653.2936748233275\n",
      "652.7613788083763\n",
      "652.3765327188314\n",
      "652.2907779210084\n",
      "652.2685428301958\n",
      "652.2576220931634\n",
      "652.2458578654506\n",
      "652.1889881465481\n",
      "652.1613933470907\n",
      "652.1540972362601\n",
      "652.1540972362601\n"
     ]
    }
   ],
   "source": [
    "#centroids=random_centroids\n",
    "previous_loss=10000 #intialization\n",
    "ls_improvement=100 #intialization\n",
    "while ls_improvement>0:\n",
    "    clusters=single_run_KMeans(data,centroids)\n",
    "    current_loss=loss(data,clusters,centroids)\n",
    "    ls_improvement=previous_loss-current_loss\n",
    "    print(current_loss)\n",
    "    previous_loss=current_loss\n",
    "    centroids=update_centroids(data,clusters)"
   ]
  },
  {
   "cell_type": "markdown",
   "metadata": {},
   "source": [
    "## KMeans++: An Improvement of KMeans"
   ]
  },
  {
   "cell_type": "markdown",
   "metadata": {},
   "source": [
    "- New way of initialization\n",
    "    - STEP 1: Random pick one centroid from the points\n",
    "    - STEP 2: Calculate the distance _D(k)_ between points and their nearest centroid\n",
    "    - STEP 3: Pick one more centroid with probability proportional to _D(k)_\n",
    "    - STEP 4: Repeat STEP 2 and STEP 3 until the number of centroids reaching the required value"
   ]
  },
  {
   "cell_type": "code",
   "execution_count": 135,
   "metadata": {},
   "outputs": [],
   "source": [
    "#STEP 1\n",
    "first_centroid_index=np.random.choice(range(data.shape[0]),1)\n",
    "first_centroid=data[first_centroid_index]"
   ]
  },
  {
   "cell_type": "code",
   "execution_count": 140,
   "metadata": {},
   "outputs": [],
   "source": [
    "#HINT 1: You can use np.random.choice(data,1,p=[probability list]) to pick one point randomly with given list of probability\n",
    "#HINT 2: You can use np.vstack((array1,array2)) to add new row\n",
    "#WRITE YOUR CODE HERE\n",
    "def kmeans_plus(data,n_clusters):\n",
    "    first_centroid_index=np.random.choice(range(data.shape[0]),1)\n",
    "    first_centroid=data[first_centroid_index]\n",
    "    centroids=first_centroid\n",
    "    for i in range(n_clusters-1): #create remaining 9 centroids\n",
    "        prob=[]\n",
    "        for j in data:\n",
    "            distances=np.linalg.norm(j-centroids,axis=1) #distance between point and all available centroids\n",
    "            distance=np.min(distances) #choose the minimum distance\n",
    "            prob.append(distance)\n",
    "        prob=prob/sum(prob) #convert the distance into probability, ranging between 0 and 1, with sum of 100%\n",
    "        next_centroid_index=np.random.choice(range(data.shape[0]),1,p=prob)\n",
    "        next_centroid=data[next_centroid_index,:]\n",
    "        centroids=np.vstack((centroids,next_centroid)) #add new centroid to the list\n",
    "    centroids=np.array(centroids)#convert the list to numpy array\n",
    "    return(centroids)"
   ]
  },
  {
   "cell_type": "code",
   "execution_count": 154,
   "metadata": {},
   "outputs": [],
   "source": [
    "def random_init(data,n_clusters):\n",
    "    random_centroids_index=np.random.choice(range(data.shape[0]),n_clusters)\n",
    "    random_centroids=data[random_centroids_index,:]\n",
    "    return(random_centroids)"
   ]
  },
  {
   "cell_type": "code",
   "execution_count": null,
   "metadata": {},
   "outputs": [],
   "source": [
    "centroids"
   ]
  },
  {
   "cell_type": "markdown",
   "metadata": {},
   "source": [
    "# Combine everything into a giant function\n",
    "- input: data\n",
    "- parameter:init = random/kmeans++, iteration = num/covergence threshold\n",
    "- output: a list of cluster assignments"
   ]
  },
  {
   "cell_type": "code",
   "execution_count": 177,
   "metadata": {},
   "outputs": [],
   "source": [
    "def KMeans(data,n_clusters,init='random',iteration=10,convergence_threshold=False):\n",
    "    if init=='random':\n",
    "        centroids=random_init(data,n_clusters)\n",
    "    elif init=='kmeans++':\n",
    "        centroids=kmeans_plus(data,n_clusters)\n",
    "    else:\n",
    "        print('initialization error!')\n",
    "    if type(iteration)==int:\n",
    "        for run in range(iteration):\n",
    "            clusters=single_run_KMeans(data,centroids)\n",
    "            current_loss=loss(data,n_clusters,clusters,centroids)\n",
    "            print(run,current_loss)\n",
    "            centroids=update_centroids(data,n_clusters,clusters)\n",
    "        return(clusters)\n",
    "    if convergence_threshold:\n",
    "        current_loss=10000\n",
    "        while current_loss>700:\n",
    "            clusters=single_run_KMeans(data,centroids)\n",
    "            current_loss=loss(data,n_clusters,clusters,centroids)\n",
    "            print(current_loss)\n",
    "            centroids=update_centroids(data,n_clusters,clusters)\n",
    "        return(clusters)"
   ]
  },
  {
   "cell_type": "code",
   "execution_count": 178,
   "metadata": {},
   "outputs": [
    {
     "name": "stdout",
     "output_type": "stream",
     "text": [
      "0 1.2103333333333333\n",
      "1 0.9677127629833691\n",
      "2 0.9518278904097796\n",
      "3 0.9516901334776336\n",
      "4 0.9516901334776336\n",
      "5 0.9516901334776336\n",
      "6 0.9516901334776336\n",
      "7 0.9516901334776336\n",
      "8 0.9516901334776336\n",
      "9 0.9516901334776336\n"
     ]
    }
   ],
   "source": [
    "#APPLY Kmeans() to iris data\n",
    "clusters=KMeans(iris.data,3)"
   ]
  },
  {
   "cell_type": "markdown",
   "metadata": {},
   "source": [
    "## SHORTCUT: sklearn function"
   ]
  },
  {
   "cell_type": "markdown",
   "metadata": {},
   "source": [
    "documentation: https://scikit-learn.org/stable/modules/generated/sklearn.cluster.KMeans.html#sklearn.cluster.KMeans"
   ]
  },
  {
   "cell_type": "code",
   "execution_count": 142,
   "metadata": {},
   "outputs": [
    {
     "data": {
      "text/plain": [
       "KMeans(algorithm='auto', copy_x=True, init='k-means++', max_iter=20,\n",
       "    n_clusters=10, n_init=10, n_jobs=None, precompute_distances='auto',\n",
       "    random_state=None, tol=0.0001, verbose=0)"
      ]
     },
     "execution_count": 142,
     "metadata": {},
     "output_type": "execute_result"
    }
   ],
   "source": [
    "from sklearn.cluster import KMeans\n",
    "kmeans=KMeans(n_clusters=10,init='k-means++',max_iter=20)\n",
    "kmeans.fit(data)"
   ]
  },
  {
   "cell_type": "code",
   "execution_count": 143,
   "metadata": {},
   "outputs": [
    {
     "data": {
      "text/plain": [
       "array([1, 7, 7, ..., 7, 8, 8])"
      ]
     },
     "execution_count": 143,
     "metadata": {},
     "output_type": "execute_result"
    }
   ],
   "source": [
    "kmeans.labels_"
   ]
  },
  {
   "cell_type": "code",
   "execution_count": 144,
   "metadata": {},
   "outputs": [
    {
     "data": {
      "text/plain": [
       "array([0, 0, 0, 0, 0, 0, 0, 0, 0, 0, 0, 0, 0, 0, 0, 0, 0, 0, 0, 0, 0, 0,\n",
       "       0, 0, 0, 0, 0, 0, 0, 0, 0, 0, 0, 0, 0, 0, 0, 0, 0, 0, 0, 0, 0, 0,\n",
       "       0, 0, 0, 0, 0, 0, 0, 0, 0, 0, 0, 0, 0, 0, 0, 0, 0, 0, 0, 0, 0, 0,\n",
       "       0, 0, 0, 0, 0, 0, 0, 0, 0, 0, 0, 0, 0, 0, 6, 0, 0, 0, 0, 0, 0, 0,\n",
       "       0, 0, 0, 0, 0, 0, 0, 0, 0, 0, 0, 0, 0, 0, 0, 0, 0, 0, 0, 0, 0, 0,\n",
       "       0, 0, 0, 0, 0, 0, 0, 0, 0, 0, 0, 0, 0, 0, 0, 0, 0, 0, 0, 0, 0, 0,\n",
       "       0, 0, 0, 0, 0, 0, 0, 0, 0, 0, 0, 0, 0, 0, 0, 0, 0, 0, 0, 0, 0, 0,\n",
       "       0, 0, 0, 0, 0, 0, 2, 0, 0, 0, 0, 0, 0, 0, 0, 0, 0, 0, 0, 0, 0, 0,\n",
       "       0, 0, 0])"
      ]
     },
     "execution_count": 144,
     "metadata": {},
     "output_type": "execute_result"
    }
   ],
   "source": [
    "digits.target[kmeans.labels_==1]"
   ]
  },
  {
   "cell_type": "markdown",
   "metadata": {},
   "source": [
    "## Find the best value of K"
   ]
  },
  {
   "cell_type": "code",
   "execution_count": null,
   "metadata": {},
   "outputs": [],
   "source": [
    "#a data set about development score of countries\n",
    "countries=pd.read_csv('https://juniorworld.github.io/python-workshop-2018/doc/country-index.csv')"
   ]
  },
  {
   "cell_type": "code",
   "execution_count": null,
   "metadata": {},
   "outputs": [],
   "source": [
    "countries.head()"
   ]
  },
  {
   "cell_type": "code",
   "execution_count": null,
   "metadata": {},
   "outputs": [],
   "source": [
    "kmeans=KMeans(n_clusters=5,init='k-means++')\n",
    "kmeans.fit(countries.iloc[:,3:])"
   ]
  },
  {
   "cell_type": "code",
   "execution_count": null,
   "metadata": {},
   "outputs": [],
   "source": [
    "countries['countries'][kmeans.labels_==0]"
   ]
  },
  {
   "cell_type": "code",
   "execution_count": null,
   "metadata": {},
   "outputs": [],
   "source": [
    "ls_list=[]\n",
    "for i in range(1,21):\n",
    "    kmeans=KMeans(n_clusters=i,init='k-means++')\n",
    "    kmeans.fit(countries.iloc[:,3:])\n",
    "    ls=loss(np.array(countries.iloc[:,3:]),kmeans.labels_,kmeans.cluster_centers_)\n",
    "    ls_list.append(ls)"
   ]
  },
  {
   "cell_type": "code",
   "execution_count": null,
   "metadata": {},
   "outputs": [],
   "source": [
    "#elbow method of finding the optimal K\n",
    "trace=go.Scatter(\n",
    "    x=list(range(1,21)),\n",
    "    y=ls_list,\n",
    "    mode='lines'\n",
    ")\n",
    "py.iplot([trace],filename='learning curve')"
   ]
  }
 ],
 "metadata": {
  "kernelspec": {
   "display_name": "Python 3",
   "language": "python",
   "name": "python3"
  },
  "language_info": {
   "codemirror_mode": {
    "name": "ipython",
    "version": 3
   },
   "file_extension": ".py",
   "mimetype": "text/x-python",
   "name": "python",
   "nbconvert_exporter": "python",
   "pygments_lexer": "ipython3",
   "version": "3.6.5"
  }
 },
 "nbformat": 4,
 "nbformat_minor": 2
}
