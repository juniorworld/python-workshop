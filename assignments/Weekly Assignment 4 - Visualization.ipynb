{
 "cells": [
  {
   "cell_type": "markdown",
   "metadata": {},
   "source": [
    "# Weekly Assignment 4\n",
    "Due Date: 15:30, 22 Feb"
   ]
  },
  {
   "cell_type": "markdown",
   "metadata": {},
   "source": [
    "_**Instruction**_\n",
    "<br>In this assignment, you are required to create one histogram and one 3D scatter plot to visualize the inter-relationship between countries' Freedom and Prosperity.\n",
    "<br>Please download the reference file here:https://juniorworld.github.io/python-workshop/doc/human-freedom-index.csv"
   ]
  },
  {
   "cell_type": "markdown",
   "metadata": {},
   "source": [
    "## Q1 Pie Chart\n",
    "Create a pie chart to show the percentage of countries whose **\"personal freedom\" is greater than 7** and the percentage of countries whose **\"personal freedom\" is small than or equal to 7** in the world. The pie chart should meet the following requirement:\n",
    "1. Only have two fractions: one fraction represents countries with personal freedom > 7 and the other fraction represents countries with personal freedom <= 7\n",
    "2. Display the percentages on the pie charts\n",
    "3. Name the two fractions as \"free countries\" and \"moderately free or not free countries\""
   ]
  },
  {
   "cell_type": "code",
   "execution_count": null,
   "metadata": {},
   "outputs": [],
   "source": [
    "#Write your code here\n",
    "\n"
   ]
  },
  {
   "cell_type": "markdown",
   "metadata": {},
   "source": [
    "## Q2 Bar Chart\n",
    "### Q2.1 Simple Bar Chart\n",
    "Create a bar chart to show the number of countries whose **\"personal freedom\" is greater than 7** in different regions. The bar chart should meet the following requirement:\n",
    "1. Horizontal axis represents the regions\n",
    "2. Vertical axis represents the number of countries with personal freedom > 7\n",
    "3. Name this trace as \"personal freedom\""
   ]
  },
  {
   "cell_type": "code",
   "execution_count": null,
   "metadata": {},
   "outputs": [],
   "source": [
    "#Write your code here\n",
    "\n"
   ]
  },
  {
   "cell_type": "markdown",
   "metadata": {},
   "source": [
    "### Q2.2 Grouped Bar Chart\n",
    "Create a grouped bar chart with three traces where the horizontal axis represents the regions and vertical axis represents the number of countries that statisfy the following criteria: \n",
    "1. The first trace shows the number of countries with \"personal freedom\" > 7 in each region (identical to Q1.1)\n",
    "2. The second trace shows the number of countries with \"economic freedom\" > 7 in each region\n",
    "3. The third trace shows the number of countries with \"human freedom\" > 7 in each region<br>\n",
    "\n",
    "Set the plot title to be \"Human Freedom Index\""
   ]
  },
  {
   "cell_type": "code",
   "execution_count": null,
   "metadata": {},
   "outputs": [],
   "source": [
    "#Write your code here\n",
    "\n"
   ]
  },
  {
   "cell_type": "markdown",
   "metadata": {},
   "source": [
    "## Q3 Scatter Plot\n",
    "Create a scatter plot to show \"personal freedom\", \"economic freedom\" and \"human freedom\". The scatter plot should meet the following requirement:\n",
    "1. X axis represents \"personal freedom\"\n",
    "2. Y axis represents \"economic freedom\"\n",
    "3. Z axis represents \"human freedom\"\n",
    "5. Size the markers according to their log10(GDPs)"
   ]
  },
  {
   "cell_type": "code",
   "execution_count": null,
   "metadata": {},
   "outputs": [],
   "source": [
    "#Write your code here\n",
    "\n"
   ]
  },
  {
   "cell_type": "markdown",
   "metadata": {},
   "source": [
    "## Q4 Line Chart\n",
    "Read the approval rating table here: https://juniorworld.github.io/python-workshop/doc/approval_topline.csv <br>\n",
    "Create a line chart with two traces to show Biden's approval ratings among adults and voters. The plot should meet the following requirement:\n",
    "1. X axis represents dates\n",
    "2. Y axis represents approval ratings\n",
    "3. Shows two lines. One represents the approval ratings among adults and the other represents the approval ratings among the voters\n",
    "\n",
    "_Tips: You need to filter the data frame by values in the subgroup column_"
   ]
  },
  {
   "cell_type": "code",
   "execution_count": null,
   "metadata": {},
   "outputs": [],
   "source": [
    "#Write your code here\n"
   ]
  }
 ],
 "metadata": {
  "kernelspec": {
   "display_name": "Python 3 (ipykernel)",
   "language": "python",
   "name": "python3"
  },
  "language_info": {
   "codemirror_mode": {
    "name": "ipython",
    "version": 3
   },
   "file_extension": ".py",
   "mimetype": "text/x-python",
   "name": "python",
   "nbconvert_exporter": "python",
   "pygments_lexer": "ipython3",
   "version": "3.10.9"
  },
  "widgets": {
   "application/vnd.jupyter.widget-state+json": {
    "state": {
     "09d403da72ce484c8059f560bd837121": {
      "model_module": "@jupyter-widgets/controls",
      "model_module_version": "1.4.0",
      "model_name": "DropdownModel",
      "state": {
       "_options_labels": [
        "Washington",
        "Jefferson",
        "Lincoln",
        "Roosevelt",
        "Kennedy",
        "Nixon",
        "Reagan",
        "Bush",
        "Clinton",
        "W Bush",
        "Obama",
        "Trump"
       ],
       "index": 0,
       "layout": "IPY_MODEL_5d041920c7cd48e2a363485668907b6d",
       "style": "IPY_MODEL_0e118725a2304b21b80c9097e5078e48"
      }
     },
     "0c14d355c296406cafa55fc7a8ff8703": {
      "model_module": "@jupyter-widgets/base",
      "model_module_version": "1.1.0",
      "model_name": "LayoutModel",
      "state": {}
     },
     "0e118725a2304b21b80c9097e5078e48": {
      "model_module": "@jupyter-widgets/controls",
      "model_module_version": "1.4.0",
      "model_name": "DescriptionStyleModel",
      "state": {
       "description_width": ""
      }
     },
     "108e50ab0f634a8e8356903e8b05b383": {
      "model_module": "@jupyter-widgets/base",
      "model_module_version": "1.1.0",
      "model_name": "LayoutModel",
      "state": {}
     },
     "36f14aa0711647fcaf7d3c41e5098cba": {
      "model_module": "@jupyter-widgets/controls",
      "model_module_version": "1.4.0",
      "model_name": "DescriptionStyleModel",
      "state": {
       "description_width": ""
      }
     },
     "427453b1a0234b0795232b2204adf254": {
      "model_module": "@jupyter-widgets/base",
      "model_module_version": "1.1.0",
      "model_name": "LayoutModel",
      "state": {}
     },
     "447e287667804afdb3703200255435b7": {
      "model_module": "@jupyter-widgets/base",
      "model_module_version": "1.1.0",
      "model_name": "LayoutModel",
      "state": {}
     },
     "48c28b30321d42b5aa6ca23b457faec8": {
      "model_module": "@jupyter-widgets/controls",
      "model_module_version": "1.4.0",
      "model_name": "DropdownModel",
      "state": {
       "_options_labels": [
        "Self-Direction",
        "Stimulation",
        "Hedonism",
        "Achievement",
        "Power",
        "Security",
        "Tradition",
        "Conformity",
        "Benevolence",
        "Universalism"
       ],
       "index": 0,
       "layout": "IPY_MODEL_0c14d355c296406cafa55fc7a8ff8703",
       "style": "IPY_MODEL_36f14aa0711647fcaf7d3c41e5098cba"
      }
     },
     "50b1ce134bfb4976b5524b63af79063b": {
      "model_module": "@jupyter-widgets/controls",
      "model_module_version": "1.4.0",
      "model_name": "DescriptionStyleModel",
      "state": {
       "description_width": ""
      }
     },
     "5d041920c7cd48e2a363485668907b6d": {
      "model_module": "@jupyter-widgets/base",
      "model_module_version": "1.1.0",
      "model_name": "LayoutModel",
      "state": {}
     },
     "6bf5d15ed7ba4ce48882118753034deb": {
      "model_module": "@jupyter-widgets/base",
      "model_module_version": "1.1.0",
      "model_name": "LayoutModel",
      "state": {}
     },
     "92f1a9bf5e1e456a9e928334a2c94444": {
      "model_module": "@jupyter-widgets/controls",
      "model_module_version": "1.4.0",
      "model_name": "DropdownModel",
      "state": {
       "_options_labels": [
        "Self-Direction",
        "Stimulation",
        "Hedonism",
        "Achievement",
        "Power",
        "Security",
        "Tradition",
        "Conformity",
        "Benevolence",
        "Universalism"
       ],
       "index": 0,
       "layout": "IPY_MODEL_108e50ab0f634a8e8356903e8b05b383",
       "style": "IPY_MODEL_9482fb8de0f24b67a9ea4476a4ab865a"
      }
     },
     "9482fb8de0f24b67a9ea4476a4ab865a": {
      "model_module": "@jupyter-widgets/controls",
      "model_module_version": "1.4.0",
      "model_name": "DescriptionStyleModel",
      "state": {
       "description_width": ""
      }
     },
     "b342823aa0e74a50bbbe2659fd0a1980": {
      "model_module": "@jupyter-widgets/controls",
      "model_module_version": "1.4.0",
      "model_name": "DropdownModel",
      "state": {
       "_options_labels": [
        "Washington",
        "Jefferson",
        "Lincoln",
        "Roosevelt",
        "Kennedy",
        "Nixon",
        "Reagan",
        "Bush",
        "Clinton",
        "W Bush",
        "Obama",
        "Trump"
       ],
       "index": 0,
       "layout": "IPY_MODEL_427453b1a0234b0795232b2204adf254",
       "style": "IPY_MODEL_e2aa6eccef004eda98c547964bb65ab1"
      }
     },
     "b79d13a09c964e2c9ad68347bc444f73": {
      "model_module": "@jupyter-widgets/controls",
      "model_module_version": "1.4.0",
      "model_name": "DropdownModel",
      "state": {
       "_options_labels": [
        "Self-Direction",
        "Stimulation",
        "Hedonism",
        "Achievement",
        "Power",
        "Security",
        "Tradition",
        "Conformity",
        "Benevolence",
        "Universalism"
       ],
       "index": 0,
       "layout": "IPY_MODEL_447e287667804afdb3703200255435b7",
       "style": "IPY_MODEL_50b1ce134bfb4976b5524b63af79063b"
      }
     },
     "e2aa6eccef004eda98c547964bb65ab1": {
      "model_module": "@jupyter-widgets/controls",
      "model_module_version": "1.4.0",
      "model_name": "DescriptionStyleModel",
      "state": {
       "description_width": ""
      }
     },
     "fa3f15da2c5b48ef902cb9eced151a83": {
      "model_module": "@jupyter-widgets/controls",
      "model_module_version": "1.4.0",
      "model_name": "AccordionModel",
      "state": {
       "_titles": {
        "0": "If all inauguration speeches are considered, which value is the most important and most mentioned?",
        "1": "Among all studied presidents, who emphasizes the value of STIMULATION more often than others?",
        "2": "Among all studied presidents, who emphasizes the value of POWER more often than others?",
        "3": "Among all studied values, what is the most important thing for Trump?",
        "4": "Among all studied values, what is the least important thing for Trump?"
       },
       "children": [
        "IPY_MODEL_b79d13a09c964e2c9ad68347bc444f73",
        "IPY_MODEL_b342823aa0e74a50bbbe2659fd0a1980",
        "IPY_MODEL_09d403da72ce484c8059f560bd837121",
        "IPY_MODEL_92f1a9bf5e1e456a9e928334a2c94444",
        "IPY_MODEL_48c28b30321d42b5aa6ca23b457faec8"
       ],
       "layout": "IPY_MODEL_6bf5d15ed7ba4ce48882118753034deb"
      }
     }
    },
    "version_major": 2,
    "version_minor": 0
   }
  }
 },
 "nbformat": 4,
 "nbformat_minor": 2
}
