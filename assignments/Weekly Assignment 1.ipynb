{
 "cells": [
  {
   "cell_type": "markdown",
   "metadata": {},
   "source": [
    "# Weekly Assignment 1\n",
    "Due Date: 15:30, Jan 17"
   ]
  },
  {
   "cell_type": "markdown",
   "metadata": {},
   "source": [
    "_**Instruction**_\n",
    "<p>We have learned how to apply basic mathematical calculations and how to assign values to variables. For this assignment, you are required to integrate these two skills to solve classic arithmetic problems.</p>\n",
    "\n",
    "_**Format**_\n",
    "<p>For example, the question reads \"Write a program to determine if a variable x is greater than or equal 10.\" Variable x has been initialized at the value of 100.<br>\n",
    "Your answer could be:</p>"
   ]
  },
  {
   "cell_type": "code",
   "execution_count": 1,
   "metadata": {},
   "outputs": [
    {
     "name": "stdout",
     "output_type": "stream",
     "text": [
      "True\n"
     ]
    }
   ],
   "source": [
    "x = 100\n",
    "print(x>=10)"
   ]
  },
  {
   "cell_type": "markdown",
   "metadata": {},
   "source": [
    "Please execute the cell to print out the result. There could be a hundred solutions to the same question. Any workable solution will be accepted."
   ]
  },
  {
   "cell_type": "markdown",
   "metadata": {},
   "source": [
    "-----"
   ]
  },
  {
   "cell_type": "markdown",
   "metadata": {},
   "source": [
    "## Q1\n",
    "Write a program to determine if a variable x is even or odd. If it is even, print out 0. Otherwise, print out 1. <br>\n",
    "I have intialized x at value 100. Therefore, the expected output should be 0."
   ]
  },
  {
   "cell_type": "code",
   "execution_count": null,
   "metadata": {},
   "outputs": [],
   "source": [
    "x = 100\n",
    "#Insert your code here\n",
    "\n"
   ]
  },
  {
   "cell_type": "markdown",
   "metadata": {},
   "source": [
    "## Q2\n",
    "Create two variables, one storing <font color=\"red\">YOUR</font> first name and the other storing <font color=\"red\">YOUR</font> last name.<br>\n",
    "Combine these two strings into a full name. First name first. Print your full name out.<br>\n",
    "For instance, my first name is Yuner and my last name is ZHU. So, I expect myself getting \"Yuner ZHU\"."
   ]
  },
  {
   "cell_type": "code",
   "execution_count": null,
   "metadata": {},
   "outputs": [],
   "source": [
    "#Insert your code here\n",
    "\n"
   ]
  },
  {
   "cell_type": "markdown",
   "metadata": {},
   "source": [
    "## Q3\n",
    "What is the sum of the first 100 whole numbers, i.e. **1 + 2 + 3 + ... + 99 + 100 = ?**\n",
    "<p>Hint: The formula for arithmetic series summation:</p>\n",
    "\\begin{equation*}\n",
    "\\sum_{k=1}^n k = \\frac{n(n+1)}{2}\n",
    "\\end{equation*}"
   ]
  },
  {
   "cell_type": "code",
   "execution_count": null,
   "metadata": {},
   "outputs": [],
   "source": [
    "#Initialize a variable n and assign a value of 100 to n\n",
    "#Use the above formula to calculate summation\n",
    "\n",
    "n = \n",
    "sum1 = \n",
    "print(sum1) "
   ]
  },
  {
   "cell_type": "markdown",
   "metadata": {},
   "source": [
    "Above formula can be converted to:\n",
    "\\begin{equation*}\n",
    "\\sum_{k=1}^n k = \\frac{n^2+n}{2}\n",
    "\\end{equation*}\n",
    "Please turn this formula into python codes."
   ]
  },
  {
   "cell_type": "code",
   "execution_count": null,
   "metadata": {},
   "outputs": [],
   "source": [
    "n = \n",
    "sum2 =\n",
    "print(sum2)"
   ]
  },
  {
   "cell_type": "markdown",
   "metadata": {},
   "source": [
    "Check if sum1 is equal to sum2. If yes, you should print out boolean value \"True\". If not, print out boolean value \"False\"."
   ]
  },
  {
   "cell_type": "code",
   "execution_count": null,
   "metadata": {},
   "outputs": [],
   "source": [
    "print( ) #insert your code inside the bracket"
   ]
  },
  {
   "cell_type": "markdown",
   "metadata": {},
   "source": [
    "What is the sum of the first 999 whole numbers, i.e. **1 + 2 + 3 ... + 998 + 999 = ?**"
   ]
  },
  {
   "cell_type": "code",
   "execution_count": null,
   "metadata": {},
   "outputs": [],
   "source": [
    "#Insert your code here\n"
   ]
  },
  {
   "cell_type": "markdown",
   "metadata": {},
   "source": [
    "## Q4\n",
    "Create a program that asks the user to input their name and their age. Print out a message addressed to them that tells them the year that they will turn 100 years old."
   ]
  },
  {
   "cell_type": "code",
   "execution_count": null,
   "metadata": {},
   "outputs": [],
   "source": [
    "#Insert your code here\n"
   ]
  },
  {
   "cell_type": "markdown",
   "metadata": {},
   "source": [
    "## Submission\n",
    "Please rename this notebook \"Weekly Assignment 1 - _Your Name_\" and save it.\n",
    "<p>For example, my notebook should be named as \"Weekly Assignment 1 - Yuner Zhu\"</p>"
   ]
  },
  {
   "cell_type": "markdown",
   "metadata": {},
   "source": [
    "***"
   ]
  },
  {
   "cell_type": "markdown",
   "metadata": {},
   "source": [
    "Submit this file via Moodle on time."
   ]
  }
 ],
 "metadata": {
  "kernelspec": {
   "display_name": "Python 3",
   "language": "python",
   "name": "python3"
  },
  "language_info": {
   "codemirror_mode": {
    "name": "ipython",
    "version": 3
   },
   "file_extension": ".py",
   "mimetype": "text/x-python",
   "name": "python",
   "nbconvert_exporter": "python",
   "pygments_lexer": "ipython3",
   "version": "3.6.5"
  }
 },
 "nbformat": 4,
 "nbformat_minor": 2
}
