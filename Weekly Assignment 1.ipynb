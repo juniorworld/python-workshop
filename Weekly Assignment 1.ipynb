{
 "cells": [
  {
   "cell_type": "markdown",
   "metadata": {},
   "source": [
    "# Weekly Assignment 1\n",
    "Due Date: 23:59, Jan 18\n",
    "<p>Submission Website: https://classroom.google.com/c/MjcxNTczODExNDha/a/MjcxNTczODExNTJa</p>"
   ]
  },
  {
   "cell_type": "markdown",
   "metadata": {},
   "source": [
    "_**Instruction**_\n",
    "<p>We have learned how to apply basic mathematical calculations and how to assign values to variables. For this assignment, you are required to integrate these two skills to solve a classic arithmetic series problem:</p>"
   ]
  },
  {
   "cell_type": "markdown",
   "metadata": {},
   "source": [
    "## Q1\n",
    "What is the sum of the first 100 whole numbers, i.e. **1 + 2 + 3 + ... + 99 + 100 = ?**\n",
    "<p>Hint: The formula for arithmetic series summation:</p>\n",
    "\\begin{equation*}\n",
    "\\sum_{k=1}^n k = \\frac{n(n+1)}{2}\n",
    "\\end{equation*}"
   ]
  },
  {
   "cell_type": "code",
   "execution_count": null,
   "metadata": {},
   "outputs": [],
   "source": [
    "n1 = #insert your code here\n",
    "sum1 = #insert your code here\n",
    "print(sum)"
   ]
  },
  {
   "cell_type": "markdown",
   "metadata": {},
   "source": [
    "## Q2\n",
    "Above formula can be converted to:\n",
    "\\begin{equation*}\n",
    "\\sum_{k=1}^n k = \\frac{n^2+n}{2}\n",
    "\\end{equation*}\n",
    "Please turn this formula into python codes."
   ]
  },
  {
   "cell_type": "code",
   "execution_count": null,
   "metadata": {},
   "outputs": [],
   "source": [
    "n2 = #insert your code here\n",
    "sum2 = #insert your code here\n",
    "print(sum2)"
   ]
  },
  {
   "cell_type": "markdown",
   "metadata": {},
   "source": [
    "## Q3\n",
    "Check if sum1 is equal to sum2. If yes, you should print out boolean value \"True\". If not, print out boolean value \"False\"."
   ]
  },
  {
   "cell_type": "code",
   "execution_count": null,
   "metadata": {},
   "outputs": [],
   "source": [
    "print() #insert your code inside the bracket"
   ]
  },
  {
   "cell_type": "markdown",
   "metadata": {},
   "source": [
    "## Q4\n",
    "Please rename this notebook \"Weekly Assignment 1 - _Your Name_\" and save it.\n",
    "<p>For example, my notebook should be named as \"Weekly Assignment 1 - Yuner Zhu\"</p>"
   ]
  },
  {
   "cell_type": "markdown",
   "metadata": {},
   "source": [
    "***"
   ]
  },
  {
   "cell_type": "markdown",
   "metadata": {},
   "source": [
    "Submit this file to: https://classroom.google.com/c/MjcxNTczODExNDha/a/MjcxNTczODExNTJa"
   ]
  }
 ],
 "metadata": {
  "kernelspec": {
   "display_name": "Python 3",
   "language": "python",
   "name": "python3"
  },
  "language_info": {
   "codemirror_mode": {
    "name": "ipython",
    "version": 3
   },
   "file_extension": ".py",
   "mimetype": "text/x-python",
   "name": "python",
   "nbconvert_exporter": "python",
   "pygments_lexer": "ipython3",
   "version": "3.6.5"
  }
 },
 "nbformat": 4,
 "nbformat_minor": 2
}
