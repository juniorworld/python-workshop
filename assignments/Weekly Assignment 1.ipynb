{
 "cells": [
  {
   "cell_type": "markdown",
   "metadata": {},
   "source": [
    "# Weekly Assignment 1\n",
    "Due Date: 23:59, Jan 13"
   ]
  },
  {
   "cell_type": "markdown",
   "metadata": {},
   "source": [
    "<p>If you have used AI or AI-assisted tools, please declare your usage below. </p>\n",
    "<b>ACKNOWLEDGEMENT</b> My name is _________ (SID: _______). I acknowledge that AI or AI-assisted tools are used. I confirm that I have carefully reviewed and edited the results to avoid incorrect or incomplete output. I am ultimately responsible and accountable for the contents of the work."
   ]
  },
  {
   "cell_type": "markdown",
   "metadata": {},
   "source": [
    "-----"
   ]
  },
  {
   "cell_type": "markdown",
   "metadata": {},
   "source": [
    "_**Instruction**_\n",
    "<p>We have learned how to apply basic mathematical calculations and how to assign values to variables. For this assignment, you are required to integrate these two skills to solve classic arithmetic problems.</p>\n",
    "<p>DON'T CHANGE ANYTHING WITHIN THE CELL.</p>\n",
    "Execute the cell to print out the result. There could be a hundred solutions to the same question. Any workable solution will be accepted as long as you understand how and why it works."
   ]
  },
  {
   "cell_type": "markdown",
   "metadata": {},
   "source": [
    "-----"
   ]
  },
  {
   "cell_type": "markdown",
   "metadata": {},
   "source": [
    "## Q1\n",
    "Write a program to determine if a variable is even or odd. If it is even, the output value should be 0. Otherwise, you will get 1."
   ]
  },
  {
   "cell_type": "code",
   "execution_count": null,
   "metadata": {},
   "outputs": [],
   "source": [
    "x = 100\n",
    "# Insert your code here\n",
    "# Expected output is 0 because 100 is even\n",
    "\n"
   ]
  },
  {
   "cell_type": "markdown",
   "metadata": {},
   "source": [
    "## Q2\n",
    "Create two variables, one storing <font color=\"red\">YOUR</font> first name and the other storing <font color=\"red\">YOUR</font> last name.<br>\n",
    "Combine these two variables and print out a full name. <br>\n",
    "For instance, my first name is Yuner and my last name is ZHU. So, I expect myself to get \"Yuner ZHU\"."
   ]
  },
  {
   "cell_type": "code",
   "execution_count": null,
   "metadata": {},
   "outputs": [],
   "source": [
    "#Insert your code here\n",
    "first =\n",
    "last =\n",
    "full ="
   ]
  },
  {
   "cell_type": "markdown",
   "metadata": {},
   "source": [
    "## Q3\n",
    "What is the sum of the first 100 whole numbers, i.e. **1 + 2 + 3 + ... + 99 + 100 = ?**\n",
    "<p>Use this formula to calculate summation:</p>\n",
    "\\begin{equation*}\n",
    "\\sum_{k=1}^x k = \\frac{x(x+1)}{2}\n",
    "\\end{equation*}"
   ]
  },
  {
   "cell_type": "code",
   "execution_count": null,
   "metadata": {},
   "outputs": [],
   "source": [
    "# Fill out the blanks\n",
    "x = 100\n",
    "sum1 = \n",
    "print(sum1) "
   ]
  },
  {
   "cell_type": "markdown",
   "metadata": {},
   "source": [
    "Above formula can be converted to:\n",
    "\\begin{equation*}\n",
    "\\sum_{k=1}^x k = \\frac{x^2+x}{2}\n",
    "\\end{equation*}\n",
    "Please turn this formula into python codes."
   ]
  },
  {
   "cell_type": "code",
   "execution_count": null,
   "metadata": {},
   "outputs": [],
   "source": [
    "x = \n",
    "sum2 =\n",
    "print(sum2)"
   ]
  },
  {
   "cell_type": "markdown",
   "metadata": {},
   "source": [
    "Check if sum1 is equal to sum2. If yes, you should print out boolean value \"True\". If not, print out boolean value \"False\"."
   ]
  },
  {
   "cell_type": "code",
   "execution_count": null,
   "metadata": {},
   "outputs": [],
   "source": [
    "print( ) #insert your code inside the bracket"
   ]
  },
  {
   "cell_type": "markdown",
   "metadata": {},
   "source": [
    "## Q4\n",
    "Create a program that asks users to input their names. Print out a personalized greeting message that directly addresses their names.<br>\n",
    "You have the freedom to create any greeting message. For example, you can say: \"Hello, Yuner ZHU! Nice to meet you!\""
   ]
  },
  {
   "cell_type": "code",
   "execution_count": null,
   "metadata": {},
   "outputs": [],
   "source": [
    "#Insert your code here\n"
   ]
  },
  {
   "cell_type": "markdown",
   "metadata": {},
   "source": [
    "## Submission\n",
    "Please rename this notebook \"Weekly Assignment 1 - _Your Name_\" and save it."
   ]
  },
  {
   "cell_type": "markdown",
   "metadata": {},
   "source": [
    "***"
   ]
  },
  {
   "cell_type": "markdown",
   "metadata": {},
   "source": [
    "Submit this file via Moodle on time."
   ]
  }
 ],
 "metadata": {
  "kernelspec": {
   "display_name": "Python 3 (ipykernel)",
   "language": "python",
   "name": "python3"
  },
  "language_info": {
   "codemirror_mode": {
    "name": "ipython",
    "version": 3
   },
   "file_extension": ".py",
   "mimetype": "text/x-python",
   "name": "python",
   "nbconvert_exporter": "python",
   "pygments_lexer": "ipython3",
   "version": "3.12.0"
  }
 },
 "nbformat": 4,
 "nbformat_minor": 4
}
