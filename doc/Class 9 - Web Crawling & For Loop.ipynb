{
 "cells": [
  {
   "cell_type": "markdown",
   "id": "2c5ecaf6",
   "metadata": {},
   "source": [
    "# Class 9 - Web Crawling (Continued)"
   ]
  },
  {
   "cell_type": "markdown",
   "id": "505f7637",
   "metadata": {},
   "source": [
    "### Why do you get an Element Not Found error?\n",
    "1. Page is not properly loaded\n",
    "    - Solution: Check the browser status, refresh the page and relocate your cursor\n",
    "2. Element is not visible or is removed from the current page → Stale Element Reference Exception\n",
    "    - Solution: Check the browser status, refresh the page and relocate your cursor\n",
    "3. Wrong XPATH or element match conditions\n",
    "    - Solution: Check the code, Copy the automatically generated XPATH (inspect ) for a reference"
   ]
  },
  {
   "cell_type": "markdown",
   "id": "30271eca",
   "metadata": {},
   "source": [
    "### Anti-Bot Techniques\n",
    "\n",
    "1. Rate limit: prevent the frequency of an operation from exceeding some threshold and allows relatively infrequent accesses, e.g. 100 calls/min\n",
    "    - Calls (aka. Hits or Requests): data exchange activities that you launch in order to get a HTML document or other documents from a remote server.\n",
    "        - <font color=\"red\"> driver.get('URL')</font> One line One call\n",
    "    - Mechanism: (1) Account-based; (2) IP-based; (3) Session-based\n",
    "    - Consequent: Account blocked or IP blocked\n",
    "    - Solutions:\n",
    "        - Reverse engineer the rate limit: count the call number and identify the threshold\n",
    "        - Account-based: Slow down and use pseudo accounts\n",
    "            - Add time.sleep() before every drive.get()\n",
    "        - IP-based: Use proxy and rotate a IP pool\n",
    "            - A proxy is an intermediary between client requests and server responses. e.g. HKBU's VPN\n",
    "            - Unauthenticated proxy:\n",
    "            >```python\n",
    "            chrome_options = Options()\n",
    "            PROXY = \"212.237.16.60:3128\"\n",
    "            #add proxy in chrome_options\n",
    "            chrome_options.add_argument(f'--proxy-server={PROXY}')\n",
    "            driver = webdriver.Chrome(PATH,options=chrome_options)\n",
    "            #check new IP\n",
    "            driver.get(\"https://api.ipify.org/?format=json\")\n",
    "               ```\n",
    "        - Session-based: Use multiple browsers and rotate user-agent"
   ]
  },
  {
   "cell_type": "markdown",
   "id": "1efde4f2",
   "metadata": {},
   "source": [
    "<img src=\"https://madooei.github.io/cs421_sp20_homepage/assets/client-server-1.png\" width=400>"
   ]
  },
  {
   "cell_type": "markdown",
   "id": "1b977f5e",
   "metadata": {},
   "source": [
    "2. Header & Cookies: The host will investigate each request's header to see if it contains non-human signifier, such as \"automation control\". Block browsers without authentic cookies (browsing history).\n",
    "    - Solutions: \n",
    "        - Turn off \"useAutomationExtension\" and \"Exclude enable-automation switch\"\n",
    "        >```python\n",
    "        #Disable the automatic software signifier\n",
    "        options = webdriver.ChromeOptions() \n",
    "        options.add_argument(\"--disable-blink-features=AutomationControlled\") \n",
    "        options.add_experimental_option(\"excludeSwitches\", [\"enable-automation\"]) \n",
    "        options.add_experimental_option(\"useAutomationExtension\", False) \n",
    "        driver = webdriver.Chrome(options=options) \n",
    "        driver.execute_script(\"Object.defineProperty(navigator, 'webdriver', {get: () => undefined})\") \n",
    "        ```\n",
    "        - Add cookies\n",
    "        >```python\n",
    "        driver.add_cookie(cookie_dict)\n",
    "        driver.get_cookie()\n",
    "        ```\n",
    "        - Rotate user-agent\n",
    "        >```python\n",
    "        driver.execute_cdp_cmd('Network.setUserAgentOverride', {\"userAgent\": 'Mozilla/5.0 (Windows NT 10.0; Win64; x64) AppleWebKit/537.36 (KHTML, like Gecko) Chrome/83.0.4103.53 Safari/537.36'})\n",
    "        ```\n",
    "3. CAPTCHA: Ask users to perform a certain task that is hard to be completed by bots to verify their identities\n",
    "    - Text recognition\n",
    "    - Click\n",
    "    - Simple slider\n",
    "    - Puzzle slider\n",
    "    - Automatic reCAPTCHA"
   ]
  },
  {
   "cell_type": "markdown",
   "id": "64d89894",
   "metadata": {},
   "source": [
    "<table>\n",
    "<tr><td><img src=\"https://miro.medium.com/v2/resize:fit:1100/format:webp/1*0LXnPGyW3gHt_tKZlGL4Bg.png\" width=500></td><td><img src=\"https://miro.medium.com/v2/resize:fit:1100/format:webp/1*GMcgXCSRkGW7GORpTh543Q.png\" width=500></td><td><img src=\"https://images.squarespace-cdn.com/content/v1/5f8efd464888244a12c59aaf/3abf136f-6200-4343-84b7-eaca49d5f94b/Bot-Verification.png?format=1000w\" width=500></td></tr>\n",
    "    <tr><td><img src=\"https://www.jqueryscript.net/images/alphanumeric-captcha.jpg\" width=500></td>\n",
    "    <td><img src=\"https://www.jqueryscript.net/images/google-recaptcha-async.jpg\" width=500></td>\n",
    "    </tr>\n",
    "    "
   ]
  },
  {
   "cell_type": "code",
   "execution_count": null,
   "id": "d0b61f82",
   "metadata": {},
   "outputs": [],
   "source": [
    "from selenium import webdriver\n",
    "from selenium.webdriver.common.keys import Keys\n",
    "import chromedriver_autoinstaller\n",
    "from selenium.webdriver.common.by import By\n",
    "import pandas as pd"
   ]
  },
  {
   "cell_type": "markdown",
   "id": "c6e18627",
   "metadata": {},
   "source": [
    "Download the file https://juniorworld.github.io/python-workshop/doc/RedBook_HKBU_COMM.csv"
   ]
  },
  {
   "cell_type": "markdown",
   "id": "ad6cbd21",
   "metadata": {},
   "source": [
    "## Red Book - Collect Post Details"
   ]
  },
  {
   "cell_type": "code",
   "execution_count": null,
   "id": "95c9b8ac",
   "metadata": {},
   "outputs": [],
   "source": [
    "driver=webdriver.Chrome()"
   ]
  },
  {
   "cell_type": "code",
   "execution_count": null,
   "id": "b0648684",
   "metadata": {},
   "outputs": [],
   "source": [
    "#Read post table\n",
    "table=pd.read_csv('PATH TO FILE')"
   ]
  },
  {
   "cell_type": "code",
   "execution_count": null,
   "id": "6a8b2422",
   "metadata": {},
   "outputs": [],
   "source": [
    "#Open first post\n",
    "driver.get(\"URL TO THE FIRST POST\")"
   ]
  },
  {
   "cell_type": "code",
   "execution_count": null,
   "id": "7dc6e31f",
   "metadata": {},
   "outputs": [],
   "source": [
    "#Get title\n",
    "title=driver.find_element(By.CLASS_NAME,'title').text"
   ]
  },
  {
   "cell_type": "code",
   "execution_count": null,
   "id": "1f60a8fd",
   "metadata": {},
   "outputs": [],
   "source": [
    "#Get content list\n",
    "content_list="
   ]
  },
  {
   "cell_type": "code",
   "execution_count": null,
   "id": "f6ca04af",
   "metadata": {},
   "outputs": [],
   "source": [
    "#Combine all content into a single string\n",
    "content='' #Initialize an empty string\n",
    "for i in content_list:\n",
    "    content="
   ]
  },
  {
   "cell_type": "code",
   "execution_count": null,
   "id": "3d06974b",
   "metadata": {},
   "outputs": [],
   "source": [
    "#Get the post time\n",
    "date=driver.find_element(By.CLASS_NAME,'date').text"
   ]
  },
  {
   "cell_type": "code",
   "execution_count": null,
   "id": "47197586",
   "metadata": {},
   "outputs": [],
   "source": [
    "#Get the numbers of likes, favorites, and comments received\n",
    "#Hint: To avoid mismatch, you need to look up the condition in inspect window \n",
    "#      to assure you will not have mismatched results\n",
    "likes=\n",
    "favs=\n",
    "comments="
   ]
  },
  {
   "cell_type": "code",
   "execution_count": null,
   "id": "ebfca4ea",
   "metadata": {},
   "outputs": [],
   "source": [
    "#Get img list\n",
    "#Find Element By Class Name does not support class name with spaces\n",
    "#You need to use XPATH to locate the element\n",
    "img_list=[]\n",
    "first_img=driver.find_element()"
   ]
  },
  {
   "cell_type": "code",
   "execution_count": null,
   "id": "5e92effd",
   "metadata": {},
   "outputs": [],
   "source": [
    "#Use split() function to cut out the hyper link\n",
    "first_img_url="
   ]
  },
  {
   "cell_type": "code",
   "execution_count": null,
   "id": "efed88c4",
   "metadata": {},
   "outputs": [],
   "source": [
    "#Use regular expression to find URL in any string\n",
    "#Characters allowed in URL: alphabetic, numbers, and a few special characters like . ? and -\n",
    "import re"
   ]
  },
  {
   "cell_type": "markdown",
   "id": "4d2ce437",
   "metadata": {},
   "source": [
    "Regular Expression Cheat Sheet:\n",
    "1. `.`: Wildcard, any character\n",
    "2. `[abc]`: Range (a or b or c)\n",
    "    - \\: escape following special characters\n",
    "    - special characters that need to be escaped: `^ [ . $ { * ( \\ + ) | ? < >`\n",
    "3. `[^abc]`: Reverse range, Not (a or b or c)\n",
    "4. Quantifier:\n",
    "    - `*` at least 0 times.\n",
    "    - `+` at least 1 times.\n",
    "    - `?` at most 1 times.\n",
    "    - `{n}`: Exactly n times. \n",
    "    - `{n,}`: At least n times\n",
    "    - `{n,m}`: n-m times (m>n)\n",
    "5. Character class:\n",
    "    - `\\c`: Control character, such as line break, tab\n",
    "    - `\\s`: White space, `\\S`: Not white space\n",
    "    - `\\d`: Digit, `\\D`: Not digit\n",
    "    - `\\w`: Word, `\\W`: Not word\n",
    "    - `\\x`:Hexadecimal digit; `\\O`: Octal digit\n",
    "    - `[:alnum:]`: Digits and letters = [0-9a-zA-Z]\n",
    "    - `[:punct:]`: Punctuations\n",
    "6. Location:\n",
    "    - `^` the start of the string\n",
    "    - `$` the end of the string"
   ]
  },
  {
   "cell_type": "markdown",
   "id": "013c31ee",
   "metadata": {},
   "source": [
    "### Replace Substrings\n",
    "- `re.sub(pattern, new_string, original_string)`\n",
    "\n",
    "### Find All Substrings That Match the Pattern\n",
    "- `re.findall(re_pattern,string)`\n",
    "- result is a **LIST** of match substrings!"
   ]
  },
  {
   "cell_type": "code",
   "execution_count": null,
   "id": "9d32c5d1",
   "metadata": {},
   "outputs": [],
   "source": [
    "#Recap\n",
    "#Encrypt all numbers with *\n",
    "email=\"Dear mam, My name is Peter Pan and my password is 9384894023. I am from CHINA. Can you help me remove my account?\"\n",
    "re.sub()"
   ]
  },
  {
   "cell_type": "code",
   "execution_count": null,
   "id": "11ffd2ca",
   "metadata": {},
   "outputs": [],
   "source": [
    "#Replace all-capitalized words with ?\n"
   ]
  },
  {
   "cell_type": "code",
   "execution_count": null,
   "id": "6c6c6ede",
   "metadata": {},
   "outputs": [],
   "source": [
    "#Extract img URL\n",
    "#1: Include all characters appearing in the URL\n"
   ]
  },
  {
   "cell_type": "code",
   "execution_count": null,
   "id": "836c648a",
   "metadata": {},
   "outputs": [],
   "source": [
    "#2: Define the starting and closing characters in the URL\n"
   ]
  },
  {
   "cell_type": "code",
   "execution_count": null,
   "id": "ee6fc753",
   "metadata": {},
   "outputs": [],
   "source": [
    "#Extract the URL of the second img\n",
    "#Step 1: Identify the \"Next\" button on the image\n",
    "#Step 2: Click it\n",
    "#Step 3: Extract the url\n",
    "#--------------------------------------------------\n",
    "next_button=\n"
   ]
  },
  {
   "cell_type": "code",
   "execution_count": null,
   "id": "10a00e7a",
   "metadata": {},
   "outputs": [],
   "source": [
    "#Write a Loop to Collect All URLs\n",
    "#Flow Chart, Change value, Exit condition\n",
    "\n"
   ]
  },
  {
   "cell_type": "markdown",
   "id": "70d9621a",
   "metadata": {},
   "source": [
    "# QUIZ\n",
    "\n",
    "https://www.menti.com/al67356nnssp\n",
    "\n",
    "<img src=\"https://juniorworld.github.io/python-workshop/img/Week%209_selenium_quiz.png\" width=200 align=\"left\">"
   ]
  },
  {
   "cell_type": "markdown",
   "id": "4f9394eb",
   "metadata": {},
   "source": [
    "## Red Book - Collect Comment Details"
   ]
  },
  {
   "cell_type": "code",
   "execution_count": null,
   "id": "4cab76d8",
   "metadata": {},
   "outputs": [],
   "source": [
    "#Get a LIST of comments visible in the current view\n",
    "#Find Elements\n",
    "comments=driver.find_elements(By.CLASS_NAME,\"comment-item\")"
   ]
  },
  {
   "cell_type": "code",
   "execution_count": null,
   "id": "81ae6192",
   "metadata": {},
   "outputs": [],
   "source": [
    "#How many comments are visible?\n",
    "len(comments)"
   ]
  },
  {
   "cell_type": "code",
   "execution_count": null,
   "id": "f63aedb0",
   "metadata": {},
   "outputs": [],
   "source": [
    "comments[0].text"
   ]
  },
  {
   "cell_type": "code",
   "execution_count": null,
   "id": "9fb7e900",
   "metadata": {},
   "outputs": [],
   "source": [
    "#Way 1: Rude match. Split by Line Breaks\n",
    "#You can use line break to split text into various pieces of info\n",
    "#But this has a big condition: Red Book does not allow line break in the comment\n",
    "#This rule does not apply to other platforms, like Weibo or Facebook\n",
    "comments[0].text.split('\\n')"
   ]
  },
  {
   "cell_type": "code",
   "execution_count": null,
   "id": "cbe66b7f",
   "metadata": {},
   "outputs": [],
   "source": [
    "#Way 2: Precise match\n",
    "#Identify the child nodes by their XPATH\n",
    "#ABSOLUTE PATH: starting from the current node by default\n",
    "#Don't add \"/\" at the beginning -> / means starting from the root <html>\n",
    "#RELATIVE PATH: \".\" represent the current node\n",
    "comments[0].find_element(By.XPATH,'div[@class=\"right\"]/div[@class=\"author-wrapper\"]').text"
   ]
  },
  {
   "cell_type": "code",
   "execution_count": null,
   "id": "b0d2bc66",
   "metadata": {},
   "outputs": [],
   "source": [
    "#Get the comment content, comment time, comment location, likes received by the comment\n",
    "comment_content=\n",
    "comment_date=\n",
    "comment_location=\n",
    "comment_likes="
   ]
  },
  {
   "cell_type": "markdown",
   "id": "509af090",
   "metadata": {},
   "source": [
    "### Exercise 1\n",
    "Write a Loop to extract first 10 comments and save them as a data frame"
   ]
  },
  {
   "cell_type": "code",
   "execution_count": null,
   "id": "2d9c5586",
   "metadata": {},
   "outputs": [],
   "source": [
    "#Write your code here\n"
   ]
  },
  {
   "cell_type": "markdown",
   "id": "8e78c882",
   "metadata": {},
   "source": [
    "## Scroll down in an internal container\n",
    "We need to scroll down in the comment container to load more posts. <br>\n",
    "However, comment container's behavior is independent from the page's behavior at large. If you scroll to bottom in the page, the status of the comment container will not be changed.<br>\n",
    "So, what we need to do here is to imitate scrolling behaviors specifically on the container element.<br>\n",
    "Technically, it is equivalent to scroll to the last visible content to the top of the container. "
   ]
  },
  {
   "cell_type": "markdown",
   "id": "1e4273f5",
   "metadata": {},
   "source": [
    "<div style=\"background-color:#B5CAA0\">\n",
    "<h2>Check the content loading mode</h2>\n",
    "<hr>\n",
    "Old Content: 1. Removed 2. Existing<br>\n",
    "New Content: 1. Whole new 2. Overlap 3. Gap\n",
    "</div>"
   ]
  },
  {
   "cell_type": "code",
   "execution_count": null,
   "id": "df8321ce",
   "metadata": {},
   "outputs": [],
   "source": [
    "#print out the last comment visible on the current page for reference\n",
    "comments[-1].text"
   ]
  },
  {
   "cell_type": "code",
   "execution_count": null,
   "id": "a3960ede",
   "metadata": {},
   "outputs": [],
   "source": [
    "from selenium.webdriver.common.action_chains import ActionChains\n",
    "actions = ActionChains(driver)"
   ]
  },
  {
   "cell_type": "code",
   "execution_count": null,
   "id": "230915ac",
   "metadata": {},
   "outputs": [],
   "source": [
    "#Scroll to the last comment to load more comments\n",
    "actions.move_to_element(comments[-1]).perform()"
   ]
  },
  {
   "cell_type": "code",
   "execution_count": null,
   "id": "c081bc58",
   "metadata": {},
   "outputs": [],
   "source": [
    "#check the content loading mode\n",
    "\n"
   ]
  },
  {
   "cell_type": "markdown",
   "id": "fe8dc50e",
   "metadata": {},
   "source": [
    "### Exercise 2\n",
    "Write a Loop to save all comments into a data frame."
   ]
  },
  {
   "cell_type": "code",
   "execution_count": null,
   "id": "8033697e",
   "metadata": {},
   "outputs": [],
   "source": [
    "\n"
   ]
  },
  {
   "cell_type": "markdown",
   "id": "d2102a0c",
   "metadata": {},
   "source": [
    "## Weibo - People's Daily"
   ]
  },
  {
   "cell_type": "markdown",
   "id": "68a677cd",
   "metadata": {},
   "source": [
    "Log into your account and switch back to the **old version**\n",
    "What's good about the old version:\n",
    "1. Allows pagination by setting page parameter \"page=2\", \"page=3\", or date parameter \"stat_date=202303\"\n",
    "2. More stable and less complex\n",
    "3. No anti-bot techniques in place"
   ]
  },
  {
   "cell_type": "code",
   "execution_count": null,
   "id": "6eff973c",
   "metadata": {},
   "outputs": [],
   "source": [
    "driver.get(\"https://weibo.com/rmrb\")"
   ]
  },
  {
   "cell_type": "code",
   "execution_count": null,
   "id": "a7f5b204",
   "metadata": {},
   "outputs": [],
   "source": [
    "#get the posts visible on the current page\n",
    "post_list=driver.find_elements(By.XPATH,'//div[@class=\"WB_feed_detail clearfix\"]')"
   ]
  },
  {
   "cell_type": "code",
   "execution_count": null,
   "id": "2ee5a104",
   "metadata": {},
   "outputs": [],
   "source": [
    "len(post_list)"
   ]
  },
  {
   "cell_type": "code",
   "execution_count": null,
   "id": "5350fa36",
   "metadata": {},
   "outputs": [],
   "source": [
    "post_list[0].text"
   ]
  },
  {
   "cell_type": "code",
   "execution_count": null,
   "id": "ad4bd10d",
   "metadata": {},
   "outputs": [],
   "source": [
    "first_post=post_list[0]"
   ]
  },
  {
   "cell_type": "code",
   "execution_count": null,
   "id": "9a6c14f8",
   "metadata": {},
   "outputs": [],
   "source": [
    "#Get the post time\n",
    "created_at=first_post.find_element(By.XPATH,'.//div[@class=\"WB_from S_txt2\"]').text"
   ]
  },
  {
   "cell_type": "code",
   "execution_count": null,
   "id": "d680d38b",
   "metadata": {},
   "outputs": [],
   "source": [
    "#Get the following values for the first post\n",
    "#pid, text, comments, shares, likes\n",
    "pid=\n",
    "text=\n",
    "comments=\n",
    "shares=\n",
    "likes="
   ]
  },
  {
   "cell_type": "code",
   "execution_count": null,
   "id": "3e6ebb70",
   "metadata": {},
   "outputs": [],
   "source": [
    "#write a for loop to save the post details to a csv file\n",
    "\n"
   ]
  },
  {
   "cell_type": "code",
   "execution_count": null,
   "id": "04cdd42b",
   "metadata": {},
   "outputs": [],
   "source": [
    "#print out the last post for our own reference\n",
    "post_list[-1].text"
   ]
  },
  {
   "cell_type": "code",
   "execution_count": null,
   "id": "2d020b46",
   "metadata": {},
   "outputs": [],
   "source": [
    "#scroll to the bottom to load more posts\n",
    "driver.execute_script(\"window.scrollTo(0, document.body.scrollHeight);\")"
   ]
  },
  {
   "cell_type": "code",
   "execution_count": null,
   "id": "be9f98a0",
   "metadata": {},
   "outputs": [],
   "source": [
    "#check the page loading mode\n"
   ]
  },
  {
   "cell_type": "code",
   "execution_count": null,
   "id": "160e6903",
   "metadata": {},
   "outputs": [],
   "source": [
    "#scroll down the page five times\n",
    "#collect all posts\n",
    "\n"
   ]
  },
  {
   "cell_type": "code",
   "execution_count": null,
   "id": "ec58fc3b",
   "metadata": {},
   "outputs": [],
   "source": [
    "#collapse the post to show full text\n",
    "\n"
   ]
  }
 ],
 "metadata": {
  "kernelspec": {
   "display_name": "Python 3 (ipykernel)",
   "language": "python",
   "name": "python3"
  },
  "language_info": {
   "codemirror_mode": {
    "name": "ipython",
    "version": 3
   },
   "file_extension": ".py",
   "mimetype": "text/x-python",
   "name": "python",
   "nbconvert_exporter": "python",
   "pygments_lexer": "ipython3",
   "version": "3.10.9"
  }
 },
 "nbformat": 4,
 "nbformat_minor": 5
}
