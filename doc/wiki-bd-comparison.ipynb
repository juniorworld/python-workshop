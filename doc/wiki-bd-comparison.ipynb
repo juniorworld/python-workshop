{
 "cells": [
  {
   "cell_type": "code",
   "execution_count": 1,
   "id": "7a5bded6",
   "metadata": {},
   "outputs": [],
   "source": [
    "import pandas as pd\n",
    "import json\n",
    "import xmltodict"
   ]
  },
  {
   "cell_type": "code",
   "execution_count": 2,
   "id": "bf478769",
   "metadata": {},
   "outputs": [],
   "source": [
    "#Read Baidu Baike data\n",
    "table=pd.read_csv('baiketriples/baike_triples.txt',delimiter='\\t',usecols=['!='])"
   ]
  },
  {
   "cell_type": "code",
   "execution_count": 4,
   "id": "7795bc31",
   "metadata": {},
   "outputs": [],
   "source": [
    "# The data are composed of triples of (entry, attribute name, attribute value)\n",
    "# So, a certain entry could have multiple records in the table\n",
    "# The scripts below are used to remove duplicates\n",
    "table=table.drop_duplicates()\n",
    "table.columns=['entity']"
   ]
  },
  {
   "cell_type": "code",
   "execution_count": 5,
   "id": "cef6fb83",
   "metadata": {},
   "outputs": [
    {
     "data": {
      "text/plain": [
       "(9284909, 1)"
      ]
     },
     "execution_count": 5,
     "metadata": {},
     "output_type": "execute_result"
    }
   ],
   "source": [
    "# Baidu Baike has 9M entries\n",
    "table.shape"
   ]
  },
  {
   "cell_type": "code",
   "execution_count": null,
   "id": "f1aaaf7d",
   "metadata": {},
   "outputs": [],
   "source": [
    "# Read Wiki index data\n",
    "wiki=pd.read_csv('zhwiki/zhwiki-20230401-pages-articles-multistream-index.txt',delimiter=\":\",error_bad_lines=False)"
   ]
  },
  {
   "cell_type": "code",
   "execution_count": 44,
   "id": "64ba9323",
   "metadata": {},
   "outputs": [],
   "source": [
    "# Rename Columns\n",
    "wiki.columns=['offset','id','entity','title']"
   ]
  },
  {
   "cell_type": "code",
   "execution_count": 7,
   "id": "114b44af",
   "metadata": {},
   "outputs": [
    {
     "data": {
      "text/plain": [
       "(4236515, 4)"
      ]
     },
     "execution_count": 7,
     "metadata": {},
     "output_type": "execute_result"
    }
   ],
   "source": [
    "# Wiki China has 4M entries\n",
    "wiki.shape"
   ]
  },
  {
   "cell_type": "code",
   "execution_count": 8,
   "id": "c421b9e6",
   "metadata": {},
   "outputs": [],
   "source": [
    "# To covert traditional Chinese into simplified Chinese\n",
    "import opencc\n",
    "converter = opencc.OpenCC('t2s.json')"
   ]
  },
  {
   "cell_type": "code",
   "execution_count": 9,
   "id": "d6c83a23",
   "metadata": {},
   "outputs": [],
   "source": [
    "wiki['entity_sim']=wiki['title'].apply(lambda x: converter.convert(x) if type(x)==str else x)"
   ]
  },
  {
   "cell_type": "code",
   "execution_count": 102,
   "id": "dd2b608f",
   "metadata": {},
   "outputs": [],
   "source": [
    "# Keep the part of entity name before the '('\n",
    "# e.g. 倩女幽魂 (1987年電影) → 倩女幽魂\n",
    "wiki['entity_sim_clean']=wiki['entity_sim'].apply(lambda x: x.split('(')[0].strip() if type(x)==str else x)"
   ]
  },
  {
   "cell_type": "code",
   "execution_count": 103,
   "id": "513f0f2a",
   "metadata": {},
   "outputs": [],
   "source": [
    "# Keep the foreign figures' surnames\n",
    "# e.g. 弗拉基米尔·列宁 → 列宁\n",
    "wiki['entity_sim_clean']=wiki['entity_sim_clean'].apply(lambda x: x.split('·')[1].strip() if '·' in str(x) else x)"
   ]
  },
  {
   "cell_type": "code",
   "execution_count": 67,
   "id": "a1fcab64",
   "metadata": {},
   "outputs": [],
   "source": [
    "# Define a list of functional pages to be excluded\n",
    "excludes=['Template', 'Category', 'Wikipedia', 'File', 'Topic', 'Portal',\n",
    "       'MediaWiki', 'Module', 'WikiProject', 'Draft', 'Help', 'MOS', 'LTA']"
   ]
  },
  {
   "cell_type": "code",
   "execution_count": 104,
   "id": "d267dc88",
   "metadata": {},
   "outputs": [],
   "source": [
    "# Get a list of entries that are not functional pages nor existing on Baike in its original form (direct comparison)\n",
    "search_list=wiki[(~wiki['entity'].isin(excludes))&(~wiki['entity_sim_clean'].isin(table['entity']))]['entity_sim_clean'].unique()"
   ]
  },
  {
   "cell_type": "code",
   "execution_count": 105,
   "id": "df376159",
   "metadata": {},
   "outputs": [],
   "source": [
    "# Exclude the overview pages, i.e. 列表 and 年表, which do not have equivalents on Baike because of disparities in UGC culture\n",
    "search_list=[i for i in search_list if ('列表' not in i) and ('年表' not in i)]"
   ]
  },
  {
   "cell_type": "code",
   "execution_count": 106,
   "id": "299e0924",
   "metadata": {},
   "outputs": [
    {
     "data": {
      "text/plain": [
       "1505360"
      ]
     },
     "execution_count": 106,
     "metadata": {},
     "output_type": "execute_result"
    }
   ],
   "source": [
    "# Find a total of 1.5M entries\n",
    "len(search_list)"
   ]
  },
  {
   "cell_type": "code",
   "execution_count": 156,
   "id": "9290bceb",
   "metadata": {},
   "outputs": [
    {
     "data": {
      "text/plain": [
       "True"
      ]
     },
     "execution_count": 156,
     "metadata": {},
     "output_type": "execute_result"
    }
   ],
   "source": [
    "'六四事件' in search_list"
   ]
  },
  {
   "cell_type": "code",
   "execution_count": 158,
   "id": "d79757a9",
   "metadata": {},
   "outputs": [
    {
     "data": {
      "text/plain": [
       "True"
      ]
     },
     "execution_count": 158,
     "metadata": {},
     "output_type": "execute_result"
    }
   ],
   "source": [
    "'法轮功' in search_list"
   ]
  },
  {
   "cell_type": "code",
   "execution_count": 28,
   "id": "8920056a",
   "metadata": {},
   "outputs": [],
   "source": [
    "# Combine all Baike entities into a long string\n",
    "bd_entities=table[~pd.isna(table['entity'])]['entity'].values\n",
    "bd_entities='?'.join(bd_entities)"
   ]
  },
  {
   "cell_type": "code",
   "execution_count": 114,
   "id": "d00a6e07",
   "metadata": {
    "scrolled": true
   },
   "outputs": [],
   "source": [
    "# Perform partial match\n",
    "not_found_list=[i for i in search_list[:20000] if i not in bd_entities]"
   ]
  },
  {
   "cell_type": "code",
   "execution_count": 115,
   "id": "7608bce0",
   "metadata": {},
   "outputs": [
    {
     "data": {
      "text/plain": [
       "7975"
      ]
     },
     "execution_count": 115,
     "metadata": {},
     "output_type": "execute_result"
    }
   ],
   "source": [
    "# 7975 of 20K Wiki entries are missing\n",
    "len(not_found_list)"
   ]
  },
  {
   "cell_type": "code",
   "execution_count": 42,
   "id": "675ade80",
   "metadata": {},
   "outputs": [],
   "source": [
    "# Read wiki content by offsets and lengths\n",
    "# Since wiki content data is a super large file, we need to slice it to identify the useful part\n",
    "# For example, if the index file suggests 六四事件 is located between 10000th and 20000th characters\n",
    "# I would cut out this part and identify the entry related to 六四事件 \n",
    "import bz2\n",
    "import shutil\n",
    "\n",
    "def decompress_chunk(wiki_filename, start_byte, data_length):\n",
    "    temp_filename = 'temp.bz2'\n",
    "    decomp_filename = 'temp.xml'\n",
    "\n",
    "    with open(wiki_filename, 'rb') as wiki_file:\n",
    "        wiki_file.seek(start_byte)\n",
    "        data = wiki_file.read(data_length)\n",
    "\n",
    "    with open(temp_filename, 'wb') as temp_file:\n",
    "        temp_file.write(data)\n",
    "\n",
    "    with bz2.BZ2File(temp_filename) as fr, open(decomp_filename,\"wb\") as fw:\n",
    "        shutil.copyfileobj(fr,fw)\n",
    "\n",
    "    return decomp_filename"
   ]
  },
  {
   "cell_type": "code",
   "execution_count": 46,
   "id": "b85d2408",
   "metadata": {},
   "outputs": [],
   "source": [
    "indexes=list(wiki['offset'].unique())"
   ]
  },
  {
   "cell_type": "code",
   "execution_count": null,
   "id": "ff682186",
   "metadata": {
    "scrolled": true
   },
   "outputs": [],
   "source": [
    "wiki_lookup['length']=0\n",
    "wiki_lookup=wiki[wiki['entity_sim_clean'].isin(not_found_list)].drop_duplicates('entity_sim_clean').copy()\n",
    "current_lookup=wiki_lookup.copy()\n",
    "while len(not_found_list)>0:\n",
    "    redirects=[]\n",
    "    lookup_indexes=current_lookup['offset'].unique()\n",
    "    for i in lookup_indexes: #Many missing entries are located within the same offset range. I process them in one batch\n",
    "        start=i\n",
    "        length=indexes[indexes.index(i)+1]-i\n",
    "        ids=current_lookup[current_lookup['offset']==start]['id'].values\n",
    "        # Slice Wiki content\n",
    "        decompress_chunk(\"zhwiki-20230401-pages-articles-multistream.xml.bz2\",start,length)\n",
    "        with open(\"temp.xml\", encoding=\"utf8\") as xml_file:\n",
    "            data_dict = xmltodict.parse('<root>'+xml_file.read()+'</root>')\n",
    "        json_data = json.dumps(data_dict)\n",
    "        json_data = json.loads(json_data)\n",
    "        # Go over every entry in the range and see if they are in the not_found_list\n",
    "        for data in json_data['root']['page']:\n",
    "            if int(data['id']) in ids:\n",
    "                # Entries that require redirection would be handled in the next iteration\n",
    "                if 'redirect' in data.keys():\n",
    "                    if converter.convert(data['redirect']['@title'].split('(')[0].strip()) not in bd_entities:\n",
    "                        redirects.append(data['redirect']['@title'])\n",
    "                        print(data['title'],data['redirect']['@title']) #print out redirected cases\n",
    "                # Evaluate the Wiki content length (in bytes)\n",
    "                else:\n",
    "                    wiki_lookup.loc[wiki_lookup['id']==int(data['id']),'length']=int(data['revision']['text']['@bytes'])\n",
    "    #update the not_found_list = redirected entries that haven't been proceessed\n",
    "    not_found_list=redirects\n",
    "    current_lookup=wiki[wiki['title'].isin(redirects)].copy()\n",
    "    wiki_lookup=pd.concat([wiki_lookup,current_lookup],axis=0)\n",
    "\n",
    "# Keep entries with >10K bytes (≈ 3K Chinese characters)\n",
    "wiki_lookup=wiki_lookup[wiki_lookup['length']>10000].reset_index(drop=True)"
   ]
  },
  {
   "cell_type": "code",
   "execution_count": 148,
   "id": "5007f718",
   "metadata": {
    "scrolled": true
   },
   "outputs": [
    {
     "data": {
      "text/html": [
       "<div>\n",
       "<style scoped>\n",
       "    .dataframe tbody tr th:only-of-type {\n",
       "        vertical-align: middle;\n",
       "    }\n",
       "\n",
       "    .dataframe tbody tr th {\n",
       "        vertical-align: top;\n",
       "    }\n",
       "\n",
       "    .dataframe thead th {\n",
       "        text-align: right;\n",
       "    }\n",
       "</style>\n",
       "<table border=\"1\" class=\"dataframe\">\n",
       "  <thead>\n",
       "    <tr style=\"text-align: right;\">\n",
       "      <th></th>\n",
       "      <th>offset</th>\n",
       "      <th>id</th>\n",
       "      <th>entity</th>\n",
       "      <th>title</th>\n",
       "      <th>entity_sim</th>\n",
       "      <th>entity_sim_clean</th>\n",
       "      <th>length</th>\n",
       "    </tr>\n",
       "  </thead>\n",
       "  <tbody>\n",
       "    <tr>\n",
       "      <th>80</th>\n",
       "      <td>25958007</td>\n",
       "      <td>9066</td>\n",
       "      <td>联合国教科文组织非物质文化遗产名录和优秀保护实践名册</td>\n",
       "      <td>NaN</td>\n",
       "      <td>联合国教科文组织非物质文化遗产名录和优秀保护实践名册</td>\n",
       "      <td>联合国教科文组织非物质文化遗产名录和优秀保护实践名册</td>\n",
       "      <td>289402.0</td>\n",
       "    </tr>\n",
       "    <tr>\n",
       "      <th>85</th>\n",
       "      <td>26645569</td>\n",
       "      <td>9512</td>\n",
       "      <td>1956年匈牙利革命</td>\n",
       "      <td>NaN</td>\n",
       "      <td>1956年匈牙利革命</td>\n",
       "      <td>1956年匈牙利革命</td>\n",
       "      <td>271865.0</td>\n",
       "    </tr>\n",
       "    <tr>\n",
       "      <th>62</th>\n",
       "      <td>20871516</td>\n",
       "      <td>6503</td>\n",
       "      <td>马哈迪·莫哈末</td>\n",
       "      <td>NaN</td>\n",
       "      <td>马哈迪·莫哈末</td>\n",
       "      <td>莫哈末</td>\n",
       "      <td>229924.0</td>\n",
       "    </tr>\n",
       "    <tr>\n",
       "      <th>135</th>\n",
       "      <td>43252334</td>\n",
       "      <td>19079</td>\n",
       "      <td>釣魚臺列嶼主權問題</td>\n",
       "      <td>NaN</td>\n",
       "      <td>钓鱼台列屿主权问题</td>\n",
       "      <td>钓鱼台列屿主权问题</td>\n",
       "      <td>223193.0</td>\n",
       "    </tr>\n",
       "    <tr>\n",
       "      <th>801</th>\n",
       "      <td>143657679</td>\n",
       "      <td>103045</td>\n",
       "      <td>重性抑鬱疾患</td>\n",
       "      <td>NaN</td>\n",
       "      <td>重性抑郁疾患</td>\n",
       "      <td>重性抑郁疾患</td>\n",
       "      <td>205888.0</td>\n",
       "    </tr>\n",
       "    <tr>\n",
       "      <th>...</th>\n",
       "      <td>...</td>\n",
       "      <td>...</td>\n",
       "      <td>...</td>\n",
       "      <td>...</td>\n",
       "      <td>...</td>\n",
       "      <td>...</td>\n",
       "      <td>...</td>\n",
       "    </tr>\n",
       "    <tr>\n",
       "      <th>1008</th>\n",
       "      <td>164683918</td>\n",
       "      <td>121588</td>\n",
       "      <td>詹遜</td>\n",
       "      <td>NaN</td>\n",
       "      <td>詹逊</td>\n",
       "      <td>詹逊</td>\n",
       "      <td>10016.0</td>\n",
       "    </tr>\n",
       "    <tr>\n",
       "      <th>587</th>\n",
       "      <td>115085321</td>\n",
       "      <td>76828</td>\n",
       "      <td>1997年德国大奖赛</td>\n",
       "      <td>NaN</td>\n",
       "      <td>1997年德国大奖赛</td>\n",
       "      <td>1997年德国大奖赛</td>\n",
       "      <td>10013.0</td>\n",
       "    </tr>\n",
       "    <tr>\n",
       "      <th>838</th>\n",
       "      <td>148564820</td>\n",
       "      <td>106836</td>\n",
       "      <td>英特爾國際科技展覽會</td>\n",
       "      <td>NaN</td>\n",
       "      <td>英特尔国际科技展览会</td>\n",
       "      <td>英特尔国际科技展览会</td>\n",
       "      <td>10008.0</td>\n",
       "    </tr>\n",
       "    <tr>\n",
       "      <th>526</th>\n",
       "      <td>106814697</td>\n",
       "      <td>70097</td>\n",
       "      <td>GUNDAMonline</td>\n",
       "      <td>NaN</td>\n",
       "      <td>GUNDAMonline</td>\n",
       "      <td>GUNDAMonline</td>\n",
       "      <td>10003.0</td>\n",
       "    </tr>\n",
       "    <tr>\n",
       "      <th>964</th>\n",
       "      <td>159593254</td>\n",
       "      <td>117378</td>\n",
       "      <td>帝国自由城市</td>\n",
       "      <td>NaN</td>\n",
       "      <td>帝国自由城市</td>\n",
       "      <td>帝国自由城市</td>\n",
       "      <td>10002.0</td>\n",
       "    </tr>\n",
       "  </tbody>\n",
       "</table>\n",
       "<p>1163 rows × 7 columns</p>\n",
       "</div>"
      ],
      "text/plain": [
       "         offset      id                      entity title  \\\n",
       "80     25958007    9066  联合国教科文组织非物质文化遗产名录和优秀保护实践名册   NaN   \n",
       "85     26645569    9512                  1956年匈牙利革命   NaN   \n",
       "62     20871516    6503                     马哈迪·莫哈末   NaN   \n",
       "135    43252334   19079                   釣魚臺列嶼主權問題   NaN   \n",
       "801   143657679  103045                      重性抑鬱疾患   NaN   \n",
       "...         ...     ...                         ...   ...   \n",
       "1008  164683918  121588                          詹遜   NaN   \n",
       "587   115085321   76828                  1997年德国大奖赛   NaN   \n",
       "838   148564820  106836                  英特爾國際科技展覽會   NaN   \n",
       "526   106814697   70097                GUNDAMonline   NaN   \n",
       "964   159593254  117378                      帝国自由城市   NaN   \n",
       "\n",
       "                      entity_sim            entity_sim_clean    length  \n",
       "80    联合国教科文组织非物质文化遗产名录和优秀保护实践名册  联合国教科文组织非物质文化遗产名录和优秀保护实践名册  289402.0  \n",
       "85                    1956年匈牙利革命                  1956年匈牙利革命  271865.0  \n",
       "62                       马哈迪·莫哈末                         莫哈末  229924.0  \n",
       "135                    钓鱼台列屿主权问题                   钓鱼台列屿主权问题  223193.0  \n",
       "801                       重性抑郁疾患                      重性抑郁疾患  205888.0  \n",
       "...                          ...                         ...       ...  \n",
       "1008                          詹逊                          詹逊   10016.0  \n",
       "587                   1997年德国大奖赛                  1997年德国大奖赛   10013.0  \n",
       "838                   英特尔国际科技展览会                  英特尔国际科技展览会   10008.0  \n",
       "526                 GUNDAMonline                GUNDAMonline   10003.0  \n",
       "964                       帝国自由城市                      帝国自由城市   10002.0  \n",
       "\n",
       "[1163 rows x 7 columns]"
      ]
     },
     "execution_count": 148,
     "metadata": {},
     "output_type": "execute_result"
    }
   ],
   "source": [
    "wiki_lookup.sort_values('length',ascending=False)"
   ]
  },
  {
   "cell_type": "code",
   "execution_count": 147,
   "id": "e454f155",
   "metadata": {},
   "outputs": [],
   "source": [
    "wiki_lookup.sort_values('length',ascending=False)[['entity_sim_clean','length']].to_csv('unmatched_entities2.csv',index=False)"
   ]
  },
  {
   "cell_type": "code",
   "execution_count": 142,
   "id": "e9ec17b5",
   "metadata": {
    "scrolled": true
   },
   "outputs": [
    {
     "data": {
      "text/html": [
       "<div>\n",
       "<style scoped>\n",
       "    .dataframe tbody tr th:only-of-type {\n",
       "        vertical-align: middle;\n",
       "    }\n",
       "\n",
       "    .dataframe tbody tr th {\n",
       "        vertical-align: top;\n",
       "    }\n",
       "\n",
       "    .dataframe thead th {\n",
       "        text-align: right;\n",
       "    }\n",
       "</style>\n",
       "<table border=\"1\" class=\"dataframe\">\n",
       "  <thead>\n",
       "    <tr style=\"text-align: right;\">\n",
       "      <th></th>\n",
       "      <th>offset</th>\n",
       "      <th>id</th>\n",
       "      <th>entity</th>\n",
       "      <th>title</th>\n",
       "      <th>entity_sim</th>\n",
       "      <th>entity_sim_clean</th>\n",
       "    </tr>\n",
       "  </thead>\n",
       "  <tbody>\n",
       "    <tr>\n",
       "      <th>2631</th>\n",
       "      <td>21366537</td>\n",
       "      <td>6671</td>\n",
       "      <td>六四天安门事件</td>\n",
       "      <td>NaN</td>\n",
       "      <td>六四天安门事件</td>\n",
       "      <td>六四天安门事件</td>\n",
       "    </tr>\n",
       "    <tr>\n",
       "      <th>7385</th>\n",
       "      <td>37870755</td>\n",
       "      <td>16288</td>\n",
       "      <td>六四天安門事件</td>\n",
       "      <td>NaN</td>\n",
       "      <td>六四天安门事件</td>\n",
       "      <td>六四天安门事件</td>\n",
       "    </tr>\n",
       "    <tr>\n",
       "      <th>7567</th>\n",
       "      <td>38892804</td>\n",
       "      <td>16773</td>\n",
       "      <td>六四</td>\n",
       "      <td>NaN</td>\n",
       "      <td>六四</td>\n",
       "      <td>六四</td>\n",
       "    </tr>\n",
       "    <tr>\n",
       "      <th>40699</th>\n",
       "      <td>127566482</td>\n",
       "      <td>89038</td>\n",
       "      <td>六四学潮</td>\n",
       "      <td>NaN</td>\n",
       "      <td>六四学潮</td>\n",
       "      <td>六四学潮</td>\n",
       "    </tr>\n",
       "    <tr>\n",
       "      <th>80911</th>\n",
       "      <td>217553222</td>\n",
       "      <td>179998</td>\n",
       "      <td>六四运动</td>\n",
       "      <td>NaN</td>\n",
       "      <td>六四运动</td>\n",
       "      <td>六四运动</td>\n",
       "    </tr>\n",
       "    <tr>\n",
       "      <th>...</th>\n",
       "      <td>...</td>\n",
       "      <td>...</td>\n",
       "      <td>...</td>\n",
       "      <td>...</td>\n",
       "      <td>...</td>\n",
       "      <td>...</td>\n",
       "    </tr>\n",
       "    <tr>\n",
       "      <th>4027114</th>\n",
       "      <td>2641850480</td>\n",
       "      <td>7991503</td>\n",
       "      <td>六四事件三十三週年</td>\n",
       "      <td>NaN</td>\n",
       "      <td>六四事件三十三周年</td>\n",
       "      <td>六四事件三十三周年</td>\n",
       "    </tr>\n",
       "    <tr>\n",
       "      <th>4027568</th>\n",
       "      <td>2642105499</td>\n",
       "      <td>7992218</td>\n",
       "      <td>六四酒案</td>\n",
       "      <td>NaN</td>\n",
       "      <td>六四酒案</td>\n",
       "      <td>六四酒案</td>\n",
       "    </tr>\n",
       "    <tr>\n",
       "      <th>4030897</th>\n",
       "      <td>2644093685</td>\n",
       "      <td>7997700</td>\n",
       "      <td>六四事件三十三周年</td>\n",
       "      <td>NaN</td>\n",
       "      <td>六四事件三十三周年</td>\n",
       "      <td>六四事件三十三周年</td>\n",
       "    </tr>\n",
       "    <tr>\n",
       "      <th>4031915</th>\n",
       "      <td>2644645427</td>\n",
       "      <td>7999223</td>\n",
       "      <td>八酒六四</td>\n",
       "      <td>NaN</td>\n",
       "      <td>八酒六四</td>\n",
       "      <td>八酒六四</td>\n",
       "    </tr>\n",
       "    <tr>\n",
       "      <th>4144120</th>\n",
       "      <td>2718660036</td>\n",
       "      <td>8183147</td>\n",
       "      <td>六四事件在台灣</td>\n",
       "      <td>NaN</td>\n",
       "      <td>六四事件在台湾</td>\n",
       "      <td>六四事件在台湾</td>\n",
       "    </tr>\n",
       "  </tbody>\n",
       "</table>\n",
       "<p>104 rows × 6 columns</p>\n",
       "</div>"
      ],
      "text/plain": [
       "             offset       id     entity title entity_sim entity_sim_clean\n",
       "2631       21366537     6671    六四天安门事件   NaN    六四天安门事件          六四天安门事件\n",
       "7385       37870755    16288    六四天安門事件   NaN    六四天安门事件          六四天安门事件\n",
       "7567       38892804    16773         六四   NaN         六四               六四\n",
       "40699     127566482    89038       六四学潮   NaN       六四学潮             六四学潮\n",
       "80911     217553222   179998       六四运动   NaN       六四运动             六四运动\n",
       "...             ...      ...        ...   ...        ...              ...\n",
       "4027114  2641850480  7991503  六四事件三十三週年   NaN  六四事件三十三周年        六四事件三十三周年\n",
       "4027568  2642105499  7992218       六四酒案   NaN       六四酒案             六四酒案\n",
       "4030897  2644093685  7997700  六四事件三十三周年   NaN  六四事件三十三周年        六四事件三十三周年\n",
       "4031915  2644645427  7999223       八酒六四   NaN       八酒六四             八酒六四\n",
       "4144120  2718660036  8183147    六四事件在台灣   NaN    六四事件在台湾          六四事件在台湾\n",
       "\n",
       "[104 rows x 6 columns]"
      ]
     },
     "execution_count": 142,
     "metadata": {},
     "output_type": "execute_result"
    }
   ],
   "source": [
    "wiki[wiki['entity_sim_clean'].apply(lambda x: '六四' in str(x))]"
   ]
  },
  {
   "cell_type": "code",
   "execution_count": 159,
   "id": "49b21765",
   "metadata": {
    "scrolled": true
   },
   "outputs": [
    {
     "data": {
      "text/html": [
       "<div>\n",
       "<style scoped>\n",
       "    .dataframe tbody tr th:only-of-type {\n",
       "        vertical-align: middle;\n",
       "    }\n",
       "\n",
       "    .dataframe tbody tr th {\n",
       "        vertical-align: top;\n",
       "    }\n",
       "\n",
       "    .dataframe thead th {\n",
       "        text-align: right;\n",
       "    }\n",
       "</style>\n",
       "<table border=\"1\" class=\"dataframe\">\n",
       "  <thead>\n",
       "    <tr style=\"text-align: right;\">\n",
       "      <th></th>\n",
       "      <th>entity</th>\n",
       "    </tr>\n",
       "  </thead>\n",
       "  <tbody>\n",
       "    <tr>\n",
       "      <th>3401815</th>\n",
       "      <td>一八六四之力挽狂澜</td>\n",
       "    </tr>\n",
       "    <tr>\n",
       "      <th>3402208</th>\n",
       "      <td>一六四0年英国革命史</td>\n",
       "    </tr>\n",
       "    <tr>\n",
       "      <th>3402209</th>\n",
       "      <td>一六四四</td>\n",
       "    </tr>\n",
       "    <tr>\n",
       "      <th>3402219</th>\n",
       "      <td>一六四零年英国革命史</td>\n",
       "    </tr>\n",
       "    <tr>\n",
       "      <th>5704638</th>\n",
       "      <td>中国人民解放军第二六四医院</td>\n",
       "    </tr>\n",
       "    <tr>\n",
       "      <th>6354267</th>\n",
       "      <td>中棉所六四</td>\n",
       "    </tr>\n",
       "    <tr>\n",
       "      <th>10413053</th>\n",
       "      <td>公元一六四四</td>\n",
       "    </tr>\n",
       "    <tr>\n",
       "      <th>10498513</th>\n",
       "      <td>六四寨村</td>\n",
       "    </tr>\n",
       "    <tr>\n",
       "      <th>10498522</th>\n",
       "      <td>六四庄</td>\n",
       "    </tr>\n",
       "    <tr>\n",
       "      <th>10498527</th>\n",
       "      <td>六四班的追星族</td>\n",
       "    </tr>\n",
       "    <tr>\n",
       "      <th>10969028</th>\n",
       "      <td>农九师一六四团</td>\n",
       "    </tr>\n",
       "    <tr>\n",
       "      <th>11559091</th>\n",
       "      <td>出妓金陵子呈卢六四首</td>\n",
       "    </tr>\n",
       "    <tr>\n",
       "      <th>11922809</th>\n",
       "      <td>刘永杰（中国人民解放军第四六四医院医生）</td>\n",
       "    </tr>\n",
       "    <tr>\n",
       "      <th>12873803</th>\n",
       "      <td>北京市一六四中学</td>\n",
       "    </tr>\n",
       "    <tr>\n",
       "      <th>12901523</th>\n",
       "      <td>北京市第一六四中学</td>\n",
       "    </tr>\n",
       "    <tr>\n",
       "      <th>16537172</th>\n",
       "      <td>哈尔滨第一六四中学</td>\n",
       "    </tr>\n",
       "    <tr>\n",
       "      <th>19692582</th>\n",
       "      <td>天津七六四通信导航技术有限公司</td>\n",
       "    </tr>\n",
       "    <tr>\n",
       "      <th>26010821</th>\n",
       "      <td>张全（解放军第二六四泌尿外科副主任医师）</td>\n",
       "    </tr>\n",
       "    <tr>\n",
       "      <th>26037800</th>\n",
       "      <td>张卫华（解放军第四六四医院副主任医师）</td>\n",
       "    </tr>\n",
       "    <tr>\n",
       "      <th>26219244</th>\n",
       "      <td>张斌（中国人民解放军第四六四医院医生）</td>\n",
       "    </tr>\n",
       "    <tr>\n",
       "      <th>30733797</th>\n",
       "      <td>新疆生产建设兵团农九师一六四团</td>\n",
       "    </tr>\n",
       "    <tr>\n",
       "      <th>30733802</th>\n",
       "      <td>新疆生产建设兵团农九师一六四团志</td>\n",
       "    </tr>\n",
       "    <tr>\n",
       "      <th>33423042</th>\n",
       "      <td>李六四（元末太尉）</td>\n",
       "    </tr>\n",
       "    <tr>\n",
       "      <th>33423051</th>\n",
       "      <td>李六四（安徽宣城溪口镇农民）</td>\n",
       "    </tr>\n",
       "    <tr>\n",
       "      <th>33858101</th>\n",
       "      <td>李金泉（江西省核工业地质局二六四大队副大队长）</td>\n",
       "    </tr>\n",
       "    <tr>\n",
       "      <th>35074517</th>\n",
       "      <td>核工业二六四地质环境院</td>\n",
       "    </tr>\n",
       "    <tr>\n",
       "      <th>35074527</th>\n",
       "      <td>核工业二六四地质调查院</td>\n",
       "    </tr>\n",
       "    <tr>\n",
       "      <th>37369759</th>\n",
       "      <td>江西省核工业地质局二六四大队</td>\n",
       "    </tr>\n",
       "    <tr>\n",
       "      <th>39810657</th>\n",
       "      <td>温建梅（解放军第二六四医院妇产科主任医师）</td>\n",
       "    </tr>\n",
       "    <tr>\n",
       "      <th>44487022</th>\n",
       "      <td>盛六四</td>\n",
       "    </tr>\n",
       "    <tr>\n",
       "      <th>44909772</th>\n",
       "      <td>石毅（解放军二六四医院哮喘科主任）</td>\n",
       "    </tr>\n",
       "    <tr>\n",
       "      <th>53344710</th>\n",
       "      <td>解放军四六四男科医院</td>\n",
       "    </tr>\n",
       "    <tr>\n",
       "      <th>55929168</th>\n",
       "      <td>迷航一六四二</td>\n",
       "    </tr>\n",
       "    <tr>\n",
       "      <th>59623859</th>\n",
       "      <td>陈忠（解放军第二六四医院主治医师）</td>\n",
       "    </tr>\n",
       "    <tr>\n",
       "      <th>60878956</th>\n",
       "      <td>韩丽华（解放军第二六四医院妇产科副主任医师）</td>\n",
       "    </tr>\n",
       "  </tbody>\n",
       "</table>\n",
       "</div>"
      ],
      "text/plain": [
       "                           entity\n",
       "3401815                 一八六四之力挽狂澜\n",
       "3402208                一六四0年英国革命史\n",
       "3402209                      一六四四\n",
       "3402219                一六四零年英国革命史\n",
       "5704638             中国人民解放军第二六四医院\n",
       "6354267                     中棉所六四\n",
       "10413053                   公元一六四四\n",
       "10498513                     六四寨村\n",
       "10498522                      六四庄\n",
       "10498527                  六四班的追星族\n",
       "10969028                  农九师一六四团\n",
       "11559091               出妓金陵子呈卢六四首\n",
       "11922809     刘永杰（中国人民解放军第四六四医院医生）\n",
       "12873803                 北京市一六四中学\n",
       "12901523                北京市第一六四中学\n",
       "16537172                哈尔滨第一六四中学\n",
       "19692582          天津七六四通信导航技术有限公司\n",
       "26010821     张全（解放军第二六四泌尿外科副主任医师）\n",
       "26037800      张卫华（解放军第四六四医院副主任医师）\n",
       "26219244      张斌（中国人民解放军第四六四医院医生）\n",
       "30733797          新疆生产建设兵团农九师一六四团\n",
       "30733802         新疆生产建设兵团农九师一六四团志\n",
       "33423042                李六四（元末太尉）\n",
       "33423051           李六四（安徽宣城溪口镇农民）\n",
       "33858101  李金泉（江西省核工业地质局二六四大队副大队长）\n",
       "35074517              核工业二六四地质环境院\n",
       "35074527              核工业二六四地质调查院\n",
       "37369759           江西省核工业地质局二六四大队\n",
       "39810657    温建梅（解放军第二六四医院妇产科主任医师）\n",
       "44487022                      盛六四\n",
       "44909772        石毅（解放军二六四医院哮喘科主任）\n",
       "53344710               解放军四六四男科医院\n",
       "55929168                   迷航一六四二\n",
       "59623859        陈忠（解放军第二六四医院主治医师）\n",
       "60878956   韩丽华（解放军第二六四医院妇产科副主任医师）"
      ]
     },
     "execution_count": 159,
     "metadata": {},
     "output_type": "execute_result"
    }
   ],
   "source": [
    "table[table['entity'].apply(lambda x: '六四' in str(x))]"
   ]
  }
 ],
 "metadata": {
  "kernelspec": {
   "display_name": "Python 3 (ipykernel)",
   "language": "python",
   "name": "python3"
  },
  "language_info": {
   "codemirror_mode": {
    "name": "ipython",
    "version": 3
   },
   "file_extension": ".py",
   "mimetype": "text/x-python",
   "name": "python",
   "nbconvert_exporter": "python",
   "pygments_lexer": "ipython3",
   "version": "3.10.9"
  }
 },
 "nbformat": 4,
 "nbformat_minor": 5
}
