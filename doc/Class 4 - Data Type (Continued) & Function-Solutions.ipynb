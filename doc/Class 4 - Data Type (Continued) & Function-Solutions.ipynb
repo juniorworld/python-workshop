{
 "cells": [
  {
   "cell_type": "markdown",
   "metadata": {},
   "source": [
    "<h2>Week 4: Function</h2>"
   ]
  },
  {
   "cell_type": "markdown",
   "metadata": {},
   "source": [
    "***"
   ]
  },
  {
   "cell_type": "markdown",
   "metadata": {},
   "source": [
    "## Section 1: Assignment QA"
   ]
  },
  {
   "cell_type": "markdown",
   "metadata": {},
   "source": [
    "***"
   ]
  },
  {
   "cell_type": "markdown",
   "metadata": {},
   "source": [
    "## Section 2: Data Type (Continued) & Function"
   ]
  },
  {
   "cell_type": "markdown",
   "metadata": {},
   "source": [
    "<strong>G. Dictionary</strong>\n",
    "- Dictionary is a list of `key → value` pairs. `Keys` are **unique** identifiers of elements. `Values` can be of different data type.\n",
    "- The main usage of dictionary is to look up a `value` based its on `key`.\n",
    "- How to create a dictionary? \n",
    "    - Use <font color=\"red\">curly braces {}</font>, separating elements with comma. \n",
    "    - Each element contains a <b>unique key</b> and a value, separated by colon.\n",
    "    - Keys and values can be of any data type\n",
    "    - Format: `{key1:value1, key2:value2}`\n",
    "- How to <b>look up</b> a value for a given key?\n",
    "    - Format: `dictionary[key]`"
   ]
  },
  {
   "cell_type": "markdown",
   "metadata": {},
   "source": [
    "<img src='https://juniorworld.github.io/python-workshop/img/week2_dictionary.jpg' width=\"400\" align=\"left\">"
   ]
  },
  {
   "cell_type": "code",
   "execution_count": 9,
   "metadata": {},
   "outputs": [],
   "source": [
    "# Suppose we have three participants in our class: peter (id=1001), yuner (id=1002), benjamin (id=1003).\n",
    "# Try generating a dictionary of participants' ids and their names.\n",
    "student_dic={1001:\"peter\",1002:'yuner',1003:'benjamin'}"
   ]
  },
  {
   "cell_type": "code",
   "execution_count": 10,
   "metadata": {},
   "outputs": [
    {
     "data": {
      "text/plain": [
       "'peter'"
      ]
     },
     "execution_count": 10,
     "metadata": {},
     "output_type": "execute_result"
    }
   ],
   "source": [
    "student_dic[1001]"
   ]
  },
  {
   "cell_type": "code",
   "execution_count": 11,
   "metadata": {},
   "outputs": [],
   "source": [
    "# We can expand the dictionary to have more values about students, such as gender and age\n",
    "student_dic={1001:[\"peter\",\"M\",23],1002:['yuner','F',32],1003:['benjamin','M',24]}"
   ]
  },
  {
   "cell_type": "code",
   "execution_count": 12,
   "metadata": {},
   "outputs": [
    {
     "data": {
      "text/plain": [
       "{1001: ['peter', 'M', 23],\n",
       " 1002: ['yuner', 'F', 32],\n",
       " 1003: ['benjamin', 'M', 24]}"
      ]
     },
     "execution_count": 12,
     "metadata": {},
     "output_type": "execute_result"
    }
   ],
   "source": [
    "student_dic"
   ]
  },
  {
   "cell_type": "markdown",
   "metadata": {},
   "source": [
    "<div class=\"alert alert-block alert-success\">\n",
    "\n",
    "We can use method `.keys()` to access all keys and `.values()` to access all values.</div>"
   ]
  },
  {
   "cell_type": "code",
   "execution_count": 13,
   "metadata": {},
   "outputs": [
    {
     "data": {
      "text/plain": [
       "dict_keys([1001, 1002, 1003])"
      ]
     },
     "execution_count": 13,
     "metadata": {},
     "output_type": "execute_result"
    }
   ],
   "source": [
    "# Try .keys() and .values() methods.\n",
    "student_dic.keys()"
   ]
  },
  {
   "cell_type": "code",
   "execution_count": 14,
   "metadata": {},
   "outputs": [
    {
     "data": {
      "text/plain": [
       "dict_values([['peter', 'M', 23], ['yuner', 'F', 32], ['benjamin', 'M', 24]])"
      ]
     },
     "execution_count": 14,
     "metadata": {},
     "output_type": "execute_result"
    }
   ],
   "source": [
    "student_dic.values()"
   ]
  },
  {
   "cell_type": "code",
   "execution_count": 15,
   "metadata": {},
   "outputs": [
    {
     "data": {
      "text/plain": [
       "3"
      ]
     },
     "execution_count": 15,
     "metadata": {},
     "output_type": "execute_result"
    }
   ],
   "source": [
    "# How many items are there in student_dic?\n",
    "len(student_dic.keys())"
   ]
  },
  {
   "cell_type": "markdown",
   "metadata": {},
   "source": [
    "<font color=\"blue\"><b>Exercise</b>\n",
    "    <p>Create two dictionaries of the top 5 movies on IMDB (https://www.imdb.com/chart/top/).<br>\n",
    "    1.First dictionary: Use ranking as the key. Include movie name, rating and release year as the values. <br>\n",
    "    2.Second dictionary: Use movie name as the key. Include ranking, rating, and release year as the values.</p></font>"
   ]
  },
  {
   "cell_type": "code",
   "execution_count": 18,
   "metadata": {},
   "outputs": [],
   "source": [
    "IMDB1={1:['The Shawshank Redemption',9.2,1994],2:[\"The Godfather\",9.2,1972],3:[\"The Dark Knight\",9.0,2008],4:[\"The Godfather: Part II\",9.0,1974],5:[\"12 Angry Men\",9.0,1957]}"
   ]
  },
  {
   "cell_type": "code",
   "execution_count": 19,
   "metadata": {},
   "outputs": [
    {
     "data": {
      "text/plain": [
       "{1: ['The Shawshank Redemption', 9.2, 1994],\n",
       " 2: ['The Godfather', 9.2, 1972],\n",
       " 3: ['The Dark Knight', 9.0, 2008],\n",
       " 4: ['The Godfather: Part II', 9.0, 1974],\n",
       " 5: ['12 Angry Men', 9.0, 1957]}"
      ]
     },
     "execution_count": 19,
     "metadata": {},
     "output_type": "execute_result"
    }
   ],
   "source": [
    "IMDB1"
   ]
  },
  {
   "cell_type": "markdown",
   "metadata": {},
   "source": [
    "To add new items, you can simply use the following syntax, much similar to variable assignment:\n",
    ">```python\n",
    "dictionary[key] = value\n",
    "```"
   ]
  },
  {
   "cell_type": "code",
   "execution_count": 20,
   "metadata": {},
   "outputs": [],
   "source": [
    "#add one more movie to the dictionary\n",
    "IMDB1[6]=[\"Schindler's List\",8.9,1993]"
   ]
  },
  {
   "cell_type": "code",
   "execution_count": 21,
   "metadata": {},
   "outputs": [
    {
     "data": {
      "text/plain": [
       "{1: ['The Shawshank Redemption', 9.2, 1994],\n",
       " 2: ['The Godfather', 9.2, 1972],\n",
       " 3: ['The Dark Knight', 9.0, 2008],\n",
       " 4: ['The Godfather: Part II', 9.0, 1974],\n",
       " 5: ['12 Angry Men', 9.0, 1957],\n",
       " 6: [\"Schindler's List\", 8.9, 1993]}"
      ]
     },
     "execution_count": 21,
     "metadata": {},
     "output_type": "execute_result"
    }
   ],
   "source": [
    "IMDB1"
   ]
  },
  {
   "cell_type": "markdown",
   "metadata": {},
   "source": [
    "<div class=\"alert alert-block alert-info\">\n",
    "**<b>Tip</b>** \n",
    "Dictionary has a famous counterpart in JavaScript named JSON. Compared with previous five data types, dictionary operates at a higher level as it can represent not only the values but also the <b>relationship</b> between values. Moreover, it is highly <b>human readable</b> and <font color=\"red\">indexing a dictionary by key is often the fastest way to search </font>in Python.</div>"
   ]
  },
  {
   "cell_type": "markdown",
   "metadata": {},
   "source": [
    "<strong>H. DataFrame</strong>\n",
    "- Dataframe is a data structure supported by the `pandas` module, which is equivalent to table in common sense.\n",
    "- How to create a DataFrame? \n",
    "    - Use Pandas' Function `pd.DataFrame(data=...[,index=...,columns=...])`. Arguments in square bracket are optional.\n",
    "    - Import from other data source, like csv, excel or json. For example, `pd.read_csv(file path [, indexcol=..., header=...])`.\n",
    "- Dataframe structure: rows and columns\n",
    "    - columns are also known as Series\n",
    "- Look up a value by index: `dataframe.loc[index]`\n",
    "- Look up a value by relative location: `dataframe.iloc[index]`\n",
    "- Access a single column: `dataframe[column_name]`\n",
    "- Access multiple columns: `dataframe[[column1, column2 ...]]`"
   ]
  },
  {
   "cell_type": "code",
   "execution_count": 25,
   "metadata": {},
   "outputs": [
    {
     "name": "stdout",
     "output_type": "stream",
     "text": [
      "Requirement already satisfied: pandas in c:\\users\\yuner\\appdata\\local\\programs\\python\\python310\\lib\\site-packages (1.5.3)\n",
      "Requirement already satisfied: pytz>=2020.1 in c:\\users\\yuner\\appdata\\local\\programs\\python\\python310\\lib\\site-packages (from pandas) (2022.7.1)\n",
      "Requirement already satisfied: numpy>=1.21.0 in c:\\users\\yuner\\appdata\\local\\programs\\python\\python310\\lib\\site-packages (from pandas) (1.24.1)\n",
      "Requirement already satisfied: python-dateutil>=2.8.1 in c:\\users\\yuner\\appdata\\local\\programs\\python\\python310\\lib\\site-packages (from pandas) (2.8.2)\n",
      "Requirement already satisfied: six>=1.5 in c:\\users\\yuner\\appdata\\local\\programs\\python\\python310\\lib\\site-packages (from python-dateutil>=2.8.1->pandas) (1.16.0)\n"
     ]
    },
    {
     "name": "stderr",
     "output_type": "stream",
     "text": [
      "\n",
      "[notice] A new release of pip available: 22.3.1 -> 23.0\n",
      "[notice] To update, run: python.exe -m pip install --upgrade pip\n"
     ]
    }
   ],
   "source": [
    "! pip3 install pandas"
   ]
  },
  {
   "cell_type": "code",
   "execution_count": 23,
   "metadata": {},
   "outputs": [],
   "source": [
    "import pandas as pd\n",
    "#We have two ways to create a DataFrame, i.e. progressive way and import way.\n",
    "#1.1: Progressive way BY ROW\n",
    "a=pd.DataFrame([[1001,'petter','M','HKU'],[1002,'yuner','F','HKBU'],[1003,'benjamin','M','CityU']])"
   ]
  },
  {
   "cell_type": "code",
   "execution_count": 24,
   "metadata": {},
   "outputs": [
    {
     "data": {
      "text/html": [
       "<div>\n",
       "<style scoped>\n",
       "    .dataframe tbody tr th:only-of-type {\n",
       "        vertical-align: middle;\n",
       "    }\n",
       "\n",
       "    .dataframe tbody tr th {\n",
       "        vertical-align: top;\n",
       "    }\n",
       "\n",
       "    .dataframe thead th {\n",
       "        text-align: right;\n",
       "    }\n",
       "</style>\n",
       "<table border=\"1\" class=\"dataframe\">\n",
       "  <thead>\n",
       "    <tr style=\"text-align: right;\">\n",
       "      <th></th>\n",
       "      <th>0</th>\n",
       "      <th>1</th>\n",
       "      <th>2</th>\n",
       "      <th>3</th>\n",
       "    </tr>\n",
       "  </thead>\n",
       "  <tbody>\n",
       "    <tr>\n",
       "      <th>0</th>\n",
       "      <td>1001</td>\n",
       "      <td>petter</td>\n",
       "      <td>M</td>\n",
       "      <td>HKU</td>\n",
       "    </tr>\n",
       "    <tr>\n",
       "      <th>1</th>\n",
       "      <td>1002</td>\n",
       "      <td>yuner</td>\n",
       "      <td>F</td>\n",
       "      <td>HKBU</td>\n",
       "    </tr>\n",
       "    <tr>\n",
       "      <th>2</th>\n",
       "      <td>1003</td>\n",
       "      <td>benjamin</td>\n",
       "      <td>M</td>\n",
       "      <td>CityU</td>\n",
       "    </tr>\n",
       "  </tbody>\n",
       "</table>\n",
       "</div>"
      ],
      "text/plain": [
       "      0         1  2      3\n",
       "0  1001    petter  M    HKU\n",
       "1  1002     yuner  F   HKBU\n",
       "2  1003  benjamin  M  CityU"
      ]
     },
     "execution_count": 24,
     "metadata": {},
     "output_type": "execute_result"
    }
   ],
   "source": [
    "a"
   ]
  },
  {
   "cell_type": "code",
   "execution_count": 26,
   "metadata": {},
   "outputs": [],
   "source": [
    "#change headers\n",
    "a.columns=['id','name','gender','affiliation']"
   ]
  },
  {
   "cell_type": "code",
   "execution_count": 27,
   "metadata": {},
   "outputs": [
    {
     "data": {
      "text/html": [
       "<div>\n",
       "<style scoped>\n",
       "    .dataframe tbody tr th:only-of-type {\n",
       "        vertical-align: middle;\n",
       "    }\n",
       "\n",
       "    .dataframe tbody tr th {\n",
       "        vertical-align: top;\n",
       "    }\n",
       "\n",
       "    .dataframe thead th {\n",
       "        text-align: right;\n",
       "    }\n",
       "</style>\n",
       "<table border=\"1\" class=\"dataframe\">\n",
       "  <thead>\n",
       "    <tr style=\"text-align: right;\">\n",
       "      <th></th>\n",
       "      <th>id</th>\n",
       "      <th>name</th>\n",
       "      <th>gender</th>\n",
       "      <th>affiliation</th>\n",
       "    </tr>\n",
       "  </thead>\n",
       "  <tbody>\n",
       "    <tr>\n",
       "      <th>0</th>\n",
       "      <td>1001</td>\n",
       "      <td>petter</td>\n",
       "      <td>M</td>\n",
       "      <td>HKU</td>\n",
       "    </tr>\n",
       "    <tr>\n",
       "      <th>1</th>\n",
       "      <td>1002</td>\n",
       "      <td>yuner</td>\n",
       "      <td>F</td>\n",
       "      <td>HKBU</td>\n",
       "    </tr>\n",
       "    <tr>\n",
       "      <th>2</th>\n",
       "      <td>1003</td>\n",
       "      <td>benjamin</td>\n",
       "      <td>M</td>\n",
       "      <td>CityU</td>\n",
       "    </tr>\n",
       "  </tbody>\n",
       "</table>\n",
       "</div>"
      ],
      "text/plain": [
       "     id      name gender affiliation\n",
       "0  1001    petter      M         HKU\n",
       "1  1002     yuner      F        HKBU\n",
       "2  1003  benjamin      M       CityU"
      ]
     },
     "execution_count": 27,
     "metadata": {},
     "output_type": "execute_result"
    }
   ],
   "source": [
    "a"
   ]
  },
  {
   "cell_type": "code",
   "execution_count": 28,
   "metadata": {},
   "outputs": [],
   "source": [
    "a.index=['a','b','c']"
   ]
  },
  {
   "cell_type": "code",
   "execution_count": 29,
   "metadata": {},
   "outputs": [
    {
     "data": {
      "text/html": [
       "<div>\n",
       "<style scoped>\n",
       "    .dataframe tbody tr th:only-of-type {\n",
       "        vertical-align: middle;\n",
       "    }\n",
       "\n",
       "    .dataframe tbody tr th {\n",
       "        vertical-align: top;\n",
       "    }\n",
       "\n",
       "    .dataframe thead th {\n",
       "        text-align: right;\n",
       "    }\n",
       "</style>\n",
       "<table border=\"1\" class=\"dataframe\">\n",
       "  <thead>\n",
       "    <tr style=\"text-align: right;\">\n",
       "      <th></th>\n",
       "      <th>id</th>\n",
       "      <th>name</th>\n",
       "      <th>gender</th>\n",
       "      <th>affiliation</th>\n",
       "    </tr>\n",
       "  </thead>\n",
       "  <tbody>\n",
       "    <tr>\n",
       "      <th>a</th>\n",
       "      <td>1001</td>\n",
       "      <td>petter</td>\n",
       "      <td>M</td>\n",
       "      <td>HKU</td>\n",
       "    </tr>\n",
       "    <tr>\n",
       "      <th>b</th>\n",
       "      <td>1002</td>\n",
       "      <td>yuner</td>\n",
       "      <td>F</td>\n",
       "      <td>HKBU</td>\n",
       "    </tr>\n",
       "    <tr>\n",
       "      <th>c</th>\n",
       "      <td>1003</td>\n",
       "      <td>benjamin</td>\n",
       "      <td>M</td>\n",
       "      <td>CityU</td>\n",
       "    </tr>\n",
       "  </tbody>\n",
       "</table>\n",
       "</div>"
      ],
      "text/plain": [
       "     id      name gender affiliation\n",
       "a  1001    petter      M         HKU\n",
       "b  1002     yuner      F        HKBU\n",
       "c  1003  benjamin      M       CityU"
      ]
     },
     "execution_count": 29,
     "metadata": {},
     "output_type": "execute_result"
    }
   ],
   "source": [
    "a"
   ]
  },
  {
   "cell_type": "code",
   "execution_count": 30,
   "metadata": {},
   "outputs": [
    {
     "data": {
      "text/plain": [
       "Index(['id', 'name', 'gender', 'affiliation'], dtype='object')"
      ]
     },
     "execution_count": 30,
     "metadata": {},
     "output_type": "execute_result"
    }
   ],
   "source": [
    "a.columns"
   ]
  },
  {
   "cell_type": "code",
   "execution_count": 31,
   "metadata": {},
   "outputs": [],
   "source": [
    "#1.2: Progressive way BY COLUMN\n",
    "a=pd.DataFrame()\n",
    "a['id']=[1001,1002,1003]\n",
    "a['name']=['petter','yuner','benjamin']\n",
    "a['gender']=['M','F','M']\n",
    "a['affiliation']=['HK','HKBU','CityU']"
   ]
  },
  {
   "cell_type": "code",
   "execution_count": 32,
   "metadata": {},
   "outputs": [
    {
     "data": {
      "text/plain": [
       "RangeIndex(start=0, stop=3, step=1)"
      ]
     },
     "execution_count": 32,
     "metadata": {},
     "output_type": "execute_result"
    }
   ],
   "source": [
    "#check out the index for each row\n",
    "a.index"
   ]
  },
  {
   "cell_type": "code",
   "execution_count": 33,
   "metadata": {},
   "outputs": [
    {
     "data": {
      "text/html": [
       "<div>\n",
       "<style scoped>\n",
       "    .dataframe tbody tr th:only-of-type {\n",
       "        vertical-align: middle;\n",
       "    }\n",
       "\n",
       "    .dataframe tbody tr th {\n",
       "        vertical-align: top;\n",
       "    }\n",
       "\n",
       "    .dataframe thead th {\n",
       "        text-align: right;\n",
       "    }\n",
       "</style>\n",
       "<table border=\"1\" class=\"dataframe\">\n",
       "  <thead>\n",
       "    <tr style=\"text-align: right;\">\n",
       "      <th></th>\n",
       "      <th>id</th>\n",
       "      <th>name</th>\n",
       "      <th>gender</th>\n",
       "      <th>affiliation</th>\n",
       "    </tr>\n",
       "  </thead>\n",
       "  <tbody>\n",
       "    <tr>\n",
       "      <th>0</th>\n",
       "      <td>1001</td>\n",
       "      <td>petter</td>\n",
       "      <td>M</td>\n",
       "      <td>HK</td>\n",
       "    </tr>\n",
       "    <tr>\n",
       "      <th>1</th>\n",
       "      <td>1002</td>\n",
       "      <td>yuner</td>\n",
       "      <td>F</td>\n",
       "      <td>HKBU</td>\n",
       "    </tr>\n",
       "    <tr>\n",
       "      <th>2</th>\n",
       "      <td>1003</td>\n",
       "      <td>benjamin</td>\n",
       "      <td>M</td>\n",
       "      <td>CityU</td>\n",
       "    </tr>\n",
       "  </tbody>\n",
       "</table>\n",
       "</div>"
      ],
      "text/plain": [
       "     id      name gender affiliation\n",
       "0  1001    petter      M          HK\n",
       "1  1002     yuner      F        HKBU\n",
       "2  1003  benjamin      M       CityU"
      ]
     },
     "execution_count": 33,
     "metadata": {},
     "output_type": "execute_result"
    }
   ],
   "source": [
    "a"
   ]
  },
  {
   "cell_type": "code",
   "execution_count": 34,
   "metadata": {},
   "outputs": [],
   "source": [
    "#assign a column to be index column\n",
    "a=a.set_index('id')"
   ]
  },
  {
   "cell_type": "code",
   "execution_count": 35,
   "metadata": {},
   "outputs": [
    {
     "data": {
      "text/html": [
       "<div>\n",
       "<style scoped>\n",
       "    .dataframe tbody tr th:only-of-type {\n",
       "        vertical-align: middle;\n",
       "    }\n",
       "\n",
       "    .dataframe tbody tr th {\n",
       "        vertical-align: top;\n",
       "    }\n",
       "\n",
       "    .dataframe thead th {\n",
       "        text-align: right;\n",
       "    }\n",
       "</style>\n",
       "<table border=\"1\" class=\"dataframe\">\n",
       "  <thead>\n",
       "    <tr style=\"text-align: right;\">\n",
       "      <th></th>\n",
       "      <th>name</th>\n",
       "      <th>gender</th>\n",
       "      <th>affiliation</th>\n",
       "    </tr>\n",
       "    <tr>\n",
       "      <th>id</th>\n",
       "      <th></th>\n",
       "      <th></th>\n",
       "      <th></th>\n",
       "    </tr>\n",
       "  </thead>\n",
       "  <tbody>\n",
       "    <tr>\n",
       "      <th>1001</th>\n",
       "      <td>petter</td>\n",
       "      <td>M</td>\n",
       "      <td>HK</td>\n",
       "    </tr>\n",
       "    <tr>\n",
       "      <th>1002</th>\n",
       "      <td>yuner</td>\n",
       "      <td>F</td>\n",
       "      <td>HKBU</td>\n",
       "    </tr>\n",
       "    <tr>\n",
       "      <th>1003</th>\n",
       "      <td>benjamin</td>\n",
       "      <td>M</td>\n",
       "      <td>CityU</td>\n",
       "    </tr>\n",
       "  </tbody>\n",
       "</table>\n",
       "</div>"
      ],
      "text/plain": [
       "          name gender affiliation\n",
       "id                               \n",
       "1001    petter      M          HK\n",
       "1002     yuner      F        HKBU\n",
       "1003  benjamin      M       CityU"
      ]
     },
     "execution_count": 35,
     "metadata": {},
     "output_type": "execute_result"
    }
   ],
   "source": [
    "a"
   ]
  },
  {
   "cell_type": "code",
   "execution_count": 36,
   "metadata": {},
   "outputs": [
    {
     "data": {
      "text/plain": [
       "name           petter\n",
       "gender              M\n",
       "affiliation        HK\n",
       "Name: 1001, dtype: object"
      ]
     },
     "execution_count": 36,
     "metadata": {},
     "output_type": "execute_result"
    }
   ],
   "source": [
    "#Retrieve values by index\n",
    "a.loc[1001]"
   ]
  },
  {
   "cell_type": "code",
   "execution_count": 40,
   "metadata": {},
   "outputs": [
    {
     "data": {
      "text/html": [
       "<div>\n",
       "<style scoped>\n",
       "    .dataframe tbody tr th:only-of-type {\n",
       "        vertical-align: middle;\n",
       "    }\n",
       "\n",
       "    .dataframe tbody tr th {\n",
       "        vertical-align: top;\n",
       "    }\n",
       "\n",
       "    .dataframe thead th {\n",
       "        text-align: right;\n",
       "    }\n",
       "</style>\n",
       "<table border=\"1\" class=\"dataframe\">\n",
       "  <thead>\n",
       "    <tr style=\"text-align: right;\">\n",
       "      <th></th>\n",
       "      <th>name</th>\n",
       "      <th>gender</th>\n",
       "      <th>affiliation</th>\n",
       "    </tr>\n",
       "    <tr>\n",
       "      <th>id</th>\n",
       "      <th></th>\n",
       "      <th></th>\n",
       "      <th></th>\n",
       "    </tr>\n",
       "  </thead>\n",
       "  <tbody>\n",
       "    <tr>\n",
       "      <th>1001</th>\n",
       "      <td>petter</td>\n",
       "      <td>M</td>\n",
       "      <td>HK</td>\n",
       "    </tr>\n",
       "    <tr>\n",
       "      <th>1002</th>\n",
       "      <td>yuner</td>\n",
       "      <td>F</td>\n",
       "      <td>HKBU</td>\n",
       "    </tr>\n",
       "    <tr>\n",
       "      <th>1003</th>\n",
       "      <td>benjamin</td>\n",
       "      <td>M</td>\n",
       "      <td>CityU</td>\n",
       "    </tr>\n",
       "  </tbody>\n",
       "</table>\n",
       "</div>"
      ],
      "text/plain": [
       "          name gender affiliation\n",
       "id                               \n",
       "1001    petter      M          HK\n",
       "1002     yuner      F        HKBU\n",
       "1003  benjamin      M       CityU"
      ]
     },
     "execution_count": 40,
     "metadata": {},
     "output_type": "execute_result"
    }
   ],
   "source": [
    "#Slice dataframe by index\n",
    "a.loc[1001:1003]"
   ]
  },
  {
   "cell_type": "code",
   "execution_count": 41,
   "metadata": {},
   "outputs": [
    {
     "data": {
      "text/plain": [
       "name           petter\n",
       "gender              M\n",
       "affiliation        HK\n",
       "Name: 1001, dtype: object"
      ]
     },
     "execution_count": 41,
     "metadata": {},
     "output_type": "execute_result"
    }
   ],
   "source": [
    "#Retrieve values by relative location\n",
    "a.iloc[0]"
   ]
  },
  {
   "cell_type": "code",
   "execution_count": 42,
   "metadata": {},
   "outputs": [
    {
     "data": {
      "text/html": [
       "<div>\n",
       "<style scoped>\n",
       "    .dataframe tbody tr th:only-of-type {\n",
       "        vertical-align: middle;\n",
       "    }\n",
       "\n",
       "    .dataframe tbody tr th {\n",
       "        vertical-align: top;\n",
       "    }\n",
       "\n",
       "    .dataframe thead th {\n",
       "        text-align: right;\n",
       "    }\n",
       "</style>\n",
       "<table border=\"1\" class=\"dataframe\">\n",
       "  <thead>\n",
       "    <tr style=\"text-align: right;\">\n",
       "      <th></th>\n",
       "      <th>name</th>\n",
       "      <th>gender</th>\n",
       "      <th>affiliation</th>\n",
       "    </tr>\n",
       "    <tr>\n",
       "      <th>id</th>\n",
       "      <th></th>\n",
       "      <th></th>\n",
       "      <th></th>\n",
       "    </tr>\n",
       "  </thead>\n",
       "  <tbody>\n",
       "    <tr>\n",
       "      <th>1001</th>\n",
       "      <td>petter</td>\n",
       "      <td>M</td>\n",
       "      <td>HK</td>\n",
       "    </tr>\n",
       "    <tr>\n",
       "      <th>1002</th>\n",
       "      <td>yuner</td>\n",
       "      <td>F</td>\n",
       "      <td>HKBU</td>\n",
       "    </tr>\n",
       "    <tr>\n",
       "      <th>1003</th>\n",
       "      <td>benjamin</td>\n",
       "      <td>M</td>\n",
       "      <td>CityU</td>\n",
       "    </tr>\n",
       "  </tbody>\n",
       "</table>\n",
       "</div>"
      ],
      "text/plain": [
       "          name gender affiliation\n",
       "id                               \n",
       "1001    petter      M          HK\n",
       "1002     yuner      F        HKBU\n",
       "1003  benjamin      M       CityU"
      ]
     },
     "execution_count": 42,
     "metadata": {},
     "output_type": "execute_result"
    }
   ],
   "source": [
    "#Slice dataframe by relative location\n",
    "a.iloc[:3]"
   ]
  },
  {
   "cell_type": "code",
   "execution_count": 43,
   "metadata": {},
   "outputs": [
    {
     "data": {
      "text/plain": [
       "id\n",
       "1001      petter\n",
       "1002       yuner\n",
       "1003    benjamin\n",
       "Name: name, dtype: object"
      ]
     },
     "execution_count": 43,
     "metadata": {},
     "output_type": "execute_result"
    }
   ],
   "source": [
    "#Access a single column/series\n",
    "a['name']"
   ]
  },
  {
   "cell_type": "code",
   "execution_count": 44,
   "metadata": {},
   "outputs": [
    {
     "data": {
      "text/html": [
       "<div>\n",
       "<style scoped>\n",
       "    .dataframe tbody tr th:only-of-type {\n",
       "        vertical-align: middle;\n",
       "    }\n",
       "\n",
       "    .dataframe tbody tr th {\n",
       "        vertical-align: top;\n",
       "    }\n",
       "\n",
       "    .dataframe thead th {\n",
       "        text-align: right;\n",
       "    }\n",
       "</style>\n",
       "<table border=\"1\" class=\"dataframe\">\n",
       "  <thead>\n",
       "    <tr style=\"text-align: right;\">\n",
       "      <th></th>\n",
       "      <th>name</th>\n",
       "      <th>gender</th>\n",
       "    </tr>\n",
       "    <tr>\n",
       "      <th>id</th>\n",
       "      <th></th>\n",
       "      <th></th>\n",
       "    </tr>\n",
       "  </thead>\n",
       "  <tbody>\n",
       "    <tr>\n",
       "      <th>1001</th>\n",
       "      <td>petter</td>\n",
       "      <td>M</td>\n",
       "    </tr>\n",
       "    <tr>\n",
       "      <th>1002</th>\n",
       "      <td>yuner</td>\n",
       "      <td>F</td>\n",
       "    </tr>\n",
       "    <tr>\n",
       "      <th>1003</th>\n",
       "      <td>benjamin</td>\n",
       "      <td>M</td>\n",
       "    </tr>\n",
       "  </tbody>\n",
       "</table>\n",
       "</div>"
      ],
      "text/plain": [
       "          name gender\n",
       "id                   \n",
       "1001    petter      M\n",
       "1002     yuner      F\n",
       "1003  benjamin      M"
      ]
     },
     "execution_count": 44,
     "metadata": {},
     "output_type": "execute_result"
    }
   ],
   "source": [
    "#Access two columns/series\n",
    "a[['name','gender']]"
   ]
  },
  {
   "cell_type": "code",
   "execution_count": 45,
   "metadata": {},
   "outputs": [
    {
     "data": {
      "text/plain": [
       "id\n",
       "1001     True\n",
       "1002    False\n",
       "1003     True\n",
       "Name: gender, dtype: bool"
      ]
     },
     "execution_count": 45,
     "metadata": {},
     "output_type": "execute_result"
    }
   ],
   "source": [
    "#Value comparison\n",
    "a['gender']=='M'"
   ]
  },
  {
   "cell_type": "code",
   "execution_count": 46,
   "metadata": {},
   "outputs": [
    {
     "data": {
      "text/html": [
       "<div>\n",
       "<style scoped>\n",
       "    .dataframe tbody tr th:only-of-type {\n",
       "        vertical-align: middle;\n",
       "    }\n",
       "\n",
       "    .dataframe tbody tr th {\n",
       "        vertical-align: top;\n",
       "    }\n",
       "\n",
       "    .dataframe thead th {\n",
       "        text-align: right;\n",
       "    }\n",
       "</style>\n",
       "<table border=\"1\" class=\"dataframe\">\n",
       "  <thead>\n",
       "    <tr style=\"text-align: right;\">\n",
       "      <th></th>\n",
       "      <th>name</th>\n",
       "      <th>gender</th>\n",
       "      <th>affiliation</th>\n",
       "    </tr>\n",
       "    <tr>\n",
       "      <th>id</th>\n",
       "      <th></th>\n",
       "      <th></th>\n",
       "      <th></th>\n",
       "    </tr>\n",
       "  </thead>\n",
       "  <tbody>\n",
       "    <tr>\n",
       "      <th>1001</th>\n",
       "      <td>petter</td>\n",
       "      <td>M</td>\n",
       "      <td>HK</td>\n",
       "    </tr>\n",
       "    <tr>\n",
       "      <th>1003</th>\n",
       "      <td>benjamin</td>\n",
       "      <td>M</td>\n",
       "      <td>CityU</td>\n",
       "    </tr>\n",
       "  </tbody>\n",
       "</table>\n",
       "</div>"
      ],
      "text/plain": [
       "          name gender affiliation\n",
       "id                               \n",
       "1001    petter      M          HK\n",
       "1003  benjamin      M       CityU"
      ]
     },
     "execution_count": 46,
     "metadata": {},
     "output_type": "execute_result"
    }
   ],
   "source": [
    "a[a['gender']=='M']"
   ]
  },
  {
   "cell_type": "code",
   "execution_count": null,
   "metadata": {},
   "outputs": [],
   "source": [
    "#filter dataframe based on value comparison results\n",
    "a[a['gender']=='M']"
   ]
  },
  {
   "cell_type": "markdown",
   "metadata": {},
   "source": [
    "Download the data here: https://juniorworld.github.io/python-workshop/doc/COMM_journals.csv"
   ]
  },
  {
   "cell_type": "code",
   "execution_count": 56,
   "metadata": {},
   "outputs": [],
   "source": [
    "#2: Easy way\n",
    "#format: pd.read_csv(file path [, header=..., index_col=...])\n",
    "b=pd.read_csv('COMM_journals.csv',header=0,index_col=0)"
   ]
  },
  {
   "cell_type": "code",
   "execution_count": 57,
   "metadata": {},
   "outputs": [
    {
     "data": {
      "text/html": [
       "<div>\n",
       "<style scoped>\n",
       "    .dataframe tbody tr th:only-of-type {\n",
       "        vertical-align: middle;\n",
       "    }\n",
       "\n",
       "    .dataframe tbody tr th {\n",
       "        vertical-align: top;\n",
       "    }\n",
       "\n",
       "    .dataframe thead th {\n",
       "        text-align: right;\n",
       "    }\n",
       "</style>\n",
       "<table border=\"1\" class=\"dataframe\">\n",
       "  <thead>\n",
       "    <tr style=\"text-align: right;\">\n",
       "      <th></th>\n",
       "      <th>Full Journal Title</th>\n",
       "      <th>JCR Abbreviated Title</th>\n",
       "      <th>Total Cites</th>\n",
       "      <th>Journal Impact Factor</th>\n",
       "      <th>Citable Items</th>\n",
       "      <th>Eigenfactor Score</th>\n",
       "    </tr>\n",
       "    <tr>\n",
       "      <th>Rank</th>\n",
       "      <th></th>\n",
       "      <th></th>\n",
       "      <th></th>\n",
       "      <th></th>\n",
       "      <th></th>\n",
       "      <th></th>\n",
       "    </tr>\n",
       "  </thead>\n",
       "  <tbody>\n",
       "    <tr>\n",
       "      <th>1</th>\n",
       "      <td>NEW MEDIA &amp; SOCIETY</td>\n",
       "      <td>NEW MEDIA SOC</td>\n",
       "      <td>3,592</td>\n",
       "      <td>4.180</td>\n",
       "      <td>146</td>\n",
       "      <td>0.00930</td>\n",
       "    </tr>\n",
       "    <tr>\n",
       "      <th>2</th>\n",
       "      <td>JOURNAL OF COMMUNICATION</td>\n",
       "      <td>J COMMUN</td>\n",
       "      <td>5,579</td>\n",
       "      <td>3.914</td>\n",
       "      <td>48</td>\n",
       "      <td>0.00838</td>\n",
       "    </tr>\n",
       "    <tr>\n",
       "      <th>3</th>\n",
       "      <td>JOURNAL OF HEALTH COMMUNICATION</td>\n",
       "      <td>J HEALTH COMMUN</td>\n",
       "      <td>3,233</td>\n",
       "      <td>1.614</td>\n",
       "      <td>139</td>\n",
       "      <td>0.00707</td>\n",
       "    </tr>\n",
       "    <tr>\n",
       "      <th>4</th>\n",
       "      <td>Information Communication &amp; Society</td>\n",
       "      <td>INFORM COMMUN SOC</td>\n",
       "      <td>2,005</td>\n",
       "      <td>2.692</td>\n",
       "      <td>94</td>\n",
       "      <td>0.00600</td>\n",
       "    </tr>\n",
       "    <tr>\n",
       "      <th>5</th>\n",
       "      <td>PUBLIC OPINION QUARTERLY</td>\n",
       "      <td>PUBLIC OPIN QUART</td>\n",
       "      <td>4,893</td>\n",
       "      <td>1.386</td>\n",
       "      <td>41</td>\n",
       "      <td>0.00596</td>\n",
       "    </tr>\n",
       "    <tr>\n",
       "      <th>...</th>\n",
       "      <td>...</td>\n",
       "      <td>...</td>\n",
       "      <td>...</td>\n",
       "      <td>...</td>\n",
       "      <td>...</td>\n",
       "      <td>...</td>\n",
       "    </tr>\n",
       "    <tr>\n",
       "      <th>75</th>\n",
       "      <td>JOURNAL OF BUSINESS AND TECHNICAL COMMUNICATION</td>\n",
       "      <td>J BUS TECH COMMUN</td>\n",
       "      <td>243</td>\n",
       "      <td>1.062</td>\n",
       "      <td>15</td>\n",
       "      <td>0.00026</td>\n",
       "    </tr>\n",
       "    <tr>\n",
       "      <th>76</th>\n",
       "      <td>Journal of African Media Studies</td>\n",
       "      <td>J AFR MEDIA STUD</td>\n",
       "      <td>66</td>\n",
       "      <td>0.154</td>\n",
       "      <td>22</td>\n",
       "      <td>0.00018</td>\n",
       "    </tr>\n",
       "    <tr>\n",
       "      <th>77</th>\n",
       "      <td>JOURNAL OF MEDIA ECONOMICS</td>\n",
       "      <td>J MEDIA ECON</td>\n",
       "      <td>187</td>\n",
       "      <td>0.217</td>\n",
       "      <td>12</td>\n",
       "      <td>0.00017</td>\n",
       "    </tr>\n",
       "    <tr>\n",
       "      <th>78</th>\n",
       "      <td>Tijdschrift voor Communicatiewetenschap</td>\n",
       "      <td>TIJDSCHR COMMUNWET</td>\n",
       "      <td>42</td>\n",
       "      <td>0.171</td>\n",
       "      <td>17</td>\n",
       "      <td>0.00007</td>\n",
       "    </tr>\n",
       "    <tr>\n",
       "      <th>79</th>\n",
       "      <td>African Journalism Studies</td>\n",
       "      <td>AFR JOURNAL STUD</td>\n",
       "      <td>12</td>\n",
       "      <td>0.171</td>\n",
       "      <td>27</td>\n",
       "      <td>0.00002</td>\n",
       "    </tr>\n",
       "  </tbody>\n",
       "</table>\n",
       "<p>79 rows × 6 columns</p>\n",
       "</div>"
      ],
      "text/plain": [
       "                                   Full Journal Title JCR Abbreviated Title  \\\n",
       "Rank                                                                          \n",
       "1                                 NEW MEDIA & SOCIETY         NEW MEDIA SOC   \n",
       "2                            JOURNAL OF COMMUNICATION              J COMMUN   \n",
       "3                     JOURNAL OF HEALTH COMMUNICATION       J HEALTH COMMUN   \n",
       "4                 Information Communication & Society     INFORM COMMUN SOC   \n",
       "5                            PUBLIC OPINION QUARTERLY     PUBLIC OPIN QUART   \n",
       "...                                               ...                   ...   \n",
       "75    JOURNAL OF BUSINESS AND TECHNICAL COMMUNICATION     J BUS TECH COMMUN   \n",
       "76                   Journal of African Media Studies      J AFR MEDIA STUD   \n",
       "77                         JOURNAL OF MEDIA ECONOMICS          J MEDIA ECON   \n",
       "78            Tijdschrift voor Communicatiewetenschap    TIJDSCHR COMMUNWET   \n",
       "79                         African Journalism Studies      AFR JOURNAL STUD   \n",
       "\n",
       "     Total Cites  Journal Impact Factor  Citable Items  Eigenfactor Score  \n",
       "Rank                                                                       \n",
       "1          3,592                  4.180            146            0.00930  \n",
       "2          5,579                  3.914             48            0.00838  \n",
       "3          3,233                  1.614            139            0.00707  \n",
       "4          2,005                  2.692             94            0.00600  \n",
       "5          4,893                  1.386             41            0.00596  \n",
       "...          ...                    ...            ...                ...  \n",
       "75           243                  1.062             15            0.00026  \n",
       "76            66                  0.154             22            0.00018  \n",
       "77           187                  0.217             12            0.00017  \n",
       "78            42                  0.171             17            0.00007  \n",
       "79            12                  0.171             27            0.00002  \n",
       "\n",
       "[79 rows x 6 columns]"
      ]
     },
     "execution_count": 57,
     "metadata": {},
     "output_type": "execute_result"
    }
   ],
   "source": [
    "b"
   ]
  },
  {
   "cell_type": "code",
   "execution_count": 49,
   "metadata": {},
   "outputs": [],
   "source": [
    "b=pd.read_csv('https://juniorworld.github.io/python-workshop/doc/COMM_journals.csv',header=0,index_col=0)"
   ]
  },
  {
   "cell_type": "code",
   "execution_count": 50,
   "metadata": {},
   "outputs": [
    {
     "data": {
      "text/html": [
       "<div>\n",
       "<style scoped>\n",
       "    .dataframe tbody tr th:only-of-type {\n",
       "        vertical-align: middle;\n",
       "    }\n",
       "\n",
       "    .dataframe tbody tr th {\n",
       "        vertical-align: top;\n",
       "    }\n",
       "\n",
       "    .dataframe thead th {\n",
       "        text-align: right;\n",
       "    }\n",
       "</style>\n",
       "<table border=\"1\" class=\"dataframe\">\n",
       "  <thead>\n",
       "    <tr style=\"text-align: right;\">\n",
       "      <th></th>\n",
       "      <th>Full Journal Title</th>\n",
       "      <th>JCR Abbreviated Title</th>\n",
       "      <th>Total Cites</th>\n",
       "      <th>Journal Impact Factor</th>\n",
       "      <th>Citable Items</th>\n",
       "      <th>Eigenfactor Score</th>\n",
       "    </tr>\n",
       "    <tr>\n",
       "      <th>Rank</th>\n",
       "      <th></th>\n",
       "      <th></th>\n",
       "      <th></th>\n",
       "      <th></th>\n",
       "      <th></th>\n",
       "      <th></th>\n",
       "    </tr>\n",
       "  </thead>\n",
       "  <tbody>\n",
       "    <tr>\n",
       "      <th>1</th>\n",
       "      <td>NEW MEDIA &amp; SOCIETY</td>\n",
       "      <td>NEW MEDIA SOC</td>\n",
       "      <td>3,592</td>\n",
       "      <td>4.180</td>\n",
       "      <td>146</td>\n",
       "      <td>0.00930</td>\n",
       "    </tr>\n",
       "    <tr>\n",
       "      <th>2</th>\n",
       "      <td>JOURNAL OF COMMUNICATION</td>\n",
       "      <td>J COMMUN</td>\n",
       "      <td>5,579</td>\n",
       "      <td>3.914</td>\n",
       "      <td>48</td>\n",
       "      <td>0.00838</td>\n",
       "    </tr>\n",
       "    <tr>\n",
       "      <th>3</th>\n",
       "      <td>JOURNAL OF HEALTH COMMUNICATION</td>\n",
       "      <td>J HEALTH COMMUN</td>\n",
       "      <td>3,233</td>\n",
       "      <td>1.614</td>\n",
       "      <td>139</td>\n",
       "      <td>0.00707</td>\n",
       "    </tr>\n",
       "    <tr>\n",
       "      <th>4</th>\n",
       "      <td>Information Communication &amp; Society</td>\n",
       "      <td>INFORM COMMUN SOC</td>\n",
       "      <td>2,005</td>\n",
       "      <td>2.692</td>\n",
       "      <td>94</td>\n",
       "      <td>0.00600</td>\n",
       "    </tr>\n",
       "    <tr>\n",
       "      <th>5</th>\n",
       "      <td>PUBLIC OPINION QUARTERLY</td>\n",
       "      <td>PUBLIC OPIN QUART</td>\n",
       "      <td>4,893</td>\n",
       "      <td>1.386</td>\n",
       "      <td>41</td>\n",
       "      <td>0.00596</td>\n",
       "    </tr>\n",
       "    <tr>\n",
       "      <th>...</th>\n",
       "      <td>...</td>\n",
       "      <td>...</td>\n",
       "      <td>...</td>\n",
       "      <td>...</td>\n",
       "      <td>...</td>\n",
       "      <td>...</td>\n",
       "    </tr>\n",
       "    <tr>\n",
       "      <th>75</th>\n",
       "      <td>JOURNAL OF BUSINESS AND TECHNICAL COMMUNICATION</td>\n",
       "      <td>J BUS TECH COMMUN</td>\n",
       "      <td>243</td>\n",
       "      <td>1.062</td>\n",
       "      <td>15</td>\n",
       "      <td>0.00026</td>\n",
       "    </tr>\n",
       "    <tr>\n",
       "      <th>76</th>\n",
       "      <td>Journal of African Media Studies</td>\n",
       "      <td>J AFR MEDIA STUD</td>\n",
       "      <td>66</td>\n",
       "      <td>0.154</td>\n",
       "      <td>22</td>\n",
       "      <td>0.00018</td>\n",
       "    </tr>\n",
       "    <tr>\n",
       "      <th>77</th>\n",
       "      <td>JOURNAL OF MEDIA ECONOMICS</td>\n",
       "      <td>J MEDIA ECON</td>\n",
       "      <td>187</td>\n",
       "      <td>0.217</td>\n",
       "      <td>12</td>\n",
       "      <td>0.00017</td>\n",
       "    </tr>\n",
       "    <tr>\n",
       "      <th>78</th>\n",
       "      <td>Tijdschrift voor Communicatiewetenschap</td>\n",
       "      <td>TIJDSCHR COMMUNWET</td>\n",
       "      <td>42</td>\n",
       "      <td>0.171</td>\n",
       "      <td>17</td>\n",
       "      <td>0.00007</td>\n",
       "    </tr>\n",
       "    <tr>\n",
       "      <th>79</th>\n",
       "      <td>African Journalism Studies</td>\n",
       "      <td>AFR JOURNAL STUD</td>\n",
       "      <td>12</td>\n",
       "      <td>0.171</td>\n",
       "      <td>27</td>\n",
       "      <td>0.00002</td>\n",
       "    </tr>\n",
       "  </tbody>\n",
       "</table>\n",
       "<p>79 rows × 6 columns</p>\n",
       "</div>"
      ],
      "text/plain": [
       "                                   Full Journal Title JCR Abbreviated Title  \\\n",
       "Rank                                                                          \n",
       "1                                 NEW MEDIA & SOCIETY         NEW MEDIA SOC   \n",
       "2                            JOURNAL OF COMMUNICATION              J COMMUN   \n",
       "3                     JOURNAL OF HEALTH COMMUNICATION       J HEALTH COMMUN   \n",
       "4                 Information Communication & Society     INFORM COMMUN SOC   \n",
       "5                            PUBLIC OPINION QUARTERLY     PUBLIC OPIN QUART   \n",
       "...                                               ...                   ...   \n",
       "75    JOURNAL OF BUSINESS AND TECHNICAL COMMUNICATION     J BUS TECH COMMUN   \n",
       "76                   Journal of African Media Studies      J AFR MEDIA STUD   \n",
       "77                         JOURNAL OF MEDIA ECONOMICS          J MEDIA ECON   \n",
       "78            Tijdschrift voor Communicatiewetenschap    TIJDSCHR COMMUNWET   \n",
       "79                         African Journalism Studies      AFR JOURNAL STUD   \n",
       "\n",
       "     Total Cites  Journal Impact Factor  Citable Items  Eigenfactor Score  \n",
       "Rank                                                                       \n",
       "1          3,592                  4.180            146            0.00930  \n",
       "2          5,579                  3.914             48            0.00838  \n",
       "3          3,233                  1.614            139            0.00707  \n",
       "4          2,005                  2.692             94            0.00600  \n",
       "5          4,893                  1.386             41            0.00596  \n",
       "...          ...                    ...            ...                ...  \n",
       "75           243                  1.062             15            0.00026  \n",
       "76            66                  0.154             22            0.00018  \n",
       "77           187                  0.217             12            0.00017  \n",
       "78            42                  0.171             17            0.00007  \n",
       "79            12                  0.171             27            0.00002  \n",
       "\n",
       "[79 rows x 6 columns]"
      ]
     },
     "execution_count": 50,
     "metadata": {},
     "output_type": "execute_result"
    }
   ],
   "source": [
    "b"
   ]
  },
  {
   "cell_type": "code",
   "execution_count": 61,
   "metadata": {},
   "outputs": [
    {
     "data": {
      "text/html": [
       "<div>\n",
       "<style scoped>\n",
       "    .dataframe tbody tr th:only-of-type {\n",
       "        vertical-align: middle;\n",
       "    }\n",
       "\n",
       "    .dataframe tbody tr th {\n",
       "        vertical-align: top;\n",
       "    }\n",
       "\n",
       "    .dataframe thead th {\n",
       "        text-align: right;\n",
       "    }\n",
       "</style>\n",
       "<table border=\"1\" class=\"dataframe\">\n",
       "  <thead>\n",
       "    <tr style=\"text-align: right;\">\n",
       "      <th></th>\n",
       "      <th>Full Journal Title</th>\n",
       "      <th>JCR Abbreviated Title</th>\n",
       "      <th>Total Cites</th>\n",
       "      <th>Journal Impact Factor</th>\n",
       "      <th>Citable Items</th>\n",
       "      <th>Eigenfactor Score</th>\n",
       "    </tr>\n",
       "    <tr>\n",
       "      <th>Rank</th>\n",
       "      <th></th>\n",
       "      <th></th>\n",
       "      <th></th>\n",
       "      <th></th>\n",
       "      <th></th>\n",
       "      <th></th>\n",
       "    </tr>\n",
       "  </thead>\n",
       "  <tbody>\n",
       "    <tr>\n",
       "      <th>1</th>\n",
       "      <td>NEW MEDIA &amp; SOCIETY</td>\n",
       "      <td>NEW MEDIA SOC</td>\n",
       "      <td>3,592</td>\n",
       "      <td>4.180</td>\n",
       "      <td>146</td>\n",
       "      <td>0.00930</td>\n",
       "    </tr>\n",
       "    <tr>\n",
       "      <th>2</th>\n",
       "      <td>JOURNAL OF COMMUNICATION</td>\n",
       "      <td>J COMMUN</td>\n",
       "      <td>5,579</td>\n",
       "      <td>3.914</td>\n",
       "      <td>48</td>\n",
       "      <td>0.00838</td>\n",
       "    </tr>\n",
       "    <tr>\n",
       "      <th>3</th>\n",
       "      <td>JOURNAL OF HEALTH COMMUNICATION</td>\n",
       "      <td>J HEALTH COMMUN</td>\n",
       "      <td>3,233</td>\n",
       "      <td>1.614</td>\n",
       "      <td>139</td>\n",
       "      <td>0.00707</td>\n",
       "    </tr>\n",
       "    <tr>\n",
       "      <th>4</th>\n",
       "      <td>Information Communication &amp; Society</td>\n",
       "      <td>INFORM COMMUN SOC</td>\n",
       "      <td>2,005</td>\n",
       "      <td>2.692</td>\n",
       "      <td>94</td>\n",
       "      <td>0.00600</td>\n",
       "    </tr>\n",
       "    <tr>\n",
       "      <th>5</th>\n",
       "      <td>PUBLIC OPINION QUARTERLY</td>\n",
       "      <td>PUBLIC OPIN QUART</td>\n",
       "      <td>4,893</td>\n",
       "      <td>1.386</td>\n",
       "      <td>41</td>\n",
       "      <td>0.00596</td>\n",
       "    </tr>\n",
       "  </tbody>\n",
       "</table>\n",
       "</div>"
      ],
      "text/plain": [
       "                       Full Journal Title JCR Abbreviated Title Total Cites  \\\n",
       "Rank                                                                          \n",
       "1                     NEW MEDIA & SOCIETY         NEW MEDIA SOC       3,592   \n",
       "2                JOURNAL OF COMMUNICATION              J COMMUN       5,579   \n",
       "3         JOURNAL OF HEALTH COMMUNICATION       J HEALTH COMMUN       3,233   \n",
       "4     Information Communication & Society     INFORM COMMUN SOC       2,005   \n",
       "5                PUBLIC OPINION QUARTERLY     PUBLIC OPIN QUART       4,893   \n",
       "\n",
       "      Journal Impact Factor  Citable Items  Eigenfactor Score  \n",
       "Rank                                                           \n",
       "1                     4.180            146            0.00930  \n",
       "2                     3.914             48            0.00838  \n",
       "3                     1.614            139            0.00707  \n",
       "4                     2.692             94            0.00600  \n",
       "5                     1.386             41            0.00596  "
      ]
     },
     "execution_count": 61,
     "metadata": {},
     "output_type": "execute_result"
    }
   ],
   "source": [
    "b.head()"
   ]
  },
  {
   "cell_type": "code",
   "execution_count": 65,
   "metadata": {},
   "outputs": [
    {
     "data": {
      "text/html": [
       "<div>\n",
       "<style scoped>\n",
       "    .dataframe tbody tr th:only-of-type {\n",
       "        vertical-align: middle;\n",
       "    }\n",
       "\n",
       "    .dataframe tbody tr th {\n",
       "        vertical-align: top;\n",
       "    }\n",
       "\n",
       "    .dataframe thead th {\n",
       "        text-align: right;\n",
       "    }\n",
       "</style>\n",
       "<table border=\"1\" class=\"dataframe\">\n",
       "  <thead>\n",
       "    <tr style=\"text-align: right;\">\n",
       "      <th></th>\n",
       "      <th>Full Journal Title</th>\n",
       "      <th>JCR Abbreviated Title</th>\n",
       "      <th>Total Cites</th>\n",
       "      <th>Journal Impact Factor</th>\n",
       "      <th>Citable Items</th>\n",
       "      <th>Eigenfactor Score</th>\n",
       "    </tr>\n",
       "    <tr>\n",
       "      <th>Rank</th>\n",
       "      <th></th>\n",
       "      <th></th>\n",
       "      <th></th>\n",
       "      <th></th>\n",
       "      <th></th>\n",
       "      <th></th>\n",
       "    </tr>\n",
       "  </thead>\n",
       "  <tbody>\n",
       "    <tr>\n",
       "      <th>75</th>\n",
       "      <td>JOURNAL OF BUSINESS AND TECHNICAL COMMUNICATION</td>\n",
       "      <td>J BUS TECH COMMUN</td>\n",
       "      <td>243</td>\n",
       "      <td>1.062</td>\n",
       "      <td>15</td>\n",
       "      <td>0.00026</td>\n",
       "    </tr>\n",
       "    <tr>\n",
       "      <th>76</th>\n",
       "      <td>Journal of African Media Studies</td>\n",
       "      <td>J AFR MEDIA STUD</td>\n",
       "      <td>66</td>\n",
       "      <td>0.154</td>\n",
       "      <td>22</td>\n",
       "      <td>0.00018</td>\n",
       "    </tr>\n",
       "    <tr>\n",
       "      <th>77</th>\n",
       "      <td>JOURNAL OF MEDIA ECONOMICS</td>\n",
       "      <td>J MEDIA ECON</td>\n",
       "      <td>187</td>\n",
       "      <td>0.217</td>\n",
       "      <td>12</td>\n",
       "      <td>0.00017</td>\n",
       "    </tr>\n",
       "    <tr>\n",
       "      <th>78</th>\n",
       "      <td>Tijdschrift voor Communicatiewetenschap</td>\n",
       "      <td>TIJDSCHR COMMUNWET</td>\n",
       "      <td>42</td>\n",
       "      <td>0.171</td>\n",
       "      <td>17</td>\n",
       "      <td>0.00007</td>\n",
       "    </tr>\n",
       "    <tr>\n",
       "      <th>79</th>\n",
       "      <td>African Journalism Studies</td>\n",
       "      <td>AFR JOURNAL STUD</td>\n",
       "      <td>12</td>\n",
       "      <td>0.171</td>\n",
       "      <td>27</td>\n",
       "      <td>0.00002</td>\n",
       "    </tr>\n",
       "  </tbody>\n",
       "</table>\n",
       "</div>"
      ],
      "text/plain": [
       "                                   Full Journal Title JCR Abbreviated Title  \\\n",
       "Rank                                                                          \n",
       "75    JOURNAL OF BUSINESS AND TECHNICAL COMMUNICATION     J BUS TECH COMMUN   \n",
       "76                   Journal of African Media Studies      J AFR MEDIA STUD   \n",
       "77                         JOURNAL OF MEDIA ECONOMICS          J MEDIA ECON   \n",
       "78            Tijdschrift voor Communicatiewetenschap    TIJDSCHR COMMUNWET   \n",
       "79                         African Journalism Studies      AFR JOURNAL STUD   \n",
       "\n",
       "     Total Cites  Journal Impact Factor  Citable Items  Eigenfactor Score  \n",
       "Rank                                                                       \n",
       "75           243                  1.062             15            0.00026  \n",
       "76            66                  0.154             22            0.00018  \n",
       "77           187                  0.217             12            0.00017  \n",
       "78            42                  0.171             17            0.00007  \n",
       "79            12                  0.171             27            0.00002  "
      ]
     },
     "execution_count": 65,
     "metadata": {},
     "output_type": "execute_result"
    }
   ],
   "source": [
    "b.tail()"
   ]
  },
  {
   "cell_type": "markdown",
   "metadata": {},
   "source": [
    "Differences in Format/Synatx:\n",
    "\n",
    "- format of method: object.method_name(), e.g. L.sort(), L.remove(1)\n",
    "- format of function: function_name(), e.g. max(L), min(L)\n",
    "- format of attribute: object.attribute_name, e.g. b.shape, b.index, b.columns"
   ]
  },
  {
   "cell_type": "code",
   "execution_count": 66,
   "metadata": {},
   "outputs": [
    {
     "data": {
      "text/plain": [
       "(79, 6)"
      ]
     },
     "execution_count": 66,
     "metadata": {},
     "output_type": "execute_result"
    }
   ],
   "source": [
    "#check the dimensions of the dataframe with .shape attribute\n",
    "b.shape"
   ]
  },
  {
   "cell_type": "code",
   "execution_count": 69,
   "metadata": {},
   "outputs": [
    {
     "name": "stdout",
     "output_type": "stream",
     "text": [
      "0.154\n",
      "4.18\n",
      "0    0.171\n",
      "1    0.448\n",
      "2    0.689\n",
      "3    1.311\n",
      "Name: Journal Impact Factor, dtype: float64\n",
      "1.128\n",
      "105.665\n",
      "0.8180902778318728\n",
      "0.9044834314855484\n"
     ]
    }
   ],
   "source": [
    "#min, max, mode, median, sum, var, std of Journal Impact Factor\n",
    "print(b['Journal Impact Factor'].min())\n",
    "print(b['Journal Impact Factor'].max())\n",
    "print(b['Journal Impact Factor'].mode())\n",
    "print(b['Journal Impact Factor'].median())\n",
    "print(b['Journal Impact Factor'].sum())\n",
    "print(b['Journal Impact Factor'].var())\n",
    "print(b['Journal Impact Factor'].std())"
   ]
  },
  {
   "cell_type": "markdown",
   "metadata": {},
   "source": [
    "<div class=\"alert alert-block alert-success\">\n",
    "\n",
    "We can use methods:\n",
    "- `Dataframe.sort_values(column_name[, ascending=True])` to sort dataframe by a column\n",
    "- `Series.value_counts([normalize=False])`\n",
    "- `Dataframe.pivot_table(index=column1, [column=column2,] values=column3, aggfunc=function_name)` to generate aggregate cross-tabulation about the dataframe\n",
    "    - A combination of splitting dataframe, applying some function, and combining results</div>"
   ]
  },
  {
   "cell_type": "code",
   "execution_count": 70,
   "metadata": {
    "scrolled": true
   },
   "outputs": [
    {
     "data": {
      "text/html": [
       "<div>\n",
       "<style scoped>\n",
       "    .dataframe tbody tr th:only-of-type {\n",
       "        vertical-align: middle;\n",
       "    }\n",
       "\n",
       "    .dataframe tbody tr th {\n",
       "        vertical-align: top;\n",
       "    }\n",
       "\n",
       "    .dataframe thead th {\n",
       "        text-align: right;\n",
       "    }\n",
       "</style>\n",
       "<table border=\"1\" class=\"dataframe\">\n",
       "  <thead>\n",
       "    <tr style=\"text-align: right;\">\n",
       "      <th></th>\n",
       "      <th>Full Journal Title</th>\n",
       "      <th>JCR Abbreviated Title</th>\n",
       "      <th>Total Cites</th>\n",
       "      <th>Journal Impact Factor</th>\n",
       "      <th>Citable Items</th>\n",
       "      <th>Eigenfactor Score</th>\n",
       "    </tr>\n",
       "    <tr>\n",
       "      <th>Rank</th>\n",
       "      <th></th>\n",
       "      <th></th>\n",
       "      <th></th>\n",
       "      <th></th>\n",
       "      <th></th>\n",
       "      <th></th>\n",
       "    </tr>\n",
       "  </thead>\n",
       "  <tbody>\n",
       "    <tr>\n",
       "      <th>76</th>\n",
       "      <td>Journal of African Media Studies</td>\n",
       "      <td>J AFR MEDIA STUD</td>\n",
       "      <td>66</td>\n",
       "      <td>0.154</td>\n",
       "      <td>22</td>\n",
       "      <td>0.00018</td>\n",
       "    </tr>\n",
       "    <tr>\n",
       "      <th>79</th>\n",
       "      <td>African Journalism Studies</td>\n",
       "      <td>AFR JOURNAL STUD</td>\n",
       "      <td>12</td>\n",
       "      <td>0.171</td>\n",
       "      <td>27</td>\n",
       "      <td>0.00002</td>\n",
       "    </tr>\n",
       "    <tr>\n",
       "      <th>78</th>\n",
       "      <td>Tijdschrift voor Communicatiewetenschap</td>\n",
       "      <td>TIJDSCHR COMMUNWET</td>\n",
       "      <td>42</td>\n",
       "      <td>0.171</td>\n",
       "      <td>17</td>\n",
       "      <td>0.00007</td>\n",
       "    </tr>\n",
       "    <tr>\n",
       "      <th>77</th>\n",
       "      <td>JOURNAL OF MEDIA ECONOMICS</td>\n",
       "      <td>J MEDIA ECON</td>\n",
       "      <td>187</td>\n",
       "      <td>0.217</td>\n",
       "      <td>12</td>\n",
       "      <td>0.00017</td>\n",
       "    </tr>\n",
       "    <tr>\n",
       "      <th>50</th>\n",
       "      <td>JOURNAL OF APPLIED COMMUNICATION RESEARCH</td>\n",
       "      <td>J APPL COMMUN RES</td>\n",
       "      <td>692</td>\n",
       "      <td>0.308</td>\n",
       "      <td>27</td>\n",
       "      <td>0.00072</td>\n",
       "    </tr>\n",
       "    <tr>\n",
       "      <th>...</th>\n",
       "      <td>...</td>\n",
       "      <td>...</td>\n",
       "      <td>...</td>\n",
       "      <td>...</td>\n",
       "      <td>...</td>\n",
       "      <td>...</td>\n",
       "    </tr>\n",
       "    <tr>\n",
       "      <th>8</th>\n",
       "      <td>COMMUNICATION RESEARCH</td>\n",
       "      <td>COMMUN RES</td>\n",
       "      <td>3,459</td>\n",
       "      <td>3.021</td>\n",
       "      <td>45</td>\n",
       "      <td>0.00440</td>\n",
       "    </tr>\n",
       "    <tr>\n",
       "      <th>31</th>\n",
       "      <td>MEDIA PSYCHOLOGY</td>\n",
       "      <td>MEDIA PSYCHOL</td>\n",
       "      <td>1,264</td>\n",
       "      <td>3.125</td>\n",
       "      <td>26</td>\n",
       "      <td>0.00144</td>\n",
       "    </tr>\n",
       "    <tr>\n",
       "      <th>2</th>\n",
       "      <td>JOURNAL OF COMMUNICATION</td>\n",
       "      <td>J COMMUN</td>\n",
       "      <td>5,579</td>\n",
       "      <td>3.914</td>\n",
       "      <td>48</td>\n",
       "      <td>0.00838</td>\n",
       "    </tr>\n",
       "    <tr>\n",
       "      <th>7</th>\n",
       "      <td>Journal of Computer-Mediated Communication</td>\n",
       "      <td>J COMPUT-MEDIAT COMM</td>\n",
       "      <td>4,011</td>\n",
       "      <td>4.113</td>\n",
       "      <td>27</td>\n",
       "      <td>0.00500</td>\n",
       "    </tr>\n",
       "    <tr>\n",
       "      <th>1</th>\n",
       "      <td>NEW MEDIA &amp; SOCIETY</td>\n",
       "      <td>NEW MEDIA SOC</td>\n",
       "      <td>3,592</td>\n",
       "      <td>4.180</td>\n",
       "      <td>146</td>\n",
       "      <td>0.00930</td>\n",
       "    </tr>\n",
       "  </tbody>\n",
       "</table>\n",
       "<p>79 rows × 6 columns</p>\n",
       "</div>"
      ],
      "text/plain": [
       "                              Full Journal Title JCR Abbreviated Title  \\\n",
       "Rank                                                                     \n",
       "76              Journal of African Media Studies      J AFR MEDIA STUD   \n",
       "79                    African Journalism Studies      AFR JOURNAL STUD   \n",
       "78       Tijdschrift voor Communicatiewetenschap    TIJDSCHR COMMUNWET   \n",
       "77                    JOURNAL OF MEDIA ECONOMICS          J MEDIA ECON   \n",
       "50     JOURNAL OF APPLIED COMMUNICATION RESEARCH     J APPL COMMUN RES   \n",
       "...                                          ...                   ...   \n",
       "8                         COMMUNICATION RESEARCH            COMMUN RES   \n",
       "31                              MEDIA PSYCHOLOGY         MEDIA PSYCHOL   \n",
       "2                       JOURNAL OF COMMUNICATION              J COMMUN   \n",
       "7     Journal of Computer-Mediated Communication  J COMPUT-MEDIAT COMM   \n",
       "1                            NEW MEDIA & SOCIETY         NEW MEDIA SOC   \n",
       "\n",
       "     Total Cites  Journal Impact Factor  Citable Items  Eigenfactor Score  \n",
       "Rank                                                                       \n",
       "76            66                  0.154             22            0.00018  \n",
       "79            12                  0.171             27            0.00002  \n",
       "78            42                  0.171             17            0.00007  \n",
       "77           187                  0.217             12            0.00017  \n",
       "50           692                  0.308             27            0.00072  \n",
       "...          ...                    ...            ...                ...  \n",
       "8          3,459                  3.021             45            0.00440  \n",
       "31         1,264                  3.125             26            0.00144  \n",
       "2          5,579                  3.914             48            0.00838  \n",
       "7          4,011                  4.113             27            0.00500  \n",
       "1          3,592                  4.180            146            0.00930  \n",
       "\n",
       "[79 rows x 6 columns]"
      ]
     },
     "execution_count": 70,
     "metadata": {},
     "output_type": "execute_result"
    }
   ],
   "source": [
    "b.sort_values('Journal Impact Factor')"
   ]
  },
  {
   "cell_type": "code",
   "execution_count": 71,
   "metadata": {
    "scrolled": true
   },
   "outputs": [
    {
     "data": {
      "text/html": [
       "<div>\n",
       "<style scoped>\n",
       "    .dataframe tbody tr th:only-of-type {\n",
       "        vertical-align: middle;\n",
       "    }\n",
       "\n",
       "    .dataframe tbody tr th {\n",
       "        vertical-align: top;\n",
       "    }\n",
       "\n",
       "    .dataframe thead th {\n",
       "        text-align: right;\n",
       "    }\n",
       "</style>\n",
       "<table border=\"1\" class=\"dataframe\">\n",
       "  <thead>\n",
       "    <tr style=\"text-align: right;\">\n",
       "      <th></th>\n",
       "      <th>Full Journal Title</th>\n",
       "      <th>JCR Abbreviated Title</th>\n",
       "      <th>Total Cites</th>\n",
       "      <th>Journal Impact Factor</th>\n",
       "      <th>Citable Items</th>\n",
       "      <th>Eigenfactor Score</th>\n",
       "    </tr>\n",
       "    <tr>\n",
       "      <th>Rank</th>\n",
       "      <th></th>\n",
       "      <th></th>\n",
       "      <th></th>\n",
       "      <th></th>\n",
       "      <th></th>\n",
       "      <th></th>\n",
       "    </tr>\n",
       "  </thead>\n",
       "  <tbody>\n",
       "    <tr>\n",
       "      <th>1</th>\n",
       "      <td>NEW MEDIA &amp; SOCIETY</td>\n",
       "      <td>NEW MEDIA SOC</td>\n",
       "      <td>3,592</td>\n",
       "      <td>4.180</td>\n",
       "      <td>146</td>\n",
       "      <td>0.00930</td>\n",
       "    </tr>\n",
       "    <tr>\n",
       "      <th>7</th>\n",
       "      <td>Journal of Computer-Mediated Communication</td>\n",
       "      <td>J COMPUT-MEDIAT COMM</td>\n",
       "      <td>4,011</td>\n",
       "      <td>4.113</td>\n",
       "      <td>27</td>\n",
       "      <td>0.00500</td>\n",
       "    </tr>\n",
       "    <tr>\n",
       "      <th>2</th>\n",
       "      <td>JOURNAL OF COMMUNICATION</td>\n",
       "      <td>J COMMUN</td>\n",
       "      <td>5,579</td>\n",
       "      <td>3.914</td>\n",
       "      <td>48</td>\n",
       "      <td>0.00838</td>\n",
       "    </tr>\n",
       "    <tr>\n",
       "      <th>31</th>\n",
       "      <td>MEDIA PSYCHOLOGY</td>\n",
       "      <td>MEDIA PSYCHOL</td>\n",
       "      <td>1,264</td>\n",
       "      <td>3.125</td>\n",
       "      <td>26</td>\n",
       "      <td>0.00144</td>\n",
       "    </tr>\n",
       "    <tr>\n",
       "      <th>8</th>\n",
       "      <td>COMMUNICATION RESEARCH</td>\n",
       "      <td>COMMUN RES</td>\n",
       "      <td>3,459</td>\n",
       "      <td>3.021</td>\n",
       "      <td>45</td>\n",
       "      <td>0.00440</td>\n",
       "    </tr>\n",
       "    <tr>\n",
       "      <th>...</th>\n",
       "      <td>...</td>\n",
       "      <td>...</td>\n",
       "      <td>...</td>\n",
       "      <td>...</td>\n",
       "      <td>...</td>\n",
       "      <td>...</td>\n",
       "    </tr>\n",
       "    <tr>\n",
       "      <th>50</th>\n",
       "      <td>JOURNAL OF APPLIED COMMUNICATION RESEARCH</td>\n",
       "      <td>J APPL COMMUN RES</td>\n",
       "      <td>692</td>\n",
       "      <td>0.308</td>\n",
       "      <td>27</td>\n",
       "      <td>0.00072</td>\n",
       "    </tr>\n",
       "    <tr>\n",
       "      <th>77</th>\n",
       "      <td>JOURNAL OF MEDIA ECONOMICS</td>\n",
       "      <td>J MEDIA ECON</td>\n",
       "      <td>187</td>\n",
       "      <td>0.217</td>\n",
       "      <td>12</td>\n",
       "      <td>0.00017</td>\n",
       "    </tr>\n",
       "    <tr>\n",
       "      <th>78</th>\n",
       "      <td>Tijdschrift voor Communicatiewetenschap</td>\n",
       "      <td>TIJDSCHR COMMUNWET</td>\n",
       "      <td>42</td>\n",
       "      <td>0.171</td>\n",
       "      <td>17</td>\n",
       "      <td>0.00007</td>\n",
       "    </tr>\n",
       "    <tr>\n",
       "      <th>79</th>\n",
       "      <td>African Journalism Studies</td>\n",
       "      <td>AFR JOURNAL STUD</td>\n",
       "      <td>12</td>\n",
       "      <td>0.171</td>\n",
       "      <td>27</td>\n",
       "      <td>0.00002</td>\n",
       "    </tr>\n",
       "    <tr>\n",
       "      <th>76</th>\n",
       "      <td>Journal of African Media Studies</td>\n",
       "      <td>J AFR MEDIA STUD</td>\n",
       "      <td>66</td>\n",
       "      <td>0.154</td>\n",
       "      <td>22</td>\n",
       "      <td>0.00018</td>\n",
       "    </tr>\n",
       "  </tbody>\n",
       "</table>\n",
       "<p>79 rows × 6 columns</p>\n",
       "</div>"
      ],
      "text/plain": [
       "                              Full Journal Title JCR Abbreviated Title  \\\n",
       "Rank                                                                     \n",
       "1                            NEW MEDIA & SOCIETY         NEW MEDIA SOC   \n",
       "7     Journal of Computer-Mediated Communication  J COMPUT-MEDIAT COMM   \n",
       "2                       JOURNAL OF COMMUNICATION              J COMMUN   \n",
       "31                              MEDIA PSYCHOLOGY         MEDIA PSYCHOL   \n",
       "8                         COMMUNICATION RESEARCH            COMMUN RES   \n",
       "...                                          ...                   ...   \n",
       "50     JOURNAL OF APPLIED COMMUNICATION RESEARCH     J APPL COMMUN RES   \n",
       "77                    JOURNAL OF MEDIA ECONOMICS          J MEDIA ECON   \n",
       "78       Tijdschrift voor Communicatiewetenschap    TIJDSCHR COMMUNWET   \n",
       "79                    African Journalism Studies      AFR JOURNAL STUD   \n",
       "76              Journal of African Media Studies      J AFR MEDIA STUD   \n",
       "\n",
       "     Total Cites  Journal Impact Factor  Citable Items  Eigenfactor Score  \n",
       "Rank                                                                       \n",
       "1          3,592                  4.180            146            0.00930  \n",
       "7          4,011                  4.113             27            0.00500  \n",
       "2          5,579                  3.914             48            0.00838  \n",
       "31         1,264                  3.125             26            0.00144  \n",
       "8          3,459                  3.021             45            0.00440  \n",
       "...          ...                    ...            ...                ...  \n",
       "50           692                  0.308             27            0.00072  \n",
       "77           187                  0.217             12            0.00017  \n",
       "78            42                  0.171             17            0.00007  \n",
       "79            12                  0.171             27            0.00002  \n",
       "76            66                  0.154             22            0.00018  \n",
       "\n",
       "[79 rows x 6 columns]"
      ]
     },
     "execution_count": 71,
     "metadata": {},
     "output_type": "execute_result"
    }
   ],
   "source": [
    "b.sort_values('Journal Impact Factor',ascending=False)"
   ]
  },
  {
   "cell_type": "code",
   "execution_count": 72,
   "metadata": {},
   "outputs": [],
   "source": [
    "#save Dataframe to a csv file\n",
    "b.to_csv(\"output_data.csv\")"
   ]
  },
  {
   "cell_type": "markdown",
   "metadata": {},
   "source": [
    "Download the stackoverflow developer survey data here: https://juniorworld.github.io/python-workshop/doc/stack-overflow-developer-survey-2022-first1000.csv"
   ]
  },
  {
   "cell_type": "code",
   "execution_count": 73,
   "metadata": {},
   "outputs": [],
   "source": [
    "#read survey data into dataframe c\n",
    "c = pd.read_csv(\"https://juniorworld.github.io/python-workshop/doc/stack-overflow-developer-survey-2022-first1000.csv\")"
   ]
  },
  {
   "cell_type": "code",
   "execution_count": 77,
   "metadata": {},
   "outputs": [],
   "source": [
    "c = pd.read_csv(\"stack-overflow-developer-survey-2022-first1000.csv\")"
   ]
  },
  {
   "cell_type": "code",
   "execution_count": 74,
   "metadata": {},
   "outputs": [
    {
     "data": {
      "text/html": [
       "<div>\n",
       "<style scoped>\n",
       "    .dataframe tbody tr th:only-of-type {\n",
       "        vertical-align: middle;\n",
       "    }\n",
       "\n",
       "    .dataframe tbody tr th {\n",
       "        vertical-align: top;\n",
       "    }\n",
       "\n",
       "    .dataframe thead th {\n",
       "        text-align: right;\n",
       "    }\n",
       "</style>\n",
       "<table border=\"1\" class=\"dataframe\">\n",
       "  <thead>\n",
       "    <tr style=\"text-align: right;\">\n",
       "      <th></th>\n",
       "      <th>ResponseId</th>\n",
       "      <th>MainBranch</th>\n",
       "      <th>Employment</th>\n",
       "      <th>RemoteWork</th>\n",
       "      <th>CodingActivities</th>\n",
       "      <th>EdLevel</th>\n",
       "      <th>LearnCode</th>\n",
       "      <th>LearnCodeOnline</th>\n",
       "      <th>LearnCodeCoursesCert</th>\n",
       "      <th>YearsCode</th>\n",
       "      <th>...</th>\n",
       "      <th>TimeSearching</th>\n",
       "      <th>TimeAnswering</th>\n",
       "      <th>Onboarding</th>\n",
       "      <th>ProfessionalTech</th>\n",
       "      <th>TrueFalse_1</th>\n",
       "      <th>TrueFalse_2</th>\n",
       "      <th>TrueFalse_3</th>\n",
       "      <th>SurveyLength</th>\n",
       "      <th>SurveyEase</th>\n",
       "      <th>ConvertedCompYearly</th>\n",
       "    </tr>\n",
       "  </thead>\n",
       "  <tbody>\n",
       "    <tr>\n",
       "      <th>0</th>\n",
       "      <td>2</td>\n",
       "      <td>I am a developer by profession</td>\n",
       "      <td>Employed, full-time</td>\n",
       "      <td>Fully remote</td>\n",
       "      <td>Hobby;Contribute to open-source projects</td>\n",
       "      <td>NaN</td>\n",
       "      <td>NaN</td>\n",
       "      <td>NaN</td>\n",
       "      <td>NaN</td>\n",
       "      <td>NaN</td>\n",
       "      <td>...</td>\n",
       "      <td>NaN</td>\n",
       "      <td>NaN</td>\n",
       "      <td>NaN</td>\n",
       "      <td>NaN</td>\n",
       "      <td>NaN</td>\n",
       "      <td>NaN</td>\n",
       "      <td>NaN</td>\n",
       "      <td>Too long</td>\n",
       "      <td>Difficult</td>\n",
       "      <td>NaN</td>\n",
       "    </tr>\n",
       "    <tr>\n",
       "      <th>1</th>\n",
       "      <td>3</td>\n",
       "      <td>I am not primarily a developer, but I write co...</td>\n",
       "      <td>Employed, full-time</td>\n",
       "      <td>Hybrid (some remote, some in-person)</td>\n",
       "      <td>Hobby</td>\n",
       "      <td>Master’s degree (M.A., M.S., M.Eng., MBA, etc.)</td>\n",
       "      <td>Books / Physical media;Friend or family member...</td>\n",
       "      <td>Technical documentation;Blogs;Programming Game...</td>\n",
       "      <td>NaN</td>\n",
       "      <td>14</td>\n",
       "      <td>...</td>\n",
       "      <td>NaN</td>\n",
       "      <td>NaN</td>\n",
       "      <td>NaN</td>\n",
       "      <td>NaN</td>\n",
       "      <td>NaN</td>\n",
       "      <td>NaN</td>\n",
       "      <td>NaN</td>\n",
       "      <td>Appropriate in length</td>\n",
       "      <td>Neither easy nor difficult</td>\n",
       "      <td>40205.0</td>\n",
       "    </tr>\n",
       "    <tr>\n",
       "      <th>2</th>\n",
       "      <td>4</td>\n",
       "      <td>I am a developer by profession</td>\n",
       "      <td>Employed, full-time</td>\n",
       "      <td>Fully remote</td>\n",
       "      <td>I don’t code outside of work</td>\n",
       "      <td>Bachelor’s degree (B.A., B.S., B.Eng., etc.)</td>\n",
       "      <td>Books / Physical media;School (i.e., Universit...</td>\n",
       "      <td>NaN</td>\n",
       "      <td>NaN</td>\n",
       "      <td>20</td>\n",
       "      <td>...</td>\n",
       "      <td>NaN</td>\n",
       "      <td>NaN</td>\n",
       "      <td>NaN</td>\n",
       "      <td>NaN</td>\n",
       "      <td>NaN</td>\n",
       "      <td>NaN</td>\n",
       "      <td>NaN</td>\n",
       "      <td>Appropriate in length</td>\n",
       "      <td>Easy</td>\n",
       "      <td>215232.0</td>\n",
       "    </tr>\n",
       "    <tr>\n",
       "      <th>3</th>\n",
       "      <td>5</td>\n",
       "      <td>I am a developer by profession</td>\n",
       "      <td>Employed, full-time</td>\n",
       "      <td>Hybrid (some remote, some in-person)</td>\n",
       "      <td>Hobby</td>\n",
       "      <td>Bachelor’s degree (B.A., B.S., B.Eng., etc.)</td>\n",
       "      <td>Other online resources (e.g., videos, blogs, f...</td>\n",
       "      <td>Technical documentation;Blogs;Stack Overflow;O...</td>\n",
       "      <td>NaN</td>\n",
       "      <td>8</td>\n",
       "      <td>...</td>\n",
       "      <td>NaN</td>\n",
       "      <td>NaN</td>\n",
       "      <td>NaN</td>\n",
       "      <td>NaN</td>\n",
       "      <td>NaN</td>\n",
       "      <td>NaN</td>\n",
       "      <td>NaN</td>\n",
       "      <td>Too long</td>\n",
       "      <td>Easy</td>\n",
       "      <td>NaN</td>\n",
       "    </tr>\n",
       "    <tr>\n",
       "      <th>4</th>\n",
       "      <td>6</td>\n",
       "      <td>I am not primarily a developer, but I write co...</td>\n",
       "      <td>Student, full-time</td>\n",
       "      <td>NaN</td>\n",
       "      <td>NaN</td>\n",
       "      <td>Master’s degree (M.A., M.S., M.Eng., MBA, etc.)</td>\n",
       "      <td>Books / Physical media;School (i.e., Universit...</td>\n",
       "      <td>NaN</td>\n",
       "      <td>NaN</td>\n",
       "      <td>15</td>\n",
       "      <td>...</td>\n",
       "      <td>NaN</td>\n",
       "      <td>NaN</td>\n",
       "      <td>NaN</td>\n",
       "      <td>NaN</td>\n",
       "      <td>NaN</td>\n",
       "      <td>NaN</td>\n",
       "      <td>NaN</td>\n",
       "      <td>Appropriate in length</td>\n",
       "      <td>Easy</td>\n",
       "      <td>NaN</td>\n",
       "    </tr>\n",
       "  </tbody>\n",
       "</table>\n",
       "<p>5 rows × 79 columns</p>\n",
       "</div>"
      ],
      "text/plain": [
       "   ResponseId                                         MainBranch  \\\n",
       "0           2                     I am a developer by profession   \n",
       "1           3  I am not primarily a developer, but I write co...   \n",
       "2           4                     I am a developer by profession   \n",
       "3           5                     I am a developer by profession   \n",
       "4           6  I am not primarily a developer, but I write co...   \n",
       "\n",
       "            Employment                            RemoteWork  \\\n",
       "0  Employed, full-time                          Fully remote   \n",
       "1  Employed, full-time  Hybrid (some remote, some in-person)   \n",
       "2  Employed, full-time                          Fully remote   \n",
       "3  Employed, full-time  Hybrid (some remote, some in-person)   \n",
       "4   Student, full-time                                   NaN   \n",
       "\n",
       "                           CodingActivities  \\\n",
       "0  Hobby;Contribute to open-source projects   \n",
       "1                                     Hobby   \n",
       "2              I don’t code outside of work   \n",
       "3                                     Hobby   \n",
       "4                                       NaN   \n",
       "\n",
       "                                           EdLevel  \\\n",
       "0                                              NaN   \n",
       "1  Master’s degree (M.A., M.S., M.Eng., MBA, etc.)   \n",
       "2     Bachelor’s degree (B.A., B.S., B.Eng., etc.)   \n",
       "3     Bachelor’s degree (B.A., B.S., B.Eng., etc.)   \n",
       "4  Master’s degree (M.A., M.S., M.Eng., MBA, etc.)   \n",
       "\n",
       "                                           LearnCode  \\\n",
       "0                                                NaN   \n",
       "1  Books / Physical media;Friend or family member...   \n",
       "2  Books / Physical media;School (i.e., Universit...   \n",
       "3  Other online resources (e.g., videos, blogs, f...   \n",
       "4  Books / Physical media;School (i.e., Universit...   \n",
       "\n",
       "                                     LearnCodeOnline LearnCodeCoursesCert  \\\n",
       "0                                                NaN                  NaN   \n",
       "1  Technical documentation;Blogs;Programming Game...                  NaN   \n",
       "2                                                NaN                  NaN   \n",
       "3  Technical documentation;Blogs;Stack Overflow;O...                  NaN   \n",
       "4                                                NaN                  NaN   \n",
       "\n",
       "  YearsCode  ... TimeSearching TimeAnswering Onboarding ProfessionalTech  \\\n",
       "0       NaN  ...           NaN           NaN        NaN              NaN   \n",
       "1        14  ...           NaN           NaN        NaN              NaN   \n",
       "2        20  ...           NaN           NaN        NaN              NaN   \n",
       "3         8  ...           NaN           NaN        NaN              NaN   \n",
       "4        15  ...           NaN           NaN        NaN              NaN   \n",
       "\n",
       "  TrueFalse_1 TrueFalse_2 TrueFalse_3           SurveyLength  \\\n",
       "0         NaN         NaN         NaN               Too long   \n",
       "1         NaN         NaN         NaN  Appropriate in length   \n",
       "2         NaN         NaN         NaN  Appropriate in length   \n",
       "3         NaN         NaN         NaN               Too long   \n",
       "4         NaN         NaN         NaN  Appropriate in length   \n",
       "\n",
       "                   SurveyEase ConvertedCompYearly  \n",
       "0                   Difficult                 NaN  \n",
       "1  Neither easy nor difficult             40205.0  \n",
       "2                        Easy            215232.0  \n",
       "3                        Easy                 NaN  \n",
       "4                        Easy                 NaN  \n",
       "\n",
       "[5 rows x 79 columns]"
      ]
     },
     "execution_count": 74,
     "metadata": {},
     "output_type": "execute_result"
    }
   ],
   "source": [
    "c.head()"
   ]
  },
  {
   "cell_type": "code",
   "execution_count": 75,
   "metadata": {},
   "outputs": [
    {
     "data": {
      "text/plain": [
       "Index(['ResponseId', 'MainBranch', 'Employment', 'RemoteWork',\n",
       "       'CodingActivities', 'EdLevel', 'LearnCode', 'LearnCodeOnline',\n",
       "       'LearnCodeCoursesCert', 'YearsCode', 'YearsCodePro', 'DevType',\n",
       "       'OrgSize', 'PurchaseInfluence', 'BuyNewTool', 'Country', 'Currency',\n",
       "       'CompTotal', 'CompFreq', 'LanguageHaveWorkedWith',\n",
       "       'LanguageWantToWorkWith', 'DatabaseHaveWorkedWith',\n",
       "       'DatabaseWantToWorkWith', 'PlatformHaveWorkedWith',\n",
       "       'PlatformWantToWorkWith', 'WebframeHaveWorkedWith',\n",
       "       'WebframeWantToWorkWith', 'MiscTechHaveWorkedWith',\n",
       "       'MiscTechWantToWorkWith', 'ToolsTechHaveWorkedWith',\n",
       "       'ToolsTechWantToWorkWith', 'NEWCollabToolsHaveWorkedWith',\n",
       "       'NEWCollabToolsWantToWorkWith', 'OpSysProfessional use',\n",
       "       'OpSysPersonal use', 'VersionControlSystem', 'VCInteraction',\n",
       "       'VCHostingPersonal use', 'VCHostingProfessional use',\n",
       "       'OfficeStackAsyncHaveWorkedWith', 'OfficeStackAsyncWantToWorkWith',\n",
       "       'OfficeStackSyncHaveWorkedWith', 'OfficeStackSyncWantToWorkWith',\n",
       "       'Blockchain', 'NEWSOSites', 'SOVisitFreq', 'SOAccount', 'SOPartFreq',\n",
       "       'SOComm', 'Age', 'Gender', 'Trans', 'Sexuality', 'Ethnicity',\n",
       "       'Accessibility', 'MentalHealth', 'TBranch', 'ICorPM', 'WorkExp',\n",
       "       'Knowledge_1', 'Knowledge_2', 'Knowledge_3', 'Knowledge_4',\n",
       "       'Knowledge_5', 'Knowledge_6', 'Knowledge_7', 'Frequency_1',\n",
       "       'Frequency_2', 'Frequency_3', 'TimeSearching', 'TimeAnswering',\n",
       "       'Onboarding', 'ProfessionalTech', 'TrueFalse_1', 'TrueFalse_2',\n",
       "       'TrueFalse_3', 'SurveyLength', 'SurveyEase', 'ConvertedCompYearly'],\n",
       "      dtype='object')"
      ]
     },
     "execution_count": 75,
     "metadata": {},
     "output_type": "execute_result"
    }
   ],
   "source": [
    "c.columns"
   ]
  },
  {
   "cell_type": "code",
   "execution_count": 76,
   "metadata": {},
   "outputs": [
    {
     "data": {
      "text/plain": [
       "(1000, 79)"
      ]
     },
     "execution_count": 76,
     "metadata": {},
     "output_type": "execute_result"
    }
   ],
   "source": [
    "c.shape"
   ]
  },
  {
   "cell_type": "code",
   "execution_count": 81,
   "metadata": {},
   "outputs": [
    {
     "data": {
      "text/plain": [
       "25-34 years old       417\n",
       "18-24 years old       236\n",
       "35-44 years old       196\n",
       "45-54 years old        60\n",
       "Under 18 years old     31\n",
       "55-64 years old        25\n",
       "65 years or older       7\n",
       "Prefer not to say       6\n",
       "Name: Age, dtype: int64"
      ]
     },
     "execution_count": 81,
     "metadata": {},
     "output_type": "execute_result"
    }
   ],
   "source": [
    "c['Age'].value_counts()"
   ]
  },
  {
   "cell_type": "code",
   "execution_count": 78,
   "metadata": {},
   "outputs": [
    {
     "data": {
      "text/plain": [
       "Man                                                                         884\n",
       "Woman                                                                        52\n",
       "Non-binary, genderqueer, or gender non-conforming                            15\n",
       "Prefer not to say                                                            14\n",
       "Man;Non-binary, genderqueer, or gender non-conforming                         3\n",
       "Woman;Non-binary, genderqueer, or gender non-conforming                       3\n",
       "Or, in your own words:                                                        2\n",
       "Or, in your own words:;Non-binary, genderqueer, or gender non-conforming      1\n",
       "Man;Woman                                                                     1\n",
       "Man;Or, in your own words:                                                    1\n",
       "Name: Gender, dtype: int64"
      ]
     },
     "execution_count": 78,
     "metadata": {},
     "output_type": "execute_result"
    }
   ],
   "source": [
    "#break down dataframe by Gender, EdLevel, and Age\n",
    "#.value_counts() & .value_counts(normalize=True)\n",
    "c['Gender'].value_counts()"
   ]
  },
  {
   "cell_type": "code",
   "execution_count": 79,
   "metadata": {},
   "outputs": [
    {
     "data": {
      "text/plain": [
       "Man                                                                         0.905738\n",
       "Woman                                                                       0.053279\n",
       "Non-binary, genderqueer, or gender non-conforming                           0.015369\n",
       "Prefer not to say                                                           0.014344\n",
       "Man;Non-binary, genderqueer, or gender non-conforming                       0.003074\n",
       "Woman;Non-binary, genderqueer, or gender non-conforming                     0.003074\n",
       "Or, in your own words:                                                      0.002049\n",
       "Or, in your own words:;Non-binary, genderqueer, or gender non-conforming    0.001025\n",
       "Man;Woman                                                                   0.001025\n",
       "Man;Or, in your own words:                                                  0.001025\n",
       "Name: Gender, dtype: float64"
      ]
     },
     "execution_count": 79,
     "metadata": {},
     "output_type": "execute_result"
    }
   ],
   "source": [
    "c['Gender'].value_counts(normalize=True)"
   ]
  },
  {
   "cell_type": "code",
   "execution_count": null,
   "metadata": {},
   "outputs": [],
   "source": [
    "#create a cross-tabulation between gender and ethnicity\n",
    ".pivot_table()"
   ]
  },
  {
   "cell_type": "markdown",
   "metadata": {},
   "source": [
    "## Quiz 1\n",
    "https://www.menti.com/alyoht9a49ac\n",
    "\n",
    "<img src=\"https://juniorworld.github.io/python-workshop/img/dictionary_QRcode.png\" width=\"200\" align=\"left\">"
   ]
  },
  {
   "cell_type": "markdown",
   "metadata": {},
   "source": [
    "# Break"
   ]
  },
  {
   "cell_type": "markdown",
   "metadata": {},
   "source": [
    "-----"
   ]
  },
  {
   "cell_type": "markdown",
   "metadata": {},
   "source": [
    "## Section 3: Built-in functions"
   ]
  },
  {
   "cell_type": "markdown",
   "metadata": {},
   "source": [
    "<strong> A. File I/O: </strong>\n",
    "- Use `open(path[,mode='r'])` function.\n",
    "    - Modes: read ('r') or write ('w') or both ('r+') or append ('a')\n",
    "- Input: `.readlines()` method will extract all content in the file as a list of strings. One paragraph, one string.\n",
    "- Output: `.write(string)` method write the given content to the file, from the beginning of file if mode '`w`' is used or from the bottom of file if mode '`a`' is used.\n",
    "- Save and Close File: `.close()` method\n",
    "- Tips: \n",
    "    - Add line break `\\n`\n",
    "    - Remove line break or whitespaces at the beginning or the end of a string: method `.strip()`\n",
    "    - Use slash `/` to denote directory"
   ]
  },
  {
   "cell_type": "code",
   "execution_count": 82,
   "metadata": {},
   "outputs": [],
   "source": [
    "# Create a new file named \"text.txt\" in the current folder\n",
    "file = open('text.txt','w')"
   ]
  },
  {
   "cell_type": "code",
   "execution_count": 83,
   "metadata": {},
   "outputs": [
    {
     "data": {
      "text/plain": [
       "9"
      ]
     },
     "execution_count": 83,
     "metadata": {},
     "output_type": "execute_result"
    }
   ],
   "source": [
    "#add three new lines, separated by line break mark \\n\n",
    "file.write(\"Hello world!\\n\")\n",
    "file.write(\"COMM 7780\\n\")\n",
    "file.write(\"Bye bye!\\n\")"
   ]
  },
  {
   "cell_type": "code",
   "execution_count": 84,
   "metadata": {},
   "outputs": [],
   "source": [
    "#close it\n",
    "file.close()"
   ]
  },
  {
   "cell_type": "code",
   "execution_count": 85,
   "metadata": {},
   "outputs": [],
   "source": [
    "# Create a child folder test\n",
    "# Create another file named \"text2.txt\" in the child folder\n",
    "file2 = open(\"./test/text2.txt\", \"w\")"
   ]
  },
  {
   "cell_type": "code",
   "execution_count": 86,
   "metadata": {},
   "outputs": [
    {
     "data": {
      "text/plain": [
       "11"
      ]
     },
     "execution_count": 86,
     "metadata": {},
     "output_type": "execute_result"
    }
   ],
   "source": [
    "file2.write(\"test2 file\\n\")"
   ]
  },
  {
   "cell_type": "code",
   "execution_count": 87,
   "metadata": {},
   "outputs": [],
   "source": [
    "file2.close()"
   ]
  },
  {
   "cell_type": "code",
   "execution_count": 88,
   "metadata": {},
   "outputs": [],
   "source": [
    "# Create a file named \"text3.txt\" in the parent folder\n",
    "file3 = open(\"../text3.txt\",'w')"
   ]
  },
  {
   "cell_type": "code",
   "execution_count": 89,
   "metadata": {},
   "outputs": [],
   "source": [
    "file3.close()"
   ]
  },
  {
   "cell_type": "code",
   "execution_count": null,
   "metadata": {},
   "outputs": [],
   "source": [
    "# grandparent folder?\n",
    "\"../../text3.txt\""
   ]
  },
  {
   "cell_type": "code",
   "execution_count": 94,
   "metadata": {},
   "outputs": [],
   "source": [
    "#Open text.txt file\n",
    "file = open('text.txt','r')"
   ]
  },
  {
   "cell_type": "code",
   "execution_count": 95,
   "metadata": {},
   "outputs": [],
   "source": [
    "#read the existing lines\n",
    "lines=file.readlines()"
   ]
  },
  {
   "cell_type": "code",
   "execution_count": 96,
   "metadata": {},
   "outputs": [
    {
     "data": {
      "text/plain": [
       "'Hello world!\\n'"
      ]
     },
     "execution_count": 96,
     "metadata": {},
     "output_type": "execute_result"
    }
   ],
   "source": [
    "#print out the first line\n",
    "lines[0]"
   ]
  },
  {
   "cell_type": "code",
   "execution_count": 111,
   "metadata": {},
   "outputs": [
    {
     "data": {
      "text/plain": [
       "13"
      ]
     },
     "execution_count": 111,
     "metadata": {},
     "output_type": "execute_result"
    }
   ],
   "source": [
    "#calculate the length (number of characters, including spaces) of first sentence\n",
    "len(lines[0])"
   ]
  },
  {
   "cell_type": "markdown",
   "metadata": {},
   "source": [
    "<strong> B. If/Else Statement </strong>\n",
    "- If/Else Statement is used to test whether a condition is True. If statement is always followed by a question, a comparison condition, a logical operator, which will give you a boolen value of True or False. If True, do something. If False, do something else. \n",
    "- Format: `if logical_condition1 :... (else: ...)`\n",
    "- Example:\n",
    ">```python\n",
    "if a==1:\n",
    "        print('yes') #Block A\n",
    "else:\n",
    "        print('no') #Block B```\n",
    "    >"
   ]
  },
  {
   "cell_type": "code",
   "execution_count": 102,
   "metadata": {},
   "outputs": [
    {
     "name": "stdout",
     "output_type": "stream",
     "text": [
      "Not Zero!\n",
      "No!\n",
      "Done!\n"
     ]
    }
   ],
   "source": [
    "x = 1\n",
    "if x==0:\n",
    "    print('ZERO!')\n",
    "    print('Yes!')\n",
    "else:\n",
    "    print('Not Zero!')\n",
    "    print('No!')\n",
    "print('Done!')"
   ]
  },
  {
   "cell_type": "code",
   "execution_count": 104,
   "metadata": {},
   "outputs": [
    {
     "name": "stdout",
     "output_type": "stream",
     "text": [
      "Not ZERO nor ONE!\n",
      "Done!\n"
     ]
    }
   ],
   "source": [
    "x = 2\n",
    "if x==0:\n",
    "    print('ZERO!')\n",
    "    print('Yes!')\n",
    "elif x==1:\n",
    "    print('ONE!')\n",
    "    print('No!')\n",
    "else:\n",
    "    print(\"Not ZERO nor ONE!\")\n",
    "print('Done!')"
   ]
  },
  {
   "cell_type": "markdown",
   "metadata": {},
   "source": [
    "<div class=\"alert alert-block alert-success\">\n",
    "    **<b>Extra Knowledge</b>** <font style='color:red;font-weight:bold;'>If/Else</font> statement can be upgraded into a <font style='color:red;font-weight:bold;'>If/Elif/Else</font> statement. <font style='color:red;font-weight:bold;'>Elif = Else + If</font>\n",
    "</div>"
   ]
  },
  {
   "cell_type": "markdown",
   "metadata": {},
   "source": [
    "#### Practice: Realization of Decision Tree\n",
    "<img src='https://juniorworld.github.io/python-workshop/img/week2-decision-tree2.png' width=\"200\" align='left'>"
   ]
  },
  {
   "cell_type": "code",
   "execution_count": 105,
   "metadata": {},
   "outputs": [
    {
     "name": "stdout",
     "output_type": "stream",
     "text": [
      "Smaller\n"
     ]
    }
   ],
   "source": [
    "#Use If/Elif/Else statement to realize this decision tree\n",
    "x = 5\n",
    "if x<10:\n",
    "    print(\"Smaller\")\n",
    "elif x>20:\n",
    "    print(\"Bigger\")\n",
    "else:\n",
    "    print(\"Finish\")"
   ]
  },
  {
   "cell_type": "markdown",
   "metadata": {},
   "source": [
    "<img src='img/week2-decision-tree.jpg' width='400' align='left'>"
   ]
  },
  {
   "cell_type": "code",
   "execution_count": 110,
   "metadata": {},
   "outputs": [
    {
     "name": "stdout",
     "output_type": "stream",
     "text": [
      "Schedule Appointment\n"
     ]
    }
   ],
   "source": [
    "#Demonstration\n",
    "#Use If/Elif/Else statement to allocate a patient with records as below:\n",
    "a={'new patient':False,'unpaid bill':False}\n",
    "\n",
    "if a['new patient']==True:\n",
    "    print('Perform process 2: Add new patient')\n",
    "elif a['unpaid bill']==True:\n",
    "    print(\"Transfer the patient to business office\")\n",
    "else:\n",
    "    print(\"Schedule Appointment\")"
   ]
  }
 ],
 "metadata": {
  "kernelspec": {
   "display_name": "Python 3 (ipykernel)",
   "language": "python",
   "name": "python3"
  },
  "language_info": {
   "codemirror_mode": {
    "name": "ipython",
    "version": 3
   },
   "file_extension": ".py",
   "mimetype": "text/x-python",
   "name": "python",
   "nbconvert_exporter": "python",
   "pygments_lexer": "ipython3",
   "version": "3.10.9"
  },
  "widgets": {
   "application/vnd.jupyter.widget-state+json": {
    "state": {
     "080e2c47f8ad43f8af72a4742cf1e138": {
      "model_module": "@jupyter-widgets/controls",
      "model_module_version": "1.4.0",
      "model_name": "CheckboxModel",
      "state": {
       "description": "float -> integer",
       "disabled": false,
       "layout": "IPY_MODEL_d1bb9617ca9a469293c3d7872e048cf5",
       "style": "IPY_MODEL_46b4655aef3d497f97d962708c65df33",
       "value": false
      }
     },
     "09ce660d36034e27a17d579f4c9f9ab7": {
      "model_module": "@jupyter-widgets/base",
      "model_module_version": "1.1.0",
      "model_name": "LayoutModel",
      "state": {}
     },
     "0fc283fcb76f4be3a960745eed2085fa": {
      "model_module": "@jupyter-widgets/base",
      "model_module_version": "1.1.0",
      "model_name": "LayoutModel",
      "state": {}
     },
     "0fe58378d42648d0b73ff0f6454e0057": {
      "model_module": "@jupyter-widgets/base",
      "model_module_version": "1.1.0",
      "model_name": "LayoutModel",
      "state": {}
     },
     "12f31b4141844a6ea96726c39acc5e30": {
      "model_module": "@jupyter-widgets/controls",
      "model_module_version": "1.4.0",
      "model_name": "CheckboxModel",
      "state": {
       "description": "list -> boolean",
       "disabled": false,
       "layout": "IPY_MODEL_78ab52ea991743b590e8322cb50a6f7c",
       "style": "IPY_MODEL_f73a070b6b814a358c1e6a2c1b5176d3",
       "value": false
      }
     },
     "1b2c6cab5f134194b9263db4b76a30f9": {
      "model_module": "@jupyter-widgets/controls",
      "model_module_version": "1.4.0",
      "model_name": "CheckboxModel",
      "state": {
       "description": "string -> list",
       "disabled": false,
       "layout": "IPY_MODEL_dc3500e672b441f184cb66c9164f46c5",
       "style": "IPY_MODEL_3dbcc07594dc4af69db3bd8ed0488aab",
       "value": false
      }
     },
     "2402d123a94a4e88a71a9241817b4ddd": {
      "model_module": "@jupyter-widgets/controls",
      "model_module_version": "1.4.0",
      "model_name": "CheckboxModel",
      "state": {
       "description": "list -> integer",
       "disabled": false,
       "layout": "IPY_MODEL_588e4cdc3f85445587c599183cef6b82",
       "style": "IPY_MODEL_48f6441a930a4442b8a9774607eb2607",
       "value": false
      }
     },
     "263851430804425ba4c9912992ba392e": {
      "model_module": "@jupyter-widgets/controls",
      "model_module_version": "1.4.0",
      "model_name": "VBoxModel",
      "state": {
       "children": [
        "IPY_MODEL_331a9e88e84d4657901d770b98811c89",
        "IPY_MODEL_dd3cd9d0b4da42e38851025c52c016d7",
        "IPY_MODEL_c7f9522104d044b2865c5b5ace3b5838",
        "IPY_MODEL_1b2c6cab5f134194b9263db4b76a30f9"
       ],
       "layout": "IPY_MODEL_f95f5547e73b4ebebb45141e029cd7fa"
      }
     },
     "2d169e7d0d824f619d6fe9134201dc49": {
      "model_module": "@jupyter-widgets/controls",
      "model_module_version": "1.4.0",
      "model_name": "DescriptionStyleModel",
      "state": {
       "description_width": ""
      }
     },
     "2e47d0304aa142c68ae79ce9af1e5de0": {
      "model_module": "@jupyter-widgets/controls",
      "model_module_version": "1.4.0",
      "model_name": "CheckboxModel",
      "state": {
       "description": "integer -> string",
       "disabled": false,
       "layout": "IPY_MODEL_d2a31aff6ca44e299e4d3b3e0a688e0e",
       "style": "IPY_MODEL_86e22148b4ea403a9965d15f61ed7773",
       "value": false
      }
     },
     "2e65245b455242068b5d5e5121a66778": {
      "model_module": "@jupyter-widgets/controls",
      "model_module_version": "1.4.0",
      "model_name": "DescriptionStyleModel",
      "state": {
       "description_width": ""
      }
     },
     "31896adee2084ee8a38b6c7dca0bd78e": {
      "model_module": "@jupyter-widgets/controls",
      "model_module_version": "1.4.0",
      "model_name": "DescriptionStyleModel",
      "state": {
       "description_width": ""
      }
     },
     "32e66f8a5302444d9741b0b052a23fa7": {
      "model_module": "@jupyter-widgets/base",
      "model_module_version": "1.1.0",
      "model_name": "LayoutModel",
      "state": {}
     },
     "331a9e88e84d4657901d770b98811c89": {
      "model_module": "@jupyter-widgets/controls",
      "model_module_version": "1.4.0",
      "model_name": "CheckboxModel",
      "state": {
       "description": "string -> integer",
       "disabled": false,
       "layout": "IPY_MODEL_8b1fad754fa14059b682ca11c1469f8f",
       "style": "IPY_MODEL_a6eebb365fae434bba48e3fb56f3797d",
       "value": false
      }
     },
     "33c5cdcf55fb4721a57a50c2a5b5598a": {
      "model_module": "@jupyter-widgets/base",
      "model_module_version": "1.1.0",
      "model_name": "LayoutModel",
      "state": {}
     },
     "3730c393db284068afb44c0336c9fe69": {
      "model_module": "@jupyter-widgets/controls",
      "model_module_version": "1.4.0",
      "model_name": "CheckboxModel",
      "state": {
       "description": "boolean -> float",
       "disabled": false,
       "layout": "IPY_MODEL_33c5cdcf55fb4721a57a50c2a5b5598a",
       "style": "IPY_MODEL_8ac5c8abd45b45468472270c97163281",
       "value": false
      }
     },
     "3bcbe7f5655b48ec8a0e11a971305e5b": {
      "model_module": "@jupyter-widgets/controls",
      "model_module_version": "1.4.0",
      "model_name": "CheckboxModel",
      "state": {
       "description": "float -> list",
       "disabled": false,
       "layout": "IPY_MODEL_d0a3786bf784405d8a3b1d62fff9d4df",
       "style": "IPY_MODEL_eb9e207aef45431d979929a70d6dcdfe",
       "value": false
      }
     },
     "3dbcc07594dc4af69db3bd8ed0488aab": {
      "model_module": "@jupyter-widgets/controls",
      "model_module_version": "1.4.0",
      "model_name": "DescriptionStyleModel",
      "state": {
       "description_width": ""
      }
     },
     "4639370494564980a83c25276bf1c525": {
      "model_module": "@jupyter-widgets/controls",
      "model_module_version": "1.4.0",
      "model_name": "VBoxModel",
      "state": {
       "children": [
        "IPY_MODEL_78281b8599ef48e0ad7504242d9ec655",
        "IPY_MODEL_3730c393db284068afb44c0336c9fe69",
        "IPY_MODEL_dd92bb017b4a443cb4a32e6e96346ad6",
        "IPY_MODEL_d440a7f911d04b60a5ea23a47cac51d5",
        "IPY_MODEL_2402d123a94a4e88a71a9241817b4ddd",
        "IPY_MODEL_4756cdff64d0476eb778792ceafed665",
        "IPY_MODEL_12f31b4141844a6ea96726c39acc5e30",
        "IPY_MODEL_95012cc5cabb42c7b78294c683a57edb"
       ],
       "layout": "IPY_MODEL_ea32c50591e04ef984c8538179c8750b"
      }
     },
     "46b4655aef3d497f97d962708c65df33": {
      "model_module": "@jupyter-widgets/controls",
      "model_module_version": "1.4.0",
      "model_name": "DescriptionStyleModel",
      "state": {
       "description_width": ""
      }
     },
     "4756cdff64d0476eb778792ceafed665": {
      "model_module": "@jupyter-widgets/controls",
      "model_module_version": "1.4.0",
      "model_name": "CheckboxModel",
      "state": {
       "description": "list -> float",
       "disabled": false,
       "layout": "IPY_MODEL_781854e64bce447ea5646b2a2d37a21e",
       "style": "IPY_MODEL_63b666b6466f49a787ce5b4f04ecf795",
       "value": false
      }
     },
     "48f237b0a5e843a286d0c2061a771cda": {
      "model_module": "@jupyter-widgets/base",
      "model_module_version": "1.1.0",
      "model_name": "LayoutModel",
      "state": {}
     },
     "48f6441a930a4442b8a9774607eb2607": {
      "model_module": "@jupyter-widgets/controls",
      "model_module_version": "1.4.0",
      "model_name": "DescriptionStyleModel",
      "state": {
       "description_width": ""
      }
     },
     "524e0a435d7e4ead92056561e3013788": {
      "model_module": "@jupyter-widgets/controls",
      "model_module_version": "1.4.0",
      "model_name": "DescriptionStyleModel",
      "state": {
       "description_width": ""
      }
     },
     "563a591ca8f449e1a238a611497977a4": {
      "model_module": "@jupyter-widgets/controls",
      "model_module_version": "1.4.0",
      "model_name": "HBoxModel",
      "state": {
       "children": [
        "IPY_MODEL_aadb0e9a766b4ff88e2c66572d38a37d",
        "IPY_MODEL_4639370494564980a83c25276bf1c525",
        "IPY_MODEL_263851430804425ba4c9912992ba392e"
       ],
       "layout": "IPY_MODEL_5c3803e3ce814277b676f43f4079bc38"
      }
     },
     "588e4cdc3f85445587c599183cef6b82": {
      "model_module": "@jupyter-widgets/base",
      "model_module_version": "1.1.0",
      "model_name": "LayoutModel",
      "state": {}
     },
     "5c3803e3ce814277b676f43f4079bc38": {
      "model_module": "@jupyter-widgets/base",
      "model_module_version": "1.1.0",
      "model_name": "LayoutModel",
      "state": {}
     },
     "63b666b6466f49a787ce5b4f04ecf795": {
      "model_module": "@jupyter-widgets/controls",
      "model_module_version": "1.4.0",
      "model_name": "DescriptionStyleModel",
      "state": {
       "description_width": ""
      }
     },
     "781854e64bce447ea5646b2a2d37a21e": {
      "model_module": "@jupyter-widgets/base",
      "model_module_version": "1.1.0",
      "model_name": "LayoutModel",
      "state": {}
     },
     "78281b8599ef48e0ad7504242d9ec655": {
      "model_module": "@jupyter-widgets/controls",
      "model_module_version": "1.4.0",
      "model_name": "CheckboxModel",
      "state": {
       "description": "boolean -> integer",
       "disabled": false,
       "layout": "IPY_MODEL_a06e54ff34914ffcbfae071fb4de80ed",
       "style": "IPY_MODEL_524e0a435d7e4ead92056561e3013788",
       "value": false
      }
     },
     "78ab52ea991743b590e8322cb50a6f7c": {
      "model_module": "@jupyter-widgets/base",
      "model_module_version": "1.1.0",
      "model_name": "LayoutModel",
      "state": {}
     },
     "86e22148b4ea403a9965d15f61ed7773": {
      "model_module": "@jupyter-widgets/controls",
      "model_module_version": "1.4.0",
      "model_name": "DescriptionStyleModel",
      "state": {
       "description_width": ""
      }
     },
     "888434c979f04e12aac8f2646c93369f": {
      "model_module": "@jupyter-widgets/controls",
      "model_module_version": "1.4.0",
      "model_name": "DescriptionStyleModel",
      "state": {
       "description_width": ""
      }
     },
     "8ac5c8abd45b45468472270c97163281": {
      "model_module": "@jupyter-widgets/controls",
      "model_module_version": "1.4.0",
      "model_name": "DescriptionStyleModel",
      "state": {
       "description_width": ""
      }
     },
     "8b1fad754fa14059b682ca11c1469f8f": {
      "model_module": "@jupyter-widgets/base",
      "model_module_version": "1.1.0",
      "model_name": "LayoutModel",
      "state": {}
     },
     "911eb96c40f744bfa93164cdc9cac0f5": {
      "model_module": "@jupyter-widgets/controls",
      "model_module_version": "1.4.0",
      "model_name": "DescriptionStyleModel",
      "state": {
       "description_width": ""
      }
     },
     "95012cc5cabb42c7b78294c683a57edb": {
      "model_module": "@jupyter-widgets/controls",
      "model_module_version": "1.4.0",
      "model_name": "CheckboxModel",
      "state": {
       "description": "list -> string",
       "disabled": false,
       "layout": "IPY_MODEL_0fc283fcb76f4be3a960745eed2085fa",
       "style": "IPY_MODEL_feb0b4e84a17424ea6790a8a6dbd7139",
       "value": false
      }
     },
     "980b04576b014e998b763b98e353141f": {
      "model_module": "@jupyter-widgets/controls",
      "model_module_version": "1.4.0",
      "model_name": "DescriptionStyleModel",
      "state": {
       "description_width": ""
      }
     },
     "9b9fd7a1d0174c0d9843763e900aab5a": {
      "model_module": "@jupyter-widgets/controls",
      "model_module_version": "1.4.0",
      "model_name": "DescriptionStyleModel",
      "state": {
       "description_width": ""
      }
     },
     "a06e54ff34914ffcbfae071fb4de80ed": {
      "model_module": "@jupyter-widgets/base",
      "model_module_version": "1.1.0",
      "model_name": "LayoutModel",
      "state": {}
     },
     "a6eebb365fae434bba48e3fb56f3797d": {
      "model_module": "@jupyter-widgets/controls",
      "model_module_version": "1.4.0",
      "model_name": "DescriptionStyleModel",
      "state": {
       "description_width": ""
      }
     },
     "a7caa6bc99b64fe485c43f75cea49f4b": {
      "model_module": "@jupyter-widgets/controls",
      "model_module_version": "1.4.0",
      "model_name": "CheckboxModel",
      "state": {
       "description": "integer -> list",
       "disabled": false,
       "layout": "IPY_MODEL_0fe58378d42648d0b73ff0f6454e0057",
       "style": "IPY_MODEL_911eb96c40f744bfa93164cdc9cac0f5",
       "value": false
      }
     },
     "aa34f9124dce4f2981ccdc41cfd2026b": {
      "model_module": "@jupyter-widgets/base",
      "model_module_version": "1.1.0",
      "model_name": "LayoutModel",
      "state": {}
     },
     "aadb0e9a766b4ff88e2c66572d38a37d": {
      "model_module": "@jupyter-widgets/controls",
      "model_module_version": "1.4.0",
      "model_name": "VBoxModel",
      "state": {
       "children": [
        "IPY_MODEL_ee2a141c799e4ab1ae864b4984b1992e",
        "IPY_MODEL_e6ac8cb0bd5c429d8b97840b0dae2523",
        "IPY_MODEL_a7caa6bc99b64fe485c43f75cea49f4b",
        "IPY_MODEL_2e47d0304aa142c68ae79ce9af1e5de0",
        "IPY_MODEL_080e2c47f8ad43f8af72a4742cf1e138",
        "IPY_MODEL_f6ff3964100241c19ac10dd537866b65",
        "IPY_MODEL_3bcbe7f5655b48ec8a0e11a971305e5b",
        "IPY_MODEL_b973e671a4fc4741bec46c7a4fc6801d"
       ],
       "layout": "IPY_MODEL_e4d0940ebbde4afea334bc5a50d58b77"
      }
     },
     "b973e671a4fc4741bec46c7a4fc6801d": {
      "model_module": "@jupyter-widgets/controls",
      "model_module_version": "1.4.0",
      "model_name": "CheckboxModel",
      "state": {
       "description": "float -> string",
       "disabled": false,
       "layout": "IPY_MODEL_e1517a5ece41466c962bd97efd23f41d",
       "style": "IPY_MODEL_d96e918c59714edca31e188fbdba400f",
       "value": false
      }
     },
     "c7f9522104d044b2865c5b5ace3b5838": {
      "model_module": "@jupyter-widgets/controls",
      "model_module_version": "1.4.0",
      "model_name": "CheckboxModel",
      "state": {
       "description": "string -> boolean",
       "disabled": false,
       "layout": "IPY_MODEL_48f237b0a5e843a286d0c2061a771cda",
       "style": "IPY_MODEL_2e65245b455242068b5d5e5121a66778",
       "value": false
      }
     },
     "ce97ddd4384242d7b4f4d8973f3d934d": {
      "model_module": "@jupyter-widgets/base",
      "model_module_version": "1.1.0",
      "model_name": "LayoutModel",
      "state": {}
     },
     "d0a3786bf784405d8a3b1d62fff9d4df": {
      "model_module": "@jupyter-widgets/base",
      "model_module_version": "1.1.0",
      "model_name": "LayoutModel",
      "state": {}
     },
     "d1bb9617ca9a469293c3d7872e048cf5": {
      "model_module": "@jupyter-widgets/base",
      "model_module_version": "1.1.0",
      "model_name": "LayoutModel",
      "state": {}
     },
     "d2a31aff6ca44e299e4d3b3e0a688e0e": {
      "model_module": "@jupyter-widgets/base",
      "model_module_version": "1.1.0",
      "model_name": "LayoutModel",
      "state": {}
     },
     "d440a7f911d04b60a5ea23a47cac51d5": {
      "model_module": "@jupyter-widgets/controls",
      "model_module_version": "1.4.0",
      "model_name": "CheckboxModel",
      "state": {
       "description": "boolean -> string",
       "disabled": false,
       "layout": "IPY_MODEL_d5598195117f439d8eed0dd556a546c3",
       "style": "IPY_MODEL_31896adee2084ee8a38b6c7dca0bd78e",
       "value": false
      }
     },
     "d5598195117f439d8eed0dd556a546c3": {
      "model_module": "@jupyter-widgets/base",
      "model_module_version": "1.1.0",
      "model_name": "LayoutModel",
      "state": {}
     },
     "d96e918c59714edca31e188fbdba400f": {
      "model_module": "@jupyter-widgets/controls",
      "model_module_version": "1.4.0",
      "model_name": "DescriptionStyleModel",
      "state": {
       "description_width": ""
      }
     },
     "dc3500e672b441f184cb66c9164f46c5": {
      "model_module": "@jupyter-widgets/base",
      "model_module_version": "1.1.0",
      "model_name": "LayoutModel",
      "state": {}
     },
     "dd3cd9d0b4da42e38851025c52c016d7": {
      "model_module": "@jupyter-widgets/controls",
      "model_module_version": "1.4.0",
      "model_name": "CheckboxModel",
      "state": {
       "description": "string -> float",
       "disabled": false,
       "layout": "IPY_MODEL_f30b1f4890d84faeb4ab78e1f01ebbed",
       "style": "IPY_MODEL_2d169e7d0d824f619d6fe9134201dc49",
       "value": false
      }
     },
     "dd92bb017b4a443cb4a32e6e96346ad6": {
      "model_module": "@jupyter-widgets/controls",
      "model_module_version": "1.4.0",
      "model_name": "CheckboxModel",
      "state": {
       "description": "boolean -> list",
       "disabled": false,
       "layout": "IPY_MODEL_32e66f8a5302444d9741b0b052a23fa7",
       "style": "IPY_MODEL_980b04576b014e998b763b98e353141f",
       "value": false
      }
     },
     "e1517a5ece41466c962bd97efd23f41d": {
      "model_module": "@jupyter-widgets/base",
      "model_module_version": "1.1.0",
      "model_name": "LayoutModel",
      "state": {}
     },
     "e39cc79c87574f648ea15c0c7ece4595": {
      "model_module": "@jupyter-widgets/controls",
      "model_module_version": "1.4.0",
      "model_name": "DescriptionStyleModel",
      "state": {
       "description_width": ""
      }
     },
     "e4d0940ebbde4afea334bc5a50d58b77": {
      "model_module": "@jupyter-widgets/base",
      "model_module_version": "1.1.0",
      "model_name": "LayoutModel",
      "state": {}
     },
     "e6ac8cb0bd5c429d8b97840b0dae2523": {
      "model_module": "@jupyter-widgets/controls",
      "model_module_version": "1.4.0",
      "model_name": "CheckboxModel",
      "state": {
       "description": "integer -> boolean",
       "disabled": false,
       "layout": "IPY_MODEL_ce97ddd4384242d7b4f4d8973f3d934d",
       "style": "IPY_MODEL_9b9fd7a1d0174c0d9843763e900aab5a",
       "value": false
      }
     },
     "ea32c50591e04ef984c8538179c8750b": {
      "model_module": "@jupyter-widgets/base",
      "model_module_version": "1.1.0",
      "model_name": "LayoutModel",
      "state": {}
     },
     "eb9e207aef45431d979929a70d6dcdfe": {
      "model_module": "@jupyter-widgets/controls",
      "model_module_version": "1.4.0",
      "model_name": "DescriptionStyleModel",
      "state": {
       "description_width": ""
      }
     },
     "ee2a141c799e4ab1ae864b4984b1992e": {
      "model_module": "@jupyter-widgets/controls",
      "model_module_version": "1.4.0",
      "model_name": "CheckboxModel",
      "state": {
       "description": "integer -> float",
       "disabled": false,
       "layout": "IPY_MODEL_09ce660d36034e27a17d579f4c9f9ab7",
       "style": "IPY_MODEL_e39cc79c87574f648ea15c0c7ece4595",
       "value": false
      }
     },
     "f30b1f4890d84faeb4ab78e1f01ebbed": {
      "model_module": "@jupyter-widgets/base",
      "model_module_version": "1.1.0",
      "model_name": "LayoutModel",
      "state": {}
     },
     "f6ff3964100241c19ac10dd537866b65": {
      "model_module": "@jupyter-widgets/controls",
      "model_module_version": "1.4.0",
      "model_name": "CheckboxModel",
      "state": {
       "description": "float -> boolean",
       "disabled": false,
       "layout": "IPY_MODEL_aa34f9124dce4f2981ccdc41cfd2026b",
       "style": "IPY_MODEL_888434c979f04e12aac8f2646c93369f",
       "value": false
      }
     },
     "f73a070b6b814a358c1e6a2c1b5176d3": {
      "model_module": "@jupyter-widgets/controls",
      "model_module_version": "1.4.0",
      "model_name": "DescriptionStyleModel",
      "state": {
       "description_width": ""
      }
     },
     "f95f5547e73b4ebebb45141e029cd7fa": {
      "model_module": "@jupyter-widgets/base",
      "model_module_version": "1.1.0",
      "model_name": "LayoutModel",
      "state": {}
     },
     "feb0b4e84a17424ea6790a8a6dbd7139": {
      "model_module": "@jupyter-widgets/controls",
      "model_module_version": "1.4.0",
      "model_name": "DescriptionStyleModel",
      "state": {
       "description_width": ""
      }
     }
    },
    "version_major": 2,
    "version_minor": 0
   }
  }
 },
 "nbformat": 4,
 "nbformat_minor": 2
}
