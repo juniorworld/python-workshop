{
 "cells": [
  {
   "cell_type": "markdown",
   "id": "2c5ecaf6",
   "metadata": {},
   "source": [
    "# Class 10 - Web Crawling (Continued)"
   ]
  },
  {
   "cell_type": "code",
   "execution_count": 9,
   "id": "d0b61f82",
   "metadata": {},
   "outputs": [],
   "source": [
    "from selenium import webdriver\n",
    "from selenium.webdriver.common.keys import Keys\n",
    "import chromedriver_autoinstaller\n",
    "from selenium.webdriver.common.by import By\n",
    "import pandas as pd"
   ]
  },
  {
   "cell_type": "code",
   "execution_count": 148,
   "id": "95c9b8ac",
   "metadata": {},
   "outputs": [],
   "source": [
    "#Disable the automatic software signifier\n",
    "options = webdriver.ChromeOptions() \n",
    "options.add_argument(\"--disable-blink-features=AutomationControlled\") \n",
    "options.add_experimental_option(\"excludeSwitches\", [\"enable-automation\"]) \n",
    "options.add_experimental_option(\"useAutomationExtension\", False) \n",
    "driver = webdriver.Chrome(options=options) \n",
    "driver.execute_script(\"Object.defineProperty(navigator, 'webdriver', {get: () => undefined})\") "
   ]
  },
  {
   "cell_type": "markdown",
   "id": "ad6cbd21",
   "metadata": {},
   "source": [
    "## Red Book - Collect Post Details"
   ]
  },
  {
   "cell_type": "markdown",
   "id": "c6e18627",
   "metadata": {},
   "source": [
    "Download the file https://juniorworld.github.io/python-workshop/doc/RedBook_HKBU_COMM.csv"
   ]
  },
  {
   "cell_type": "code",
   "execution_count": 11,
   "id": "b0648684",
   "metadata": {},
   "outputs": [],
   "source": [
    "#Read post table\n",
    "table=pd.read_csv('RedBook_HKBU_COMM.csv')"
   ]
  },
  {
   "cell_type": "code",
   "execution_count": 149,
   "id": "6a8b2422",
   "metadata": {},
   "outputs": [],
   "source": [
    "#Open first post\n",
    "driver.get(table['Link'].iloc[0])"
   ]
  },
  {
   "cell_type": "code",
   "execution_count": 13,
   "id": "7dc6e31f",
   "metadata": {},
   "outputs": [],
   "source": [
    "#Get title\n",
    "title=driver.find_element(By.CLASS_NAME,'title').text"
   ]
  },
  {
   "cell_type": "code",
   "execution_count": 14,
   "id": "0141158c",
   "metadata": {},
   "outputs": [
    {
     "data": {
      "text/plain": [
       "'香港浸会大学传理学院正式入驻小红书啦‼️'"
      ]
     },
     "execution_count": 14,
     "metadata": {},
     "output_type": "execute_result"
    }
   ],
   "source": [
    "title"
   ]
  },
  {
   "cell_type": "code",
   "execution_count": 15,
   "id": "1f60a8fd",
   "metadata": {},
   "outputs": [],
   "source": [
    "#Get content list\n",
    "content_list=driver.find_elements(By.CLASS_NAME,'desc')"
   ]
  },
  {
   "cell_type": "code",
   "execution_count": 16,
   "id": "f6ca04af",
   "metadata": {},
   "outputs": [],
   "source": [
    "#Combine all content into a single string\n",
    "content='' #Initialize an empty string\n",
    "for i in content_list:\n",
    "    content=content+i.text"
   ]
  },
  {
   "cell_type": "code",
   "execution_count": 17,
   "id": "68fa6dfc",
   "metadata": {
    "scrolled": true
   },
   "outputs": [
    {
     "name": "stdout",
     "output_type": "stream",
     "text": [
      "浸会传理的宝贝萌和想要了解浸会传理相关资讯的家人们速速前来围观！\n",
      ".\n",
      "🌟关于我们：\n",
      "1⃣️香港浸会大学传理学院于1968年创立，设有传播系、新闻系、互动媒体系三大院系， 提供多个研究生课程。学院师资雄厚，课程内容丰富，有如BBC前中文部总监、凤凰卫视前著名记者、前奥美公关CEO，大公报前驻美首席记者等业界人士授课，开设新闻、传播、公关、营销等相关课程。\n",
      ".\n",
      "2⃣️传理学院李兆基传理视艺楼CVA（图1）\n",
      "学院的众多课程都会在传理视艺楼（CVA）进行，楼内拥有贴近业界水平的专业设施及器材🤣香港高校第一间沉浸式电影🎬体验馆、杜比®️全景声制作室，人工智能与媒体研究实验室等（图3-5），为提升同学们的创意创新和研究能力提供良好的教学环境。\n",
      ".\n",
      "除此之外，大楼有新装修好的Cafe@CVA Commons（图7），就位于G层，同学们课后可以炫一杯咖啡☕️提神醒脑🤣\n",
      ".\n",
      "🌟在此，谨代表香港浸会大学传理学院欢迎你的到来！接下来，欢迎大家跟我们一起探索在BU、在传理的学习与生活吧！\n",
      ".\n",
      "      #香港浸会大学#香港读研#香港浸会大学申请#香港留學#港浸会传媒\n"
     ]
    }
   ],
   "source": [
    "print(content)"
   ]
  },
  {
   "cell_type": "code",
   "execution_count": 18,
   "id": "3d06974b",
   "metadata": {},
   "outputs": [],
   "source": [
    "#Get the post time\n",
    "date=driver.find_element(By.CLASS_NAME,'date').text"
   ]
  },
  {
   "cell_type": "code",
   "execution_count": 19,
   "id": "47197586",
   "metadata": {},
   "outputs": [],
   "source": [
    "#Get the numbers of likes, favorites, and comments received\n",
    "#Hint: To avoid mismatch, you need to look up the condition in inspect window \n",
    "#      to assure you will not have mismatched results\n",
    "likes=driver.find_element(By.XPATH,\"//div[@class='left']/span[1]\").text\n",
    "favs=driver.find_element(By.XPATH,\"//div[@class='left']/span[2]\").text\n",
    "comments=driver.find_element(By.XPATH,\"//div[@class='left']/span[3]\").text"
   ]
  },
  {
   "cell_type": "code",
   "execution_count": 20,
   "id": "57ba831d",
   "metadata": {},
   "outputs": [
    {
     "name": "stdout",
     "output_type": "stream",
     "text": [
      "639 148 281\n"
     ]
    }
   ],
   "source": [
    "print(likes,favs,comments)"
   ]
  },
  {
   "cell_type": "code",
   "execution_count": 21,
   "id": "ebfca4ea",
   "metadata": {},
   "outputs": [],
   "source": [
    "#Get img list\n",
    "#Find Element By Class Name does not support class name with spaces\n",
    "#You need to use XPATH to locate the element\n",
    "img_list=[]\n",
    "first_img=driver.find_element(By.XPATH,\"//div[@class='swiper-slide swiper-slide-active zoom-in']\")"
   ]
  },
  {
   "cell_type": "code",
   "execution_count": 22,
   "id": "efed88c4",
   "metadata": {},
   "outputs": [],
   "source": [
    "#Use regular expression to find URL in any string\n",
    "#Characters allowed in URL: alphabetic, numbers, and a few special characters like . ? / : and -\n",
    "import re\n",
    "first_img_url=re.findall('http[a-zA-Z0-9.?/:\\-]+',first_img.get_attribute('style'))[0]"
   ]
  },
  {
   "cell_type": "code",
   "execution_count": 23,
   "id": "2942911c",
   "metadata": {},
   "outputs": [
    {
     "data": {
      "text/plain": [
       "'https://sns-img-hw.xhscdn.com/3316c2f1-366e-0ab3-b275-9e73d660d5cc?imageView2/2/h/1200/format/webp'"
      ]
     },
     "execution_count": 23,
     "metadata": {},
     "output_type": "execute_result"
    }
   ],
   "source": [
    "first_img_url"
   ]
  },
  {
   "cell_type": "code",
   "execution_count": 24,
   "id": "a4c8c2b4",
   "metadata": {},
   "outputs": [],
   "source": [
    "img_list.append(first_img_url)"
   ]
  },
  {
   "cell_type": "code",
   "execution_count": 25,
   "id": "c8cae614",
   "metadata": {},
   "outputs": [
    {
     "data": {
      "text/plain": [
       "['https://sns-img-hw.xhscdn.com/3316c2f1-366e-0ab3-b275-9e73d660d5cc?imageView2/2/h/1200/format/webp']"
      ]
     },
     "execution_count": 25,
     "metadata": {},
     "output_type": "execute_result"
    }
   ],
   "source": [
    "img_list"
   ]
  },
  {
   "cell_type": "code",
   "execution_count": 26,
   "id": "258d8fea",
   "metadata": {},
   "outputs": [],
   "source": [
    "import time"
   ]
  },
  {
   "cell_type": "code",
   "execution_count": 27,
   "id": "ee6fc753",
   "metadata": {},
   "outputs": [],
   "source": [
    "#Extract the URL of the second img\n",
    "#Step 1: Identify the \"Next\" button on the image\n",
    "#Step 2: Click it\n",
    "#Step 3: Extract the url\n",
    "#--------------------------------------------------\n",
    "next_button=driver.find_element(By.XPATH,\"//div[@class='arrow-controller right']\")\n",
    "next_button.click()\n",
    "time.sleep(5)\n",
    "second_img=driver.find_element(By.XPATH,\"//div[@class='swiper-slide swiper-slide-active zoom-in']\")\n",
    "second_img_url=re.findall('http[a-zA-Z0-9.?/:\\-]+',second_img.get_attribute('style'))[0]\n",
    "img_list.append(second_img_url)"
   ]
  },
  {
   "cell_type": "code",
   "execution_count": 28,
   "id": "da0a1e03",
   "metadata": {},
   "outputs": [
    {
     "data": {
      "text/plain": [
       "['https://sns-img-hw.xhscdn.com/3316c2f1-366e-0ab3-b275-9e73d660d5cc?imageView2/2/h/1200/format/webp',\n",
       " 'https://sns-img-hw.xhscdn.com/3cb43a55-e2d6-f54f-91e9-cedfd502dbe2?imageView2/2/h/1200/format/webp']"
      ]
     },
     "execution_count": 28,
     "metadata": {},
     "output_type": "execute_result"
    }
   ],
   "source": [
    "img_list"
   ]
  },
  {
   "cell_type": "code",
   "execution_count": null,
   "id": "10a00e7a",
   "metadata": {
    "scrolled": true
   },
   "outputs": [],
   "source": [
    "#Write a Loop to Collect All URLs\n",
    "#Which type of loop? \n",
    "#While Loop: condition-based -> looping when the condition is satisfied\n",
    "#For loop: list-based -> looping through the list, from the first to the last element\n",
    "current_url=''\n",
    "while current_url != img_list[0]:\n",
    "    next_button=driver.find_element(By.XPATH,\"//div[@class='arrow-controller right']\")\n",
    "    next_button.click()\n",
    "    time.sleep(5)\n",
    "    current_img=driver.find_element(By.XPATH,\"//div[@class='swiper-slide swiper-slide-active zoom-in']\")\n",
    "    current_url=re.findall('http[a-zA-Z0-9.?/:\\-]+',current_img.get_attribute('style'))[0]\n",
    "    if current_url != img_list[0]:\n",
    "        img_list.append(current_url)"
   ]
  },
  {
   "cell_type": "code",
   "execution_count": null,
   "id": "dccdc0aa",
   "metadata": {},
   "outputs": [],
   "source": [
    "try:\n",
    "    Action1\n",
    "except: #[optional] errors or interruption\n",
    "    Action2"
   ]
  },
  {
   "cell_type": "code",
   "execution_count": 34,
   "id": "4b292b54",
   "metadata": {},
   "outputs": [
    {
     "name": "stdout",
     "output_type": "stream",
     "text": [
      "Error!\n"
     ]
    }
   ],
   "source": [
    "a='0'\n",
    "try:\n",
    "    b=a/2\n",
    "except:\n",
    "    print('Error!')"
   ]
  },
  {
   "cell_type": "code",
   "execution_count": null,
   "id": "937addf5",
   "metadata": {},
   "outputs": [],
   "source": [
    "current_url=''\n",
    "while current_url != img_list[0]:\n",
    "    try:\n",
    "        next_button=driver.find_element(By.XPATH,\"//div[@class='arrow-controller right']\")\n",
    "        next_button.click()\n",
    "        time.sleep(5)\n",
    "        current_img=driver.find_element(By.XPATH,\"//div[@class='swiper-slide swiper-slide-active zoom-in']\")\n",
    "        current_url=re.findall('http[a-zA-Z0-9.?/:\\-]+',current_img.get_attribute('style'))[0]\n",
    "        if current_url != img_list[0]:\n",
    "            img_list.append(current_url)\n",
    "    except:\n",
    "        print('Exhaust the img list!')\n",
    "        break"
   ]
  },
  {
   "cell_type": "markdown",
   "id": "509af090",
   "metadata": {},
   "source": [
    "### Exercise 1\n",
    "Write a Loop to extract first 10 posts' details and save them as a csv named \"COMM_Post_Details.csv\"<br>\n",
    "Post details should include title, content, date, likes, favs, comments, and imgs"
   ]
  },
  {
   "cell_type": "code",
   "execution_count": null,
   "id": "2d9c5586",
   "metadata": {},
   "outputs": [],
   "source": [
    "#Write your code here\n",
    "import csv\n",
    "file=open('COMM_Post_Details.csv','w',encoding='utf-8',newline='\\n')\n",
    "wrtier=csv.writer(file)\n",
    "for post_url in table['Link'].iloc[:10]:\n",
    "    driver.get(post_url)\n",
    "    print(post_url)\n",
    "    time.sleep(5)\n",
    "    title=driver.find_element(By.CLASS_NAME,'title').text\n",
    "    #Get content list\n",
    "    content_list=driver.find_elements(By.CLASS_NAME,'desc')\n",
    "    content='' #Initialize an empty string\n",
    "    for i in content_list:\n",
    "        content=content+i.text\n",
    "    #Get the post time\n",
    "    date=driver.find_element(By.CLASS_NAME,'date').text\n",
    "\n",
    "    #Get the numbers of likes, favorites, and comments received\n",
    "    likes=driver.find_element(By.XPATH,\"//div[@class='left']/span[1]\").text\n",
    "    favs=driver.find_element(By.XPATH,\"//div[@class='left']/span[2]\").text\n",
    "    comments=driver.find_element(By.XPATH,\"//div[@class='left']/span[3]\").text\n",
    "    \n",
    "    #Get img list\n",
    "    img_list=[]\n",
    "    current_url=''\n",
    "    while current_url not in img_list:\n",
    "        try:\n",
    "            img_list.append(current_url)\n",
    "            current_img=driver.find_element(By.XPATH,\"//div[@class='swiper-slide swiper-slide-active zoom-in']\")\n",
    "            current_url=re.findall('http[a-zA-Z0-9.?/:\\-]+',current_img.get_attribute('style'))[0]\n",
    "            next_button=driver.find_element(By.XPATH,\"//div[@class='arrow-controller right']\")\n",
    "            next_button.click()\n",
    "            time.sleep(5)\n",
    "        except:\n",
    "            print('Exhaust the img list!')\n",
    "            break\n",
    "    img_list=img_list[1:]\n",
    "    wrtier.writerow([title,content,date,likes,favs,comments,img_list])"
   ]
  },
  {
   "cell_type": "code",
   "execution_count": 38,
   "id": "4ae4f5c7",
   "metadata": {},
   "outputs": [],
   "source": [
    "file.close()"
   ]
  },
  {
   "cell_type": "code",
   "execution_count": 41,
   "id": "d10c5779",
   "metadata": {},
   "outputs": [],
   "source": [
    "detail_table=pd.read_csv('COMM_Post_Details.csv',header=None)"
   ]
  },
  {
   "cell_type": "markdown",
   "id": "4f9394eb",
   "metadata": {},
   "source": [
    "## Red Book - Collect Comment Details"
   ]
  },
  {
   "cell_type": "code",
   "execution_count": 43,
   "id": "eeb8343e",
   "metadata": {},
   "outputs": [],
   "source": [
    "driver.get(table['Link'].iloc[0])"
   ]
  },
  {
   "cell_type": "code",
   "execution_count": 66,
   "id": "4cab76d8",
   "metadata": {},
   "outputs": [],
   "source": [
    "#Get a LIST of comments visible in the current view\n",
    "#Find Elements\n",
    "comments=driver.find_elements(By.CLASS_NAME,\"comment-item\")"
   ]
  },
  {
   "cell_type": "code",
   "execution_count": 45,
   "id": "81ae6192",
   "metadata": {},
   "outputs": [
    {
     "data": {
      "text/plain": [
       "31"
      ]
     },
     "execution_count": 45,
     "metadata": {},
     "output_type": "execute_result"
    }
   ],
   "source": [
    "#How many comments are visible?\n",
    "len(comments)"
   ]
  },
  {
   "cell_type": "code",
   "execution_count": 46,
   "id": "f63aedb0",
   "metadata": {
    "scrolled": true
   },
   "outputs": [
    {
     "data": {
      "text/plain": [
       "'白婳啦\\n关注了能录取吗\\n2022-09-03\\n60\\n3\\n香港浸会大学传理学院\\n作者\\nGood luck\\n2022-09-03\\n6\\n阅后即焚册\\n关注了23fall的offer能拿到吗\\n2022-09-06\\n3\\nCHEN.（要上岸版\\n回复 阅后即焚册: 我也是想去23年fall的传理欸\\n2022-11-10'"
      ]
     },
     "execution_count": 46,
     "metadata": {},
     "output_type": "execute_result"
    }
   ],
   "source": [
    "comments[0].text"
   ]
  },
  {
   "cell_type": "code",
   "execution_count": 48,
   "id": "9fb7e900",
   "metadata": {},
   "outputs": [],
   "source": [
    "#Way 1: Rude match. Split by Line Breaks\n",
    "#You can use line break to split text into various pieces of info\n",
    "#But this has a strong condition: Red Book does not allow line break in the comment\n",
    "#This rule does not apply to other platforms, like Weibo or Facebook\n",
    "commenter=comments[0].text.split('\\n')[0]\n",
    "comment_content=comments[0].text.split('\\n')[1]\n",
    "comment_time=comments[0].text.split('\\n')[2]\n",
    "comment_likes=comments[0].text.split('\\n')[3]\n",
    "comment_replies=comments[0].text.split('\\n')[4]"
   ]
  },
  {
   "cell_type": "code",
   "execution_count": 49,
   "id": "472eaf26",
   "metadata": {},
   "outputs": [
    {
     "name": "stdout",
     "output_type": "stream",
     "text": [
      "白婳啦 关注了能录取吗 2022-09-03 60 3\n"
     ]
    }
   ],
   "source": [
    "print(commenter,comment_content,comment_time,comment_likes,comment_replies)"
   ]
  },
  {
   "cell_type": "code",
   "execution_count": 50,
   "id": "cbe66b7f",
   "metadata": {},
   "outputs": [
    {
     "data": {
      "text/plain": [
       "'白婳啦'"
      ]
     },
     "execution_count": 50,
     "metadata": {},
     "output_type": "execute_result"
    }
   ],
   "source": [
    "#Way 2: Precise match\n",
    "#Identify the child nodes by their XPATH\n",
    "#ABSOLUTE PATH: starting from the current node by default\n",
    "#Don't use \"/\" at the beginning -> / means starting from the root <html>\n",
    "#RELATIVE PATH: \".\" represent the current node\n",
    "comments[0].find_element(By.XPATH,'div[@class=\"right\"]/div[@class=\"author-wrapper\"]').text"
   ]
  },
  {
   "cell_type": "code",
   "execution_count": 51,
   "id": "4a1845b8",
   "metadata": {},
   "outputs": [
    {
     "data": {
      "text/plain": [
       "'https://www.xiaohongshu.com/user/profile/5e3d36ff00000000010029a2'"
      ]
     },
     "execution_count": 51,
     "metadata": {},
     "output_type": "execute_result"
    }
   ],
   "source": [
    "comments[0].find_element(By.XPATH,'div[@class=\"right\"]/div[@class=\"author-wrapper\"]/div/a').get_attribute('href')"
   ]
  },
  {
   "cell_type": "code",
   "execution_count": 54,
   "id": "b0d2bc66",
   "metadata": {},
   "outputs": [],
   "source": [
    "#Get the comment content, comment time, comment location, likes received by the comment\n",
    "comment_content=comments[0].find_element(By.XPATH,'div[@class=\"right\"]/div[@class=\"content\"]').text\n",
    "comment_date=comments[0].find_element(By.XPATH,'div[@class=\"right\"]/div[@class=\"info\"]/div[1]').text\n",
    "comment_likes=comments[0].find_element(By.XPATH,'div[@class=\"right\"]/div[@class=\"info\"]/div[2]/div[1]').text"
   ]
  },
  {
   "cell_type": "code",
   "execution_count": 55,
   "id": "b5a7fe45",
   "metadata": {},
   "outputs": [
    {
     "name": "stdout",
     "output_type": "stream",
     "text": [
      "关注了能录取吗 2022-09-03 60\n"
     ]
    }
   ],
   "source": [
    "print(comment_content,comment_date,comment_likes)"
   ]
  },
  {
   "cell_type": "markdown",
   "id": "6b4a67f7",
   "metadata": {},
   "source": [
    "### Exercise 2\n",
    "Write a Loop to extract first 10 comments and save them as a csv named \"COMM_1POST_10comments.csv\"\n",
    "<br>Required columns: commenter, comment_content, comment_date, comment_likes"
   ]
  },
  {
   "cell_type": "code",
   "execution_count": 59,
   "id": "9b6d63de",
   "metadata": {},
   "outputs": [],
   "source": [
    "#Write your code here\n",
    "file=open(\"COMM_1POST_10comments.csv\",'w',encoding='utf-8',newline='\\n')\n",
    "writer=csv.writer(file)\n",
    "for comment in comments:\n",
    "    commenter=comment.find_element(By.XPATH,'div[@class=\"right\"]/div[@class=\"author-wrapper\"]').text\n",
    "    comment_content=comment.find_element(By.XPATH,'div[@class=\"right\"]/div[@class=\"content\"]').text\n",
    "    comment_date=comment.find_element(By.XPATH,'div[@class=\"right\"]/div[@class=\"info\"]/div[1]').text\n",
    "    comment_likes=comment.find_element(By.XPATH,'div[@class=\"right\"]/div[@class=\"info\"]/div[2]/div[1]').text\n",
    "    writer.writerow([commenter,comment_content,comment_date,comment_likes])\n",
    "file.close()"
   ]
  },
  {
   "cell_type": "code",
   "execution_count": 61,
   "id": "308034b6",
   "metadata": {},
   "outputs": [
    {
     "data": {
      "text/html": [
       "<div>\n",
       "<style scoped>\n",
       "    .dataframe tbody tr th:only-of-type {\n",
       "        vertical-align: middle;\n",
       "    }\n",
       "\n",
       "    .dataframe tbody tr th {\n",
       "        vertical-align: top;\n",
       "    }\n",
       "\n",
       "    .dataframe thead th {\n",
       "        text-align: right;\n",
       "    }\n",
       "</style>\n",
       "<table border=\"1\" class=\"dataframe\">\n",
       "  <thead>\n",
       "    <tr style=\"text-align: right;\">\n",
       "      <th></th>\n",
       "      <th>0</th>\n",
       "      <th>1</th>\n",
       "      <th>2</th>\n",
       "      <th>3</th>\n",
       "    </tr>\n",
       "  </thead>\n",
       "  <tbody>\n",
       "    <tr>\n",
       "      <th>0</th>\n",
       "      <td>白婳啦</td>\n",
       "      <td>关注了能录取吗</td>\n",
       "      <td>2022-09-03</td>\n",
       "      <td>60.0</td>\n",
       "    </tr>\n",
       "    <tr>\n",
       "      <th>1</th>\n",
       "      <td>香港浸会大学传理学院\\n作者</td>\n",
       "      <td>Good luck</td>\n",
       "      <td>2022-09-03</td>\n",
       "      <td>6.0</td>\n",
       "    </tr>\n",
       "    <tr>\n",
       "      <th>2</th>\n",
       "      <td>阅后即焚册</td>\n",
       "      <td>关注了23fall的offer能拿到吗</td>\n",
       "      <td>2022-09-06</td>\n",
       "      <td>3.0</td>\n",
       "    </tr>\n",
       "    <tr>\n",
       "      <th>3</th>\n",
       "      <td>CHEN.（要上岸版</td>\n",
       "      <td>回复 阅后即焚册: 我也是想去23年fall的传理欸</td>\n",
       "      <td>2022-11-10</td>\n",
       "      <td>NaN</td>\n",
       "    </tr>\n",
       "    <tr>\n",
       "      <th>4</th>\n",
       "      <td>vorrite</td>\n",
       "      <td>24年能送我一份offer吗</td>\n",
       "      <td>2022-09-03</td>\n",
       "      <td>20.0</td>\n",
       "    </tr>\n",
       "  </tbody>\n",
       "</table>\n",
       "</div>"
      ],
      "text/plain": [
       "                0                           1           2     3\n",
       "0             白婳啦                     关注了能录取吗  2022-09-03  60.0\n",
       "1  香港浸会大学传理学院\\n作者                   Good luck  2022-09-03   6.0\n",
       "2           阅后即焚册         关注了23fall的offer能拿到吗  2022-09-06   3.0\n",
       "3      CHEN.（要上岸版  回复 阅后即焚册: 我也是想去23年fall的传理欸  2022-11-10   NaN\n",
       "4         vorrite              24年能送我一份offer吗  2022-09-03  20.0"
      ]
     },
     "execution_count": 61,
     "metadata": {},
     "output_type": "execute_result"
    }
   ],
   "source": [
    "table_comment=pd.read_csv('COMM_1POST_10comments.csv',header=None)\n",
    "table_comment.head()"
   ]
  },
  {
   "cell_type": "markdown",
   "id": "8e78c882",
   "metadata": {},
   "source": [
    "## Scroll down in an internal container\n",
    "We need to scroll down in the comment container to load more posts. <br>\n",
    "However, comment container's behavior is independent from the page's behavior at large. If you scroll to bottom in the page, the status of the comment container will not be changed.<br>\n",
    "So, what we need to do here is to imitate scrolling behaviors specifically on the container element.<br>\n",
    "Technically, it is equivalent to scroll to the last visible content to the top of the container. "
   ]
  },
  {
   "cell_type": "markdown",
   "id": "1e4273f5",
   "metadata": {},
   "source": [
    "<div style=\"background-color:#B5CAA0\">\n",
    "<h2>Check the content loading mode</h2>\n",
    "<hr>\n",
    "Old Content: 1. Removed 2. Existing<br>\n",
    "New Content: 1. Whole new 2. Overlap 3. Gap\n",
    "</div>"
   ]
  },
  {
   "cell_type": "code",
   "execution_count": 67,
   "id": "df8321ce",
   "metadata": {},
   "outputs": [
    {
     "data": {
      "text/plain": [
       "'香港浸会大学传理学院\\n作者\\n随时欢迎👏\\n02-10'"
      ]
     },
     "execution_count": 67,
     "metadata": {},
     "output_type": "execute_result"
    }
   ],
   "source": [
    "#print out the last comment visible on the current page for reference\n",
    "comments[-1].text"
   ]
  },
  {
   "cell_type": "code",
   "execution_count": 79,
   "id": "3fa5ce74",
   "metadata": {},
   "outputs": [],
   "source": [
    "#Way 1: Automate Scrolling Behaviors: ScrollIntoView\n",
    "driver.execute_script(\"arguments[0].scrollIntoView(true);\",comments[-1])"
   ]
  },
  {
   "cell_type": "code",
   "execution_count": 84,
   "id": "d1186a31",
   "metadata": {},
   "outputs": [],
   "source": [
    "comments=driver.find_elements(By.CLASS_NAME,\"comment-item\")"
   ]
  },
  {
   "cell_type": "code",
   "execution_count": 80,
   "id": "0888e532",
   "metadata": {},
   "outputs": [
    {
     "data": {
      "text/plain": [
       "'vorrite\\n24年能送我一份offer吗\\n2022-09-03\\n20\\n1\\n香港浸会大学传理学院\\n作者\\n等你\\n2022-09-03\\n1'"
      ]
     },
     "execution_count": 80,
     "metadata": {},
     "output_type": "execute_result"
    }
   ],
   "source": [
    "comments[0].text"
   ]
  },
  {
   "cell_type": "code",
   "execution_count": 81,
   "id": "fdfcddf9",
   "metadata": {},
   "outputs": [
    {
     "data": {
      "text/plain": [
       "71"
      ]
     },
     "execution_count": 81,
     "metadata": {},
     "output_type": "execute_result"
    }
   ],
   "source": [
    "len(comments)"
   ]
  },
  {
   "cell_type": "code",
   "execution_count": 71,
   "id": "3fb248dd",
   "metadata": {},
   "outputs": [
    {
     "data": {
      "text/plain": [
       "'Thirty 3\\n23届现在开始准备还来得及吗\\n2022-11-27\\n1'"
      ]
     },
     "execution_count": 71,
     "metadata": {},
     "output_type": "execute_result"
    }
   ],
   "source": [
    "comments[-1].text"
   ]
  },
  {
   "cell_type": "code",
   "execution_count": 82,
   "id": "a3960ede",
   "metadata": {},
   "outputs": [],
   "source": [
    "#Way 2: Automate Mouse Behaviors\n",
    "from selenium.webdriver.common.action_chains import ActionChains\n",
    "actions = ActionChains(driver)"
   ]
  },
  {
   "cell_type": "markdown",
   "id": "4cdbc2f3",
   "metadata": {},
   "source": [
    "<div class=\"alert alert-block alert-info\">\n",
    "**<b>Tip</b>** move_to_element() move the mouse to the in-view center point of the element. This is otherwise known as “hovering.” Note that the element must be in the viewport or else the command will error.</div>"
   ]
  },
  {
   "cell_type": "code",
   "execution_count": 85,
   "id": "230915ac",
   "metadata": {},
   "outputs": [],
   "source": [
    "#Scroll to the last comment to load more comments\n",
    "actions.move_to_element(comments[-1]).perform()"
   ]
  },
  {
   "cell_type": "code",
   "execution_count": null,
   "id": "c081bc58",
   "metadata": {},
   "outputs": [],
   "source": [
    "#check the content loading mode\n"
   ]
  },
  {
   "cell_type": "markdown",
   "id": "85ddf8a6",
   "metadata": {},
   "source": [
    "### Exercise 3\n",
    "Write a Loop to extract ALL comments and save them as a data frame"
   ]
  },
  {
   "cell_type": "code",
   "execution_count": 86,
   "id": "8a707ba3",
   "metadata": {},
   "outputs": [],
   "source": [
    "#Write your code here\n",
    "old_length=0\n",
    "comments=driver.find_elements(By.CLASS_NAME,\"comment-item\")\n",
    "\n",
    "while len(comments)!=old_length:\n",
    "    old_length=len(comments)\n",
    "    actions.move_to_element(comments[-1]).perform()\n",
    "    time.sleep(3)\n",
    "    comments=driver.find_elements(By.CLASS_NAME,\"comment-item\")"
   ]
  },
  {
   "cell_type": "code",
   "execution_count": 99,
   "id": "4c9c9356",
   "metadata": {},
   "outputs": [
    {
     "data": {
      "text/plain": [
       "271"
      ]
     },
     "execution_count": 99,
     "metadata": {},
     "output_type": "execute_result"
    }
   ],
   "source": [
    "len(comments)"
   ]
  },
  {
   "cell_type": "code",
   "execution_count": null,
   "id": "884ee8b4",
   "metadata": {
    "scrolled": true
   },
   "outputs": [],
   "source": [
    "#Write your code here\n",
    "file=open(\"COMM_1POST_comments.csv\",'w',encoding='utf-8',newline='\\n')\n",
    "writer=csv.writer(file)\n",
    "for comment in comments:\n",
    "    commenter=comment.find_element(By.XPATH,'div[@class=\"right\"]/div[@class=\"author-wrapper\"]').text\n",
    "    commenter=commenter.replace('\\n',' ')\n",
    "    comment_content=comment.find_element(By.XPATH,'div[@class=\"right\"]/div[@class=\"content\"]').text\n",
    "    comment_date=comment.find_element(By.XPATH,'div[@class=\"right\"]/div[@class=\"info\"]/div[1]').text\n",
    "    comment_likes=comment.find_element(By.XPATH,'div[@class=\"right\"]/div[@class=\"info\"]/div[2]/div[1]').text\n",
    "    writer.writerow([commenter,comment_content,comment_date,comment_likes])\n",
    "file.close()"
   ]
  },
  {
   "cell_type": "code",
   "execution_count": 140,
   "id": "1a01ea9d",
   "metadata": {},
   "outputs": [],
   "source": [
    "table_comment=pd.read_csv('COMM_1POST_comments.csv',header=None)"
   ]
  },
  {
   "cell_type": "code",
   "execution_count": 141,
   "id": "34ffbfb1",
   "metadata": {},
   "outputs": [],
   "source": [
    "table_comment.columns=['Commenter','Content','Date','Likes']"
   ]
  },
  {
   "cell_type": "code",
   "execution_count": 142,
   "id": "5c6e6c7d",
   "metadata": {},
   "outputs": [
    {
     "data": {
      "text/html": [
       "<div>\n",
       "<style scoped>\n",
       "    .dataframe tbody tr th:only-of-type {\n",
       "        vertical-align: middle;\n",
       "    }\n",
       "\n",
       "    .dataframe tbody tr th {\n",
       "        vertical-align: top;\n",
       "    }\n",
       "\n",
       "    .dataframe thead th {\n",
       "        text-align: right;\n",
       "    }\n",
       "</style>\n",
       "<table border=\"1\" class=\"dataframe\">\n",
       "  <thead>\n",
       "    <tr style=\"text-align: right;\">\n",
       "      <th></th>\n",
       "      <th>Commenter</th>\n",
       "      <th>Content</th>\n",
       "      <th>Date</th>\n",
       "      <th>Likes</th>\n",
       "    </tr>\n",
       "  </thead>\n",
       "  <tbody>\n",
       "    <tr>\n",
       "      <th>0</th>\n",
       "      <td>vorrite</td>\n",
       "      <td>24年能送我一份offer吗</td>\n",
       "      <td>2022-09-03</td>\n",
       "      <td>20.0</td>\n",
       "    </tr>\n",
       "    <tr>\n",
       "      <th>1</th>\n",
       "      <td>香港浸会大学传理学院 作者</td>\n",
       "      <td>等你</td>\n",
       "      <td>2022-09-03</td>\n",
       "      <td>1.0</td>\n",
       "    </tr>\n",
       "    <tr>\n",
       "      <th>2</th>\n",
       "      <td>白勺白勺</td>\n",
       "      <td>🐒❗️❗️❗️Hello我是猴王，这是浸会吗🐒（啃冰箱）（创大墙）（把房子创倒）要进花果山水...</td>\n",
       "      <td>2022-09-03</td>\n",
       "      <td>11.0</td>\n",
       "    </tr>\n",
       "    <tr>\n",
       "      <th>3</th>\n",
       "      <td>香港浸会大学传理学院 作者</td>\n",
       "      <td>猴王收徒弟吗？</td>\n",
       "      <td>2022-09-03</td>\n",
       "      <td>NaN</td>\n",
       "    </tr>\n",
       "    <tr>\n",
       "      <th>4</th>\n",
       "      <td>夢野沢一</td>\n",
       "      <td>我的乖儿子今年去那上学，希望他学有所成进步健康！知识的大门，为你敞开;学问的天地，邀你驰骋;...</td>\n",
       "      <td>2022-09-03</td>\n",
       "      <td>4.0</td>\n",
       "    </tr>\n",
       "  </tbody>\n",
       "</table>\n",
       "</div>"
      ],
      "text/plain": [
       "       Commenter                                            Content  \\\n",
       "0        vorrite                                     24年能送我一份offer吗   \n",
       "1  香港浸会大学传理学院 作者                                                 等你   \n",
       "2           白勺白勺  🐒❗️❗️❗️Hello我是猴王，这是浸会吗🐒（啃冰箱）（创大墙）（把房子创倒）要进花果山水...   \n",
       "3  香港浸会大学传理学院 作者                                            猴王收徒弟吗？   \n",
       "4           夢野沢一  我的乖儿子今年去那上学，希望他学有所成进步健康！知识的大门，为你敞开;学问的天地，邀你驰骋;...   \n",
       "\n",
       "         Date  Likes  \n",
       "0  2022-09-03   20.0  \n",
       "1  2022-09-03    1.0  \n",
       "2  2022-09-03   11.0  \n",
       "3  2022-09-03    NaN  \n",
       "4  2022-09-03    4.0  "
      ]
     },
     "execution_count": 142,
     "metadata": {},
     "output_type": "execute_result"
    }
   ],
   "source": [
    "table_comment.head()"
   ]
  },
  {
   "cell_type": "code",
   "execution_count": 144,
   "id": "1d761776",
   "metadata": {},
   "outputs": [
    {
     "data": {
      "text/plain": [
       "(271, 4)"
      ]
     },
     "execution_count": 144,
     "metadata": {},
     "output_type": "execute_result"
    }
   ],
   "source": [
    "table_comment.shape"
   ]
  },
  {
   "cell_type": "markdown",
   "id": "d2102a0c",
   "metadata": {},
   "source": [
    "## Instagram - HK01"
   ]
  },
  {
   "cell_type": "markdown",
   "id": "68a677cd",
   "metadata": {},
   "source": [
    "1. Navitage your browser to https://www.instagram.com/hk01news/\n",
    "2. Collect Post Link, First Image Link, Image Description (attribute \"alt\" in `<img>` tag)\n",
    "3. Mouse hover to the image and get the likes and comments from there\n",
    "4. Repeat step 2 and 3 for the first 12 posts"
   ]
  },
  {
   "cell_type": "code",
   "execution_count": 128,
   "id": "aed9c41a",
   "metadata": {},
   "outputs": [],
   "source": [
    "driver.get('https://www.instagram.com/hk01news/')"
   ]
  },
  {
   "cell_type": "code",
   "execution_count": 132,
   "id": "fc6390e3",
   "metadata": {},
   "outputs": [],
   "source": [
    "#get a list of posts located on the current page\n",
    "posts=driver.find_elements(By.XPATH,'//div[@class=\"_aabd _aa8k _aanf\"]')"
   ]
  },
  {
   "cell_type": "code",
   "execution_count": 133,
   "id": "b6b48ce5",
   "metadata": {},
   "outputs": [
    {
     "data": {
      "text/plain": [
       "12"
      ]
     },
     "execution_count": 133,
     "metadata": {},
     "output_type": "execute_result"
    }
   ],
   "source": [
    "len(posts)"
   ]
  },
  {
   "cell_type": "code",
   "execution_count": 119,
   "id": "69e6569b",
   "metadata": {},
   "outputs": [],
   "source": [
    "firstpost_link=posts[0].find_element(By.XPATH,'a').get_attribute('href')"
   ]
  },
  {
   "cell_type": "code",
   "execution_count": 120,
   "id": "8ac23b35",
   "metadata": {},
   "outputs": [
    {
     "data": {
      "text/plain": [
       "'https://www.instagram.com/p/Cpw3_27PbSV/'"
      ]
     },
     "execution_count": 120,
     "metadata": {},
     "output_type": "execute_result"
    }
   ],
   "source": [
    "firstpost_link"
   ]
  },
  {
   "cell_type": "code",
   "execution_count": 121,
   "id": "ccf9c494",
   "metadata": {},
   "outputs": [],
   "source": [
    "#get link attribute \"srcset\"\n",
    "srcset=posts[0].find_element(By.XPATH,\".//img\").get_attribute('srcset')"
   ]
  },
  {
   "cell_type": "code",
   "execution_count": 122,
   "id": "aa2e0319",
   "metadata": {},
   "outputs": [
    {
     "data": {
      "text/plain": [
       "'https://scontent-hkg4-1.cdninstagram.com/v/t51.2885-15/335491489_1066140377529056_5533479680466642445_n.jpg?stp=dst-jpg_e15_s150x150&_nc_ht=scontent-hkg4-1.cdninstagram.com&_nc_cat=108&_nc_ohc=ARNC6O3H4goAX-n67-G&edm=AOQ1c0wBAAAA&ccb=7-5&oh=00_AfAQupJuSP0bR0o5Clr95i27fwjzRKzjmeAi-K6BkH8NLw&oe=64143D30&_nc_sid=8fd12b 150w,https://scontent-hkg4-1.cdninstagram.com/v/t51.2885-15/335491489_1066140377529056_5533479680466642445_n.jpg?stp=dst-jpg_e15_s240x240&_nc_ht=scontent-hkg4-1.cdninstagram.com&_nc_cat=108&_nc_ohc=ARNC6O3H4goAX-n67-G&edm=AOQ1c0wBAAAA&ccb=7-5&oh=00_AfAKGYSn9MmMm7TucYdCtRPZa0Ar59coFjwSZVqpgRw-qA&oe=64143D30&_nc_sid=8fd12b 240w,https://scontent-hkg4-1.cdninstagram.com/v/t51.2885-15/335491489_1066140377529056_5533479680466642445_n.jpg?stp=dst-jpg_e15_s320x320&_nc_ht=scontent-hkg4-1.cdninstagram.com&_nc_cat=108&_nc_ohc=ARNC6O3H4goAX-n67-G&edm=AOQ1c0wBAAAA&ccb=7-5&oh=00_AfC5hhB9Nhjr4A4p2pFAlxJ6B0scmfNVxCWiiVxmBlStBw&oe=64143D30&_nc_sid=8fd12b 320w,https://scontent-hkg4-1.cdninstagram.com/v/t51.2885-15/335491489_1066140377529056_5533479680466642445_n.jpg?stp=dst-jpg_e15_s480x480&_nc_ht=scontent-hkg4-1.cdninstagram.com&_nc_cat=108&_nc_ohc=ARNC6O3H4goAX-n67-G&edm=AOQ1c0wBAAAA&ccb=7-5&oh=00_AfBFVsZAUkzQU45JrBbXCjsF_fC68oND_02QfQ_BHVuCqg&oe=64143D30&_nc_sid=8fd12b 480w,https://scontent-hkg4-1.cdninstagram.com/v/t51.2885-15/335491489_1066140377529056_5533479680466642445_n.jpg?stp=dst-jpg_e35_s640x640_sh0.08&_nc_ht=scontent-hkg4-1.cdninstagram.com&_nc_cat=108&_nc_ohc=ARNC6O3H4goAX-n67-G&edm=AOQ1c0wBAAAA&ccb=7-5&oh=00_AfAa7a3XRFwJGVpxtufAyNNm35PxeLBJS5i7dQIZYZ8ngA&oe=64143D30&_nc_sid=8fd12b 640w'"
      ]
     },
     "execution_count": 122,
     "metadata": {},
     "output_type": "execute_result"
    }
   ],
   "source": [
    "srcset"
   ]
  },
  {
   "cell_type": "code",
   "execution_count": 123,
   "id": "8390e7d3",
   "metadata": {},
   "outputs": [],
   "source": [
    "firstpost_firstimg_link=srcset.split(' ')[0]"
   ]
  },
  {
   "cell_type": "code",
   "execution_count": 124,
   "id": "caa10d4a",
   "metadata": {},
   "outputs": [
    {
     "data": {
      "text/plain": [
       "'https://scontent-hkg4-1.cdninstagram.com/v/t51.2885-15/335491489_1066140377529056_5533479680466642445_n.jpg?stp=dst-jpg_e15_s150x150&_nc_ht=scontent-hkg4-1.cdninstagram.com&_nc_cat=108&_nc_ohc=ARNC6O3H4goAX-n67-G&edm=AOQ1c0wBAAAA&ccb=7-5&oh=00_AfAQupJuSP0bR0o5Clr95i27fwjzRKzjmeAi-K6BkH8NLw&oe=64143D30&_nc_sid=8fd12b'"
      ]
     },
     "execution_count": 124,
     "metadata": {},
     "output_type": "execute_result"
    }
   ],
   "source": [
    "firstpost_firstimg_link"
   ]
  },
  {
   "cell_type": "code",
   "execution_count": 125,
   "id": "ad43cd7b",
   "metadata": {},
   "outputs": [],
   "source": [
    "firstpost_firstimg_desc=posts[0].find_element(By.XPATH,\".//img\").get_attribute('alt')"
   ]
  },
  {
   "cell_type": "code",
   "execution_count": 126,
   "id": "0c897742",
   "metadata": {},
   "outputs": [
    {
     "data": {
      "text/plain": [
       "'澳門發生兇殺案，45歲澳門女子伏屍賓館內，一名香港男子涉案被捕。澳門司警今日（14日）交代案情稱，45歲疑犯去年3月已入境澳門，一直露宿街頭；他被捕後報稱接受女死者提供性服務期間，被對方出言侮辱，盛怒下動殺機。\\n\\n全文：https://bit.ly/3las2fQ\\n\\n#澳門 #按摩女郎 #港男 #01突發 #01新聞 #香港01'"
      ]
     },
     "execution_count": 126,
     "metadata": {},
     "output_type": "execute_result"
    }
   ],
   "source": [
    "firstpost_firstimg_desc"
   ]
  },
  {
   "cell_type": "code",
   "execution_count": 137,
   "id": "499585cf",
   "metadata": {},
   "outputs": [],
   "source": [
    "#Hover over the first img to get the likes and comments counts\n",
    "actions.move_to_element(posts[2]).perform()"
   ]
  },
  {
   "cell_type": "markdown",
   "id": "8db6e79a",
   "metadata": {},
   "source": [
    "## Weibo - People's Daily"
   ]
  },
  {
   "cell_type": "markdown",
   "id": "a8524142",
   "metadata": {},
   "source": [
    "Log into your account and switch back to the **old version**\n",
    "What's good about the old version:\n",
    "1. Allows pagination by setting page parameter \"page=2\", \"page=3\", or date parameter \"stat_date=202303\"\n",
    "2. More stable and less complex\n",
    "3. No anti-bot techniques in place"
   ]
  },
  {
   "cell_type": "code",
   "execution_count": null,
   "id": "6eff973c",
   "metadata": {},
   "outputs": [],
   "source": [
    "driver.get(\"https://weibo.com/rmrb\")"
   ]
  },
  {
   "cell_type": "code",
   "execution_count": null,
   "id": "86c66d18",
   "metadata": {},
   "outputs": [],
   "source": [
    "driver="
   ]
  },
  {
   "cell_type": "code",
   "execution_count": null,
   "id": "a7f5b204",
   "metadata": {},
   "outputs": [],
   "source": [
    "#get the posts visible on the current page\n",
    "post_list=driver.find_elements(By.XPATH,'//div[@class=\"WB_feed_detail clearfix\"]')"
   ]
  },
  {
   "cell_type": "code",
   "execution_count": null,
   "id": "2ee5a104",
   "metadata": {},
   "outputs": [],
   "source": [
    "len(post_list)"
   ]
  },
  {
   "cell_type": "code",
   "execution_count": null,
   "id": "5350fa36",
   "metadata": {},
   "outputs": [],
   "source": [
    "post_list[0].text"
   ]
  },
  {
   "cell_type": "code",
   "execution_count": null,
   "id": "ad4bd10d",
   "metadata": {},
   "outputs": [],
   "source": [
    "first_post=post_list[0]"
   ]
  },
  {
   "cell_type": "code",
   "execution_count": null,
   "id": "9a6c14f8",
   "metadata": {},
   "outputs": [],
   "source": [
    "#Get the post time\n",
    "created_at=first_post.find_element(By.XPATH,'.//div[@class=\"WB_from S_txt2\"]').text"
   ]
  },
  {
   "cell_type": "code",
   "execution_count": null,
   "id": "d680d38b",
   "metadata": {},
   "outputs": [],
   "source": [
    "#Get the following values for the first post\n",
    "#pid, text, comments, shares, likes\n",
    "pid=\n",
    "text=\n",
    "comments=\n",
    "shares=\n",
    "likes="
   ]
  },
  {
   "cell_type": "code",
   "execution_count": null,
   "id": "3e6ebb70",
   "metadata": {},
   "outputs": [],
   "source": [
    "#write a for loop to save the post details to a csv file\n",
    "\n"
   ]
  },
  {
   "cell_type": "code",
   "execution_count": null,
   "id": "04cdd42b",
   "metadata": {},
   "outputs": [],
   "source": [
    "#print out the last post for our own reference\n",
    "post_list[-1].text"
   ]
  },
  {
   "cell_type": "code",
   "execution_count": null,
   "id": "2d020b46",
   "metadata": {},
   "outputs": [],
   "source": [
    "#scroll to the bottom to load more posts\n",
    "driver.execute_script(\"window.scrollTo(0, document.body.scrollHeight);\")"
   ]
  },
  {
   "cell_type": "code",
   "execution_count": null,
   "id": "be9f98a0",
   "metadata": {},
   "outputs": [],
   "source": [
    "#check the page loading mode\n"
   ]
  },
  {
   "cell_type": "code",
   "execution_count": null,
   "id": "160e6903",
   "metadata": {},
   "outputs": [],
   "source": [
    "#scroll down the page five times\n",
    "#collect all posts\n",
    "\n"
   ]
  },
  {
   "cell_type": "code",
   "execution_count": null,
   "id": "ec58fc3b",
   "metadata": {},
   "outputs": [],
   "source": [
    "#collapse the post to show full text\n",
    "\n"
   ]
  }
 ],
 "metadata": {
  "kernelspec": {
   "display_name": "Python 3 (ipykernel)",
   "language": "python",
   "name": "python3"
  },
  "language_info": {
   "codemirror_mode": {
    "name": "ipython",
    "version": 3
   },
   "file_extension": ".py",
   "mimetype": "text/x-python",
   "name": "python",
   "nbconvert_exporter": "python",
   "pygments_lexer": "ipython3",
   "version": "3.10.9"
  }
 },
 "nbformat": 4,
 "nbformat_minor": 5
}
