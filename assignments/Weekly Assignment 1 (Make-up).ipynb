{
 "cells": [
  {
   "cell_type": "markdown",
   "metadata": {},
   "source": [
    "# Weekly Assignment 1\n",
    "Due Date: 18:00, Jan 27"
   ]
  },
  {
   "cell_type": "markdown",
   "metadata": {},
   "source": [
    "_**Instruction**_\n",
    "<p>We have learned how to apply basic mathematical calculations and how to assign values to variables. For this assignment, you are required to integrate these two skills to solve classic arithmetic problems.</p>\n",
    "\n",
    "_**Format**_\n",
    "<p>For example, the question reads \"Write a program to determine if a variable x is greater than or equal 10.\" Variable x has been initialized at the value of 100.<br>\n",
    "Your answer could be:</p>"
   ]
  },
  {
   "cell_type": "code",
   "execution_count": null,
   "metadata": {},
   "outputs": [],
   "source": [
    "x = 100\n",
    "print(x>=10)"
   ]
  },
  {
   "cell_type": "markdown",
   "metadata": {},
   "source": [
    "Please execute the cell to print out the result. There could be a hundred solutions to the same question. Any workable solution will be accepted."
   ]
  },
  {
   "cell_type": "markdown",
   "metadata": {},
   "source": [
    "-----"
   ]
  },
  {
   "cell_type": "markdown",
   "metadata": {},
   "source": [
    "## Q1 Leap Year (閏年)\n",
    "According to Wikipedia, every year that is exactly divisible by four is a leap year, except for years that are exactly divisible by 100, but centurial years (years that are divisible by 100) are also leap years if they are exactly divisible by 400.<br>\n",
    "Genereally speaking, there are two types of leap years:\n",
    "1. Years that are exactly divisible by 4 but not divisible by 100\n",
    "2. Years that are exactly divisible by 400\n",
    "\n",
    "Write a program to determine if a year x is leap year or not. If it is a leap year, print out True. Otherwise, print out False. <br>\n",
    "I have intialized x at value 2024. Therefore, the expected output should be True."
   ]
  },
  {
   "cell_type": "code",
   "execution_count": null,
   "metadata": {},
   "outputs": [],
   "source": [
    "x = 100\n",
    "#Insert your code here\n",
    "\n"
   ]
  },
  {
   "cell_type": "markdown",
   "metadata": {},
   "source": [
    "## Q2\n",
    "Create two variables, one storing <font color=\"red\">YOUR</font> student ID and the other storing hkbu email domain \"@life.hkbu.edu.hk\".<br>\n",
    "Combine these two strings into your email address. Print your address out.<br>\n",
    "For instance, a student's ID is 20224564. The expected output is \"20224564@life.hkbu.edu.hk\""
   ]
  },
  {
   "cell_type": "code",
   "execution_count": null,
   "metadata": {},
   "outputs": [],
   "source": [
    "#Insert your code here\n",
    "\n"
   ]
  },
  {
   "cell_type": "markdown",
   "metadata": {},
   "source": [
    "## Q3"
   ]
  },
  {
   "cell_type": "markdown",
   "metadata": {},
   "source": [
    "Suppose a = 100 and b = 50, what is the result of\n",
    "\\begin{equation*}\n",
    "a^3-b^3\n",
    "\\end{equation*}"
   ]
  },
  {
   "cell_type": "code",
   "execution_count": null,
   "metadata": {},
   "outputs": [],
   "source": [
    "a = 100\n",
    "b = 50\n",
    "result1="
   ]
  },
  {
   "cell_type": "markdown",
   "metadata": {},
   "source": [
    "Above formula can be converted to:\n",
    "\\begin{equation*}\n",
    "(a-b)(a^2+ab+a^2)\n",
    "\\end{equation*}\n",
    "Please turn this formula into python codes."
   ]
  },
  {
   "cell_type": "code",
   "execution_count": null,
   "metadata": {},
   "outputs": [],
   "source": [
    "a = 100\n",
    "b = 50\n",
    "result2="
   ]
  },
  {
   "cell_type": "markdown",
   "metadata": {},
   "source": [
    "Check if result1 is equal to result2. If yes, you should print out boolean value \"True\". If not, print out boolean value \"False\"."
   ]
  },
  {
   "cell_type": "code",
   "execution_count": null,
   "metadata": {},
   "outputs": [],
   "source": [
    "print( ) #insert your code inside the bracket"
   ]
  },
  {
   "cell_type": "markdown",
   "metadata": {},
   "source": [
    "## Q4\n",
    "Create a program that asks the users to input their name and the amount of cash (HKD) they have at this moment. Suppose the price of a pen is 15 HKD. Print out a message that tells users how many pens they can buy with all of their money.<br>\n",
    "*Hint:* The number of pens should be an integer."
   ]
  },
  {
   "cell_type": "code",
   "execution_count": null,
   "metadata": {},
   "outputs": [],
   "source": [
    "#Insert your code here\n",
    "\n"
   ]
  },
  {
   "cell_type": "markdown",
   "metadata": {},
   "source": [
    "## Submission\n",
    "Please rename this notebook \"Weekly Assignment 1 (Make-up) - _Your Name_\" and save it.\n",
    "<p>For example, my notebook should be named as \"Weekly Assignment 1 (Make-up) - Yuner Zhu\"</p>"
   ]
  },
  {
   "cell_type": "markdown",
   "metadata": {},
   "source": [
    "***"
   ]
  },
  {
   "cell_type": "markdown",
   "metadata": {},
   "source": [
    "Submit this file via Moodle on time."
   ]
  }
 ],
 "metadata": {
  "kernelspec": {
   "display_name": "Python 3 (ipykernel)",
   "language": "python",
   "name": "python3"
  },
  "language_info": {
   "codemirror_mode": {
    "name": "ipython",
    "version": 3
   },
   "file_extension": ".py",
   "mimetype": "text/x-python",
   "name": "python",
   "nbconvert_exporter": "python",
   "pygments_lexer": "ipython3",
   "version": "3.11.1"
  }
 },
 "nbformat": 4,
 "nbformat_minor": 2
}
