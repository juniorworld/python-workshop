{
 "cells": [
  {
   "cell_type": "markdown",
   "metadata": {},
   "source": [
    "## Data Visualization"
   ]
  },
  {
   "cell_type": "markdown",
   "metadata": {},
   "source": [
    "### Visualization Types"
   ]
  },
  {
   "cell_type": "markdown",
   "metadata": {},
   "source": [
    "**Basic**\n",
    "- Pie Chart: Compare Percentages\n",
    "- Bar Chart: Compare Scores across groups\n",
    "- Line Chart: Show trend of Scores\n",
    "- Scatter Plot: Show Relationship between a pair of Scores\n",
    "\n",
    "**Advanced**\n",
    "- Map: Show Geo Distribution of data\n",
    "- Sunburst: A special type of pie chart that shows shares of segements at several levels. Hierarchical data.\n",
    "- Histogram: A special type of bar chart. Show frequency of values/value range"
   ]
  },
  {
   "cell_type": "markdown",
   "metadata": {},
   "source": [
    "|Type|Variable Y|Variable X|\n",
    "|:--:|:--:|:--:|\n",
    "|Pie Chart|Numbers|None|\n",
    "|Bar Chart|Numbers|Categories|\n",
    "|Histogram|Numbers/Category Frequencies|Categories/Value Range|\n",
    "|Line Chart|Numbers|Time/Date/Period|\n",
    "|Scatter Plot|Numbers|Numbers|\n",
    "|Map|Latitude|Longtitude|"
   ]
  },
  {
   "cell_type": "markdown",
   "metadata": {},
   "source": [
    "<table>\n",
    "    <tr>\n",
    "        <td><img src=\"https://datavizproject.com/wp-content/uploads/types/Pie-Chart.png\" width=\"250\">\n",
    "        </td>\n",
    "        <td><img src=\"https://datavizproject.com/wp-content/uploads/types/Bar-Chart-Vertical.png\" width=\"250\">\n",
    "        </td>\n",
    "        <td><img src=\"https://datavizproject.com/wp-content/uploads/types/Line-Graph.png\" width=\"250\">\n",
    "        </td>\n",
    "    </tr>\n",
    "    <tr>\n",
    "        <td><img src=\"https://datavizproject.com/wp-content/uploads/types/Bubble-Chart.png\" width=\"250\">\n",
    "        </td>\n",
    "        <td><img src=\"https://datavizproject.com/wp-content/uploads/types/Dot-Density-Map.png\" width=\"250\">\n",
    "        </td>\n",
    "        <td><img src=\"https://datavizproject.com/wp-content/uploads/types/Sunburst-Diagram.png\" width=\"250\">\n",
    "        </td>\n",
    "    </tr>\n",
    "</table>"
   ]
  },
  {
   "cell_type": "markdown",
   "metadata": {},
   "source": [
    "### Visualization Tool"
   ]
  },
  {
   "cell_type": "markdown",
   "metadata": {},
   "source": [
    "We are going to use **Plot.ly** for data visualization.<br>\n",
    "In Plot.ly, figures are created by <font color=\"red\">tree-like</font> data as follows:\n",
    "<img src=\"https://juniorworld.github.io/python-workshop/img/plotly_structure.png\">\n",
    "_Attributes that can be directly accessed in plot.ly are shown in bold and italics._"
   ]
  },
  {
   "cell_type": "markdown",
   "metadata": {},
   "source": [
    "#### Difference between name, labels, and text"
   ]
  },
  {
   "cell_type": "markdown",
   "metadata": {},
   "source": [
    "Trace (name) > Sector (labels) > Data Point (text)<br>\n",
    "\n",
    "<img src=\"https://juniorworld.github.io/python-workshop/img/pie.png\" width=\"250\" align=\"left\">"
   ]
  },
  {
   "cell_type": "markdown",
   "metadata": {},
   "source": [
    "###  Install Plot.ly\n",
    "If you haven't installed Plot.ly, you need to run the cell below.<br>\n",
    "Installation is a one-time action. You only need to install a package one time."
   ]
  },
  {
   "cell_type": "code",
   "execution_count": null,
   "metadata": {},
   "outputs": [],
   "source": [
    "! pip3 install plotly"
   ]
  },
  {
   "cell_type": "markdown",
   "metadata": {},
   "source": [
    "### Plot.ly syntax\n",
    "1. Use `go.Graph_type(attribute=...)` to create a trace. The commonly used attributes are listed in the tree graph above, including `values`, `x`, `y`, `name`, `labels`, and `text`. For example, to create a pie chart, you should use the following syntax (labels are the group names and values are the group sizes):\n",
    ">```python\n",
    "go.Pie(labels = ..., values = ...)\n",
    "go.Bar(x = ..., y = ...)\n",
    "go.Scatter(x = ..., y = ...)\n",
    "```\n",
    "\n",
    "2. Use `go.Layout(attribute=...)` to change figure layout. Plot.ly has set up a default layout. You don't need to run this function if you are happy with the defaul layout.\n",
    ">```python\n",
    "go.Layout(\"title\" = \"blablabla\", width = ..., height = ...,\n",
    "             xaxis = {\"title\": ..., \"range\": [lower_limit,upper_limit]},\n",
    "             yaxis = {\"title\": ..., \"range\": [lower_limit,upper_limit]})\n",
    "```\n",
    "\n",
    "3. Use `go.Figure(data = trace, layout = layout)` to create a new figure.\n",
    "4. Use `.show()` method to display the figure"
   ]
  },
  {
   "cell_type": "markdown",
   "metadata": {},
   "source": [
    "### Import Plot.ly\n",
    "To use external libraries, you need to import them every time when you open a new jupyter notebook."
   ]
  },
  {
   "cell_type": "code",
   "execution_count": null,
   "metadata": {},
   "outputs": [],
   "source": [
    "import plotly.graph_objs as go  #go: graph object"
   ]
  },
  {
   "cell_type": "markdown",
   "metadata": {},
   "source": [
    "***"
   ]
  },
  {
   "cell_type": "markdown",
   "metadata": {},
   "source": [
    "## Pie Chart\n",
    "Reference: https://plotly.com/python/reference/pie/"
   ]
  },
  {
   "cell_type": "code",
   "execution_count": null,
   "metadata": {},
   "outputs": [],
   "source": [
    "genders = ['Female','Male']\n",
    "counts = [40,20]\n",
    "\n",
    "#create a new trace\n",
    "trace1 = go.Pie(labels=genders, values=counts)\n",
    "\n",
    "#create a new figure based on the newly created trace\n",
    "figure1=go.Figure(data=trace1)\n",
    "\n",
    "#display the figure\n",
    "figure1.show()"
   ]
  },
  {
   "cell_type": "code",
   "execution_count": null,
   "metadata": {},
   "outputs": [],
   "source": [
    "#change data labels by defining attribute \"text\"\n",
    "trace2 = go.Pie(text=genders, values=counts)\n",
    "figure2=go.Figure(data=trace2)\n",
    "figure2.show()"
   ]
  },
  {
   "cell_type": "code",
   "execution_count": null,
   "metadata": {},
   "outputs": [],
   "source": [
    "#change color setting by re-defining \"marker\" attribute\n",
    "#marker attribute can be assigned with a dictionary\n",
    "trace3 = go.Pie(labels=genders, values=counts, marker={'colors':['green','yellow']})\n",
    "figure3 = go.Figure(data=trace3)\n",
    "figure3.show()"
   ]
  },
  {
   "cell_type": "code",
   "execution_count": null,
   "metadata": {},
   "outputs": [],
   "source": [
    "#Let's have a look at the attributes that can be styled with the marker dictionary\n",
    "? go.scatter.Marker"
   ]
  },
  {
   "cell_type": "code",
   "execution_count": null,
   "metadata": {},
   "outputs": [],
   "source": [
    "#turn the pie chart into a donut by re-defining \"hole\" parameter\n",
    "trace4 = go.Pie(labels=genders, values=counts, hole=0.2, marker={'colors':['red','blue']})\n",
    "figure4 = go.Figure(data=trace4)\n",
    "figure4.show()"
   ]
  },
  {
   "cell_type": "code",
   "execution_count": null,
   "metadata": {},
   "outputs": [],
   "source": [
    "#change the canvas size to 400*300 and add a title by re-defining \"width\" and \"height\" in \"layout\"\n",
    "trace5 = go.Pie(labels=genders, values=counts)\n",
    "layout1 = go.Layout(width=400,height=300,title='Gender Distribution')\n",
    "figure5 = go.Figure(data=trace5,layout=layout1)\n",
    "figure5.show()"
   ]
  },
  {
   "cell_type": "markdown",
   "metadata": {},
   "source": [
    "#### <font style=\"color: blue\">Exercise 1:</font>\n",
    "---\n",
    "<font style=\"color: blue\"> Download the Hong Kong census data about educational attainment from <a href='https://juniorworld.github.io/python-workshop/doc/Hong%20Kong%20Census%20Educational%20Attainment.csv'>https://juniorworld.github.io/python-workshop/doc/Hong%20Kong%20Census%20Educational%20Attainment.csv</a>.\n",
    "    <p>Create a pie chart to visualize the percentages of different education levels in 2016. The pie chart should meet following requirements:</p>\n",
    "    1. Donut style<br>\n",
    "    2. Change slice colors\n",
    "</font>"
   ]
  },
  {
   "cell_type": "code",
   "execution_count": null,
   "metadata": {},
   "outputs": [],
   "source": [
    "#Write down your code here\n",
    "\n",
    "\n"
   ]
  },
  {
   "cell_type": "markdown",
   "metadata": {},
   "source": [
    "#### <font style=\"color: blue\">Exercise 2:</font>\n",
    "---\n",
    "<font style=\"color: blue\">Read the \"stack-overflow-developer-survey-2022-first1000.csv\" that you have downloaded in the previous class. If you haven't downloaded it, you can do so by clicking into this link: https://juniorworld.github.io/python-workshop/doc/stack-overflow-developer-survey-2022-first1000.csv<br>\n",
    "    Create a pie chart to show the percentages of respondents with different genders in this survey. Change the canvas size to 1000*600 and change its title to be \"Gender Distribution of Survey Respondents\".\n",
    "</font>"
   ]
  },
  {
   "cell_type": "code",
   "execution_count": null,
   "metadata": {
    "scrolled": true
   },
   "outputs": [],
   "source": [
    "#Write down your code here\n",
    "\n"
   ]
  },
  {
   "cell_type": "code",
   "execution_count": null,
   "metadata": {},
   "outputs": [],
   "source": [
    "#Show the percentages of Men and Other Genders\n"
   ]
  },
  {
   "cell_type": "markdown",
   "metadata": {},
   "source": [
    "***"
   ]
  },
  {
   "cell_type": "markdown",
   "metadata": {},
   "source": [
    "## Bar Chart\n",
    "<br>For more details: https://plot.ly/python/reference/#bar"
   ]
  },
  {
   "cell_type": "code",
   "execution_count": null,
   "metadata": {},
   "outputs": [],
   "source": [
    "genders = ['Female','Male']\n",
    "heights = [1.6,1.8] #average height\n",
    "\n",
    "trace = go.Bar(x=genders,y=heights)\n",
    "figure = go.Figure(data=trace)\n",
    "figure.show()"
   ]
  },
  {
   "cell_type": "code",
   "execution_count": null,
   "metadata": {},
   "outputs": [],
   "source": [
    "#Grouped bar chart\n",
    "genders = ['Female','Male']\n",
    "height_class1 = [1.6,1.8]\n",
    "height_class2 = [1.5,1.9]\n",
    "\n",
    "trace1 = go.Bar(x=genders,y=height_class1,name='class1')\n",
    "trace2 = go.Bar(x=genders,y=height_class2,name='class2')\n",
    "\n",
    "figure_grouped = go.Figure(data=[trace1,trace2])\n",
    "figure_grouped.show()"
   ]
  },
  {
   "cell_type": "markdown",
   "metadata": {},
   "source": [
    "Two ways to create a multi-trace graph:\n",
    "1. In a batch: Combine all traces into a `list` and send the list to `go.Figure()` as the data input.\n",
    "2. Step by step: create an empty figure using `figure=go.Figure()` and then add new trace to the figure one after one, using `figure.add_trace()` \n",
    "   - Inside the bracket of `.add_trace()` method, you need to provide a trace created by go.Graph_type(), such as `go.Bar()`, `go.Scatter()`"
   ]
  },
  {
   "cell_type": "code",
   "execution_count": null,
   "metadata": {},
   "outputs": [],
   "source": [
    "#An other way to create grouped bar chart\n",
    "genders = ['Female','Male']\n",
    "height_class1 = [1.6,1.8]\n",
    "height_class2 = [1.5,1.9]\n",
    "\n",
    "figure_grouped2=go.Figure() #create an empty figure\n",
    "\n",
    "figure_grouped2.add_trace(go.Bar(x=genders,y=height_class1,name='class1'))\n",
    "figure_grouped2.add_trace(go.Bar(x=genders,y=height_class2,name='class2'))\n",
    "\n",
    "figure_grouped.show()"
   ]
  },
  {
   "cell_type": "code",
   "execution_count": null,
   "metadata": {},
   "outputs": [],
   "source": [
    "#Stacked/Relative bar chart by re-defining \"barmode\" in layout\n",
    "activities = ['study','entertainment']\n",
    "mobile = [1.2,4.2]\n",
    "laptop= [3.5,1.6]\n",
    "\n",
    "trace1 = go.Bar(x=activities,y=mobile,name='mobile')\n",
    "trace2 = go.Bar(x=activities,y=laptop,name='laptop')\n",
    "\n",
    "layout_stack = go.Layout(barmode='stack')\n",
    "figure_stack = go.Figure(data=[trace1,trace2],layout=layout_stack)\n",
    "\n",
    "figure_stack.show()"
   ]
  },
  {
   "cell_type": "code",
   "execution_count": null,
   "metadata": {},
   "outputs": [],
   "source": [
    "#How can I display the time spent on each activity as the data labels on the above graph?\n",
    "\n"
   ]
  },
  {
   "cell_type": "code",
   "execution_count": null,
   "metadata": {},
   "outputs": [],
   "source": [
    "#100% Stacked bar chart by re-defining \"barnorm\" as \"fraction\" in layout\n",
    "layout_stack = go.Layout(barmode='stack',barnorm='fraction')\n",
    "figure_stack = go.Figure(data=[trace1,trace2],layout=layout_stack)\n",
    "\n",
    "figure_stack.show()"
   ]
  },
  {
   "cell_type": "code",
   "execution_count": null,
   "metadata": {},
   "outputs": [],
   "source": [
    "#Add percentage marks to all ticks on y axis\n",
    "layout_stack = go.Layout(barmode='stack',barnorm='fraction',yaxis={'tickformat':'0%'})\n",
    "figure_stack = go.Figure(data=[trace1,trace2],layout=layout_stack)\n",
    "\n",
    "figure_stack.show()"
   ]
  },
  {
   "cell_type": "markdown",
   "metadata": {},
   "source": [
    "#### Exercise:\n",
    "---\n",
    " Read \"Hong Kong Census Educational Attainment.csv\".\n",
    "    <p>Create a bar chart to visualize the percentages of different education levels in different years, i.e. 2006, 2011 and 2016. The bar chart should meet following requirements:</p>\n",
    "    1. Each bar represents a year<br>\n",
    "    2. 100% Stacked bar chart: higher education levels stacked on top of lower ones and the bar's full length is 100%<br>\n",
    "</font>"
   ]
  },
  {
   "cell_type": "code",
   "execution_count": null,
   "metadata": {},
   "outputs": [],
   "source": [
    "#Write down your code here\n",
    "\n"
   ]
  },
  {
   "cell_type": "markdown",
   "metadata": {},
   "source": [
    "***"
   ]
  },
  {
   "cell_type": "markdown",
   "metadata": {},
   "source": [
    "## Break"
   ]
  },
  {
   "cell_type": "markdown",
   "metadata": {},
   "source": [
    "***"
   ]
  },
  {
   "cell_type": "markdown",
   "metadata": {},
   "source": [
    "## Scatter Plot\n",
    "- A scatter plot uses dots to represent values for two different variables, i.e. x and y.\n",
    "- You need to specify the mode to be either \"markers\" or \"lines\" or \"markers+lines\"\n",
    "- For more details: https://plot.ly/python/reference/#scatter"
   ]
  },
  {
   "cell_type": "code",
   "execution_count": null,
   "metadata": {},
   "outputs": [],
   "source": [
    "#create your first scatter plot\n",
    "list1=[1,2,3,4,5]\n",
    "list2=[10,22,34,40,50]\n",
    "\n",
    "trace1=go.Scatter(x=list1,y=list2,mode='markers') #mode='lines','markers','lines+markers'\n",
    "figure1=go.Figure(data=trace1)\n",
    "figure1.show()"
   ]
  },
  {
   "cell_type": "code",
   "execution_count": null,
   "metadata": {},
   "outputs": [],
   "source": [
    "#try changing the mode to \"lines\" and \"markers+lines\"\n",
    "\n"
   ]
  },
  {
   "cell_type": "code",
   "execution_count": null,
   "metadata": {},
   "outputs": [],
   "source": [
    "#style the markers\n",
    "trace2=go.Scatter(x=list1,y=list2,mode='markers',marker={'color':'red','size':10})\n",
    "figure2=go.Figure(data=trace2)\n",
    "figure2.show()"
   ]
  },
  {
   "cell_type": "code",
   "execution_count": null,
   "metadata": {},
   "outputs": [],
   "source": [
    "#assign different sizes and colors to markers\n",
    "#color values do not need to be categorical colors. you can also provide numbers to set colors\n",
    "trace3=go.Scatter(x=list1,y=list2,mode='markers',marker={'color':list1,'size':list2})\n",
    "figure3=go.Figure(data=trace3)\n",
    "figure3.show()"
   ]
  },
  {
   "cell_type": "code",
   "execution_count": null,
   "metadata": {},
   "outputs": [],
   "source": [
    "#Add titles to X and Y axes\n",
    "layout_2d=go.Layout(xaxis={\"title\":\"weight\"},yaxis={\"title\":\"height\"})\n",
    "figure4=go.Figure(data=trace3,layout=layout_2d)\n",
    "figure4.show()"
   ]
  },
  {
   "cell_type": "code",
   "execution_count": null,
   "metadata": {},
   "outputs": [],
   "source": [
    "#You can also create a 3D scatter plot\n",
    "list1=[1,2,3,4,5]\n",
    "list2=[10,22,34,40,50]\n",
    "list3=[2,3,4,5,6]\n",
    "\n",
    "trace5=go.Scatter3d(x=list1,y=list2,z=list3,mode='markers')\n",
    "figure5=go.Figure(data=trace5)\n",
    "figure5.show()"
   ]
  },
  {
   "cell_type": "code",
   "execution_count": null,
   "metadata": {},
   "outputs": [],
   "source": [
    "#Change axis titles by referring to \"scene\" attribute\n",
    "layout_3d=go.Layout(scene={'xaxis':{'title':'length'},\n",
    "                           'yaxis':{'title':'width'},\n",
    "                           'zaxis':{'title':'height'}})\n",
    "figure6=go.Figure(data=trace5,layout=layout_3d)\n",
    "figure6.show()"
   ]
  },
  {
   "cell_type": "markdown",
   "metadata": {},
   "source": [
    "#### <font style=\"color: blue\">Exercise:</font>\n",
    "---\n",
    "<font style=\"color: blue\"> <font style=\"color: blue\"> Please download box office data from <a href='https://juniorworld.github.io/python-workshop/doc/movies.csv'>https://juniorworld.github.io/python-workshop/doc/movies.csv</a>.\n",
    "    <p>Create a 3D scatter plot to visualize these movies. The scatter plot should meet following requirements:</p>\n",
    "    1. X axis represents \"Production Budget\"<br>\n",
    "    2. Y axis represents \"Box Office\"<br>\n",
    "    3. Z axis represents \"ROI\" (Return on Investment)<br>\n",
    "    4. Size scatters according to their \"IMDB Ratings\"<br>\n",
    "    5. Color scatters according to their \"Genre\"<br>\n",
    "    6. [Optional] Name scatters after movies\n",
    "</font>"
   ]
  },
  {
   "cell_type": "code",
   "execution_count": null,
   "metadata": {},
   "outputs": [],
   "source": [
    "#Write your code here\n",
    "\n"
   ]
  },
  {
   "cell_type": "markdown",
   "metadata": {},
   "source": [
    "## Line Chart\n",
    "In Plot.ly, line chart is defined as **a special scatter plot** whose scatters are connected by lines.\n",
    "<br>For more details: https://plot.ly/python/reference/#scatter"
   ]
  },
  {
   "cell_type": "code",
   "execution_count": null,
   "metadata": {},
   "outputs": [],
   "source": [
    "#create your first line chart\n",
    "trace1=go.Scatter(x=list1,y=list2,mode='lines') #mode='lines','markers','lines+markers'\n",
    "figure1=go.Figure(data=trace1)\n",
    "figure1.show()"
   ]
  },
  {
   "cell_type": "code",
   "execution_count": null,
   "metadata": {},
   "outputs": [],
   "source": [
    "#make it a dashed line by re-defining the \"dash\" parameters in \"line\"\n",
    "#Alternative shapes: \"solid\", \"dot\", \"dash\", \"longdash\", \"dashdot\", or \"longdashdot\"\n",
    "trace2=go.Scatter(x=list1,y=list2,mode='lines',line={'dash':'dash'})\n",
    "figure2=go.Figure(data=trace2)\n",
    "figure2.show()"
   ]
  },
  {
   "cell_type": "code",
   "execution_count": null,
   "metadata": {},
   "outputs": [],
   "source": [
    "#fill the area between line and X axis\n",
    "list1=[1,2,3]\n",
    "list3=[-10,22,34]\n",
    "trace3=go.Scatter(x=list1,y=list3,mode='lines',fill='tozeroy')\n",
    "figure3=go.Figure(data=trace3)\n",
    "figure3.show()"
   ]
  },
  {
   "cell_type": "code",
   "execution_count": null,
   "metadata": {},
   "outputs": [],
   "source": [
    "#display two lines\n",
    "#line1: x=list1, y=list4\n",
    "#line2: x=list1, y=list5\n",
    "list1=[1,2,3]\n",
    "list4=[10,22,34]\n",
    "list5=[34,22,10]\n",
    "\n"
   ]
  },
  {
   "cell_type": "markdown",
   "metadata": {},
   "source": [
    "#### <font style=\"color: blue\">Exercise:</font>\n",
    "---\n",
    "<font style=\"color: blue\"> <font style=\"color: blue\"> Please download stock price data from <a href='https://juniorworld.github.io/python-workshop/doc/stock.csv'>https://juniorworld.github.io/python-workshop/doc/stock.csv</a>.<br>\n",
    "    Create a figure with five lines showing the trends of the five listed companies. Name each line after the associated companies.\n",
    "</font>"
   ]
  },
  {
   "cell_type": "code",
   "execution_count": null,
   "metadata": {},
   "outputs": [],
   "source": [
    "#Write your code here\n",
    "\n",
    "\n"
   ]
  },
  {
   "cell_type": "markdown",
   "metadata": {},
   "source": [
    "***"
   ]
  },
  {
   "cell_type": "markdown",
   "metadata": {},
   "source": [
    "## Break"
   ]
  },
  {
   "cell_type": "markdown",
   "metadata": {},
   "source": [
    "***"
   ]
  },
  {
   "cell_type": "markdown",
   "metadata": {},
   "source": [
    "## Map\n",
    "We will learn two types of maps: scatter map and filled map. Scatter map is to show scattering points on the geo map while filled map is to show the value of a region by changing its color on the map.\n",
    "<br>\n",
    "\n",
    "Plotly supports two different kinds of maps:\n",
    "\n",
    "- Mapbox maps are tile-based maps. There are a variety of fancy maps that you can project your data on.\n",
    "- Geo maps are outline-based maps. Basic maps.\n",
    "\n",
    "For more details: https://plot.ly/python/reference/#scattermapbox and https://plot.ly/python/reference/#choropleth"
   ]
  },
  {
   "cell_type": "markdown",
   "metadata": {},
   "source": [
    "### 1. Scatter Map"
   ]
  },
  {
   "cell_type": "markdown",
   "metadata": {},
   "source": [
    "We will rely on a built-in tool in plot.ly, named \"mapbox\". Mapbox is an independent IT company focusing on developing GIS-related service. It has connections with plot.ly, IBM, and Google to provide far-reaching and accessible tools in their platforms. To use its service, you need to register for a free account at https://mapbox.com/ and obtain a Mapbox Access token."
   ]
  },
  {
   "cell_type": "markdown",
   "metadata": {},
   "source": [
    "Please read this table: <a href='https://juniorworld.github.io/python-workshop/doc/china_cities.csv'>https://juniorworld.github.io/python-workshop/doc/china_cities.csv</a><br>\n",
    "This table contains 170 cities with more than 3 million residents."
   ]
  },
  {
   "cell_type": "code",
   "execution_count": null,
   "metadata": {},
   "outputs": [],
   "source": [
    "mapbox_token='fill in your token here'"
   ]
  },
  {
   "cell_type": "code",
   "execution_count": null,
   "metadata": {},
   "outputs": [],
   "source": [
    "city_table=pd.read_csv(\"https://juniorworld.github.io/python-workshop/doc/china_cities.csv\")"
   ]
  },
  {
   "cell_type": "code",
   "execution_count": null,
   "metadata": {},
   "outputs": [],
   "source": [
    "trace=go.Scattermapbox(lat=city_table['lat'],\n",
    "                       lon=city_table['lng'],\n",
    "                       text=city_table['city'],\n",
    "                       marker={'size':city_table['population']})\n",
    "\n",
    "layout_mapbox = go.Layout(\n",
    "    mapbox={\n",
    "           'accesstoken':mapbox_token,\n",
    "           'style':'dark', #basic, streets, outdoors, light, dark, satellite, satellite-streets\n",
    "           'center':{'lat':city_table['lat'].iloc[0],'lon':city_table['lng'].iloc[0]},\n",
    "           'zoom':3\n",
    "    },\n",
    "    showlegend=False\n",
    ")\n",
    "figure=go.Figure(data=trace,layout=layout_mapbox)\n",
    "figure.show()"
   ]
  },
  {
   "cell_type": "markdown",
   "metadata": {},
   "source": [
    "#### Exercise\n",
    "Read this table of HK bus stops: <a href='https://juniorworld.github.io/python-workshop/doc/HK_Bus_Stops.csv'>https://juniorworld.github.io/python-workshop/doc/HK_Bus_Stops.csv</a><br>\n",
    "1. Create a Mapbox scatter plot of HK bus stops. \n",
    "2. Resize the dots to one-fifth of their bus fares, e.g. if the bus fare is 20, the dot size is 4\n",
    "3. Center the map on the **11th** stop in the table.\n",
    "4. Change the zoom ratio to 10"
   ]
  },
  {
   "cell_type": "code",
   "execution_count": null,
   "metadata": {},
   "outputs": [],
   "source": [
    "#Write your code here\n",
    "\n"
   ]
  },
  {
   "cell_type": "markdown",
   "metadata": {},
   "source": [
    "### 2. Filled Map\n",
    "Fill regions on the map with certain colors to represent the statistics. This type of map has an academic name of \"choropleth map\".<br>\n",
    "Please read the human freedom index table from: https://juniorworld.github.io/python-workshop/doc/human-freedom-index.csv"
   ]
  },
  {
   "cell_type": "code",
   "execution_count": null,
   "metadata": {},
   "outputs": [],
   "source": [
    "freedom_table=pd.read_csv('https://juniorworld.github.io/python-workshop/doc/human-freedom-index.csv')"
   ]
  },
  {
   "cell_type": "code",
   "execution_count": null,
   "metadata": {},
   "outputs": [],
   "source": [
    "freedom_table.head() #first column, i.e. iso contry code, can be used to create a map."
   ]
  },
  {
   "cell_type": "code",
   "execution_count": null,
   "metadata": {},
   "outputs": [],
   "source": [
    "trace=go.Choropleth(\n",
    "        locations=freedom_table['ISO_code'],\n",
    "        z=freedom_table['human freedom'],\n",
    "        text=freedom_table['countries']\n",
    "        \n",
    ")\n",
    "figure=go.Figure(data=trace)\n",
    "figure.show()"
   ]
  },
  {
   "cell_type": "code",
   "execution_count": null,
   "metadata": {},
   "outputs": [],
   "source": [
    "#change color scale\n",
    "trace=go.Choropleth(\n",
    "        locations=freedom_table['ISO_code'],\n",
    "        z=freedom_table['human freedom'],\n",
    "        text=freedom_table['countries'],\n",
    "        colorscale='RdBu'\n",
    "        \n",
    ")\n",
    "figure=go.Figure(data=trace)\n",
    "figure.show()"
   ]
  },
  {
   "cell_type": "code",
   "execution_count": null,
   "metadata": {},
   "outputs": [],
   "source": [
    "#try other alternative types of projection in the map layout\n",
    "#Alternative types: 'equirectangular', 'mercator', 'orthographic', 'natural earth', 'kavrayskiy7', 'miller', 'robinson',\n",
    "#'eckert4', 'azimuthal equal area', 'azimuthal equidistant', 'conic equal area', 'conic conformal', 'conic equidistant', \n",
    "#'gnomonic', 'stereographic', 'mollweide', 'hammer', 'transverse mercator', 'albers usa', 'winkel tripel', 'aitoff', 'sinusoidal'\n",
    "trace=go.Choropleth(\n",
    "        locations=freedom_table['ISO_code'],\n",
    "        z=freedom_table['human freedom'],\n",
    "        text=freedom_table['countries'],\n",
    "        colorscale='RdBu',\n",
    "        marker={'line':{'color':'white','width':0.2}}\n",
    "        \n",
    ")\n",
    "layout_alternative=go.Layout(geo={'projection':{'type':'orthographic'}})\n",
    "figure=go.Figure(data=trace,layout=layout_alternative)\n",
    "figure.show()"
   ]
  },
  {
   "cell_type": "markdown",
   "metadata": {},
   "source": [
    "#### <font style=\"color: blue\">Practice:</font>\n",
    "---\n",
    "<font style=\"color: blue\">Please create a world map representing the GDP values of the countries recorded in freedom_table. The map should meet following requirements:<br>\n",
    "    1. colorscale = Reds<br>\n",
    "    2. projection type: natural earth\n",
    "</font>"
   ]
  },
  {
   "cell_type": "code",
   "execution_count": null,
   "metadata": {},
   "outputs": [],
   "source": [
    "#Write your code here\n",
    "\n",
    "\n",
    "\n"
   ]
  },
  {
   "cell_type": "markdown",
   "metadata": {},
   "source": [
    "## Histogram\n",
    "Histogram is a special type of bar chart where one's y value is its count. It is used to show data distribution: viusalize the skewness and central tendency.\n",
    "<br>For more details: https://plot.ly/python/reference/#histogram"
   ]
  },
  {
   "cell_type": "code",
   "execution_count": null,
   "metadata": {},
   "outputs": [],
   "source": [
    "a=[1,2,3,3,4,4,4,5,5,6,7,3,3,2]\n",
    "trace=go.Histogram(x=a)\n",
    "figure=go.Figure(data=trace)\n",
    "figure.show()"
   ]
  },
  {
   "cell_type": "code",
   "execution_count": null,
   "metadata": {},
   "outputs": [],
   "source": [
    "#Change the bins by re-defining \"size\" parameter in xbins\n",
    "trace2=go.Histogram(x=a,xbins={'size':1})\n",
    "figure2=go.Figure(data=trace2)\n",
    "figure2.show()"
   ]
  },
  {
   "cell_type": "code",
   "execution_count": null,
   "metadata": {},
   "outputs": [],
   "source": [
    "#Convert into a 100% Histogram whose y value is percentage of getting a value\n",
    "#Re-define the \"histnorm\" to a \"percent\" mode\n",
    "trace3=go.Histogram(x=a,xbins={'size':1},histnorm='probability')\n",
    "layout_percent=go.Layout(yaxis={'tickformat':'0%'})\n",
    "figure=go.Figure(data=trace3,layout=layout_percent)\n",
    "figure.show()"
   ]
  },
  {
   "cell_type": "code",
   "execution_count": null,
   "metadata": {},
   "outputs": [],
   "source": [
    "#Decrease every element in \"a\" by one unit to create a new list \"b\"\n",
    "#Grouped Histogram\n",
    "a=[1,2,3,3,4,4,4,5,5,6,7,3,3,2]\n",
    "b=[0,1,2,2,3,3,3,4,4,5,6,2,2,1]\n",
    "\n",
    "trace1=go.Histogram(x=a,xbins={'size':1})\n",
    "trace2=go.Histogram(x=b,xbins={'size':1})\n",
    "\n",
    "figure=go.Figure(data=[trace1,trace2])\n",
    "figure.show()"
   ]
  },
  {
   "cell_type": "code",
   "execution_count": null,
   "metadata": {},
   "outputs": [],
   "source": [
    "#Overlay Histogram of a and b\n",
    "#Increase the transparency by re-defining \"opacity\" parameter\n",
    "#Change color by re-defining \"color\" parameter in \"marker\"\n",
    "#Change the value of \"barmode\" parameter in layout to \"overlay\"\n",
    "\n",
    "trace1=go.Histogram(x=a,xbins={'size':1},opacity=0.5,marker={'color':'blue'})\n",
    "trace2=go.Histogram(x=b,xbins={'size':1},opacity=0.5,marker={'color':'red'})\n",
    "\n",
    "layout=go.Layout(barmode='overlay')\n",
    "\n",
    "figure=go.Figure(data=[trace1,trace2])\n",
    "figure.show()"
   ]
  },
  {
   "cell_type": "markdown",
   "metadata": {},
   "source": [
    "#### Exercise:\n",
    "---\n",
    "Please download YouTube Popularity data from <a href='https://juniorworld.github.io/python-workshop/doc/Youtube.csv'>https://juniorworld.github.io/python-workshop/doc/Youtube.csv</a>.<br>\n",
    "Create three Histograms to visualize the distribution of views, likes, dislikes and comments. The histograms should meet following requirements:<br>\n",
    "    1. One basic histogram to show distribution of \"views\"<br>\n",
    "    2. One basic histogram to show distribution of \"log(views)\"<br>\n",
    "    3. One 100% overlay histogram to show distributions of log(likes), log(dislikes) and log(comments)<br>\n",
    "\n",
    "_Hint: to apply logarithmic transformation, you can use numpy's log10 function. For example: to calcualte the logrithm of a variable \"a\"._\n",
    ">```python\n",
    "import numpy as np\n",
    "a=np.log10(a)\n",
    "```"
   ]
  },
  {
   "cell_type": "code",
   "execution_count": null,
   "metadata": {
    "scrolled": false
   },
   "outputs": [],
   "source": [
    "#Write your code here\n",
    "\n"
   ]
  },
  {
   "cell_type": "markdown",
   "metadata": {},
   "source": [
    "<div class=\"alert alert-block alert-info\">\n",
    "**<b>Tips</b>** Two tools to better work with colors in Python:\n",
    "    <br>1. W3S color palette: https://www.w3schools.com/colors/colors_palettes.asp\n",
    "<br>2. colorlover: https://github.com/jackparmer/colorlover</div>"
   ]
  }
 ],
 "metadata": {
  "kernelspec": {
   "display_name": "Python 3 (ipykernel)",
   "language": "python",
   "name": "python3"
  },
  "language_info": {
   "codemirror_mode": {
    "name": "ipython",
    "version": 3
   },
   "file_extension": ".py",
   "mimetype": "text/x-python",
   "name": "python",
   "nbconvert_exporter": "python",
   "pygments_lexer": "ipython3",
   "version": "3.10.9"
  },
  "widgets": {
   "application/vnd.jupyter.widget-state+json": {
    "state": {
     "080e2c47f8ad43f8af72a4742cf1e138": {
      "model_module": "@jupyter-widgets/controls",
      "model_module_version": "1.4.0",
      "model_name": "CheckboxModel",
      "state": {
       "description": "float -> integer",
       "disabled": false,
       "layout": "IPY_MODEL_d1bb9617ca9a469293c3d7872e048cf5",
       "style": "IPY_MODEL_46b4655aef3d497f97d962708c65df33",
       "value": false
      }
     },
     "09ce660d36034e27a17d579f4c9f9ab7": {
      "model_module": "@jupyter-widgets/base",
      "model_module_version": "1.1.0",
      "model_name": "LayoutModel",
      "state": {}
     },
     "0fc283fcb76f4be3a960745eed2085fa": {
      "model_module": "@jupyter-widgets/base",
      "model_module_version": "1.1.0",
      "model_name": "LayoutModel",
      "state": {}
     },
     "0fe58378d42648d0b73ff0f6454e0057": {
      "model_module": "@jupyter-widgets/base",
      "model_module_version": "1.1.0",
      "model_name": "LayoutModel",
      "state": {}
     },
     "12f31b4141844a6ea96726c39acc5e30": {
      "model_module": "@jupyter-widgets/controls",
      "model_module_version": "1.4.0",
      "model_name": "CheckboxModel",
      "state": {
       "description": "list -> boolean",
       "disabled": false,
       "layout": "IPY_MODEL_78ab52ea991743b590e8322cb50a6f7c",
       "style": "IPY_MODEL_f73a070b6b814a358c1e6a2c1b5176d3",
       "value": false
      }
     },
     "1b2c6cab5f134194b9263db4b76a30f9": {
      "model_module": "@jupyter-widgets/controls",
      "model_module_version": "1.4.0",
      "model_name": "CheckboxModel",
      "state": {
       "description": "string -> list",
       "disabled": false,
       "layout": "IPY_MODEL_dc3500e672b441f184cb66c9164f46c5",
       "style": "IPY_MODEL_3dbcc07594dc4af69db3bd8ed0488aab",
       "value": false
      }
     },
     "2402d123a94a4e88a71a9241817b4ddd": {
      "model_module": "@jupyter-widgets/controls",
      "model_module_version": "1.4.0",
      "model_name": "CheckboxModel",
      "state": {
       "description": "list -> integer",
       "disabled": false,
       "layout": "IPY_MODEL_588e4cdc3f85445587c599183cef6b82",
       "style": "IPY_MODEL_48f6441a930a4442b8a9774607eb2607",
       "value": false
      }
     },
     "263851430804425ba4c9912992ba392e": {
      "model_module": "@jupyter-widgets/controls",
      "model_module_version": "1.4.0",
      "model_name": "VBoxModel",
      "state": {
       "children": [
        "IPY_MODEL_331a9e88e84d4657901d770b98811c89",
        "IPY_MODEL_dd3cd9d0b4da42e38851025c52c016d7",
        "IPY_MODEL_c7f9522104d044b2865c5b5ace3b5838",
        "IPY_MODEL_1b2c6cab5f134194b9263db4b76a30f9"
       ],
       "layout": "IPY_MODEL_f95f5547e73b4ebebb45141e029cd7fa"
      }
     },
     "2d169e7d0d824f619d6fe9134201dc49": {
      "model_module": "@jupyter-widgets/controls",
      "model_module_version": "1.4.0",
      "model_name": "DescriptionStyleModel",
      "state": {
       "description_width": ""
      }
     },
     "2e47d0304aa142c68ae79ce9af1e5de0": {
      "model_module": "@jupyter-widgets/controls",
      "model_module_version": "1.4.0",
      "model_name": "CheckboxModel",
      "state": {
       "description": "integer -> string",
       "disabled": false,
       "layout": "IPY_MODEL_d2a31aff6ca44e299e4d3b3e0a688e0e",
       "style": "IPY_MODEL_86e22148b4ea403a9965d15f61ed7773",
       "value": false
      }
     },
     "2e65245b455242068b5d5e5121a66778": {
      "model_module": "@jupyter-widgets/controls",
      "model_module_version": "1.4.0",
      "model_name": "DescriptionStyleModel",
      "state": {
       "description_width": ""
      }
     },
     "31896adee2084ee8a38b6c7dca0bd78e": {
      "model_module": "@jupyter-widgets/controls",
      "model_module_version": "1.4.0",
      "model_name": "DescriptionStyleModel",
      "state": {
       "description_width": ""
      }
     },
     "32e66f8a5302444d9741b0b052a23fa7": {
      "model_module": "@jupyter-widgets/base",
      "model_module_version": "1.1.0",
      "model_name": "LayoutModel",
      "state": {}
     },
     "331a9e88e84d4657901d770b98811c89": {
      "model_module": "@jupyter-widgets/controls",
      "model_module_version": "1.4.0",
      "model_name": "CheckboxModel",
      "state": {
       "description": "string -> integer",
       "disabled": false,
       "layout": "IPY_MODEL_8b1fad754fa14059b682ca11c1469f8f",
       "style": "IPY_MODEL_a6eebb365fae434bba48e3fb56f3797d",
       "value": false
      }
     },
     "33c5cdcf55fb4721a57a50c2a5b5598a": {
      "model_module": "@jupyter-widgets/base",
      "model_module_version": "1.1.0",
      "model_name": "LayoutModel",
      "state": {}
     },
     "3730c393db284068afb44c0336c9fe69": {
      "model_module": "@jupyter-widgets/controls",
      "model_module_version": "1.4.0",
      "model_name": "CheckboxModel",
      "state": {
       "description": "boolean -> float",
       "disabled": false,
       "layout": "IPY_MODEL_33c5cdcf55fb4721a57a50c2a5b5598a",
       "style": "IPY_MODEL_8ac5c8abd45b45468472270c97163281",
       "value": false
      }
     },
     "3bcbe7f5655b48ec8a0e11a971305e5b": {
      "model_module": "@jupyter-widgets/controls",
      "model_module_version": "1.4.0",
      "model_name": "CheckboxModel",
      "state": {
       "description": "float -> list",
       "disabled": false,
       "layout": "IPY_MODEL_d0a3786bf784405d8a3b1d62fff9d4df",
       "style": "IPY_MODEL_eb9e207aef45431d979929a70d6dcdfe",
       "value": false
      }
     },
     "3dbcc07594dc4af69db3bd8ed0488aab": {
      "model_module": "@jupyter-widgets/controls",
      "model_module_version": "1.4.0",
      "model_name": "DescriptionStyleModel",
      "state": {
       "description_width": ""
      }
     },
     "4639370494564980a83c25276bf1c525": {
      "model_module": "@jupyter-widgets/controls",
      "model_module_version": "1.4.0",
      "model_name": "VBoxModel",
      "state": {
       "children": [
        "IPY_MODEL_78281b8599ef48e0ad7504242d9ec655",
        "IPY_MODEL_3730c393db284068afb44c0336c9fe69",
        "IPY_MODEL_dd92bb017b4a443cb4a32e6e96346ad6",
        "IPY_MODEL_d440a7f911d04b60a5ea23a47cac51d5",
        "IPY_MODEL_2402d123a94a4e88a71a9241817b4ddd",
        "IPY_MODEL_4756cdff64d0476eb778792ceafed665",
        "IPY_MODEL_12f31b4141844a6ea96726c39acc5e30",
        "IPY_MODEL_95012cc5cabb42c7b78294c683a57edb"
       ],
       "layout": "IPY_MODEL_ea32c50591e04ef984c8538179c8750b"
      }
     },
     "46b4655aef3d497f97d962708c65df33": {
      "model_module": "@jupyter-widgets/controls",
      "model_module_version": "1.4.0",
      "model_name": "DescriptionStyleModel",
      "state": {
       "description_width": ""
      }
     },
     "4756cdff64d0476eb778792ceafed665": {
      "model_module": "@jupyter-widgets/controls",
      "model_module_version": "1.4.0",
      "model_name": "CheckboxModel",
      "state": {
       "description": "list -> float",
       "disabled": false,
       "layout": "IPY_MODEL_781854e64bce447ea5646b2a2d37a21e",
       "style": "IPY_MODEL_63b666b6466f49a787ce5b4f04ecf795",
       "value": false
      }
     },
     "48f237b0a5e843a286d0c2061a771cda": {
      "model_module": "@jupyter-widgets/base",
      "model_module_version": "1.1.0",
      "model_name": "LayoutModel",
      "state": {}
     },
     "48f6441a930a4442b8a9774607eb2607": {
      "model_module": "@jupyter-widgets/controls",
      "model_module_version": "1.4.0",
      "model_name": "DescriptionStyleModel",
      "state": {
       "description_width": ""
      }
     },
     "524e0a435d7e4ead92056561e3013788": {
      "model_module": "@jupyter-widgets/controls",
      "model_module_version": "1.4.0",
      "model_name": "DescriptionStyleModel",
      "state": {
       "description_width": ""
      }
     },
     "563a591ca8f449e1a238a611497977a4": {
      "model_module": "@jupyter-widgets/controls",
      "model_module_version": "1.4.0",
      "model_name": "HBoxModel",
      "state": {
       "children": [
        "IPY_MODEL_aadb0e9a766b4ff88e2c66572d38a37d",
        "IPY_MODEL_4639370494564980a83c25276bf1c525",
        "IPY_MODEL_263851430804425ba4c9912992ba392e"
       ],
       "layout": "IPY_MODEL_5c3803e3ce814277b676f43f4079bc38"
      }
     },
     "588e4cdc3f85445587c599183cef6b82": {
      "model_module": "@jupyter-widgets/base",
      "model_module_version": "1.1.0",
      "model_name": "LayoutModel",
      "state": {}
     },
     "5c3803e3ce814277b676f43f4079bc38": {
      "model_module": "@jupyter-widgets/base",
      "model_module_version": "1.1.0",
      "model_name": "LayoutModel",
      "state": {}
     },
     "63b666b6466f49a787ce5b4f04ecf795": {
      "model_module": "@jupyter-widgets/controls",
      "model_module_version": "1.4.0",
      "model_name": "DescriptionStyleModel",
      "state": {
       "description_width": ""
      }
     },
     "781854e64bce447ea5646b2a2d37a21e": {
      "model_module": "@jupyter-widgets/base",
      "model_module_version": "1.1.0",
      "model_name": "LayoutModel",
      "state": {}
     },
     "78281b8599ef48e0ad7504242d9ec655": {
      "model_module": "@jupyter-widgets/controls",
      "model_module_version": "1.4.0",
      "model_name": "CheckboxModel",
      "state": {
       "description": "boolean -> integer",
       "disabled": false,
       "layout": "IPY_MODEL_a06e54ff34914ffcbfae071fb4de80ed",
       "style": "IPY_MODEL_524e0a435d7e4ead92056561e3013788",
       "value": false
      }
     },
     "78ab52ea991743b590e8322cb50a6f7c": {
      "model_module": "@jupyter-widgets/base",
      "model_module_version": "1.1.0",
      "model_name": "LayoutModel",
      "state": {}
     },
     "86e22148b4ea403a9965d15f61ed7773": {
      "model_module": "@jupyter-widgets/controls",
      "model_module_version": "1.4.0",
      "model_name": "DescriptionStyleModel",
      "state": {
       "description_width": ""
      }
     },
     "888434c979f04e12aac8f2646c93369f": {
      "model_module": "@jupyter-widgets/controls",
      "model_module_version": "1.4.0",
      "model_name": "DescriptionStyleModel",
      "state": {
       "description_width": ""
      }
     },
     "8ac5c8abd45b45468472270c97163281": {
      "model_module": "@jupyter-widgets/controls",
      "model_module_version": "1.4.0",
      "model_name": "DescriptionStyleModel",
      "state": {
       "description_width": ""
      }
     },
     "8b1fad754fa14059b682ca11c1469f8f": {
      "model_module": "@jupyter-widgets/base",
      "model_module_version": "1.1.0",
      "model_name": "LayoutModel",
      "state": {}
     },
     "911eb96c40f744bfa93164cdc9cac0f5": {
      "model_module": "@jupyter-widgets/controls",
      "model_module_version": "1.4.0",
      "model_name": "DescriptionStyleModel",
      "state": {
       "description_width": ""
      }
     },
     "95012cc5cabb42c7b78294c683a57edb": {
      "model_module": "@jupyter-widgets/controls",
      "model_module_version": "1.4.0",
      "model_name": "CheckboxModel",
      "state": {
       "description": "list -> string",
       "disabled": false,
       "layout": "IPY_MODEL_0fc283fcb76f4be3a960745eed2085fa",
       "style": "IPY_MODEL_feb0b4e84a17424ea6790a8a6dbd7139",
       "value": false
      }
     },
     "980b04576b014e998b763b98e353141f": {
      "model_module": "@jupyter-widgets/controls",
      "model_module_version": "1.4.0",
      "model_name": "DescriptionStyleModel",
      "state": {
       "description_width": ""
      }
     },
     "9b9fd7a1d0174c0d9843763e900aab5a": {
      "model_module": "@jupyter-widgets/controls",
      "model_module_version": "1.4.0",
      "model_name": "DescriptionStyleModel",
      "state": {
       "description_width": ""
      }
     },
     "a06e54ff34914ffcbfae071fb4de80ed": {
      "model_module": "@jupyter-widgets/base",
      "model_module_version": "1.1.0",
      "model_name": "LayoutModel",
      "state": {}
     },
     "a6eebb365fae434bba48e3fb56f3797d": {
      "model_module": "@jupyter-widgets/controls",
      "model_module_version": "1.4.0",
      "model_name": "DescriptionStyleModel",
      "state": {
       "description_width": ""
      }
     },
     "a7caa6bc99b64fe485c43f75cea49f4b": {
      "model_module": "@jupyter-widgets/controls",
      "model_module_version": "1.4.0",
      "model_name": "CheckboxModel",
      "state": {
       "description": "integer -> list",
       "disabled": false,
       "layout": "IPY_MODEL_0fe58378d42648d0b73ff0f6454e0057",
       "style": "IPY_MODEL_911eb96c40f744bfa93164cdc9cac0f5",
       "value": false
      }
     },
     "aa34f9124dce4f2981ccdc41cfd2026b": {
      "model_module": "@jupyter-widgets/base",
      "model_module_version": "1.1.0",
      "model_name": "LayoutModel",
      "state": {}
     },
     "aadb0e9a766b4ff88e2c66572d38a37d": {
      "model_module": "@jupyter-widgets/controls",
      "model_module_version": "1.4.0",
      "model_name": "VBoxModel",
      "state": {
       "children": [
        "IPY_MODEL_ee2a141c799e4ab1ae864b4984b1992e",
        "IPY_MODEL_e6ac8cb0bd5c429d8b97840b0dae2523",
        "IPY_MODEL_a7caa6bc99b64fe485c43f75cea49f4b",
        "IPY_MODEL_2e47d0304aa142c68ae79ce9af1e5de0",
        "IPY_MODEL_080e2c47f8ad43f8af72a4742cf1e138",
        "IPY_MODEL_f6ff3964100241c19ac10dd537866b65",
        "IPY_MODEL_3bcbe7f5655b48ec8a0e11a971305e5b",
        "IPY_MODEL_b973e671a4fc4741bec46c7a4fc6801d"
       ],
       "layout": "IPY_MODEL_e4d0940ebbde4afea334bc5a50d58b77"
      }
     },
     "b973e671a4fc4741bec46c7a4fc6801d": {
      "model_module": "@jupyter-widgets/controls",
      "model_module_version": "1.4.0",
      "model_name": "CheckboxModel",
      "state": {
       "description": "float -> string",
       "disabled": false,
       "layout": "IPY_MODEL_e1517a5ece41466c962bd97efd23f41d",
       "style": "IPY_MODEL_d96e918c59714edca31e188fbdba400f",
       "value": false
      }
     },
     "c7f9522104d044b2865c5b5ace3b5838": {
      "model_module": "@jupyter-widgets/controls",
      "model_module_version": "1.4.0",
      "model_name": "CheckboxModel",
      "state": {
       "description": "string -> boolean",
       "disabled": false,
       "layout": "IPY_MODEL_48f237b0a5e843a286d0c2061a771cda",
       "style": "IPY_MODEL_2e65245b455242068b5d5e5121a66778",
       "value": false
      }
     },
     "ce97ddd4384242d7b4f4d8973f3d934d": {
      "model_module": "@jupyter-widgets/base",
      "model_module_version": "1.1.0",
      "model_name": "LayoutModel",
      "state": {}
     },
     "d0a3786bf784405d8a3b1d62fff9d4df": {
      "model_module": "@jupyter-widgets/base",
      "model_module_version": "1.1.0",
      "model_name": "LayoutModel",
      "state": {}
     },
     "d1bb9617ca9a469293c3d7872e048cf5": {
      "model_module": "@jupyter-widgets/base",
      "model_module_version": "1.1.0",
      "model_name": "LayoutModel",
      "state": {}
     },
     "d2a31aff6ca44e299e4d3b3e0a688e0e": {
      "model_module": "@jupyter-widgets/base",
      "model_module_version": "1.1.0",
      "model_name": "LayoutModel",
      "state": {}
     },
     "d440a7f911d04b60a5ea23a47cac51d5": {
      "model_module": "@jupyter-widgets/controls",
      "model_module_version": "1.4.0",
      "model_name": "CheckboxModel",
      "state": {
       "description": "boolean -> string",
       "disabled": false,
       "layout": "IPY_MODEL_d5598195117f439d8eed0dd556a546c3",
       "style": "IPY_MODEL_31896adee2084ee8a38b6c7dca0bd78e",
       "value": false
      }
     },
     "d5598195117f439d8eed0dd556a546c3": {
      "model_module": "@jupyter-widgets/base",
      "model_module_version": "1.1.0",
      "model_name": "LayoutModel",
      "state": {}
     },
     "d96e918c59714edca31e188fbdba400f": {
      "model_module": "@jupyter-widgets/controls",
      "model_module_version": "1.4.0",
      "model_name": "DescriptionStyleModel",
      "state": {
       "description_width": ""
      }
     },
     "dc3500e672b441f184cb66c9164f46c5": {
      "model_module": "@jupyter-widgets/base",
      "model_module_version": "1.1.0",
      "model_name": "LayoutModel",
      "state": {}
     },
     "dd3cd9d0b4da42e38851025c52c016d7": {
      "model_module": "@jupyter-widgets/controls",
      "model_module_version": "1.4.0",
      "model_name": "CheckboxModel",
      "state": {
       "description": "string -> float",
       "disabled": false,
       "layout": "IPY_MODEL_f30b1f4890d84faeb4ab78e1f01ebbed",
       "style": "IPY_MODEL_2d169e7d0d824f619d6fe9134201dc49",
       "value": false
      }
     },
     "dd92bb017b4a443cb4a32e6e96346ad6": {
      "model_module": "@jupyter-widgets/controls",
      "model_module_version": "1.4.0",
      "model_name": "CheckboxModel",
      "state": {
       "description": "boolean -> list",
       "disabled": false,
       "layout": "IPY_MODEL_32e66f8a5302444d9741b0b052a23fa7",
       "style": "IPY_MODEL_980b04576b014e998b763b98e353141f",
       "value": false
      }
     },
     "e1517a5ece41466c962bd97efd23f41d": {
      "model_module": "@jupyter-widgets/base",
      "model_module_version": "1.1.0",
      "model_name": "LayoutModel",
      "state": {}
     },
     "e39cc79c87574f648ea15c0c7ece4595": {
      "model_module": "@jupyter-widgets/controls",
      "model_module_version": "1.4.0",
      "model_name": "DescriptionStyleModel",
      "state": {
       "description_width": ""
      }
     },
     "e4d0940ebbde4afea334bc5a50d58b77": {
      "model_module": "@jupyter-widgets/base",
      "model_module_version": "1.1.0",
      "model_name": "LayoutModel",
      "state": {}
     },
     "e6ac8cb0bd5c429d8b97840b0dae2523": {
      "model_module": "@jupyter-widgets/controls",
      "model_module_version": "1.4.0",
      "model_name": "CheckboxModel",
      "state": {
       "description": "integer -> boolean",
       "disabled": false,
       "layout": "IPY_MODEL_ce97ddd4384242d7b4f4d8973f3d934d",
       "style": "IPY_MODEL_9b9fd7a1d0174c0d9843763e900aab5a",
       "value": false
      }
     },
     "ea32c50591e04ef984c8538179c8750b": {
      "model_module": "@jupyter-widgets/base",
      "model_module_version": "1.1.0",
      "model_name": "LayoutModel",
      "state": {}
     },
     "eb9e207aef45431d979929a70d6dcdfe": {
      "model_module": "@jupyter-widgets/controls",
      "model_module_version": "1.4.0",
      "model_name": "DescriptionStyleModel",
      "state": {
       "description_width": ""
      }
     },
     "ee2a141c799e4ab1ae864b4984b1992e": {
      "model_module": "@jupyter-widgets/controls",
      "model_module_version": "1.4.0",
      "model_name": "CheckboxModel",
      "state": {
       "description": "integer -> float",
       "disabled": false,
       "layout": "IPY_MODEL_09ce660d36034e27a17d579f4c9f9ab7",
       "style": "IPY_MODEL_e39cc79c87574f648ea15c0c7ece4595",
       "value": false
      }
     },
     "f30b1f4890d84faeb4ab78e1f01ebbed": {
      "model_module": "@jupyter-widgets/base",
      "model_module_version": "1.1.0",
      "model_name": "LayoutModel",
      "state": {}
     },
     "f6ff3964100241c19ac10dd537866b65": {
      "model_module": "@jupyter-widgets/controls",
      "model_module_version": "1.4.0",
      "model_name": "CheckboxModel",
      "state": {
       "description": "float -> boolean",
       "disabled": false,
       "layout": "IPY_MODEL_aa34f9124dce4f2981ccdc41cfd2026b",
       "style": "IPY_MODEL_888434c979f04e12aac8f2646c93369f",
       "value": false
      }
     },
     "f73a070b6b814a358c1e6a2c1b5176d3": {
      "model_module": "@jupyter-widgets/controls",
      "model_module_version": "1.4.0",
      "model_name": "DescriptionStyleModel",
      "state": {
       "description_width": ""
      }
     },
     "f95f5547e73b4ebebb45141e029cd7fa": {
      "model_module": "@jupyter-widgets/base",
      "model_module_version": "1.1.0",
      "model_name": "LayoutModel",
      "state": {}
     },
     "feb0b4e84a17424ea6790a8a6dbd7139": {
      "model_module": "@jupyter-widgets/controls",
      "model_module_version": "1.4.0",
      "model_name": "DescriptionStyleModel",
      "state": {
       "description_width": ""
      }
     }
    },
    "version_major": 2,
    "version_minor": 0
   }
  }
 },
 "nbformat": 4,
 "nbformat_minor": 2
}
