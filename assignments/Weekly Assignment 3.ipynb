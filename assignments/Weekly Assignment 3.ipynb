{
 "cells": [
  {
   "cell_type": "markdown",
   "metadata": {},
   "source": [
    "# Weekly Assignment 3"
   ]
  },
  {
   "cell_type": "markdown",
   "metadata": {},
   "source": [
    "## Lexicon-based Content Analysis"
   ]
  },
  {
   "cell_type": "markdown",
   "metadata": {},
   "source": [
    "_**Instruction**_\n",
    "<p>In this assignment, we are going to look into the content of inauguration speech to disentangle presidents' value priorities as well as their ideological orientations.</p>\n",
    "<p>Previous research (Jones et al., 2017) has identified ten clusters of values that are relevant to political ideology, as well as ten sets of keywords to gauge their magnitudes as follows:</p>\n",
    "\n",
    "|No.|Value|Keywords (example)|\n",
    "|:-----:|:-----:|:-----:|\n",
    "|1|Self-Direction|ability,accountability,freedom\n",
    "|2|Stimulation|action,active,confront\n",
    "|3|Hedonism|amusement,delight,gratification\n",
    "|4|Achievement|accomplish,attain,improve\n",
    "|5|Power|authorize,dominance,reign\n",
    "|6|Security|asylum,refuge,border,prison\n",
    "|7|Tradition|catholic,christian,jewish,patriot\n",
    "|8|Conformity|abide,mandate,rule,restraint\n",
    "|9|Benevolence|allegiance,altruism,sympathy\n",
    "|10|Universalism|equality,affordability,balances"
   ]
  },
  {
   "cell_type": "markdown",
   "metadata": {},
   "source": [
    "Please download the full file here:https://juniorworld.github.io/python-workshop/doc/Assignment2_Values.txt\n",
    "<p>File format: Every line refers to one value. Value and its keywords are separated by colon and function words are separated by comma.</p>\n",
    "\n",
    ">Value1:word1,word2,...\n",
    "<br>Value2:word1,word2,..."
   ]
  },
  {
   "cell_type": "markdown",
   "metadata": {},
   "source": [
    "## Q1 Read File and Create Dictionary\n",
    "Please import the file and generate a dictionary named \"<font style='color:red; font-weight:bold;'>value_dic</font>\" about the values. The dictionary should have ten elements. Each element contains a full list of keywords for a specific value. For example:\n",
    ">```python\n",
    "value_dic[\"Stimulation\"]=[\"action\",\"actions\",\"active\",\"activity\",\"adventure\",\"adventures\",\"adventuresome\",\"alive\",\"animate\",\"animated\",\"bold\",\"brave\",\"buzz\",\"challenge\",\"challenged\",\"challenges\",\"challenging\",\"change\",\"commotion\",\"confront\",\"confronted\",\"confronting\",\"confronts\",\"courage\",\"courageous\",\"dare\",\"dared\",\"dares\",\"daring\",\"defied\",\"defies\",\"defy\",\"defying\",\"diverse\",\"diversity\",\"elation\",\"encouragement\",\"encouraging\",\"energetic\",\"energy\",\"excitation\",\"excite\",\"excited\",\"excitement\",\"excites\",\"exciting\",\"exertive\",\"fearless\",\"fresh\",\"freshness\",\"grit\",\"gritty\",\"gut\",\"gutsy\",\"innovate\",\"innovated\",\"innovates\",\"innovating\",\"innovation\",\"inspiration\",\"inspire\",\"inspired\",\"inspires\",\"inspiring\",\"invigorate\",\"invigoration\",\"lively\",\"movement\",\"movements\",\"nervy\",\"novel\",\"novelty\",\"opportunity\",\"outdare\",\"outgoing\",\"provocation\",\"provoke\",\"refreshment\",\"risk\",\"risked\",\"risking\",\"risks\",\"spirited\",\"spontaneous\",\"sport\",\"sports\",\"stimulate\",\"stimulated\",\"stimulates\",\"stimulating\",\"stimulation\",\"stimuli\",\"stimulus\",\"thrill\",\"thrilled\",\"thrilling\",\"variation\",\"varieties\",\"variety\",\"vision\",\"zest\"]```"
   ]
  },
  {
   "cell_type": "code",
   "execution_count": null,
   "metadata": {},
   "outputs": [],
   "source": [
    "value_dic={}\n",
    "#Write your code here.\n",
    "#--------------------------------------------------------------\n",
    "#Step1. open and read the file\n",
    "#Step2. clean the line by removing its line breaks\n",
    "#Step3. split the line first by colon and later by comma\n",
    "#--------------------------------------------------------------\n",
    "\n",
    "\n",
    "\n",
    "\n",
    "\n"
   ]
  },
  {
   "cell_type": "code",
   "execution_count": null,
   "metadata": {},
   "outputs": [],
   "source": [
    "#Self-check: run this cell and compare the output with above quoted string.\n",
    "#They should be identical, otherwise something is wrong with your code.\n",
    "print(value_dic['Stimulation'])"
   ]
  },
  {
   "cell_type": "markdown",
   "metadata": {},
   "source": [
    "## Q2 Value Priority\n",
    "Analyze the relative importance of each value in presidential speeches. Relative importance is defined as <font style=\"color:red;font-weight:bold;\">the number of times one value are mentioned per thousand words</font>.\n",
    "To get the relative importance of a value, you need to:\n",
    "1. Add up the frequencies of keywords related to each value in each speech (refer to the value_dic that you create for Q1)\n",
    "2. Divide it by the length of speech\n",
    "\n",
    "<br>For example, President Trump spoke 1446 words for his inauguration speech and keywords related to \"Self-Direction\" were mentioned 10 times. Therefore, the relative importance of \"Self-Direction\" is (10/1446)≈ 6.9&#8240;."
   ]
  },
  {
   "cell_type": "code",
   "execution_count": null,
   "metadata": {},
   "outputs": [],
   "source": [
    "presidents=['Washington','Jefferson','Lincoln','Roosevelt','Kennedy','Nixon','Reagan','Bush','Clinton','W Bush','Obama','Trump']"
   ]
  },
  {
   "cell_type": "code",
   "execution_count": null,
   "metadata": {},
   "outputs": [],
   "source": [
    "def value_priority(paragraphs):\n",
    "    #Main utility: calcualte the relative importance of values\n",
    "    #Input: paragraphs: a list of paragraphs created by method .readlines()\n",
    "\n",
    "    \n",
    "    \n",
    "    return relative_importance"
   ]
  },
  {
   "cell_type": "code",
   "execution_count": null,
   "metadata": {},
   "outputs": [],
   "source": [
    "#Apply the value_priority() function"
   ]
  },
  {
   "cell_type": "markdown",
   "metadata": {},
   "source": [
    "***"
   ]
  },
  {
   "cell_type": "markdown",
   "metadata": {},
   "source": [
    "## Q3 Save Results to a csv File\n",
    "Create a new csv file named \"president_values.csv\" and export presidents' value priorities to this file. One line, one president.\n",
    "<br>Expected format:\n",
    "\n",
    "|President|Self-Direction|Stimulation|...|Universalism|\n",
    "|:------:|:------:|:------:|:------:|:------:|\n",
    "|Washington|8|1|...|4|\n",
    "|...|...|...|...|...|\n",
    "|Trump|7|6|...|10|"
   ]
  },
  {
   "cell_type": "code",
   "execution_count": null,
   "metadata": {},
   "outputs": [],
   "source": [
    "#Write you code here\n",
    "\n",
    "\n"
   ]
  },
  {
   "cell_type": "markdown",
   "metadata": {},
   "source": [
    "***"
   ]
  },
  {
   "cell_type": "markdown",
   "metadata": {},
   "source": [
    "## Q4\n",
    "Open \"president_values.csv\" and answer following questions according to the numbers inside the table."
   ]
  },
  {
   "cell_type": "markdown",
   "metadata": {},
   "source": [
    "Q4.1 If all inauguration speeches are considered, which value is the most important and most mentioned?"
   ]
  },
  {
   "cell_type": "code",
   "execution_count": null,
   "metadata": {},
   "outputs": [],
   "source": []
  },
  {
   "cell_type": "markdown",
   "metadata": {},
   "source": [
    "Q4.2 Among all studied presidents, who emphasizes the value of STIMULATION more often than others?"
   ]
  },
  {
   "cell_type": "code",
   "execution_count": null,
   "metadata": {},
   "outputs": [],
   "source": []
  },
  {
   "cell_type": "markdown",
   "metadata": {},
   "source": [
    "Q4.3 Among all studied values, what is the most important thing for Trump?"
   ]
  },
  {
   "cell_type": "code",
   "execution_count": null,
   "metadata": {},
   "outputs": [],
   "source": []
  },
  {
   "cell_type": "markdown",
   "metadata": {},
   "source": [
    "Q4.4 Among all studied values, what is the least important thing for Trump?"
   ]
  },
  {
   "cell_type": "code",
   "execution_count": null,
   "metadata": {},
   "outputs": [],
   "source": []
  },
  {
   "cell_type": "markdown",
   "metadata": {},
   "source": [
    "***"
   ]
  },
  {
   "cell_type": "markdown",
   "metadata": {},
   "source": [
    "Reference:\n",
    "<br>1. <b>Jones, K. L., Noorbaloochi, S., Jost, J. T., Bonneau, R., Nagler, J., & Tucker, J. A. (2017).</b> Liberal and Conservative Values: What We Can Learn From Congressional Tweets. Political Psychology. https://doi.org/10.1111/pops.12415\n",
    "<br>2. <b>Graham, J., Haidt, J., & Nosek, B. A. (2009).</b> Liberals and conservatives rely on different sets of moral foundations. Journal of Personality and Social Psychology, 96(5), 1029–1046. https://doi.org/10.1037/a0015141"
   ]
  }
 ],
 "metadata": {
  "kernelspec": {
   "display_name": "Python 3 (ipykernel)",
   "language": "python",
   "name": "python3"
  },
  "language_info": {
   "codemirror_mode": {
    "name": "ipython",
    "version": 3
   },
   "file_extension": ".py",
   "mimetype": "text/x-python",
   "name": "python",
   "nbconvert_exporter": "python",
   "pygments_lexer": "ipython3",
   "version": "3.10.9"
  },
  "widgets": {
   "application/vnd.jupyter.widget-state+json": {
    "state": {
     "09d403da72ce484c8059f560bd837121": {
      "model_module": "@jupyter-widgets/controls",
      "model_module_version": "1.4.0",
      "model_name": "DropdownModel",
      "state": {
       "_options_labels": [
        "Washington",
        "Jefferson",
        "Lincoln",
        "Roosevelt",
        "Kennedy",
        "Nixon",
        "Reagan",
        "Bush",
        "Clinton",
        "W Bush",
        "Obama",
        "Trump"
       ],
       "index": 0,
       "layout": "IPY_MODEL_5d041920c7cd48e2a363485668907b6d",
       "style": "IPY_MODEL_0e118725a2304b21b80c9097e5078e48"
      }
     },
     "0c14d355c296406cafa55fc7a8ff8703": {
      "model_module": "@jupyter-widgets/base",
      "model_module_version": "1.1.0",
      "model_name": "LayoutModel",
      "state": {}
     },
     "0e118725a2304b21b80c9097e5078e48": {
      "model_module": "@jupyter-widgets/controls",
      "model_module_version": "1.4.0",
      "model_name": "DescriptionStyleModel",
      "state": {
       "description_width": ""
      }
     },
     "108e50ab0f634a8e8356903e8b05b383": {
      "model_module": "@jupyter-widgets/base",
      "model_module_version": "1.1.0",
      "model_name": "LayoutModel",
      "state": {}
     },
     "36f14aa0711647fcaf7d3c41e5098cba": {
      "model_module": "@jupyter-widgets/controls",
      "model_module_version": "1.4.0",
      "model_name": "DescriptionStyleModel",
      "state": {
       "description_width": ""
      }
     },
     "427453b1a0234b0795232b2204adf254": {
      "model_module": "@jupyter-widgets/base",
      "model_module_version": "1.1.0",
      "model_name": "LayoutModel",
      "state": {}
     },
     "447e287667804afdb3703200255435b7": {
      "model_module": "@jupyter-widgets/base",
      "model_module_version": "1.1.0",
      "model_name": "LayoutModel",
      "state": {}
     },
     "48c28b30321d42b5aa6ca23b457faec8": {
      "model_module": "@jupyter-widgets/controls",
      "model_module_version": "1.4.0",
      "model_name": "DropdownModel",
      "state": {
       "_options_labels": [
        "Self-Direction",
        "Stimulation",
        "Hedonism",
        "Achievement",
        "Power",
        "Security",
        "Tradition",
        "Conformity",
        "Benevolence",
        "Universalism"
       ],
       "index": 0,
       "layout": "IPY_MODEL_0c14d355c296406cafa55fc7a8ff8703",
       "style": "IPY_MODEL_36f14aa0711647fcaf7d3c41e5098cba"
      }
     },
     "50b1ce134bfb4976b5524b63af79063b": {
      "model_module": "@jupyter-widgets/controls",
      "model_module_version": "1.4.0",
      "model_name": "DescriptionStyleModel",
      "state": {
       "description_width": ""
      }
     },
     "5d041920c7cd48e2a363485668907b6d": {
      "model_module": "@jupyter-widgets/base",
      "model_module_version": "1.1.0",
      "model_name": "LayoutModel",
      "state": {}
     },
     "6bf5d15ed7ba4ce48882118753034deb": {
      "model_module": "@jupyter-widgets/base",
      "model_module_version": "1.1.0",
      "model_name": "LayoutModel",
      "state": {}
     },
     "92f1a9bf5e1e456a9e928334a2c94444": {
      "model_module": "@jupyter-widgets/controls",
      "model_module_version": "1.4.0",
      "model_name": "DropdownModel",
      "state": {
       "_options_labels": [
        "Self-Direction",
        "Stimulation",
        "Hedonism",
        "Achievement",
        "Power",
        "Security",
        "Tradition",
        "Conformity",
        "Benevolence",
        "Universalism"
       ],
       "index": 0,
       "layout": "IPY_MODEL_108e50ab0f634a8e8356903e8b05b383",
       "style": "IPY_MODEL_9482fb8de0f24b67a9ea4476a4ab865a"
      }
     },
     "9482fb8de0f24b67a9ea4476a4ab865a": {
      "model_module": "@jupyter-widgets/controls",
      "model_module_version": "1.4.0",
      "model_name": "DescriptionStyleModel",
      "state": {
       "description_width": ""
      }
     },
     "b342823aa0e74a50bbbe2659fd0a1980": {
      "model_module": "@jupyter-widgets/controls",
      "model_module_version": "1.4.0",
      "model_name": "DropdownModel",
      "state": {
       "_options_labels": [
        "Washington",
        "Jefferson",
        "Lincoln",
        "Roosevelt",
        "Kennedy",
        "Nixon",
        "Reagan",
        "Bush",
        "Clinton",
        "W Bush",
        "Obama",
        "Trump"
       ],
       "index": 0,
       "layout": "IPY_MODEL_427453b1a0234b0795232b2204adf254",
       "style": "IPY_MODEL_e2aa6eccef004eda98c547964bb65ab1"
      }
     },
     "b79d13a09c964e2c9ad68347bc444f73": {
      "model_module": "@jupyter-widgets/controls",
      "model_module_version": "1.4.0",
      "model_name": "DropdownModel",
      "state": {
       "_options_labels": [
        "Self-Direction",
        "Stimulation",
        "Hedonism",
        "Achievement",
        "Power",
        "Security",
        "Tradition",
        "Conformity",
        "Benevolence",
        "Universalism"
       ],
       "index": 0,
       "layout": "IPY_MODEL_447e287667804afdb3703200255435b7",
       "style": "IPY_MODEL_50b1ce134bfb4976b5524b63af79063b"
      }
     },
     "e2aa6eccef004eda98c547964bb65ab1": {
      "model_module": "@jupyter-widgets/controls",
      "model_module_version": "1.4.0",
      "model_name": "DescriptionStyleModel",
      "state": {
       "description_width": ""
      }
     },
     "fa3f15da2c5b48ef902cb9eced151a83": {
      "model_module": "@jupyter-widgets/controls",
      "model_module_version": "1.4.0",
      "model_name": "AccordionModel",
      "state": {
       "_titles": {
        "0": "If all inauguration speeches are considered, which value is the most important and most mentioned?",
        "1": "Among all studied presidents, who emphasizes the value of STIMULATION more often than others?",
        "2": "Among all studied presidents, who emphasizes the value of POWER more often than others?",
        "3": "Among all studied values, what is the most important thing for Trump?",
        "4": "Among all studied values, what is the least important thing for Trump?"
       },
       "children": [
        "IPY_MODEL_b79d13a09c964e2c9ad68347bc444f73",
        "IPY_MODEL_b342823aa0e74a50bbbe2659fd0a1980",
        "IPY_MODEL_09d403da72ce484c8059f560bd837121",
        "IPY_MODEL_92f1a9bf5e1e456a9e928334a2c94444",
        "IPY_MODEL_48c28b30321d42b5aa6ca23b457faec8"
       ],
       "layout": "IPY_MODEL_6bf5d15ed7ba4ce48882118753034deb"
      }
     }
    },
    "version_major": 2,
    "version_minor": 0
   }
  }
 },
 "nbformat": 4,
 "nbformat_minor": 2
}
