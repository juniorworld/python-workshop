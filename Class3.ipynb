{
 "cells": [
  {
   "cell_type": "markdown",
   "metadata": {},
   "source": [
    "# Functions"
   ]
  },
  {
   "cell_type": "markdown",
   "metadata": {},
   "source": [
    "## Section 1: Built-in functions"
   ]
  },
  {
   "cell_type": "markdown",
   "metadata": {},
   "source": [
    "### A. File I/O"
   ]
  },
  {
   "cell_type": "markdown",
   "metadata": {},
   "source": [
    "- Use `open(path[,mode='r'])` function.\n",
    "    - Modes: read ('r') or write ('w') or both ('r+') or append ('a')\n",
    "- Input: `.readlines()` method will extract all content in the file as <font color=\"red\">a list of strings. One paragraph, one string</font>.\n",
    "- Output: `.write(string)` method write the given content to the file\n",
    "  - Write from the beginning of file if mode 'w' mode is used\n",
    "  - Write from the bottom of file if mode 'a' mode is used.\n",
    "- Save and Close File: `.close()` method"
   ]
  },
  {
   "cell_type": "code",
   "execution_count": null,
   "metadata": {},
   "outputs": [],
   "source": [
    "# Create a new file named \"text.txt\" in the current folder\n",
    "file ="
   ]
  },
  {
   "cell_type": "markdown",
   "metadata": {},
   "source": [
    "<div class=\"alert alert-block alert-success\">\n",
    "    **<b>Extra Knowledge</b>** We can use line break <font color=\"red\"><b>\\n</b></font> to start a new paragraph.</div> "
   ]
  },
  {
   "cell_type": "code",
   "execution_count": null,
   "metadata": {},
   "outputs": [],
   "source": [
    "#add three new lines, separated by line break mark \\n\n",
    "file.write('Hello World!\\n') #First line\n",
    "\n"
   ]
  },
  {
   "cell_type": "code",
   "execution_count": null,
   "metadata": {},
   "outputs": [],
   "source": [
    "#close it\n"
   ]
  },
  {
   "cell_type": "code",
   "execution_count": null,
   "metadata": {},
   "outputs": [],
   "source": [
    "#Read text.txt file\n",
    "file ="
   ]
  },
  {
   "cell_type": "code",
   "execution_count": null,
   "metadata": {},
   "outputs": [],
   "source": [
    "#read the existing lines into a list\n",
    "lines = "
   ]
  },
  {
   "cell_type": "markdown",
   "metadata": {},
   "source": [
    "<div class=\"alert alert-block alert-success\">\n",
    "    **<b>Extra Knowledge</b>** Use method <font color=\"red\"><b>.strip()</b></font> to remove line break or whitespaces at the beginning or the end of a string.</div> "
   ]
  },
  {
   "cell_type": "code",
   "execution_count": null,
   "metadata": {},
   "outputs": [],
   "source": [
    "#print out the first line\n",
    "lines[0].strip()"
   ]
  },
  {
   "cell_type": "markdown",
   "metadata": {},
   "source": [
    "### B. If/Else Statement"
   ]
  },
  {
   "cell_type": "markdown",
   "metadata": {},
   "source": [
    "\n",
    "- If/Else Statement is used to test whether a condition is True. If statement is always followed by a question, a comparison condition, a logical operator, which will give you a boolen value of True or False. If True, do something. If False, do something else. \n",
    "- Format: `if logical_condition1 :... (else: ...)`\n",
    "- Example:\n",
    "\n",
    ">```python\n",
    "if a==1:\n",
    "        print('yes') #Block A\n",
    "else:\n",
    "        print('no') #Block B\n",
    "    >"
   ]
  },
  {
   "cell_type": "markdown",
   "metadata": {},
   "source": [
    "<h4 style=\"color: blue; font-size:150%\">Practice</h4>\n",
    "Write a programe using if/else statement to determine if a variable x is even or odd.<br>\n",
    "If x is even, print out \"Even!\" Otherwise, print \"Odd!\""
   ]
  },
  {
   "cell_type": "code",
   "execution_count": null,
   "metadata": {},
   "outputs": [],
   "source": [
    "#Insert your code here\n",
    "\n"
   ]
  },
  {
   "cell_type": "markdown",
   "metadata": {},
   "source": [
    "<div class=\"alert alert-block alert-success\">\n",
    "    **<b>Extra Knowledge</b>** <font style='color:red;font-weight:bold;'>If/Else</font> statement can be upgraded into a <font style='color:red;font-weight:bold;'>If/Elif/Else</font> statement. <font style='color:red;font-weight:bold;'>Elif = Else + If</font>\n",
    "</div>"
   ]
  },
  {
   "cell_type": "markdown",
   "metadata": {},
   "source": [
    "<h4 style=\"color: blue; font-size:150%\">Practice</h4>\n",
    "Write a programe using if/elif/else statement to determine if a variable x is positive, neutral, or negative.<br>\n",
    "If negative, print out \"Neg!\" If neutral, print \"Neutral!\" If positive, print \"Pos!\""
   ]
  },
  {
   "cell_type": "code",
   "execution_count": null,
   "metadata": {},
   "outputs": [],
   "source": [
    "#Write your code here\n",
    "\n"
   ]
  },
  {
   "cell_type": "markdown",
   "metadata": {},
   "source": [
    "<div class=\"alert alert-block alert-success\">\n",
    "    **<b>Extra Knowledge</b>** You can use <font style='color:red;font-weight:bold;'>in</font> operation to check if a specific element exists in a List or a String.\n",
    "</div>"
   ]
  },
  {
   "cell_type": "code",
   "execution_count": null,
   "metadata": {},
   "outputs": [],
   "source": [
    "a = [1, 2, 3, 4, 5]\n",
    "if 1 in a:\n",
    "    print('Yes!')"
   ]
  },
  {
   "cell_type": "code",
   "execution_count": null,
   "metadata": {},
   "outputs": [],
   "source": [
    "a = ['1', '2', '3', '4', '5']\n",
    "if 1 in a:\n",
    "    print('Yes!')"
   ]
  },
  {
   "cell_type": "code",
   "execution_count": null,
   "metadata": {},
   "outputs": [],
   "source": [
    "#Check if sentence a mentions \"apple\". If yes, print out \"Apple Related!\" Otherwise, \"Apple Unrelated!\"\n",
    "a = \"An apple a days keeps doctor away.\"\n"
   ]
  },
  {
   "cell_type": "markdown",
   "metadata": {},
   "source": [
    "### C. Loops"
   ]
  },
  {
   "cell_type": "markdown",
   "metadata": {},
   "source": [
    "- Two types of scripts: Sequential vs Iterative\n",
    "- Iterative scripts = Loop\n",
    "    - For loop (based on counter/list)  & While loop (based on condition)\n",
    "    - Do repeated actions\n",
    "   \n",
    " \n",
    "<img src=\"https://juniorworld.github.io/python-workshop/img/week2-two-loops.png\" width=\"400\" align=\"left\"/>"
   ]
  },
  {
   "cell_type": "markdown",
   "metadata": {},
   "source": [
    "#### While Loop\n",
    "- `while` loop is used to repeatedly execute a block of commands `while` a condition is True.\n",
    "- Characteristics: <font color='red'>Indefinite</font> iterations, where the number of iterations is not specified explicitly in advance\n",
    "    - Format: \n",
    "    \n",
    ">```python\n",
    "while condition:             #loop condition\n",
    "      statements             #loop body\n",
    "\n",
    "\n",
    "- Syntax: In above format, `statements` refer to a block of commands subordinate to while loop. They are only functional within for loop. Python requires **INDENT** <kbd>Tab</kbd> or `4 spaces` to group commands into block. For example:\n",
    "\n",
    ">```python\n",
    "n=5\n",
    "while n>0:\n",
    "     print(n)       #Use indentation to denote a Block subordinate to while loop\n",
    "     n-=1           #Decrease by 1 unit\n",
    "print('Blastoff!')     #Out of the while loop\n",
    "\n",
    "<img src=\"https://juniorworld.github.io/python-workshop/img/week2-while-loop.png\" width=\"200\" align=\"left\">"
   ]
  },
  {
   "cell_type": "markdown",
   "metadata": {},
   "source": [
    "<div class=\"alert alert-block alert-warning\">\n",
    "**Warning**: To create a loop, the most important thing is clearly defining an <font style='color:red;font-weight:bold;'>exit condition</font>. Loops should not iteract forever. You should ensure the loop will only go on for finite steps.\n",
    "</div>"
   ]
  },
  {
   "cell_type": "markdown",
   "metadata": {},
   "source": [
    "<h4 style=\"color: blue; font-size:150%\">Practice</h4>\n",
    "\n",
    "Write a GUESS NUMBER program using while loop:\n",
    "- Ask the user to guess the value of a number in your mind\n",
    "- If his/her answer is LARGER than your value, print \"Your guess is TOO LARGE! Try Again!\"\n",
    "- If his/her answer is SMALLER than your value, print \"Your guess is TOO SMALL! Try Again!\"\n",
    "- Stop the game when he/she gets the right value\n",
    "\n",
    "<img src=\"https://juniorworld.github.io/python-workshop/img/Guess%20Number.png\" width=\"300\" align=\"left\">"
   ]
  },
  {
   "cell_type": "code",
   "execution_count": null,
   "metadata": {},
   "outputs": [],
   "source": [
    "#Write your codes here\n",
    "\n"
   ]
  },
  {
   "cell_type": "markdown",
   "metadata": {},
   "source": [
    "#### For Loop\n",
    "- `for` loop is used to step through items in a list and repeatedly execute a block of commands for each item.\n",
    "    - Format: \n",
    ">```python\n",
    "for var in object_list:                     #Assign object items to target\n",
    "            statements                            #Loop body\n",
    "```"
   ]
  },
  {
   "cell_type": "markdown",
   "metadata": {},
   "source": [
    "- `for` loop naturally includes a step for variable assignment: assign every value in the list to variable var\n",
    "- Usually coupled with `range([start=0,] stop[, step=1])` function, which will automatically create a list of whole numbers ranging from the start number and stopping at but <font color=\"red\">not including the stop number</font>.\n",
    "  - range(5) = [0,1,2,3,4]\n",
    "  - range(1,5) = [1,2,3,4]\n",
    "  - range(0,5,2) = [0,2,4], Step = 2"
   ]
  },
  {
   "cell_type": "code",
   "execution_count": null,
   "metadata": {},
   "outputs": [],
   "source": [
    "#Create a list of whole numbers from 0 to 9\n",
    "list(range(10))"
   ]
  },
  {
   "cell_type": "code",
   "execution_count": null,
   "metadata": {},
   "outputs": [],
   "source": [
    "#Create a list of odd numbers from 1 to 9\n",
    "list(range(1,10,2))"
   ]
  },
  {
   "cell_type": "markdown",
   "metadata": {},
   "source": [
    "- Syntax: Indentation within the for loop:\n",
    ">```python\n",
    "for a in range(5):\n",
    "        print(a)       #Use indentation to denote loop body\n",
    "        print(a+1)\n",
    "        print(a+2)\n",
    "```"
   ]
  },
  {
   "cell_type": "code",
   "execution_count": null,
   "metadata": {
    "scrolled": true
   },
   "outputs": [],
   "source": [
    "#Use for loop to print out the first 10 whole numbers\n",
    "for i in range(10):\n",
    "    print(i)"
   ]
  },
  {
   "cell_type": "markdown",
   "metadata": {},
   "source": [
    "Please use For Loop to solve the following question in your the first make-up assignment:<br>\n",
    "<b>Q2.1</b> Write a program to encrypt all numbers with asterisk (`*`)<br>\n",
    "\n",
    ">```\"Hi Mam, my name is Peter Pan. My bank account number is 2649586157546 and my bank secret key is 5005641. Please help me register the premium banking service. Thanks!\"```\n"
   ]
  },
  {
   "cell_type": "code",
   "execution_count": null,
   "metadata": {},
   "outputs": [],
   "source": [
    "sentence = \"Hi Mam, my name is Peter Pan. My bank account number is 2649586157546 and my bank secret key is 5005641. Please help me register the premium banking service. Thanks!\"\n",
    "for"
   ]
  },
  {
   "cell_type": "code",
   "execution_count": null,
   "metadata": {
    "scrolled": true
   },
   "outputs": [],
   "source": [
    "#Use for loop to print out all EVEN numbers smaller than 10\n"
   ]
  },
  {
   "cell_type": "code",
   "execution_count": null,
   "metadata": {},
   "outputs": [],
   "source": [
    "#Use for loop to print out the sum of the first 10 whole numbers\n"
   ]
  },
  {
   "cell_type": "code",
   "execution_count": null,
   "metadata": {},
   "outputs": [],
   "source": [
    "#Read lines in text.txt and print out the number of CHARACTERS, including spaces, and the number of WORDS in each line\n",
    "file = open('text.txt','r')\n",
    "\n"
   ]
  },
  {
   "cell_type": "code",
   "execution_count": null,
   "metadata": {},
   "outputs": [],
   "source": [
    "#Repeat every line three times, i.e. copy each line and paste it three times to the file. \n",
    "#Save the outputs.\n"
   ]
  },
  {
   "cell_type": "markdown",
   "metadata": {},
   "source": [
    "<div class=\"alert alert-block alert-success\">\n",
    "**<b>Extra Knowledge: List Comprehension = For Loop in the List</b>**\n",
    "    <br>We can use a loop in the list to create a new list based on an old one.</div>"
   ]
  },
  {
   "cell_type": "code",
   "execution_count": null,
   "metadata": {},
   "outputs": [],
   "source": [
    "#two ways to increase every element in a by one unit\n",
    "a=[0,1,2,3]"
   ]
  },
  {
   "cell_type": "code",
   "execution_count": null,
   "metadata": {},
   "outputs": [],
   "source": [
    "#1\n",
    "b=[]\n",
    "for i in a:\n",
    "    b.extend([i+1])\n",
    "print(b)"
   ]
  },
  {
   "cell_type": "code",
   "execution_count": null,
   "metadata": {},
   "outputs": [],
   "source": [
    "#2\n",
    "b=[i+1 for i in a]\n",
    "print(b)"
   ]
  },
  {
   "cell_type": "markdown",
   "metadata": {},
   "source": [
    "<div class=\"alert alert-block alert-success\">\n",
    "**<b>Extra Knowledge</b>**\n",
    "    <br>1. We can use <font style='color:red;font-weight:bold;'>continue</font> statement to skip following commands and directly jump to next iteration.\n",
    "    <br>2. We can use <font style='color:red;font-weight:bold;'>break</font> statement to quit the loop.</div>"
   ]
  },
  {
   "cell_type": "code",
   "execution_count": null,
   "metadata": {},
   "outputs": [],
   "source": [
    "#Try continue statement\n",
    "for i in range(10):\n",
    "    if 2<i<5:\n",
    "        continue\n",
    "    print(i)"
   ]
  },
  {
   "cell_type": "code",
   "execution_count": null,
   "metadata": {},
   "outputs": [],
   "source": [
    "#Try break\n",
    "for i in range(10):\n",
    "    print(i)\n",
    "    if i>5:\n",
    "        break"
   ]
  },
  {
   "cell_type": "markdown",
   "metadata": {},
   "source": [
    "## Quiz"
   ]
  },
  {
   "cell_type": "markdown",
   "metadata": {},
   "source": [
    "## Section 2: Customer functions"
   ]
  },
  {
   "cell_type": "markdown",
   "metadata": {},
   "source": [
    "- The function of <font color=\"red\">customer function</font> is to transform x into y. Like a magic trick turning a girl into a tiger.\n",
    "<img src='img/week2-function.png' width='200px'>"
   ]
  },
  {
   "cell_type": "markdown",
   "metadata": {},
   "source": [
    "- Function is a block of **reusable** codes. Annotation: y=f(x), where x is a list of input variables and y is a list of output variables.\n",
    "    - Terminology: inputs = <b>parameters or arguments</b>, outputs = <b>returned values</b>\n",
    "    - <b>Global vs Local</b>: function can create its local variables that are only used inside its boundary. Local variables can use same names as global variables without overriding their values.\n",
    "    - Format:\n",
    ">```python\n",
    "def function_name(input1[,input2,input3...]):\n",
    "        command line\n",
    "        return y\n",
    "    ```"
   ]
  },
  {
   "cell_type": "code",
   "execution_count": null,
   "metadata": {},
   "outputs": [],
   "source": [
    "#Create a customer function odd_or_even() to check if a number n is odd or even\n",
    "def odd_or_even(x):\n",
    "    if x%2 == 0:\n",
    "        y = \"even\"\n",
    "    else:\n",
    "        y = \"odd\"\n",
    "    return(y)"
   ]
  },
  {
   "cell_type": "code",
   "execution_count": null,
   "metadata": {},
   "outputs": [],
   "source": [
    "#Hide technical details within customer functions\n",
    "odd_or_even(100)"
   ]
  },
  {
   "cell_type": "code",
   "execution_count": null,
   "metadata": {},
   "outputs": [],
   "source": [
    "#Create a customer function odd_or_even() to check if a number n is odd or even\n",
    "def odd_or_even_2(x):\n",
    "    if x%2 == 0:\n",
    "        return(\"even\")\n",
    "    else:\n",
    "        return(\"odd\")"
   ]
  },
  {
   "cell_type": "code",
   "execution_count": null,
   "metadata": {},
   "outputs": [],
   "source": [
    "odd_or_even_2(100)"
   ]
  },
  {
   "cell_type": "markdown",
   "metadata": {},
   "source": [
    "<img src='https://juniorworld.github.io/python-workshop/img/week2-presidents.png'>\n",
    "Presidential inauguration speeches capture the sentiment of the time."
   ]
  },
  {
   "cell_type": "markdown",
   "metadata": {},
   "source": [
    "## Practice: Inauguration Speech\n",
    "Download the dataset from:https://juniorworld.github.io/python-workshop//doc/presidents.rar\n",
    "\n",
    "<p>Expected Objectives:</p>\n",
    "\n",
    "1. Total number of sentences in the speech: \n",
    "    - End of Sentence Marks: the period (.), the question mark (?), and the exclamation point (!).\n",
    "2. Total number of words in the speech\n",
    "3. Average length of sentences\n",
    "4. Coleman–Liau index of Readablity\n",
    "\n",
    "<font size=\"4\"> Coleman–Liau index</font>\n",
    "><b>CLI = 0.0588 &ast; L - 0.296 &ast; S - 15.8</b>\n",
    "<br>L is the average number of letters per 100 words and S is the average number of sentences per 100 words.<br>\n",
    "CLI is equivalent to the number of years of education completed by the speaker."
   ]
  },
  {
   "cell_type": "code",
   "execution_count": null,
   "metadata": {},
   "outputs": [],
   "source": [
    "presidents=['Washington','Jefferson','Lincoln','Roosevelt','Kennedy','Nixon','Reagan','Bush','Clinton','W Bush','Obama','Trump']"
   ]
  },
  {
   "cell_type": "code",
   "execution_count": null,
   "metadata": {},
   "outputs": [],
   "source": [
    "for president in presidents:\n"
   ]
  },
  {
   "cell_type": "code",
   "execution_count": null,
   "metadata": {},
   "outputs": [],
   "source": [
    "#Define a customer function readablity_test() to output sentence_count,word_count and letter_count\n",
    "def readablity_test(paragraphs):\n"
   ]
  },
  {
   "cell_type": "code",
   "execution_count": null,
   "metadata": {},
   "outputs": [],
   "source": [
    "#Save results to a csv file\n",
    "\n"
   ]
  }
 ],
 "metadata": {
  "kernelspec": {
   "display_name": "Python 3 (ipykernel)",
   "language": "python",
   "name": "python3"
  },
  "language_info": {
   "codemirror_mode": {
    "name": "ipython",
    "version": 3
   },
   "file_extension": ".py",
   "mimetype": "text/x-python",
   "name": "python",
   "nbconvert_exporter": "python",
   "pygments_lexer": "ipython3",
   "version": "3.12.0"
  },
  "widgets": {
   "application/vnd.jupyter.widget-state+json": {
    "state": {
     "080e2c47f8ad43f8af72a4742cf1e138": {
      "model_module": "@jupyter-widgets/controls",
      "model_module_version": "1.4.0",
      "model_name": "CheckboxModel",
      "state": {
       "description": "float -> integer",
       "disabled": false,
       "layout": "IPY_MODEL_d1bb9617ca9a469293c3d7872e048cf5",
       "style": "IPY_MODEL_46b4655aef3d497f97d962708c65df33",
       "value": false
      }
     },
     "09ce660d36034e27a17d579f4c9f9ab7": {
      "model_module": "@jupyter-widgets/base",
      "model_module_version": "1.1.0",
      "model_name": "LayoutModel",
      "state": {}
     },
     "0fc283fcb76f4be3a960745eed2085fa": {
      "model_module": "@jupyter-widgets/base",
      "model_module_version": "1.1.0",
      "model_name": "LayoutModel",
      "state": {}
     },
     "0fe58378d42648d0b73ff0f6454e0057": {
      "model_module": "@jupyter-widgets/base",
      "model_module_version": "1.1.0",
      "model_name": "LayoutModel",
      "state": {}
     },
     "12f31b4141844a6ea96726c39acc5e30": {
      "model_module": "@jupyter-widgets/controls",
      "model_module_version": "1.4.0",
      "model_name": "CheckboxModel",
      "state": {
       "description": "list -> boolean",
       "disabled": false,
       "layout": "IPY_MODEL_78ab52ea991743b590e8322cb50a6f7c",
       "style": "IPY_MODEL_f73a070b6b814a358c1e6a2c1b5176d3",
       "value": false
      }
     },
     "1b2c6cab5f134194b9263db4b76a30f9": {
      "model_module": "@jupyter-widgets/controls",
      "model_module_version": "1.4.0",
      "model_name": "CheckboxModel",
      "state": {
       "description": "string -> list",
       "disabled": false,
       "layout": "IPY_MODEL_dc3500e672b441f184cb66c9164f46c5",
       "style": "IPY_MODEL_3dbcc07594dc4af69db3bd8ed0488aab",
       "value": false
      }
     },
     "2402d123a94a4e88a71a9241817b4ddd": {
      "model_module": "@jupyter-widgets/controls",
      "model_module_version": "1.4.0",
      "model_name": "CheckboxModel",
      "state": {
       "description": "list -> integer",
       "disabled": false,
       "layout": "IPY_MODEL_588e4cdc3f85445587c599183cef6b82",
       "style": "IPY_MODEL_48f6441a930a4442b8a9774607eb2607",
       "value": false
      }
     },
     "263851430804425ba4c9912992ba392e": {
      "model_module": "@jupyter-widgets/controls",
      "model_module_version": "1.4.0",
      "model_name": "VBoxModel",
      "state": {
       "children": [
        "IPY_MODEL_331a9e88e84d4657901d770b98811c89",
        "IPY_MODEL_dd3cd9d0b4da42e38851025c52c016d7",
        "IPY_MODEL_c7f9522104d044b2865c5b5ace3b5838",
        "IPY_MODEL_1b2c6cab5f134194b9263db4b76a30f9"
       ],
       "layout": "IPY_MODEL_f95f5547e73b4ebebb45141e029cd7fa"
      }
     },
     "2d169e7d0d824f619d6fe9134201dc49": {
      "model_module": "@jupyter-widgets/controls",
      "model_module_version": "1.4.0",
      "model_name": "DescriptionStyleModel",
      "state": {
       "description_width": ""
      }
     },
     "2e47d0304aa142c68ae79ce9af1e5de0": {
      "model_module": "@jupyter-widgets/controls",
      "model_module_version": "1.4.0",
      "model_name": "CheckboxModel",
      "state": {
       "description": "integer -> string",
       "disabled": false,
       "layout": "IPY_MODEL_d2a31aff6ca44e299e4d3b3e0a688e0e",
       "style": "IPY_MODEL_86e22148b4ea403a9965d15f61ed7773",
       "value": false
      }
     },
     "2e65245b455242068b5d5e5121a66778": {
      "model_module": "@jupyter-widgets/controls",
      "model_module_version": "1.4.0",
      "model_name": "DescriptionStyleModel",
      "state": {
       "description_width": ""
      }
     },
     "31896adee2084ee8a38b6c7dca0bd78e": {
      "model_module": "@jupyter-widgets/controls",
      "model_module_version": "1.4.0",
      "model_name": "DescriptionStyleModel",
      "state": {
       "description_width": ""
      }
     },
     "32e66f8a5302444d9741b0b052a23fa7": {
      "model_module": "@jupyter-widgets/base",
      "model_module_version": "1.1.0",
      "model_name": "LayoutModel",
      "state": {}
     },
     "331a9e88e84d4657901d770b98811c89": {
      "model_module": "@jupyter-widgets/controls",
      "model_module_version": "1.4.0",
      "model_name": "CheckboxModel",
      "state": {
       "description": "string -> integer",
       "disabled": false,
       "layout": "IPY_MODEL_8b1fad754fa14059b682ca11c1469f8f",
       "style": "IPY_MODEL_a6eebb365fae434bba48e3fb56f3797d",
       "value": false
      }
     },
     "33c5cdcf55fb4721a57a50c2a5b5598a": {
      "model_module": "@jupyter-widgets/base",
      "model_module_version": "1.1.0",
      "model_name": "LayoutModel",
      "state": {}
     },
     "3730c393db284068afb44c0336c9fe69": {
      "model_module": "@jupyter-widgets/controls",
      "model_module_version": "1.4.0",
      "model_name": "CheckboxModel",
      "state": {
       "description": "boolean -> float",
       "disabled": false,
       "layout": "IPY_MODEL_33c5cdcf55fb4721a57a50c2a5b5598a",
       "style": "IPY_MODEL_8ac5c8abd45b45468472270c97163281",
       "value": false
      }
     },
     "3bcbe7f5655b48ec8a0e11a971305e5b": {
      "model_module": "@jupyter-widgets/controls",
      "model_module_version": "1.4.0",
      "model_name": "CheckboxModel",
      "state": {
       "description": "float -> list",
       "disabled": false,
       "layout": "IPY_MODEL_d0a3786bf784405d8a3b1d62fff9d4df",
       "style": "IPY_MODEL_eb9e207aef45431d979929a70d6dcdfe",
       "value": false
      }
     },
     "3dbcc07594dc4af69db3bd8ed0488aab": {
      "model_module": "@jupyter-widgets/controls",
      "model_module_version": "1.4.0",
      "model_name": "DescriptionStyleModel",
      "state": {
       "description_width": ""
      }
     },
     "4639370494564980a83c25276bf1c525": {
      "model_module": "@jupyter-widgets/controls",
      "model_module_version": "1.4.0",
      "model_name": "VBoxModel",
      "state": {
       "children": [
        "IPY_MODEL_78281b8599ef48e0ad7504242d9ec655",
        "IPY_MODEL_3730c393db284068afb44c0336c9fe69",
        "IPY_MODEL_dd92bb017b4a443cb4a32e6e96346ad6",
        "IPY_MODEL_d440a7f911d04b60a5ea23a47cac51d5",
        "IPY_MODEL_2402d123a94a4e88a71a9241817b4ddd",
        "IPY_MODEL_4756cdff64d0476eb778792ceafed665",
        "IPY_MODEL_12f31b4141844a6ea96726c39acc5e30",
        "IPY_MODEL_95012cc5cabb42c7b78294c683a57edb"
       ],
       "layout": "IPY_MODEL_ea32c50591e04ef984c8538179c8750b"
      }
     },
     "46b4655aef3d497f97d962708c65df33": {
      "model_module": "@jupyter-widgets/controls",
      "model_module_version": "1.4.0",
      "model_name": "DescriptionStyleModel",
      "state": {
       "description_width": ""
      }
     },
     "4756cdff64d0476eb778792ceafed665": {
      "model_module": "@jupyter-widgets/controls",
      "model_module_version": "1.4.0",
      "model_name": "CheckboxModel",
      "state": {
       "description": "list -> float",
       "disabled": false,
       "layout": "IPY_MODEL_781854e64bce447ea5646b2a2d37a21e",
       "style": "IPY_MODEL_63b666b6466f49a787ce5b4f04ecf795",
       "value": false
      }
     },
     "48f237b0a5e843a286d0c2061a771cda": {
      "model_module": "@jupyter-widgets/base",
      "model_module_version": "1.1.0",
      "model_name": "LayoutModel",
      "state": {}
     },
     "48f6441a930a4442b8a9774607eb2607": {
      "model_module": "@jupyter-widgets/controls",
      "model_module_version": "1.4.0",
      "model_name": "DescriptionStyleModel",
      "state": {
       "description_width": ""
      }
     },
     "524e0a435d7e4ead92056561e3013788": {
      "model_module": "@jupyter-widgets/controls",
      "model_module_version": "1.4.0",
      "model_name": "DescriptionStyleModel",
      "state": {
       "description_width": ""
      }
     },
     "563a591ca8f449e1a238a611497977a4": {
      "model_module": "@jupyter-widgets/controls",
      "model_module_version": "1.4.0",
      "model_name": "HBoxModel",
      "state": {
       "children": [
        "IPY_MODEL_aadb0e9a766b4ff88e2c66572d38a37d",
        "IPY_MODEL_4639370494564980a83c25276bf1c525",
        "IPY_MODEL_263851430804425ba4c9912992ba392e"
       ],
       "layout": "IPY_MODEL_5c3803e3ce814277b676f43f4079bc38"
      }
     },
     "588e4cdc3f85445587c599183cef6b82": {
      "model_module": "@jupyter-widgets/base",
      "model_module_version": "1.1.0",
      "model_name": "LayoutModel",
      "state": {}
     },
     "5c3803e3ce814277b676f43f4079bc38": {
      "model_module": "@jupyter-widgets/base",
      "model_module_version": "1.1.0",
      "model_name": "LayoutModel",
      "state": {}
     },
     "63b666b6466f49a787ce5b4f04ecf795": {
      "model_module": "@jupyter-widgets/controls",
      "model_module_version": "1.4.0",
      "model_name": "DescriptionStyleModel",
      "state": {
       "description_width": ""
      }
     },
     "781854e64bce447ea5646b2a2d37a21e": {
      "model_module": "@jupyter-widgets/base",
      "model_module_version": "1.1.0",
      "model_name": "LayoutModel",
      "state": {}
     },
     "78281b8599ef48e0ad7504242d9ec655": {
      "model_module": "@jupyter-widgets/controls",
      "model_module_version": "1.4.0",
      "model_name": "CheckboxModel",
      "state": {
       "description": "boolean -> integer",
       "disabled": false,
       "layout": "IPY_MODEL_a06e54ff34914ffcbfae071fb4de80ed",
       "style": "IPY_MODEL_524e0a435d7e4ead92056561e3013788",
       "value": false
      }
     },
     "78ab52ea991743b590e8322cb50a6f7c": {
      "model_module": "@jupyter-widgets/base",
      "model_module_version": "1.1.0",
      "model_name": "LayoutModel",
      "state": {}
     },
     "86e22148b4ea403a9965d15f61ed7773": {
      "model_module": "@jupyter-widgets/controls",
      "model_module_version": "1.4.0",
      "model_name": "DescriptionStyleModel",
      "state": {
       "description_width": ""
      }
     },
     "888434c979f04e12aac8f2646c93369f": {
      "model_module": "@jupyter-widgets/controls",
      "model_module_version": "1.4.0",
      "model_name": "DescriptionStyleModel",
      "state": {
       "description_width": ""
      }
     },
     "8ac5c8abd45b45468472270c97163281": {
      "model_module": "@jupyter-widgets/controls",
      "model_module_version": "1.4.0",
      "model_name": "DescriptionStyleModel",
      "state": {
       "description_width": ""
      }
     },
     "8b1fad754fa14059b682ca11c1469f8f": {
      "model_module": "@jupyter-widgets/base",
      "model_module_version": "1.1.0",
      "model_name": "LayoutModel",
      "state": {}
     },
     "911eb96c40f744bfa93164cdc9cac0f5": {
      "model_module": "@jupyter-widgets/controls",
      "model_module_version": "1.4.0",
      "model_name": "DescriptionStyleModel",
      "state": {
       "description_width": ""
      }
     },
     "95012cc5cabb42c7b78294c683a57edb": {
      "model_module": "@jupyter-widgets/controls",
      "model_module_version": "1.4.0",
      "model_name": "CheckboxModel",
      "state": {
       "description": "list -> string",
       "disabled": false,
       "layout": "IPY_MODEL_0fc283fcb76f4be3a960745eed2085fa",
       "style": "IPY_MODEL_feb0b4e84a17424ea6790a8a6dbd7139",
       "value": false
      }
     },
     "980b04576b014e998b763b98e353141f": {
      "model_module": "@jupyter-widgets/controls",
      "model_module_version": "1.4.0",
      "model_name": "DescriptionStyleModel",
      "state": {
       "description_width": ""
      }
     },
     "9b9fd7a1d0174c0d9843763e900aab5a": {
      "model_module": "@jupyter-widgets/controls",
      "model_module_version": "1.4.0",
      "model_name": "DescriptionStyleModel",
      "state": {
       "description_width": ""
      }
     },
     "a06e54ff34914ffcbfae071fb4de80ed": {
      "model_module": "@jupyter-widgets/base",
      "model_module_version": "1.1.0",
      "model_name": "LayoutModel",
      "state": {}
     },
     "a6eebb365fae434bba48e3fb56f3797d": {
      "model_module": "@jupyter-widgets/controls",
      "model_module_version": "1.4.0",
      "model_name": "DescriptionStyleModel",
      "state": {
       "description_width": ""
      }
     },
     "a7caa6bc99b64fe485c43f75cea49f4b": {
      "model_module": "@jupyter-widgets/controls",
      "model_module_version": "1.4.0",
      "model_name": "CheckboxModel",
      "state": {
       "description": "integer -> list",
       "disabled": false,
       "layout": "IPY_MODEL_0fe58378d42648d0b73ff0f6454e0057",
       "style": "IPY_MODEL_911eb96c40f744bfa93164cdc9cac0f5",
       "value": false
      }
     },
     "aa34f9124dce4f2981ccdc41cfd2026b": {
      "model_module": "@jupyter-widgets/base",
      "model_module_version": "1.1.0",
      "model_name": "LayoutModel",
      "state": {}
     },
     "aadb0e9a766b4ff88e2c66572d38a37d": {
      "model_module": "@jupyter-widgets/controls",
      "model_module_version": "1.4.0",
      "model_name": "VBoxModel",
      "state": {
       "children": [
        "IPY_MODEL_ee2a141c799e4ab1ae864b4984b1992e",
        "IPY_MODEL_e6ac8cb0bd5c429d8b97840b0dae2523",
        "IPY_MODEL_a7caa6bc99b64fe485c43f75cea49f4b",
        "IPY_MODEL_2e47d0304aa142c68ae79ce9af1e5de0",
        "IPY_MODEL_080e2c47f8ad43f8af72a4742cf1e138",
        "IPY_MODEL_f6ff3964100241c19ac10dd537866b65",
        "IPY_MODEL_3bcbe7f5655b48ec8a0e11a971305e5b",
        "IPY_MODEL_b973e671a4fc4741bec46c7a4fc6801d"
       ],
       "layout": "IPY_MODEL_e4d0940ebbde4afea334bc5a50d58b77"
      }
     },
     "b973e671a4fc4741bec46c7a4fc6801d": {
      "model_module": "@jupyter-widgets/controls",
      "model_module_version": "1.4.0",
      "model_name": "CheckboxModel",
      "state": {
       "description": "float -> string",
       "disabled": false,
       "layout": "IPY_MODEL_e1517a5ece41466c962bd97efd23f41d",
       "style": "IPY_MODEL_d96e918c59714edca31e188fbdba400f",
       "value": false
      }
     },
     "c7f9522104d044b2865c5b5ace3b5838": {
      "model_module": "@jupyter-widgets/controls",
      "model_module_version": "1.4.0",
      "model_name": "CheckboxModel",
      "state": {
       "description": "string -> boolean",
       "disabled": false,
       "layout": "IPY_MODEL_48f237b0a5e843a286d0c2061a771cda",
       "style": "IPY_MODEL_2e65245b455242068b5d5e5121a66778",
       "value": false
      }
     },
     "ce97ddd4384242d7b4f4d8973f3d934d": {
      "model_module": "@jupyter-widgets/base",
      "model_module_version": "1.1.0",
      "model_name": "LayoutModel",
      "state": {}
     },
     "d0a3786bf784405d8a3b1d62fff9d4df": {
      "model_module": "@jupyter-widgets/base",
      "model_module_version": "1.1.0",
      "model_name": "LayoutModel",
      "state": {}
     },
     "d1bb9617ca9a469293c3d7872e048cf5": {
      "model_module": "@jupyter-widgets/base",
      "model_module_version": "1.1.0",
      "model_name": "LayoutModel",
      "state": {}
     },
     "d2a31aff6ca44e299e4d3b3e0a688e0e": {
      "model_module": "@jupyter-widgets/base",
      "model_module_version": "1.1.0",
      "model_name": "LayoutModel",
      "state": {}
     },
     "d440a7f911d04b60a5ea23a47cac51d5": {
      "model_module": "@jupyter-widgets/controls",
      "model_module_version": "1.4.0",
      "model_name": "CheckboxModel",
      "state": {
       "description": "boolean -> string",
       "disabled": false,
       "layout": "IPY_MODEL_d5598195117f439d8eed0dd556a546c3",
       "style": "IPY_MODEL_31896adee2084ee8a38b6c7dca0bd78e",
       "value": false
      }
     },
     "d5598195117f439d8eed0dd556a546c3": {
      "model_module": "@jupyter-widgets/base",
      "model_module_version": "1.1.0",
      "model_name": "LayoutModel",
      "state": {}
     },
     "d96e918c59714edca31e188fbdba400f": {
      "model_module": "@jupyter-widgets/controls",
      "model_module_version": "1.4.0",
      "model_name": "DescriptionStyleModel",
      "state": {
       "description_width": ""
      }
     },
     "dc3500e672b441f184cb66c9164f46c5": {
      "model_module": "@jupyter-widgets/base",
      "model_module_version": "1.1.0",
      "model_name": "LayoutModel",
      "state": {}
     },
     "dd3cd9d0b4da42e38851025c52c016d7": {
      "model_module": "@jupyter-widgets/controls",
      "model_module_version": "1.4.0",
      "model_name": "CheckboxModel",
      "state": {
       "description": "string -> float",
       "disabled": false,
       "layout": "IPY_MODEL_f30b1f4890d84faeb4ab78e1f01ebbed",
       "style": "IPY_MODEL_2d169e7d0d824f619d6fe9134201dc49",
       "value": false
      }
     },
     "dd92bb017b4a443cb4a32e6e96346ad6": {
      "model_module": "@jupyter-widgets/controls",
      "model_module_version": "1.4.0",
      "model_name": "CheckboxModel",
      "state": {
       "description": "boolean -> list",
       "disabled": false,
       "layout": "IPY_MODEL_32e66f8a5302444d9741b0b052a23fa7",
       "style": "IPY_MODEL_980b04576b014e998b763b98e353141f",
       "value": false
      }
     },
     "e1517a5ece41466c962bd97efd23f41d": {
      "model_module": "@jupyter-widgets/base",
      "model_module_version": "1.1.0",
      "model_name": "LayoutModel",
      "state": {}
     },
     "e39cc79c87574f648ea15c0c7ece4595": {
      "model_module": "@jupyter-widgets/controls",
      "model_module_version": "1.4.0",
      "model_name": "DescriptionStyleModel",
      "state": {
       "description_width": ""
      }
     },
     "e4d0940ebbde4afea334bc5a50d58b77": {
      "model_module": "@jupyter-widgets/base",
      "model_module_version": "1.1.0",
      "model_name": "LayoutModel",
      "state": {}
     },
     "e6ac8cb0bd5c429d8b97840b0dae2523": {
      "model_module": "@jupyter-widgets/controls",
      "model_module_version": "1.4.0",
      "model_name": "CheckboxModel",
      "state": {
       "description": "integer -> boolean",
       "disabled": false,
       "layout": "IPY_MODEL_ce97ddd4384242d7b4f4d8973f3d934d",
       "style": "IPY_MODEL_9b9fd7a1d0174c0d9843763e900aab5a",
       "value": false
      }
     },
     "ea32c50591e04ef984c8538179c8750b": {
      "model_module": "@jupyter-widgets/base",
      "model_module_version": "1.1.0",
      "model_name": "LayoutModel",
      "state": {}
     },
     "eb9e207aef45431d979929a70d6dcdfe": {
      "model_module": "@jupyter-widgets/controls",
      "model_module_version": "1.4.0",
      "model_name": "DescriptionStyleModel",
      "state": {
       "description_width": ""
      }
     },
     "ee2a141c799e4ab1ae864b4984b1992e": {
      "model_module": "@jupyter-widgets/controls",
      "model_module_version": "1.4.0",
      "model_name": "CheckboxModel",
      "state": {
       "description": "integer -> float",
       "disabled": false,
       "layout": "IPY_MODEL_09ce660d36034e27a17d579f4c9f9ab7",
       "style": "IPY_MODEL_e39cc79c87574f648ea15c0c7ece4595",
       "value": false
      }
     },
     "f30b1f4890d84faeb4ab78e1f01ebbed": {
      "model_module": "@jupyter-widgets/base",
      "model_module_version": "1.1.0",
      "model_name": "LayoutModel",
      "state": {}
     },
     "f6ff3964100241c19ac10dd537866b65": {
      "model_module": "@jupyter-widgets/controls",
      "model_module_version": "1.4.0",
      "model_name": "CheckboxModel",
      "state": {
       "description": "float -> boolean",
       "disabled": false,
       "layout": "IPY_MODEL_aa34f9124dce4f2981ccdc41cfd2026b",
       "style": "IPY_MODEL_888434c979f04e12aac8f2646c93369f",
       "value": false
      }
     },
     "f73a070b6b814a358c1e6a2c1b5176d3": {
      "model_module": "@jupyter-widgets/controls",
      "model_module_version": "1.4.0",
      "model_name": "DescriptionStyleModel",
      "state": {
       "description_width": ""
      }
     },
     "f95f5547e73b4ebebb45141e029cd7fa": {
      "model_module": "@jupyter-widgets/base",
      "model_module_version": "1.1.0",
      "model_name": "LayoutModel",
      "state": {}
     },
     "feb0b4e84a17424ea6790a8a6dbd7139": {
      "model_module": "@jupyter-widgets/controls",
      "model_module_version": "1.4.0",
      "model_name": "DescriptionStyleModel",
      "state": {
       "description_width": ""
      }
     }
    },
    "version_major": 2,
    "version_minor": 0
   }
  }
 },
 "nbformat": 4,
 "nbformat_minor": 4
}
