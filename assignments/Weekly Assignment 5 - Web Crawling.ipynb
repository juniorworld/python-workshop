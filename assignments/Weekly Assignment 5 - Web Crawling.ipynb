{
 "cells": [
  {
   "cell_type": "markdown",
   "metadata": {},
   "source": [
    "# Weekly Assignment 5\n",
    "Due Date: 15:30, 7 Mar"
   ]
  },
  {
   "cell_type": "markdown",
   "metadata": {},
   "source": [
    "Collect the first 60 notes posted by 香港浸會大學傳理學院 on the Red Book.\n",
    "\n",
    "1. Control your selenium web driver to open this page: https://www.xiaohongshu.com/user/profile/62a2d662000000001902acf6\n",
    "\n",
    "2. Collect all posts listed on the page. Required columns: Post Link, Post Title, Poster (Screen Name), Likes\n",
    "\n",
    "3. Write a loop to repeatedly run step 2 until 60 posts are archived.\n",
    "\n",
    "Submit your jupyter notebook on Moodle."
   ]
  },
  {
   "cell_type": "code",
   "execution_count": null,
   "metadata": {},
   "outputs": [],
   "source": [
    "\n",
    "\n"
   ]
  },
  {
   "cell_type": "code",
   "execution_count": null,
   "metadata": {},
   "outputs": [],
   "source": [
    "\n",
    "\n"
   ]
  }
 ],
 "metadata": {
  "kernelspec": {
   "display_name": "Python 3 (ipykernel)",
   "language": "python",
   "name": "python3"
  },
  "language_info": {
   "codemirror_mode": {
    "name": "ipython",
    "version": 3
   },
   "file_extension": ".py",
   "mimetype": "text/x-python",
   "name": "python",
   "nbconvert_exporter": "python",
   "pygments_lexer": "ipython3",
   "version": "3.10.9"
  },
  "widgets": {
   "application/vnd.jupyter.widget-state+json": {
    "state": {
     "09d403da72ce484c8059f560bd837121": {
      "model_module": "@jupyter-widgets/controls",
      "model_module_version": "1.4.0",
      "model_name": "DropdownModel",
      "state": {
       "_options_labels": [
        "Washington",
        "Jefferson",
        "Lincoln",
        "Roosevelt",
        "Kennedy",
        "Nixon",
        "Reagan",
        "Bush",
        "Clinton",
        "W Bush",
        "Obama",
        "Trump"
       ],
       "index": 0,
       "layout": "IPY_MODEL_5d041920c7cd48e2a363485668907b6d",
       "style": "IPY_MODEL_0e118725a2304b21b80c9097e5078e48"
      }
     },
     "0c14d355c296406cafa55fc7a8ff8703": {
      "model_module": "@jupyter-widgets/base",
      "model_module_version": "1.1.0",
      "model_name": "LayoutModel",
      "state": {}
     },
     "0e118725a2304b21b80c9097e5078e48": {
      "model_module": "@jupyter-widgets/controls",
      "model_module_version": "1.4.0",
      "model_name": "DescriptionStyleModel",
      "state": {
       "description_width": ""
      }
     },
     "108e50ab0f634a8e8356903e8b05b383": {
      "model_module": "@jupyter-widgets/base",
      "model_module_version": "1.1.0",
      "model_name": "LayoutModel",
      "state": {}
     },
     "36f14aa0711647fcaf7d3c41e5098cba": {
      "model_module": "@jupyter-widgets/controls",
      "model_module_version": "1.4.0",
      "model_name": "DescriptionStyleModel",
      "state": {
       "description_width": ""
      }
     },
     "427453b1a0234b0795232b2204adf254": {
      "model_module": "@jupyter-widgets/base",
      "model_module_version": "1.1.0",
      "model_name": "LayoutModel",
      "state": {}
     },
     "447e287667804afdb3703200255435b7": {
      "model_module": "@jupyter-widgets/base",
      "model_module_version": "1.1.0",
      "model_name": "LayoutModel",
      "state": {}
     },
     "48c28b30321d42b5aa6ca23b457faec8": {
      "model_module": "@jupyter-widgets/controls",
      "model_module_version": "1.4.0",
      "model_name": "DropdownModel",
      "state": {
       "_options_labels": [
        "Self-Direction",
        "Stimulation",
        "Hedonism",
        "Achievement",
        "Power",
        "Security",
        "Tradition",
        "Conformity",
        "Benevolence",
        "Universalism"
       ],
       "index": 0,
       "layout": "IPY_MODEL_0c14d355c296406cafa55fc7a8ff8703",
       "style": "IPY_MODEL_36f14aa0711647fcaf7d3c41e5098cba"
      }
     },
     "50b1ce134bfb4976b5524b63af79063b": {
      "model_module": "@jupyter-widgets/controls",
      "model_module_version": "1.4.0",
      "model_name": "DescriptionStyleModel",
      "state": {
       "description_width": ""
      }
     },
     "5d041920c7cd48e2a363485668907b6d": {
      "model_module": "@jupyter-widgets/base",
      "model_module_version": "1.1.0",
      "model_name": "LayoutModel",
      "state": {}
     },
     "6bf5d15ed7ba4ce48882118753034deb": {
      "model_module": "@jupyter-widgets/base",
      "model_module_version": "1.1.0",
      "model_name": "LayoutModel",
      "state": {}
     },
     "92f1a9bf5e1e456a9e928334a2c94444": {
      "model_module": "@jupyter-widgets/controls",
      "model_module_version": "1.4.0",
      "model_name": "DropdownModel",
      "state": {
       "_options_labels": [
        "Self-Direction",
        "Stimulation",
        "Hedonism",
        "Achievement",
        "Power",
        "Security",
        "Tradition",
        "Conformity",
        "Benevolence",
        "Universalism"
       ],
       "index": 0,
       "layout": "IPY_MODEL_108e50ab0f634a8e8356903e8b05b383",
       "style": "IPY_MODEL_9482fb8de0f24b67a9ea4476a4ab865a"
      }
     },
     "9482fb8de0f24b67a9ea4476a4ab865a": {
      "model_module": "@jupyter-widgets/controls",
      "model_module_version": "1.4.0",
      "model_name": "DescriptionStyleModel",
      "state": {
       "description_width": ""
      }
     },
     "b342823aa0e74a50bbbe2659fd0a1980": {
      "model_module": "@jupyter-widgets/controls",
      "model_module_version": "1.4.0",
      "model_name": "DropdownModel",
      "state": {
       "_options_labels": [
        "Washington",
        "Jefferson",
        "Lincoln",
        "Roosevelt",
        "Kennedy",
        "Nixon",
        "Reagan",
        "Bush",
        "Clinton",
        "W Bush",
        "Obama",
        "Trump"
       ],
       "index": 0,
       "layout": "IPY_MODEL_427453b1a0234b0795232b2204adf254",
       "style": "IPY_MODEL_e2aa6eccef004eda98c547964bb65ab1"
      }
     },
     "b79d13a09c964e2c9ad68347bc444f73": {
      "model_module": "@jupyter-widgets/controls",
      "model_module_version": "1.4.0",
      "model_name": "DropdownModel",
      "state": {
       "_options_labels": [
        "Self-Direction",
        "Stimulation",
        "Hedonism",
        "Achievement",
        "Power",
        "Security",
        "Tradition",
        "Conformity",
        "Benevolence",
        "Universalism"
       ],
       "index": 0,
       "layout": "IPY_MODEL_447e287667804afdb3703200255435b7",
       "style": "IPY_MODEL_50b1ce134bfb4976b5524b63af79063b"
      }
     },
     "e2aa6eccef004eda98c547964bb65ab1": {
      "model_module": "@jupyter-widgets/controls",
      "model_module_version": "1.4.0",
      "model_name": "DescriptionStyleModel",
      "state": {
       "description_width": ""
      }
     },
     "fa3f15da2c5b48ef902cb9eced151a83": {
      "model_module": "@jupyter-widgets/controls",
      "model_module_version": "1.4.0",
      "model_name": "AccordionModel",
      "state": {
       "_titles": {
        "0": "If all inauguration speeches are considered, which value is the most important and most mentioned?",
        "1": "Among all studied presidents, who emphasizes the value of STIMULATION more often than others?",
        "2": "Among all studied presidents, who emphasizes the value of POWER more often than others?",
        "3": "Among all studied values, what is the most important thing for Trump?",
        "4": "Among all studied values, what is the least important thing for Trump?"
       },
       "children": [
        "IPY_MODEL_b79d13a09c964e2c9ad68347bc444f73",
        "IPY_MODEL_b342823aa0e74a50bbbe2659fd0a1980",
        "IPY_MODEL_09d403da72ce484c8059f560bd837121",
        "IPY_MODEL_92f1a9bf5e1e456a9e928334a2c94444",
        "IPY_MODEL_48c28b30321d42b5aa6ca23b457faec8"
       ],
       "layout": "IPY_MODEL_6bf5d15ed7ba4ce48882118753034deb"
      }
     }
    },
    "version_major": 2,
    "version_minor": 0
   }
  }
 },
 "nbformat": 4,
 "nbformat_minor": 2
}
