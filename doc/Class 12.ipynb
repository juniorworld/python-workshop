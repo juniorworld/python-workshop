{
 "cells": [
  {
   "cell_type": "markdown",
   "id": "fafcbcb9-0491-4a51-857c-b5a772ab10fa",
   "metadata": {},
   "source": [
    "# Topic Modeling\n",
    "- Topic Models are a type of statistical language models used for uncovering topical structure in a collection of texts.\n",
    "- **Latent Dirichlet Allocation (LDA)** is an unsupervised machine-learning model that takes documents as input and finds topics as output.\n",
    "- LDA assumes each topic is a mixture over an underlying set of words, and each document is a mixture of over a set of topic probabilities.\n",
    "  - God loves playing dice.\n",
    "  - Topics: Bags of words; Documents: Bags of topics.\n",
    "\n",
    "<img src=\"https://theintelligenceofinformation.files.wordpress.com/2016/12/topic-modeling-for-learning-analytics-researchers-lak15-tutorial-15-638.jpg\" style=\"height:300px\">"
   ]
  },
  {
   "cell_type": "markdown",
   "id": "214ac463-e2f1-4ff0-9796-d7732cec7881",
   "metadata": {},
   "source": [
    "\n",
    "## LDA Process\n",
    "\n",
    "1. Predefine K - the number of possible topics underlying the text. Assume K topics are present in texts with probabilities (p1, p2, ..., pk)\n",
    "2. Draw (randomly) one topic A from K\n",
    "3. Draw (randomly) one word X1 from topic A\n",
    "4. Put down word X1 in the text\n",
    "5. Repeat Steps 2-4 until the text reaches the word limit\n",
    "\n",
    ">   Text = Combination of words (X1, X2, X3 ..., XN)\n",
    "\n",
    "<br>\n",
    "The goal of LDA modeling is to find out the best way to sort words into different topics and establish the optimal probability distribution of topics.<br>\n",
    "In other words, LDA modeling aims to optimize:\n",
    "\n",
    "- `psi` the distribution of words for each topic K\n",
    "- `phi`  the distribution of topics for each document i"
   ]
  },
  {
   "cell_type": "markdown",
   "id": "32279cec-7e69-483e-bee4-b83faa858899",
   "metadata": {},
   "source": [
    "### Modeling the topics underlying BBC news\n",
    "\n",
    "Download this file: https://juniorworld.github.io/python-workshop/doc/bbc_news.csv"
   ]
  },
  {
   "cell_type": "code",
   "execution_count": null,
   "id": "58dc4ed2-b064-4d34-bb61-c0c46e63963b",
   "metadata": {},
   "outputs": [],
   "source": [
    "import pandas as pd\n",
    "import numpy as np\n",
    "import re"
   ]
  },
  {
   "cell_type": "code",
   "execution_count": null,
   "id": "0d52d8ea-959b-46f9-8787-fb0f10a58524",
   "metadata": {},
   "outputs": [],
   "source": [
    "table = pd.read_csv(\"https://juniorworld.github.io/python-workshop/doc/bbc_news.csv\")"
   ]
  },
  {
   "cell_type": "code",
   "execution_count": null,
   "id": "d8a00096-c48f-457f-af40-08a7e78cc3cd",
   "metadata": {},
   "outputs": [],
   "source": [
    "table.head()"
   ]
  },
  {
   "cell_type": "code",
   "execution_count": null,
   "id": "4f30383f-82fd-43f6-bb82-d3e456ac3dd5",
   "metadata": {},
   "outputs": [],
   "source": [
    "table.shape"
   ]
  },
  {
   "cell_type": "markdown",
   "id": "5fc461d1-c107-4030-9501-8e1a5743bdec",
   "metadata": {},
   "source": [
    "#### Pre-processing"
   ]
  },
  {
   "cell_type": "markdown",
   "id": "3e7473fe-0de3-4b54-b0da-ad24ab40bbf1",
   "metadata": {},
   "source": [
    "Download a new stopword list from: https://juniorworld.github.io/python-workshop/doc/stop_words_bbc.txt"
   ]
  },
  {
   "cell_type": "code",
   "execution_count": null,
   "id": "233bc5a5-e908-4f44-97b6-56dc749e373a",
   "metadata": {},
   "outputs": [],
   "source": [
    "stopwords=open(\"./doc/stop_words_bbc.txt\",'r')\n",
    "stopwords=[i.strip() for i in stopwords.readlines()]"
   ]
  },
  {
   "cell_type": "code",
   "execution_count": null,
   "id": "c33947a5-86e3-493d-ae6e-0d2610262e89",
   "metadata": {},
   "outputs": [],
   "source": [
    "def remove_stopwords(words):\n",
    "    global stopwords\n",
    "    words_rm=[]\n",
    "    for word in words:\n",
    "        if word not in stopwords:\n",
    "            words_rm.append(word)    \n",
    "    return(words_rm)"
   ]
  },
  {
   "cell_type": "code",
   "execution_count": null,
   "id": "86b39785-9b61-43c7-ae54-ad0c37d57411",
   "metadata": {},
   "outputs": [],
   "source": [
    "def lemmatization(words_rm):\n",
    "    words_lemma=[]\n",
    "    for word,pos in nltk.pos_tag(words_rm):\n",
    "        if pos[0]=='N':\n",
    "            words_lemma.append(Lemmatizer.lemmatize(word))\n",
    "        elif pos[0]=='J':\n",
    "            words_lemma.append(Lemmatizer.lemmatize(word,'a'))\n",
    "        elif pos[0]=='V':\n",
    "            words_lemma.append(Lemmatizer.lemmatize(word,'v'))\n",
    "        else:\n",
    "            words_lemma.append(word)\n",
    "    return(words_lemma)"
   ]
  },
  {
   "cell_type": "code",
   "execution_count": null,
   "id": "7f7b9d55-fd88-4abb-9aea-4e935933dd7c",
   "metadata": {},
   "outputs": [],
   "source": [
    "import nltk\n",
    "nltk.download('averaged_perceptron_tagger')\n",
    "nltk.download('wordnet')\n",
    "from nltk.stem import WordNetLemmatizer\n",
    "Lemmatizer=WordNetLemmatizer()"
   ]
  },
  {
   "cell_type": "code",
   "execution_count": null,
   "id": "c863d5e9-3754-40f0-8857-70bbb6e8825c",
   "metadata": {},
   "outputs": [],
   "source": [
    "texts = []\n",
    "for text in table['description']:\n",
    "    text_lower = text.lower()\n",
    "    clean_text = re.sub('[\\W0-9]+', ' ', text_lower)\n",
    "    words = clean_text.split()\n",
    "    words_lemma = lemmatization(words)\n",
    "    words_rm = remove_stopwords(words_lemma)\n",
    "    texts.append(words_rm)"
   ]
  },
  {
   "cell_type": "code",
   "execution_count": null,
   "id": "2f7a10c6-6351-4409-977f-03e3be045f6e",
   "metadata": {},
   "outputs": [],
   "source": [
    "texts[0]"
   ]
  },
  {
   "cell_type": "markdown",
   "id": "d9a6fbd1-12d9-4820-b557-dbca56128895",
   "metadata": {},
   "source": [
    "#### LDA Model Training"
   ]
  },
  {
   "cell_type": "code",
   "execution_count": null,
   "id": "84c4949c-16e8-4689-b25f-68eec85196e4",
   "metadata": {},
   "outputs": [],
   "source": [
    "import collections.abc\n",
    "#hyper needs the four following aliases to be done manually.\n",
    "collections.Iterable = collections.abc.Iterable\n",
    "collections.Mapping = collections.abc.Mapping\n",
    "collections.MutableSet = collections.abc.MutableSet\n",
    "collections.MutableMapping = collections.abc.MutableMapping"
   ]
  },
  {
   "cell_type": "code",
   "execution_count": null,
   "id": "36c1f94d-08c6-4190-bc9f-95ea81d84fc1",
   "metadata": {},
   "outputs": [],
   "source": [
    "import gensim.corpora as corpora\n",
    "from gensim.models import LdaModel\n",
    "\n",
    "# Create Dictionary, which maps each word to its unique word id\n",
    "id2word = corpora.Dictionary(texts)\n",
    "\n",
    "# Translate each document (news description) as a bag of word ids\n",
    "corpus = [id2word.doc2bow(text) for text in texts]\n",
    "\n",
    "# View first description text\n",
    "# Document is represented as a bag of words (word_id, freq)\n",
    "print(corpus[0])"
   ]
  },
  {
   "cell_type": "code",
   "execution_count": null,
   "id": "4e1844a6-6122-4833-9894-9c670e3570bf",
   "metadata": {},
   "outputs": [],
   "source": [
    "id2word[0]"
   ]
  },
  {
   "cell_type": "code",
   "execution_count": null,
   "id": "dbb1c2ba-b7f2-43fa-a680-96a6eda6f589",
   "metadata": {},
   "outputs": [],
   "source": [
    "# Train a LDA model with 5 topics\n",
    "lda_model = LdaModel(corpus=corpus, id2word=id2word, num_topics=5)"
   ]
  },
  {
   "cell_type": "markdown",
   "id": "c8d187e4-d854-4c5e-ad14-208c0068516d",
   "metadata": {},
   "source": [
    "#### Initial Check-up"
   ]
  },
  {
   "cell_type": "code",
   "execution_count": null,
   "id": "058cfe56-8b7b-44be-8c9d-d7efe5506a80",
   "metadata": {},
   "outputs": [],
   "source": [
    "# View topic words\n",
    "lda_model.print_topics()"
   ]
  },
  {
   "cell_type": "code",
   "execution_count": null,
   "id": "6e372b01-973a-4d69-8e24-893ac8039b8c",
   "metadata": {},
   "outputs": [],
   "source": [
    "doc_vectors = lda_model[corpus]"
   ]
  },
  {
   "cell_type": "code",
   "execution_count": null,
   "id": "c1189c22-e298-48be-a48f-4f0581f2dfe1",
   "metadata": {
    "scrolled": true
   },
   "outputs": [],
   "source": [
    "# Each news is represented by a topic vector, consisting of probabilities associated with 5 topics\n",
    "# First document is xx% about topic 0, xx% about topic 1...\n",
    "doc_vectors[0]"
   ]
  },
  {
   "cell_type": "code",
   "execution_count": null,
   "id": "31a886da-fdb0-4018-aecc-651e910a7a3f",
   "metadata": {},
   "outputs": [],
   "source": [
    "len(doc_vectors)"
   ]
  },
  {
   "cell_type": "code",
   "execution_count": null,
   "id": "a9349fc0-7c0d-435c-8fed-fd715d683a2f",
   "metadata": {},
   "outputs": [],
   "source": [
    "# Some document might have less than 5 probabilities\n",
    "# Topics with very low probability will be ignored\n",
    "doc_vectors[50]"
   ]
  },
  {
   "cell_type": "code",
   "execution_count": null,
   "id": "63770001-78b1-4d7f-9191-e6190815073b",
   "metadata": {},
   "outputs": [],
   "source": [
    "# convert the document vectors into a DataFrame\n",
    "doc_dict = {i:[0]*len(doc_vectors) for i in range(5)}\n",
    "n = 0 #doc counter, marking the index of the current doc under processing\n",
    "\n",
    "for doc_vec in doc_vectors:\n",
    "    for i in doc_vec:\n",
    "        doc_dict[i[0]][n]=i[1]\n",
    "    n+=1"
   ]
  },
  {
   "cell_type": "code",
   "execution_count": null,
   "id": "bdf15a17-5d1e-4b49-9b65-40a0716081a8",
   "metadata": {},
   "outputs": [],
   "source": [
    "doc_topic = pd.DataFrame(doc_dict)"
   ]
  },
  {
   "cell_type": "code",
   "execution_count": null,
   "id": "265a70ee-e62a-4c3c-bc44-76f055676810",
   "metadata": {},
   "outputs": [],
   "source": [
    "table_topic = pd.concat([table, doc_topic],axis=1)"
   ]
  },
  {
   "cell_type": "code",
   "execution_count": null,
   "id": "9fad32dc-1a5a-44d8-bbbe-dcbd615aaf50",
   "metadata": {},
   "outputs": [],
   "source": [
    "# Show descriptions for the top 10 news articles with highest probabilities of topic 0\n"
   ]
  },
  {
   "cell_type": "code",
   "execution_count": null,
   "id": "7faa8205-2597-4430-aec4-2903e152b671",
   "metadata": {},
   "outputs": [],
   "source": [
    "# Manually assign labels for 10 topics\n",
    "topics = [ ]"
   ]
  },
  {
   "cell_type": "code",
   "execution_count": null,
   "id": "5db8447a-8c71-4a19-aa0d-0089649e70da",
   "metadata": {},
   "outputs": [],
   "source": [
    "# Display topic labels as headers\n"
   ]
  },
  {
   "cell_type": "code",
   "execution_count": null,
   "id": "14d3ca13-114a-4178-b8d4-45e4992d4064",
   "metadata": {},
   "outputs": [],
   "source": [
    "# Find out the topic with highest probability for a given text\n",
    "doc_topic.idxmax(axis=1)"
   ]
  },
  {
   "cell_type": "code",
   "execution_count": null,
   "id": "1037437b-5ebe-40be-946a-74cad3799d4a",
   "metadata": {},
   "outputs": [],
   "source": [
    "# Save topic affiliations as an independent column\n",
    "doc_topic['Topic'] = doc_topic.idxmax(axis=1)"
   ]
  },
  {
   "cell_type": "code",
   "execution_count": null,
   "id": "b8fa223e-9198-4b94-9194-80fb5a411af6",
   "metadata": {},
   "outputs": [],
   "source": [
    "table_topic = pd.concat([table, doc_topic],axis=1)"
   ]
  },
  {
   "cell_type": "code",
   "execution_count": null,
   "id": "37a54911-7ad7-4c2d-babf-918d38c73d37",
   "metadata": {},
   "outputs": [],
   "source": [
    "table_topic[['title','description','Topic']].head()"
   ]
  },
  {
   "cell_type": "code",
   "execution_count": null,
   "id": "9a81ea21-65b6-4ecc-8e30-8d531d80c42f",
   "metadata": {},
   "outputs": [],
   "source": [
    "# How often a topic is covered by BBC?\n"
   ]
  },
  {
   "cell_type": "code",
   "execution_count": null,
   "id": "a0531e74-bcc3-43e0-8ac3-8c061beb0e2b",
   "metadata": {},
   "outputs": [],
   "source": [
    "# Apply the model to unseen documents\n",
    "lda_model."
   ]
  },
  {
   "cell_type": "markdown",
   "id": "47b1e080-c35b-4b18-878a-b50c1e7bfc65",
   "metadata": {},
   "source": [
    "## Evaluate LDA Model\n",
    "How can we tell if the LDA model is good or bad?\n",
    "\n",
    "1. **Human Instinct**: Intrinsic evaluation of model **interpretability** for human-beings\n",
    "   - Qualitative: Human reading of topic distribution and composition\n",
    "   - Quantative: Intercoder Reliability Test over the topic distribution composition. Recruit two human coders. Ask them to match topic words and texts with topic labels. Human coders can also report their confidence levels to help researchers better understand the interpretability of topic outputs.\n",
    "3. **Model Performance**: **Perplexity** score (also known as normalized log-likelihood) of the model measures how well a model ssigns topics to unseen documents.\n",
    "   - However, recent studies have found that perplexity often does not reflect or even goes against human judgment. Increasing perplexity may not yield human interpretable topics.\n",
    "   - Feasible but not accessible.\n",
    "4. **Topic Composition**: We hope the model can be **internally coherent and externally exclusive**.\n",
    "   - **Coherence** measures the degree of semantic similarity between high-ranking words in the topic. A coherent topic should consist of similar words.\n",
    "   - **Exclusivity** measures the uniqueness of top N words to a particular topic. A topic model is said to lack exclusivity if the top terms tend to be the same in more than one topic."
   ]
  },
  {
   "cell_type": "code",
   "execution_count": null,
   "id": "77bfb769-dd6b-4b13-a1ee-385beb0285b3",
   "metadata": {},
   "outputs": [],
   "source": [
    "# Perplexity Score: Always negative\n",
    "# Always Negative. The higher the better\n",
    "lda_model.log_perplexity(corpus)"
   ]
  },
  {
   "cell_type": "code",
   "execution_count": null,
   "id": "55a6b5a9-9983-4102-a7a9-2cf091ae05ae",
   "metadata": {},
   "outputs": [],
   "source": [
    "# Coherence Score\n",
    "# u_mass measures how often the two words (Wi, Wj) were seen together in the reference corpus\n",
    "# D(Wi, Wj) = log [ (D(Wi, Wj) + EPSILON) / D(Wi) ]\n",
    "# Always Negative. The higher the better\n",
    "from gensim.models import CoherenceModel\n",
    "\n",
    "coherence_model = CoherenceModel(model=lda_model, corpus=lda_model[corpus], coherence='u_mass')\n",
    "coherence_scores = coherence_model.get_coherence()"
   ]
  },
  {
   "cell_type": "code",
   "execution_count": null,
   "id": "c8317611-ca00-4f25-a1b2-22e148a52ea7",
   "metadata": {},
   "outputs": [],
   "source": [
    "coherence_scores"
   ]
  },
  {
   "cell_type": "code",
   "execution_count": null,
   "id": "f9970ed0-41f8-4546-8c2f-ef08e3a86242",
   "metadata": {},
   "outputs": [],
   "source": [
    "# Exclusivity Score\n",
    "# Exclusivity measures the significance of a word in topic A relative its overall presence in all topics.\n",
    "# We will limit our probe to top 10 words here but you can freely expand or narrow the scope by changing the cutting line\n",
    "lda_model.get_topic_terms(0)"
   ]
  },
  {
   "cell_type": "code",
   "execution_count": null,
   "id": "a3bdbc62-6d8b-49a8-9574-885ce982ea69",
   "metadata": {},
   "outputs": [],
   "source": [
    "topic_terms = pd.DataFrame()\n",
    "for i in range(5):\n",
    "    temp = pd.DataFrame(lda_model.get_topic_terms(i))\n",
    "    temp['Topic'] = i\n",
    "    topic_terms = pd.concat([topic_terms,temp],axis=0)"
   ]
  },
  {
   "cell_type": "code",
   "execution_count": null,
   "id": "e5d4dda0-29d5-4013-b7f9-0935edf2b251",
   "metadata": {},
   "outputs": [],
   "source": [
    "topic_terms.head()"
   ]
  },
  {
   "cell_type": "markdown",
   "id": "b1130b45-ac0b-447b-b9b8-71d089009ab1",
   "metadata": {},
   "source": [
    "#### Pivot table\n",
    "\n",
    "**Pivot table** allows you to create a summary table based on a grouping of an original table.\n",
    "- `dataframe.pivot_table(index = col1, [columns = col2], values = col3, aggfunc = sum/max/len/np.mean)`\n",
    "- **index** indicates the column that you would like to use to group your data. The index feature will appear as an index in the resulting table. Generally, categorical columns are used as indexes.\n",
    "- **columns** indicates the column that you would like to use to break down the pivot table. The columns feature will appear as columns in the resulting table. Generally, categorical columns are used as columns.\n",
    "- **values** indicates the column that you would like to summarize.\n",
    "- **aggfunc** is an aggregate function that pivot_table applies to your grouped data."
   ]
  },
  {
   "cell_type": "code",
   "execution_count": null,
   "id": "7c3bee42-a02b-4c88-845b-b265d0e69a6a",
   "metadata": {},
   "outputs": [],
   "source": [
    "topic_terms=topic_terms.pivot_table(index=0, columns='Topic', values=1)"
   ]
  },
  {
   "cell_type": "code",
   "execution_count": null,
   "id": "c3da4125-36ac-4b55-877b-1cee6f1f0642",
   "metadata": {
    "scrolled": true
   },
   "outputs": [],
   "source": [
    "topic_terms.head()"
   ]
  },
  {
   "cell_type": "code",
   "execution_count": null,
   "id": "8c5c6110-03d7-452c-b07b-4968f0d8ee5a",
   "metadata": {
    "scrolled": true
   },
   "outputs": [],
   "source": [
    "topic_terms=topic_terms.div(topic_terms.sum(axis=1),axis=0)\n",
    "topic_terms"
   ]
  },
  {
   "cell_type": "code",
   "execution_count": null,
   "id": "1d6aa03e-1370-4626-b6d1-645b9decd7c6",
   "metadata": {},
   "outputs": [],
   "source": [
    "topic_terms.mean(axis=0).mean()"
   ]
  },
  {
   "cell_type": "code",
   "execution_count": null,
   "id": "35af266a-c6f0-4c57-85b3-37f52549ef38",
   "metadata": {},
   "outputs": [],
   "source": [
    "def Exclusivity_Score(lda_model, top_n=10):\n",
    "    topic_terms = pd.DataFrame()\n",
    "    for i in range(lda_model.num_topics):\n",
    "        temp = pd.DataFrame(lda_model.get_topic_terms(i,top_n))\n",
    "        temp['Topic'] = i\n",
    "        topic_terms = pd.concat([topic_terms,temp],axis=0)\n",
    "    topic_terms = topic_terms.pivot_table(index=0, columns = 'Topic', values=1)\n",
    "    topic_terms = topic_terms.div(topic_terms.sum(axis=1),axis=0)\n",
    "    excl_score = topic_terms.mean(axis=0).mean()\n",
    "    return(excl_score)"
   ]
  },
  {
   "cell_type": "markdown",
   "id": "0154675e-dd37-4467-abeb-3673873c1b6d",
   "metadata": {},
   "source": [
    "## Improve Model: Hyperparameter Tuning"
   ]
  },
  {
   "cell_type": "markdown",
   "id": "e8a987b5-f8f8-467f-a1d3-8a640d832425",
   "metadata": {},
   "source": [
    "Difference between model parameters and hyperparameters:\n",
    "- Model parameters, such as psi (topic-word distribution) and phi (topic-document distribution), are something that the model learns and improve during training.\n",
    "- Model hyperparameters, such as K (topic number), alpha (topic-document concentration), beta (topic-word concentration), are model settings that are predefined by model developers and not trained/updated during training."
   ]
  },
  {
   "cell_type": "markdown",
   "id": "e402e002-8aef-4abd-bbae-520d8b1109ab",
   "metadata": {},
   "source": [
    "Since psi and phi have been optimized to their best values during the training, the models can only be improved by changing hyperparameters, such as topic number K.<br>\n",
    "In other words, we can consider the model perplexity and coherence as a function of K."
   ]
  },
  {
   "cell_type": "markdown",
   "id": "017c20be-274b-44d1-a29c-91c44bb63b52",
   "metadata": {},
   "source": [
    "#### Finding the best value of K\n",
    "Grid search: Increase the value of K from 2 to 30 and determine the best K that yields the best combination of perplexity and coherence for the LDA model.\n",
    "\n",
    "_This is a simplified one-dimensional grid search. You may extend this process to encompass different values for alpha and beta._"
   ]
  },
  {
   "cell_type": "code",
   "execution_count": null,
   "id": "bae7a10a-ec77-4760-aa56-0091b9bbdd10",
   "metadata": {
    "scrolled": true
   },
   "outputs": [],
   "source": [
    "# Running this cell will take 1-2 hours\n",
    "# Don't run in class\n",
    "\n",
    "import random\n",
    "Ks = []\n",
    "perplexities = []\n",
    "coherences = []\n",
    "exclusivities = []\n",
    "corpus_sample = random.sample(corpus, 2000)\n",
    "\n",
    "for K in range(3,31):\n",
    "    print(K)\n",
    "    Ks.append(K)\n",
    "    # Train a LDA model with K topics\n",
    "    lda_model = LdaModel(corpus=corpus, id2word=id2word, num_topics=K)\n",
    "    # Evaluate its perplexity and append this value to perplexities list\n",
    "    perplexities.append(lda_model.log_perplexity(corpus, total_docs=1000))\n",
    "    # Evaluate its coherence and append this value to coherences list\n",
    "    coherence_model = CoherenceModel(model=lda_model, corpus=lda_model[corpus_sample], coherence='u_mass')\n",
    "    coherences.append(coherence_model.get_coherence())\n",
    "    exclusivities.append(Exclusivity_Score(lda_model))"
   ]
  },
  {
   "cell_type": "code",
   "execution_count": 18,
   "id": "647f1df6-8f01-4dec-8f29-41d4942b507b",
   "metadata": {
    "scrolled": true
   },
   "outputs": [
    {
     "data": {
      "text/html": [
       "<div>\n",
       "<style scoped>\n",
       "    .dataframe tbody tr th:only-of-type {\n",
       "        vertical-align: middle;\n",
       "    }\n",
       "\n",
       "    .dataframe tbody tr th {\n",
       "        vertical-align: top;\n",
       "    }\n",
       "\n",
       "    .dataframe thead th {\n",
       "        text-align: right;\n",
       "    }\n",
       "</style>\n",
       "<table border=\"1\" class=\"dataframe\">\n",
       "  <thead>\n",
       "    <tr style=\"text-align: right;\">\n",
       "      <th></th>\n",
       "      <th>K</th>\n",
       "      <th>Perplexity</th>\n",
       "      <th>Coherence</th>\n",
       "      <th>Exclusivity</th>\n",
       "    </tr>\n",
       "  </thead>\n",
       "  <tbody>\n",
       "    <tr>\n",
       "      <th>0</th>\n",
       "      <td>3</td>\n",
       "      <td>-14.362559</td>\n",
       "      <td>0.000000</td>\n",
       "      <td>0.966667</td>\n",
       "    </tr>\n",
       "    <tr>\n",
       "      <th>1</th>\n",
       "      <td>4</td>\n",
       "      <td>-15.141572</td>\n",
       "      <td>0.000000</td>\n",
       "      <td>0.875000</td>\n",
       "    </tr>\n",
       "    <tr>\n",
       "      <th>2</th>\n",
       "      <td>5</td>\n",
       "      <td>-15.700509</td>\n",
       "      <td>0.000000</td>\n",
       "      <td>0.900000</td>\n",
       "    </tr>\n",
       "    <tr>\n",
       "      <th>3</th>\n",
       "      <td>6</td>\n",
       "      <td>-16.000001</td>\n",
       "      <td>-0.556739</td>\n",
       "      <td>0.783333</td>\n",
       "    </tr>\n",
       "    <tr>\n",
       "      <th>4</th>\n",
       "      <td>7</td>\n",
       "      <td>-16.251178</td>\n",
       "      <td>-0.663438</td>\n",
       "      <td>0.842857</td>\n",
       "    </tr>\n",
       "    <tr>\n",
       "      <th>5</th>\n",
       "      <td>8</td>\n",
       "      <td>-16.301553</td>\n",
       "      <td>-0.543991</td>\n",
       "      <td>0.900000</td>\n",
       "    </tr>\n",
       "    <tr>\n",
       "      <th>6</th>\n",
       "      <td>9</td>\n",
       "      <td>-16.444094</td>\n",
       "      <td>-0.402293</td>\n",
       "      <td>0.922222</td>\n",
       "    </tr>\n",
       "    <tr>\n",
       "      <th>7</th>\n",
       "      <td>10</td>\n",
       "      <td>-16.690620</td>\n",
       "      <td>-0.718174</td>\n",
       "      <td>0.890000</td>\n",
       "    </tr>\n",
       "    <tr>\n",
       "      <th>8</th>\n",
       "      <td>11</td>\n",
       "      <td>-16.936133</td>\n",
       "      <td>-0.403463</td>\n",
       "      <td>0.872727</td>\n",
       "    </tr>\n",
       "    <tr>\n",
       "      <th>9</th>\n",
       "      <td>12</td>\n",
       "      <td>-17.249762</td>\n",
       "      <td>-0.427363</td>\n",
       "      <td>0.875000</td>\n",
       "    </tr>\n",
       "    <tr>\n",
       "      <th>10</th>\n",
       "      <td>13</td>\n",
       "      <td>-17.826508</td>\n",
       "      <td>-0.510994</td>\n",
       "      <td>0.892308</td>\n",
       "    </tr>\n",
       "    <tr>\n",
       "      <th>11</th>\n",
       "      <td>14</td>\n",
       "      <td>-18.198646</td>\n",
       "      <td>-0.383394</td>\n",
       "      <td>0.871429</td>\n",
       "    </tr>\n",
       "    <tr>\n",
       "      <th>12</th>\n",
       "      <td>15</td>\n",
       "      <td>-18.414070</td>\n",
       "      <td>-0.381448</td>\n",
       "      <td>0.900000</td>\n",
       "    </tr>\n",
       "    <tr>\n",
       "      <th>13</th>\n",
       "      <td>16</td>\n",
       "      <td>-18.703390</td>\n",
       "      <td>-0.559503</td>\n",
       "      <td>0.918750</td>\n",
       "    </tr>\n",
       "    <tr>\n",
       "      <th>14</th>\n",
       "      <td>17</td>\n",
       "      <td>-19.006198</td>\n",
       "      <td>-0.326666</td>\n",
       "      <td>0.900000</td>\n",
       "    </tr>\n",
       "    <tr>\n",
       "      <th>15</th>\n",
       "      <td>18</td>\n",
       "      <td>-19.162437</td>\n",
       "      <td>-0.178151</td>\n",
       "      <td>0.927778</td>\n",
       "    </tr>\n",
       "    <tr>\n",
       "      <th>16</th>\n",
       "      <td>19</td>\n",
       "      <td>-19.503095</td>\n",
       "      <td>-0.429321</td>\n",
       "      <td>0.931579</td>\n",
       "    </tr>\n",
       "    <tr>\n",
       "      <th>17</th>\n",
       "      <td>20</td>\n",
       "      <td>-19.747841</td>\n",
       "      <td>-0.304038</td>\n",
       "      <td>0.920000</td>\n",
       "    </tr>\n",
       "    <tr>\n",
       "      <th>18</th>\n",
       "      <td>21</td>\n",
       "      <td>-19.908132</td>\n",
       "      <td>-0.444641</td>\n",
       "      <td>0.928571</td>\n",
       "    </tr>\n",
       "    <tr>\n",
       "      <th>19</th>\n",
       "      <td>22</td>\n",
       "      <td>-20.191249</td>\n",
       "      <td>-0.387338</td>\n",
       "      <td>0.940909</td>\n",
       "    </tr>\n",
       "    <tr>\n",
       "      <th>20</th>\n",
       "      <td>23</td>\n",
       "      <td>-20.440203</td>\n",
       "      <td>-0.458636</td>\n",
       "      <td>0.952174</td>\n",
       "    </tr>\n",
       "    <tr>\n",
       "      <th>21</th>\n",
       "      <td>24</td>\n",
       "      <td>-20.619862</td>\n",
       "      <td>-0.311603</td>\n",
       "      <td>0.937500</td>\n",
       "    </tr>\n",
       "    <tr>\n",
       "      <th>22</th>\n",
       "      <td>25</td>\n",
       "      <td>-20.894637</td>\n",
       "      <td>-0.390980</td>\n",
       "      <td>0.956000</td>\n",
       "    </tr>\n",
       "    <tr>\n",
       "      <th>23</th>\n",
       "      <td>26</td>\n",
       "      <td>-21.122699</td>\n",
       "      <td>-0.504397</td>\n",
       "      <td>0.942308</td>\n",
       "    </tr>\n",
       "    <tr>\n",
       "      <th>24</th>\n",
       "      <td>27</td>\n",
       "      <td>-21.344260</td>\n",
       "      <td>-0.672593</td>\n",
       "      <td>0.955556</td>\n",
       "    </tr>\n",
       "    <tr>\n",
       "      <th>25</th>\n",
       "      <td>28</td>\n",
       "      <td>-21.552931</td>\n",
       "      <td>-0.735822</td>\n",
       "      <td>0.964286</td>\n",
       "    </tr>\n",
       "    <tr>\n",
       "      <th>26</th>\n",
       "      <td>29</td>\n",
       "      <td>-21.783489</td>\n",
       "      <td>-0.700576</td>\n",
       "      <td>0.955172</td>\n",
       "    </tr>\n",
       "    <tr>\n",
       "      <th>27</th>\n",
       "      <td>30</td>\n",
       "      <td>-21.960158</td>\n",
       "      <td>-0.837649</td>\n",
       "      <td>0.963333</td>\n",
       "    </tr>\n",
       "  </tbody>\n",
       "</table>\n",
       "</div>"
      ],
      "text/plain": [
       "     K  Perplexity  Coherence  Exclusivity\n",
       "0    3  -14.362559   0.000000     0.966667\n",
       "1    4  -15.141572   0.000000     0.875000\n",
       "2    5  -15.700509   0.000000     0.900000\n",
       "3    6  -16.000001  -0.556739     0.783333\n",
       "4    7  -16.251178  -0.663438     0.842857\n",
       "5    8  -16.301553  -0.543991     0.900000\n",
       "6    9  -16.444094  -0.402293     0.922222\n",
       "7   10  -16.690620  -0.718174     0.890000\n",
       "8   11  -16.936133  -0.403463     0.872727\n",
       "9   12  -17.249762  -0.427363     0.875000\n",
       "10  13  -17.826508  -0.510994     0.892308\n",
       "11  14  -18.198646  -0.383394     0.871429\n",
       "12  15  -18.414070  -0.381448     0.900000\n",
       "13  16  -18.703390  -0.559503     0.918750\n",
       "14  17  -19.006198  -0.326666     0.900000\n",
       "15  18  -19.162437  -0.178151     0.927778\n",
       "16  19  -19.503095  -0.429321     0.931579\n",
       "17  20  -19.747841  -0.304038     0.920000\n",
       "18  21  -19.908132  -0.444641     0.928571\n",
       "19  22  -20.191249  -0.387338     0.940909\n",
       "20  23  -20.440203  -0.458636     0.952174\n",
       "21  24  -20.619862  -0.311603     0.937500\n",
       "22  25  -20.894637  -0.390980     0.956000\n",
       "23  26  -21.122699  -0.504397     0.942308\n",
       "24  27  -21.344260  -0.672593     0.955556\n",
       "25  28  -21.552931  -0.735822     0.964286\n",
       "26  29  -21.783489  -0.700576     0.955172\n",
       "27  30  -21.960158  -0.837649     0.963333"
      ]
     },
     "execution_count": 18,
     "metadata": {},
     "output_type": "execute_result"
    }
   ],
   "source": [
    "KTuning = pd.DataFrame({'K': Ks, 'Perplexity': perplexities, 'Coherence': coherences, 'Exclusivity': exclusivities})\n",
    "KTuning"
   ]
  },
  {
   "cell_type": "code",
   "execution_count": 19,
   "id": "95c00dfe-1628-46f8-8ca8-2df12bf4bf01",
   "metadata": {},
   "outputs": [
    {
     "data": {
      "text/plain": [
       "<matplotlib.legend.Legend at 0x2323a267080>"
      ]
     },
     "execution_count": 19,
     "metadata": {},
     "output_type": "execute_result"
    },
    {
     "data": {
      "image/png": "[encoded data removed]",
      "text/plain": [
       "<Figure size 640x480 with 2 Axes>"
      ]
     },
     "metadata": {},
     "output_type": "display_data"
    }
   ],
   "source": [
    "# Visualize hyperparameter tuning results\n",
    "import matplotlib.pyplot as plt\n",
    "\n",
    "fig, ax1 = plt.subplots(layout='constrained')\n",
    "ax2 = ax1.twinx()\n",
    "ax1.plot(Ks, exclusivities, 'g', label='exclusivity')\n",
    "ax1.set_ylabel('Exclusivity')\n",
    "ax2.plot(Ks, coherences, label = 'coherence')\n",
    "ax2.set_ylabel('Coherence')\n",
    "fig.legend(loc='right', bbox_to_anchor=(0.6, 0.7, 0.28, 0.4))"
   ]
  },
  {
   "cell_type": "markdown",
   "id": "fb6de3aa-00fd-4c91-9c25-c12b019fa8c6",
   "metadata": {},
   "source": [
    "## Visualization"
   ]
  },
  {
   "cell_type": "code",
   "execution_count": null,
   "id": "f62ae4e4-8580-4c4f-876c-765966f0b814",
   "metadata": {},
   "outputs": [],
   "source": [
    "! pip3 install pyLDAvis"
   ]
  },
  {
   "cell_type": "code",
   "execution_count": null,
   "id": "919e27c3-e04a-4e89-aad1-3830b30be01b",
   "metadata": {},
   "outputs": [],
   "source": [
    "import pyLDAvis\n",
    "import pyLDAvis.gensim\n",
    "vis = pyLDAvis.gensim.prepare(topic_model=lda_model, corpus=corpus, dictionary=id2word)\n",
    "pyLDAvis.enable_notebook()\n",
    "pyLDAvis.display(vis)"
   ]
  },
  {
   "cell_type": "markdown",
   "id": "fc4f9435-de3d-49b3-a39e-cc4bda7f3a44",
   "metadata": {},
   "source": [
    "## Exercise\n",
    "\n",
    "Download HK_Weibo data: https://juniorworld.github.io/python-workshop/doc/HK_Weibo.csv and Emotion dictionary: https://juniorworld.github.io/python-workshop/doc/Chinese_emotion_dictionary.csv\n",
    "\n",
    "1. Train a LDA model with 5 topics based on HK_Weibo.csv\n",
    "2. Manually assign labels to 5 topics\n",
    "3. Assess topic distribution\n",
    "4. Analyze the sentiment orientations of the  5 topics\n",
    "5. Visualize the sentiment orientations of the 5 topics with a stacked bar charts where each bar represents a topic and the bar is composed of 7 segments, corresponding to 7 sentiment types"
   ]
  },
  {
   "cell_type": "code",
   "execution_count": null,
   "id": "07477d41-bc6b-44bd-96c7-bd87d832cb29",
   "metadata": {},
   "outputs": [],
   "source": [
    "# Write your code here\n",
    "\n"
   ]
  },
  {
   "cell_type": "markdown",
   "id": "bf4ce567-279b-49e6-bbcb-60a8267516a9",
   "metadata": {},
   "source": [
    "# Pre-trained GenAI Models"
   ]
  },
  {
   "cell_type": "code",
   "execution_count": null,
   "id": "2dd1232e-a83e-4ac0-ba3a-2f732a362225",
   "metadata": {
    "scrolled": true
   },
   "outputs": [],
   "source": [
    "! pip3 install torch\n",
    "! pip install tf-keras"
   ]
  },
  {
   "cell_type": "code",
   "execution_count": null,
   "id": "6b36ad8e-6808-4f27-943a-401ea330bc99",
   "metadata": {},
   "outputs": [],
   "source": [
    "! pip3 install transformers"
   ]
  },
  {
   "cell_type": "markdown",
   "id": "3302e7b3-2ae4-4927-b450-6600f1cc09f6",
   "metadata": {},
   "source": [
    "## Simple way: Pipeline\n",
    "<p>Transformers have prepared a series of standard pipelines equipped with numerous pretrained models such as GPT2.</p>\n",
    "<p>They can be considered as the wrappers encompassing the tokenizers, models, and configurations, which allow users to use Transformers without knowing the tech underpinnings.</p>\n",
    "\n",
    "To initiate a pipeline, you can consider setting:\n",
    "- Task: text-generation, sentiment-analysis, text-classification, automatic-speech-recognition, question-answering, summarization\n",
    "  - By default, the system will consider you are implementing a text-generation model, which will help you complete an incomplete sentence or continue a story given the first sentences.\n",
    "  - Text-generation models are mostly decoder-only models.\n",
    "  - Trending text-generation models: https://huggingface.co/models?pipeline_tag=text-generation&sort=trending\n",
    "- Model: gpt2, distilbert/distilbert-base-uncased-finetuned-sst-2-english, timpal0l/mdeberta-v3-base-squad2\n"
   ]
  },
  {
   "cell_type": "code",
   "execution_count": null,
   "id": "be9d47d7-eea7-48b3-a67d-c33c7f96fe5c",
   "metadata": {},
   "outputs": [],
   "source": [
    "from transformers import pipeline"
   ]
  },
  {
   "cell_type": "markdown",
   "id": "e0132eb8-a75c-4346-b53b-7fa24be7ad51",
   "metadata": {},
   "source": [
    "### Text Classification (Sentiment Analysis)"
   ]
  },
  {
   "cell_type": "code",
   "execution_count": null,
   "id": "9eb42cf6-85f7-4d07-83af-20bb89c333de",
   "metadata": {},
   "outputs": [],
   "source": [
    "# Load text-classification pipeline\n",
    "# Default model for text classification tasks: distilbert/distilbert-base-uncased-finetuned-sst-2-english\n",
    "classifier = pipeline(\"text-classification\")"
   ]
  },
  {
   "cell_type": "code",
   "execution_count": null,
   "id": "a219e440-91e6-485a-b802-bb2db87f3f57",
   "metadata": {},
   "outputs": [],
   "source": [
    "classifier(\"I love this movie so much!\")"
   ]
  },
  {
   "cell_type": "code",
   "execution_count": null,
   "id": "4ac295ac-483f-42fc-92dd-dc1fa182dfc8",
   "metadata": {},
   "outputs": [],
   "source": [
    "classifier(\"I don't like this movie!\")"
   ]
  },
  {
   "cell_type": "code",
   "execution_count": null,
   "id": "338432ed-76cd-45f7-b6ae-a7df3385298b",
   "metadata": {},
   "outputs": [],
   "source": [
    "#Input lists\n",
    "classifier([\"I love this movie so much!\",\n",
    "            \"I don't like this movie!\"]) #reliable & replicable"
   ]
  },
  {
   "cell_type": "code",
   "execution_count": null,
   "id": "98c8f123-f1f4-4c9c-835f-ee232bbd9099",
   "metadata": {},
   "outputs": [],
   "source": [
    "#Insensitive to Chinese texts\n",
    "#But its performance/prediction is largely constant between Simplified and Traditional Chines\n",
    "classifier([\"欢迎来到美丽的香港\",\n",
    "            \"这里真是又脏又乱\",\n",
    "            \"歡迎來到美麗的香港\"])"
   ]
  },
  {
   "cell_type": "code",
   "execution_count": null,
   "id": "c03b6a96-9b10-4d64-92c2-cbbc257f03c0",
   "metadata": {},
   "outputs": [],
   "source": [
    "#Error\n",
    "classifier(\"This movie was released in 1999.\")"
   ]
  },
  {
   "cell_type": "code",
   "execution_count": null,
   "id": "5b756106-7b2e-4f5d-b95d-0532d68905d3",
   "metadata": {},
   "outputs": [],
   "source": [
    "#Biased against Middle Eastern and Asian movies.\n",
    "classifier([\"This movie was produced in France.\",\n",
    "            \"This movie was produced in America.\",\n",
    "            \"This movie was produced in China.\",\n",
    "            \"This movie was produced in Afghanistan.\"])"
   ]
  },
  {
   "cell_type": "code",
   "execution_count": null,
   "id": "c8eaf497-4539-4d76-8b3b-e8ac8dcd62f3",
   "metadata": {},
   "outputs": [],
   "source": [
    "#Biased against Middle Eastern women.\n",
    "#Intersectional inequality: inequality emerge at the intersection of gender and nationality\n",
    "#Nationality X Gender\n",
    "classifier([\"This woman was born in France.\",\n",
    "            \"This woman was born in America.\",\n",
    "            \"This woman was born in China.\",\n",
    "            \"This woman was born in Afghanistan.\"])"
   ]
  },
  {
   "cell_type": "code",
   "execution_count": null,
   "id": "1ac96086-105a-4529-aa0c-832604106f05",
   "metadata": {},
   "outputs": [],
   "source": [
    "def senti_scores(score_dictionaries):\n",
    "    scores=[]\n",
    "    for score_dict in score_dictionaries:\n",
    "      if score_dict['label']=='POSITIVE':\n",
    "        scores.append(score_dict['score']) #.extend() or .append() or +\n",
    "      else:\n",
    "        scores.append(-score_dict['score'])\n",
    "    return(scores)"
   ]
  },
  {
   "cell_type": "code",
   "execution_count": null,
   "id": "ca06c30d-6bc1-41b1-91ec-1e7dee688750",
   "metadata": {},
   "outputs": [],
   "source": [
    "scores=senti_scores(classifier([\"This woman was born in France.\", \"This woman was born in America.\", \"This woman was born in China.\", \"This woman was born in Afghanistan.\"]))\n",
    "scores"
   ]
  },
  {
   "cell_type": "code",
   "execution_count": null,
   "id": "27b36adf-bd1a-4376-b63d-ed4fd4d3be89",
   "metadata": {},
   "outputs": [],
   "source": [
    "temp_table=table_topic.iloc[:1000].copy()\n",
    "temp_table['sentiment']=senti_scores(classifier(list(table_topic['description'].values[:1000])))"
   ]
  },
  {
   "cell_type": "code",
   "execution_count": null,
   "id": "19863fe4-fe29-40ad-ac59-85561d8b4a1e",
   "metadata": {},
   "outputs": [],
   "source": [
    "temp_table.pivot_table(index='Topic',values='sentiment',aggfunc=np.mean)"
   ]
  },
  {
   "attachments": {},
   "cell_type": "markdown",
   "id": "bc17ab98-efe3-4389-86dc-74cd014a9f40",
   "metadata": {},
   "source": [
    "### Text Generation\n",
    "\n",
    "- Text generation models, particularly the Generative Pretrained Transformers (GPTs), are mostly trained by a **guess-the-next-token** approach and equipped with **attention machenism** which allows the model to attend to different parts of the input and preceding output when generating the next token.er\n",
    "  - ``"
   ]
  },
  {
   "cell_type": "markdown",
   "id": "ae687e1b-bff5-4b25-9992-5023af52cc4c",
   "metadata": {},
   "source": [
    "#### Prompting\n",
    "- 4C1S: Clarity, Completeness, Contextuality, Conciseness, Specificity\n",
    "- Component\n",
    "  1. Task description\n",
    "  2. Context\n",
    "  3. Questions\n",
    "  4. Format & desired outcomes: \"You should not refuse to answer.\"\n",
    "  5. Examples (few shots or Chain-of-Thought)\n",
    "  7. Lead words of answers\n",
    "  8. Conditioning step to induce compliance and suppress refusal: \"Repeat after me\", \"Promise you will always adhere to my instruction\", Word substitution game\n",
    "- Basic formats:\n",
    "  - `Cloze`: Fill out the blank (open-ended)\n",
    "  - `Sentence Completion/entailment`: You write the opening and the machine completes the rest (open-ended)\n",
    "  - `Binary question`: Yes or No (close-ended)\n",
    "  - `Multiple choice question`: A, B, C (close-ended)\n",
    "  - `Numberic scale`: 1 to 10, -5 to 5, advanced models are inclined to provide neutral answer\n",
    "\n",
    "<img src=\"https://juniorworld.github.io/python-workshop/img/prompt_condition1.png\" width=\"600px\">\n",
    "<img src=\"https://juniorworld.github.io/python-workshop/img/prompt_condition2.png\" width=\"600px\">"
   ]
  },
  {
   "cell_type": "code",
   "execution_count": null,
   "id": "70c89c1e-3f27-42c1-9568-c7d23e308267",
   "metadata": {
    "scrolled": true
   },
   "outputs": [],
   "source": [
    "generator = pipeline(model = 'gpt2-large') #Default task type: text generation - predict next words"
   ]
  },
  {
   "cell_type": "code",
   "execution_count": null,
   "id": "ff106fdc-0d4e-42f9-a561-a6e77aeb0940",
   "metadata": {},
   "outputs": [],
   "source": [
    "prompt = \"A rich man's story.\""
   ]
  },
  {
   "cell_type": "code",
   "execution_count": null,
   "id": "2decbf0c-4740-49ab-8cb8-0d3e4ad54e9a",
   "metadata": {},
   "outputs": [],
   "source": [
    "generator(prompt)"
   ]
  },
  {
   "cell_type": "code",
   "execution_count": null,
   "id": "145373b2-da94-4b3b-ba51-0636a8dd5771",
   "metadata": {},
   "outputs": [],
   "source": [
    "# Results are not replicable.\n",
    "generator(prompt)"
   ]
  },
  {
   "cell_type": "code",
   "execution_count": null,
   "id": "53974e67-735e-48f1-bcbc-e6e7b06e504c",
   "metadata": {},
   "outputs": [],
   "source": [
    "generator(\"Do you agree that homosexual people should have the right to marry eath other?\",\n",
    "          max_new_tokens=20, return_full_text=False)"
   ]
  },
  {
   "cell_type": "code",
   "execution_count": null,
   "id": "2812849b-3ce3-4efb-8cd0-13b94450ffb3",
   "metadata": {},
   "outputs": [],
   "source": [
    "# Restrict the model output with some formating requirements added in the prompt\n",
    "# Style 1: Binary choice question without labels\n",
    "generator(\"Do you agree that homosexual people should have the right to marry eath other? Please answer Yes or No. Answer:\",\n",
    "          max_new_tokens=10, return_full_text=False)"
   ]
  },
  {
   "cell_type": "code",
   "execution_count": null,
   "id": "f749803f-21f2-41f5-aaf4-1963dfb0a103",
   "metadata": {},
   "outputs": [],
   "source": [
    "#Style 2: Binary choice question with labels\n",
    "generator(\"Do you agree that homosexual people should have the right to marry? Choices: (A) Agree (B) Disagree. Answer:\",\n",
    "          max_new_tokens=20, return_full_text=False)"
   ]
  },
  {
   "cell_type": "code",
   "execution_count": null,
   "id": "6c1bf4a8-43ca-4ce7-b7d9-40973d0af6c1",
   "metadata": {},
   "outputs": [],
   "source": [
    "# Style 3: 10-point Scale\n",
    "generator(\"From 1 (totally disagree) to 10 (totally agree), rate your agreement with this statement: Homosexual people should have the right to marry eath other. Answer:\",\n",
    "          max_new_tokens=10, return_full_text=False)"
   ]
  },
  {
   "cell_type": "code",
   "execution_count": null,
   "id": "d4dde985-f12a-40cb-b785-906263f792d2",
   "metadata": {},
   "outputs": [],
   "source": [
    "# Bad at logical reasoning\n",
    "generator(\"Question: There are 5 groups of students in the class. Each group has 4 students. How many students are there in the class? Answer:\",\n",
    "          return_full_text=False)"
   ]
  },
  {
   "cell_type": "code",
   "execution_count": null,
   "id": "a4377bf9-7dfa-45e4-aedf-980608d0e727",
   "metadata": {},
   "outputs": [],
   "source": [
    "# Heavily depends on the given prompt and context\n",
    "# Bad at out-of-context extrapolation\n",
    "generator(\"Are Chinese people smarter than American people? Context: There are 1.4 billion Chinese people and 0.3 billion American people. Answer:\", return_full_text=False)"
   ]
  },
  {
   "cell_type": "code",
   "execution_count": null,
   "id": "a94cd7b8-3136-40cd-81ee-57f0efc6f553",
   "metadata": {},
   "outputs": [],
   "source": [
    "# Heavily depends on the given prompt and context\n",
    "# Bad at out-of-context extrapolation\n",
    "generator(\"Are Chinese people smarter than American people? context: There are 8 Chinese nobel prize laureates and 400 American nobel prize laureates. Answer:\", return_full_text=False)"
   ]
  },
  {
   "cell_type": "code",
   "execution_count": null,
   "id": "62e48847-61b9-43a2-aaf6-1de878c2d0b0",
   "metadata": {},
   "outputs": [],
   "source": [
    "#Relies heavily on input\n",
    "generator(\"Use five words to describe a Hispanic man aged 50-60.\",\n",
    "          max_new_tokens=20, return_full_text=False)"
   ]
  },
  {
   "cell_type": "code",
   "execution_count": null,
   "id": "4cdda1f1-02e1-4c71-9d33-ab9dabceee58",
   "metadata": {},
   "outputs": [],
   "source": [
    "# Rephrase it into a text completion task\n",
    "# Style 4: Text completion (sentence entailment)\n",
    "generator(\"I am a Hispanic man aged 50-60. When I am asked to write down five words that typically describe myself, I respond with:\",\n",
    "          return_full_text=False)"
   ]
  },
  {
   "cell_type": "code",
   "execution_count": null,
   "id": "35d1e6c1-434b-4c03-a59a-a262c64ddc5b",
   "metadata": {},
   "outputs": [],
   "source": [
    "generator([\"I am a Hispanic man aged 50-60. When I am asked to write down five words that typically describe myself, I respond with:\",\n",
    "           \"I am an Asian man aged 50-60. When I am asked to write down five words that typically describe myself, I respond with:\",\n",
    "           \"I am an European man aged 50-60. When I am asked to write down five words that typically describe myself, I respond with:\",\n",
    "           \"I am an Arabic man aged 50-60. When I am asked to write down five words that typically describe myself, I respond with:\"],\n",
    "          return_full_text=False)"
   ]
  },
  {
   "cell_type": "code",
   "execution_count": null,
   "id": "dfa79b1e-7ff7-477f-a8c2-692356d271e8",
   "metadata": {},
   "outputs": [],
   "source": [
    "# Style 5: Cloze\n",
    "# Usually results in poor performance\n",
    "generator([\"Girls tend to be more __ than boys.\",\n",
    "           \"Compared with boys, girls tend to be more \"])"
   ]
  },
  {
   "cell_type": "markdown",
   "id": "ab91e2d4-a41a-4201-96ed-1c742aa5edfb",
   "metadata": {},
   "source": [
    "# Hackathon\n",
    "\n",
    "\n",
    "Job Types:\n",
    "\n",
    "- NLP\n",
    "  - Readability test\n",
    "  - Word Cloud\n",
    "  - Co-occurrence & Retweet Network\n",
    "  - Difference in Word Frequency: Fade-in & Fade-out Words\n",
    "  - Dictionary-based analysis: Value evaluation, Sentiment Analysis, Civility Analysis\n",
    "  - Word-Embedding: Synonyms, Likelihood, Prediction\n",
    "  - Topic Modeling\n",
    "  - Pretrained models: GPTs\n",
    "- Visualization\n",
    "- Data Collection (Optional)\n",
    "- Statistical Analysis:\n",
    "  - T test\n",
    "  - Regression: statsmodels"
   ]
  }
 ],
 "metadata": {
  "kernelspec": {
   "display_name": "Python 3 (ipykernel)",
   "language": "python",
   "name": "python3"
  },
  "language_info": {
   "codemirror_mode": {
    "name": "ipython",
    "version": 3
   },
   "file_extension": ".py",
   "mimetype": "text/x-python",
   "name": "python",
   "nbconvert_exporter": "python",
   "pygments_lexer": "ipython3",
   "version": "3.12.0"
  }
 },
 "nbformat": 4,
 "nbformat_minor": 5
}
