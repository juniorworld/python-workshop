{
 "cells": [
  {
   "cell_type": "markdown",
   "metadata": {},
   "source": [
    "## Data Visualization"
   ]
  },
  {
   "cell_type": "markdown",
   "metadata": {},
   "source": [
    "- Pie Chart: Compare Percentages\n",
    "- Bar Chart: Compare Scores across groups\n",
    "- Histogram: Show frequency of values/value range\n",
    "- Line Chart: Show trend of Scores\n",
    "- Scatter Plot: Show Relationship between a pair of Scores\n",
    "- Map: Show Geo Distribution of data"
   ]
  },
  {
   "cell_type": "markdown",
   "metadata": {},
   "source": [
    "|Type|Variable Y|Variable X|\n",
    "|:--:|:--:|:--:|\n",
    "|Pie Chart|Fractions|None|\n",
    "|Bar Chart|Numbers|Categories|\n",
    "|Histogram|Integer|Categories/Value Range|\n",
    "|Line Chart|Numbers|Time/Date/Period|\n",
    "|Scatter Plot|Numbers|Numbers|\n",
    "|Map|Latitude|Longtitude|"
   ]
  },
  {
   "cell_type": "markdown",
   "metadata": {},
   "source": [
    "###  Sign up for Plot.ly"
   ]
  },
  {
   "cell_type": "markdown",
   "metadata": {},
   "source": [
    "1. Sign up for Plot.ly: https://plot.ly/Auth/login/?action=signup#\n",
    "2. Get your API token: Settings -> API Keys -> Regenerate Key -> Copy your newly created key\n",
    "3. Save your API key somewhere"
   ]
  },
  {
   "cell_type": "markdown",
   "metadata": {},
   "source": [
    "<div class=\"alert alert-block alert-warning\">\n",
    "**<b>Reminder</b>** Free account can only call Plot.ly API 100 times per day and generate up to 25 graphs.</div>"
   ]
  },
  {
   "cell_type": "code",
   "execution_count": null,
   "metadata": {},
   "outputs": [],
   "source": [
    "import plotly.plotly as py      #Import library and give it an abbreviated name\n",
    "import plotly.graph_objs as go  #go: graph object\n",
    "from plotly import tools\n",
    "\n",
    "py.sign_in('USER NAME', 'API TOKEN') #fill in your user name and API token"
   ]
  },
  {
   "cell_type": "markdown",
   "metadata": {},
   "source": [
    "***"
   ]
  },
  {
   "cell_type": "markdown",
   "metadata": {},
   "source": [
    "## Pie Chart"
   ]
  },
  {
   "cell_type": "code",
   "execution_count": null,
   "metadata": {},
   "outputs": [],
   "source": [
    "labels = ['Female','Male']\n",
    "values = [40,20]\n",
    "\n",
    "trace = go.Pie(labels=labels, values=values)\n",
    "\n",
    "py.iplot([trace], filename='pie_chart')"
   ]
  },
  {
   "cell_type": "code",
   "execution_count": null,
   "metadata": {},
   "outputs": [],
   "source": [
    "#change data labels by re-defining parameter \"textinfo\"\n",
    "labels = ['Female','Male']\n",
    "values = [40,20]\n",
    "\n",
    "trace = go.Pie(labels=labels, values=values, textinfo='label+value')\n",
    "\n",
    "py.iplot([trace], filename='pie_chart')"
   ]
  },
  {
   "cell_type": "code",
   "execution_count": null,
   "metadata": {},
   "outputs": [],
   "source": [
    "#change color setting by re-defining \"marker\" parameter\n",
    "labels = ['Female','Male']\n",
    "values = [40,20]\n",
    "\n",
    "trace = go.Pie(labels=labels, values=values, marker={'colors':['red','blue']})\n",
    "\n",
    "py.iplot([trace], filename='pie_chart')"
   ]
  },
  {
   "cell_type": "code",
   "execution_count": null,
   "metadata": {},
   "outputs": [],
   "source": [
    "#turn the pie chart into a donut by re-defining \"hole\" parameter\n",
    "labels = ['Female','Male']\n",
    "values = [40,20]\n",
    "\n",
    "trace = go.Pie(labels=labels, values=values, hole=0.2)\n",
    "\n",
    "py.iplot([trace], filename='pie_chart')"
   ]
  },
  {
   "cell_type": "code",
   "execution_count": null,
   "metadata": {},
   "outputs": [],
   "source": [
    "#change the graph size to 400*300 and add a title by re-defining \"width\" and \"height\" in \"layout\"\n",
    "labels = ['Female','Male']\n",
    "values = [40,20]\n",
    "\n",
    "trace = go.Pie(labels=labels, values=values)\n",
    "layout=go.Layout(width=400,height=300,title='Gender Distribution')\n",
    "fig=go.Figure([trace],layout)\n",
    "\n",
    "py.iplot(fig, filename='pie_chart')"
   ]
  },
  {
   "cell_type": "markdown",
   "metadata": {},
   "source": [
    "#### <font style=\"color: blue\">Practice:</font>\n",
    "---\n",
    "<font style=\"color: blue\"> Please download the Hong Kong census data about educational attainment from <a href='https://juniorworld.github.io/python-workshop-2018/doc/Hong Kong Census Educational Attainment.csv'>this link</a>.\n",
    "    <p>Create a pie chart to visualize the percentages of different education levels in 2016. The pie chart should meet following requirements:</p>\n",
    "    1. Donut style\n",
    "    2. Change slice colors\n",
    "</font>"
   ]
  },
  {
   "cell_type": "code",
   "execution_count": null,
   "metadata": {},
   "outputs": [],
   "source": [
    "#Write down your code here\n",
    "#---------------------------------------------------------\n",
    "\n",
    "\n",
    "\n",
    "\n",
    "\n"
   ]
  },
  {
   "cell_type": "markdown",
   "metadata": {},
   "source": [
    "***"
   ]
  },
  {
   "cell_type": "markdown",
   "metadata": {},
   "source": [
    "## Bar Chart\n",
    "<br>For more details: https://plot.ly/python/reference/#bar"
   ]
  },
  {
   "cell_type": "code",
   "execution_count": null,
   "metadata": {},
   "outputs": [],
   "source": [
    "x = ['Female','Male']\n",
    "y = [1.6,1.8]\n",
    "\n",
    "trace = go.Bar(x=x,y=y)\n",
    "\n",
    "py.iplot([trace], filename='bar_chart')"
   ]
  },
  {
   "cell_type": "code",
   "execution_count": null,
   "metadata": {},
   "outputs": [],
   "source": [
    "#Widen the gap between bars by increasing \"bargap\" parameters in layout\n",
    "x = ['Female','Male']\n",
    "y = [40,20]\n",
    "\n",
    "trace = go.Bar(x=x,y=y)\n",
    "layout = go.Layout(bargap=0.5)\n",
    "fig = go.Figure([trace],layout)\n",
    "\n",
    "py.iplot(fig, filename='bar_chart')"
   ]
  },
  {
   "cell_type": "code",
   "execution_count": null,
   "metadata": {},
   "outputs": [],
   "source": [
    "#Grouped bar chart\n",
    "x = ['Female','Male']\n",
    "y1 = [40,20]\n",
    "y2 = [30,50]\n",
    "\n",
    "trace1 = go.Bar(x=x,y=y1,name='class1')\n",
    "trace2 = go.Bar(x=x,y=y2,name='class2')\n",
    "\n",
    "py.iplot([trace1,trace2], filename='bar_chart')"
   ]
  },
  {
   "cell_type": "code",
   "execution_count": null,
   "metadata": {},
   "outputs": [],
   "source": [
    "#Stacked/Relative bar chart by re-defining \"barmode\" in layout\n",
    "x = ['Female','Male']\n",
    "y1 = [40,20]\n",
    "y2 = [30,50]\n",
    "\n",
    "trace1 = go.Bar(x=x,y=y1)\n",
    "trace2 = go.Bar(x=x,y=y2)\n",
    "\n",
    "layout = go.Layout(barmode='stack')\n",
    "fig = go.Figure([trace1,trace2],layout)\n",
    "\n",
    "py.iplot(fig, filename='bar_chart')"
   ]
  },
  {
   "cell_type": "code",
   "execution_count": null,
   "metadata": {},
   "outputs": [],
   "source": [
    "#100% Stacked bar chart by re-defining \"barnorm\" as \"percent\" in layout\n",
    "x = ['Female','Male']\n",
    "y1 = [40,20]\n",
    "y2 = [30,50]\n",
    "\n",
    "trace1 = go.Bar(x=x,y=y1)\n",
    "trace2 = go.Bar(x=x,y=y2)\n",
    "\n",
    "layout = go.Layout(barmode='stack',barnorm='percent')\n",
    "fig = go.Figure([trace1,trace2],layout)\n",
    "\n",
    "py.iplot(fig, filename='bar_chart')"
   ]
  },
  {
   "cell_type": "code",
   "execution_count": null,
   "metadata": {},
   "outputs": [],
   "source": [
    "x = ['Female','Male']\n",
    "y1 = [40,20]\n",
    "y2 = [30,50]\n",
    "\n",
    "trace1 = go.Bar(x=x,y=y1)\n",
    "trace2 = go.Bar(x=x,y=y2)\n",
    "\n",
    "layout = go.Layout(barmode='stack',barnorm='fraction',yaxis={'tickformat':'%'})\n",
    "fig = go.Figure([trace1,trace2],layout)\n",
    "\n",
    "py.iplot(fig, filename='bar_chart')"
   ]
  },
  {
   "cell_type": "markdown",
   "metadata": {},
   "source": [
    "#### <font style=\"color: blue\">Practice:</font>\n",
    "---\n",
    "<font style=\"color: blue\"> Please refer to \"Hong Kong Census Educational Attainment.csv\".\n",
    "    <p>Create a bar chart to visualize the percentages of different education levels in different years, i.e. 2006, 2011 and 2016. The bar chart should meet following requirements:</p>\n",
    "    1. A bar represents a year\n",
    "    2. 100% Stacked bar chart: higher education levels stacked on top of lower ones and the bar's full length is 100%\n",
    "    2. The gap between bar groups = 0.2\n",
    "</font>"
   ]
  },
  {
   "cell_type": "code",
   "execution_count": null,
   "metadata": {},
   "outputs": [],
   "source": [
    "#Write down your code here\n",
    "#---------------------------------------------------------\n",
    "\n",
    "\n",
    "\n",
    "\n"
   ]
  },
  {
   "cell_type": "markdown",
   "metadata": {},
   "source": [
    "***"
   ]
  },
  {
   "cell_type": "markdown",
   "metadata": {},
   "source": [
    "## Break"
   ]
  },
  {
   "cell_type": "markdown",
   "metadata": {},
   "source": [
    "***"
   ]
  },
  {
   "cell_type": "markdown",
   "metadata": {},
   "source": [
    "## Histogram\n",
    "Histogram is a special type of bar chart where one's y value is its count. It is used to show data distribution: viusalize the skewness and central tendency.\n",
    "<br>For more details: https://plot.ly/python/reference/#histogram"
   ]
  },
  {
   "cell_type": "code",
   "execution_count": null,
   "metadata": {},
   "outputs": [],
   "source": [
    "a=[1,2,3,3,4,4,4,5,5,6,7,3,3,2]\n",
    "trace=go.Histogram(x=a)\n",
    "py.iplot([trace],filename='Histogram')"
   ]
  },
  {
   "cell_type": "code",
   "execution_count": null,
   "metadata": {},
   "outputs": [],
   "source": [
    "#Change the bins by re-defining \"size\" parameter in xbins\n",
    "a=[1,2,3,3,4,4,4,5,5,6,7,3,3,2]\n",
    "trace=go.Histogram(x=a,xbins={'size':1})\n",
    "py.iplot([trace],filename='Histogram')"
   ]
  },
  {
   "cell_type": "code",
   "execution_count": null,
   "metadata": {},
   "outputs": [],
   "source": [
    "#Convert into a 100% Histogram whose y value is percentage of getting a value\n",
    "#Re-define the \"histnorm\" to a \"percent\" mode\n",
    "a=[1,2,3,3,4,4,4,5,5,6,7,3,3,2]\n",
    "trace=go.Histogram(x=a,xbins={'size':1},histnorm='probability')\n",
    "layout=go.Layout(yaxis={'tickformat':'%'})\n",
    "fig=go.Figure([trace],layout)\n",
    "py.iplot(fig,filename='Histogram')"
   ]
  },
  {
   "cell_type": "code",
   "execution_count": null,
   "metadata": {},
   "outputs": [],
   "source": [
    "#Decrease every element in \"a\" by one unit to create a new list \"b\"\n",
    "#Grouped Histogram\n",
    "a=[1,2,3,3,4,4,4,5,5,6,7,3,3,2]\n",
    "b=                 #Write your code here\n",
    "\n",
    "trace1=go.Histogram(x=a,xbins={'size':1})\n",
    "trace2=go.Histogram(x=b,xbins={'size':1})\n",
    "\n",
    "py.iplot([trace1,trace2],filename='Histogram')"
   ]
  },
  {
   "cell_type": "code",
   "execution_count": null,
   "metadata": {},
   "outputs": [],
   "source": [
    "#Overlay Histogram of a and b\n",
    "#Increase the transparency by re-defining \"opacity\" parameter\n",
    "#Change color by re-defining \"color\" parameter in \"marker\"\n",
    "#Change the value of \"barmode\" parameter in layout to \"overlay\"\n",
    "\n",
    "trace1=go.Histogram(x=a,xbins={'size':1},opacity=0.5,marker={'color':'blue'})\n",
    "trace2=go.Histogram(x=b,xbins={'size':1},opacity=0.5,marker={'color':'red'})\n",
    "\n",
    "layout=go.Layout(barmode='overlay')\n",
    "\n",
    "fig=go.Figure([trace1,trace2],layout)\n",
    "py.iplot(fig,filename='Histogram')"
   ]
  },
  {
   "cell_type": "markdown",
   "metadata": {},
   "source": [
    "#### <font style=\"color: blue\">Practice:</font>\n",
    "---\n",
    "<font style=\"color: blue\"> <font style=\"color: blue\"> Please download YouTube Popularity data from <a href='https://juniorworld.github.io/python-workshop-2018/doc/Youtube.csv'>this link</a>.\n",
    "    <p>Create three Histograms to visualize the distribution of views, likes, dislikes and comments. The histograms should meet following requirements:</p>\n",
    "    1. One basic histogram to show distribution of \"views\"\n",
    "    2. One basic histogram to show distribution of \"log(views)\"\n",
    "    3. One 100% overlay histogram to show distributions of log(likes), log(dislikes) and log(comments)\n",
    "Hint: to apply logarithmic transformation, you can use numpy's log10 function. For example: to calcualte the logrithm of a variable \"a\".\n",
    "</font>\n",
    "\n",
    ">```python\n",
    "import numpy as np\n",
    "a=np.log10(a)```"
   ]
  },
  {
   "cell_type": "code",
   "execution_count": null,
   "metadata": {
    "scrolled": false
   },
   "outputs": [],
   "source": [
    "#Write your code here\n",
    "\n",
    "\n",
    "\n",
    "\n"
   ]
  },
  {
   "cell_type": "markdown",
   "metadata": {},
   "source": [
    "## Line Chart\n",
    "In Plot.ly, line chart is defined as a special scatter plot whose scatters are connected by lines.\n",
    "<br>For more details: https://plot.ly/python/reference/#scatter"
   ]
  },
  {
   "cell_type": "code",
   "execution_count": null,
   "metadata": {},
   "outputs": [],
   "source": [
    "#create your first line chart\n",
    "x=[1,2,3]\n",
    "y=[10,22,34]\n",
    "trace1=go.Scatter(x=x,y=y,mode='lines') #mode='lines','markers','lines+markers'\n",
    "\n",
    "py.iplot([trace1],filename='line chart')"
   ]
  },
  {
   "cell_type": "code",
   "execution_count": null,
   "metadata": {},
   "outputs": [],
   "source": [
    "#add markers to it by changing mode to \"lines+markers\"\n",
    "x=[1,2,3]\n",
    "y=[10,22,34]\n",
    "trace1=go.Scatter(x=x,y=y,mode='lines+markers')\n",
    "\n",
    "py.iplot([trace1],filename='line chart')"
   ]
  },
  {
   "cell_type": "code",
   "execution_count": null,
   "metadata": {},
   "outputs": [],
   "source": [
    "#make it a dashed line by re-defining the \"dash\" parameters in \"line\"\n",
    "#try other alternative shapes: \"solid\", \"dot\", \"dash\", \"longdash\", \"dashdot\", or \"longdashdot\"\n",
    "x=[1,2,3]\n",
    "y=[10,22,34]\n",
    "trace1=go.Scatter(x=x,y=y,mode='lines+markers',line={'dash':'dash'})\n",
    "\n",
    "py.iplot([trace1],filename='line chart')"
   ]
  },
  {
   "cell_type": "code",
   "execution_count": null,
   "metadata": {},
   "outputs": [],
   "source": [
    "#fill the area below\n",
    "x=[1,2,3]\n",
    "y=[-10,22,34]\n",
    "trace1=go.Scatter(x=x,y=y,mode='lines',fill='tozeroy') #mode='lines'\n",
    "\n",
    "py.iplot([trace1],filename='line chart')"
   ]
  },
  {
   "cell_type": "code",
   "execution_count": null,
   "metadata": {},
   "outputs": [],
   "source": [
    "#add another trace to it\n",
    "x=[1,2,3]\n",
    "y1=[10,22,34]\n",
    "y2=[34,22,10]\n",
    "trace1=go.Scatter(x=x,y=y1,mode='lines')\n",
    "trace2=go.Scatter(x=x,y=y2,mode='lines')\n",
    "py.iplot([trace1,trace2],filename='line chart')"
   ]
  },
  {
   "cell_type": "code",
   "execution_count": null,
   "metadata": {},
   "outputs": [],
   "source": [
    "#change the range of axis\n",
    "x=[1,2,3]\n",
    "y1=[10,22,34]\n",
    "y2=[34,22,10]\n",
    "trace1=go.Scatter(x=x,y=y1,mode='lines')\n",
    "trace2=go.Scatter(x=x,y=y2,mode='lines')\n",
    "layout=go.Layout(yaxis={'range':[0,35]},xaxis={'range':[0,3]})\n",
    "fig=go.Figure([trace1,trace2],layout)\n",
    "py.iplot(fig,filename='line chart')"
   ]
  },
  {
   "cell_type": "code",
   "execution_count": null,
   "metadata": {},
   "outputs": [],
   "source": [
    "#stacked line chart by re-defining \"stackgroup\" parameter\n",
    "x=[1,2,3]\n",
    "y1=[10,22,34]\n",
    "y2=[34,22,10]\n",
    "trace1=go.Scatter(x=x,y=y1,mode='lines',stackgroup='1')\n",
    "trace2=go.Scatter(x=x,y=y2,mode='lines',stackgroup='1')\n",
    "\n",
    "py.iplot([trace1,trace2],filename='line chart')"
   ]
  },
  {
   "cell_type": "markdown",
   "metadata": {},
   "source": [
    "#### <font style=\"color: blue\">Practice:</font>\n",
    "---\n",
    "<font style=\"color: blue\"> <font style=\"color: blue\"> Please download stock price data from <a href='https://juniorworld.github.io/python-workshop-2018/doc/stock.csv'>this link</a>.\n",
    "    <p>Create a line chart to visualize the trend of these five listed companies. The line chart should meet following requirements:</p>\n",
    "    1. Name lines after companies\n",
    "</font>"
   ]
  },
  {
   "cell_type": "code",
   "execution_count": null,
   "metadata": {},
   "outputs": [],
   "source": [
    "#Write your code here\n",
    "\n",
    "\n"
   ]
  },
  {
   "cell_type": "markdown",
   "metadata": {},
   "source": [
    "## Scatter Plot\n",
    "<br>For more details: https://plot.ly/python/reference/#scatter"
   ]
  },
  {
   "cell_type": "code",
   "execution_count": null,
   "metadata": {},
   "outputs": [],
   "source": [
    "#create your first scatter plot\n",
    "x=[1,2,3,4,5]\n",
    "y=[10,22,34,40,50]\n",
    "trace1=go.Scatter(x=x,y=y,mode='markers')\n",
    "\n",
    "py.iplot([trace1],filename='scatter')"
   ]
  },
  {
   "cell_type": "code",
   "execution_count": null,
   "metadata": {},
   "outputs": [],
   "source": [
    "#style the markers\n",
    "x=[1,2,3,4,5]\n",
    "y=[10,22,34,40,50]\n",
    "trace1=go.Scatter(x=x,y=y,mode='markers',marker={'size':10,'color':'red'})\n",
    "\n",
    "py.iplot([trace1],filename='scatter')"
   ]
  },
  {
   "cell_type": "code",
   "execution_count": null,
   "metadata": {},
   "outputs": [],
   "source": [
    "#give their names by re-defining \"text\"\n",
    "x=[1,2,3,4,5]\n",
    "y=[10,22,34,40,50]\n",
    "trace1=go.Scatter(x=x,y=y,mode='markers',text=['a','b','c','d','e'])\n",
    "\n",
    "py.iplot([trace1],filename='scatter')"
   ]
  },
  {
   "cell_type": "code",
   "execution_count": null,
   "metadata": {},
   "outputs": [],
   "source": [
    "#assign different sizes and colors to markers\n",
    "x=[1,2,3,4,5]\n",
    "y=[10,22,34,40,50]\n",
    "trace1=go.Scatter(x=x,y=y,mode='markers',text=['apple','banana','cabbage','duck'],marker={'size':b,'color':a})\n",
    "\n",
    "py.iplot([trace1],filename='scatter')"
   ]
  },
  {
   "cell_type": "code",
   "execution_count": null,
   "metadata": {},
   "outputs": [],
   "source": [
    "#assign color according to values in colorscale\n",
    "#\"Colorscale\" options: Greys,YlGnBu,Greens,YlOrRd,Bluered,RdBu,Reds,Blues,Picnic,Rainbow,Portland,Jet,Hot,Blackbody,Earth,Electric,Viridis,Cividis\n",
    "x=[1,2,3,4,5]\n",
    "y=[10,22,34,40,50]\n",
    "trace1=go.Scatter(x=x,y=y,mode='markers',text=['apple','banana','cabbage','duck'],\n",
    "                  marker={'size':b,'color':a,'colorscale':'Rainbow'})\n",
    "\n",
    "py.iplot([trace1],filename='scatter')"
   ]
  },
  {
   "cell_type": "code",
   "execution_count": null,
   "metadata": {},
   "outputs": [],
   "source": [
    "#try plotting scatters in a 3D space\n",
    "x=[1,2,3,4,5]\n",
    "y=[10,22,34,40,50]\n",
    "z=[2,3,4,5,6]\n",
    "trace1=go.Scatter3d(x=x,y=y,z=z,mode='markers')\n",
    "\n",
    "py.iplot([trace1],filename='scatter')"
   ]
  },
  {
   "cell_type": "code",
   "execution_count": null,
   "metadata": {},
   "outputs": [],
   "source": [
    "#Change axis titles\n",
    "x=[1,2,3,4,5]\n",
    "y=[10,22,34,40,50]\n",
    "z=[2,3,4,5,6]\n",
    "trace1=go.Scatter3d(x=x,y=y,z=z,mode='markers')\n",
    "layout=go.Layout(scene={'xaxis':{'title':'length'},'yaxis':{'title':'width'},'zaxis':{'title':'height'}})\n",
    "fig=go.Figure([trace1],layout)\n",
    "py.iplot(fig,filename='scatter')"
   ]
  },
  {
   "cell_type": "markdown",
   "metadata": {},
   "source": [
    "#### <font style=\"color: blue\">Practice:</font>\n",
    "---\n",
    "<font style=\"color: blue\"> <font style=\"color: blue\"> Please download box office data from <a href='https://juniorworld.github.io/python-workshop-2018/doc/movies.csv'>this link</a>.\n",
    "    <p>Create a 3D scatter plot to visualize these movies. The scatter plot should meet following requirements:</p>\n",
    "    1. X axis represents \"Production Budget\"\n",
    "    2. Y axis represents \"Box Office\"\n",
    "    3. Z axis represents \"ROI\" (Return on Investment)\n",
    "    4. Size scatters according to their \"IMDB Ratings\"\n",
    "    5. Color scatters according to their \"Genre\"\n",
    "    6. Name scatters after movies\n",
    "</font>"
   ]
  },
  {
   "cell_type": "code",
   "execution_count": null,
   "metadata": {},
   "outputs": [],
   "source": [
    "colors_=[]\n",
    "for color in colors:\n",
    "    if color =='Comedy':\n",
    "        colors_.extend([1])\n",
    "    else:\n",
    "        colors_.extend([len(color)])"
   ]
  },
  {
   "cell_type": "code",
   "execution_count": null,
   "metadata": {},
   "outputs": [],
   "source": [
    "#Write your code here\n",
    "\n",
    "\n",
    "\n"
   ]
  },
  {
   "cell_type": "markdown",
   "metadata": {},
   "source": [
    "<div class=\"alert alert-block alert-info\">\n",
    "**<b>Tips</b>** Two tools to better work with colors in Python:\n",
    "    <br>1. W3S color palette: https://www.w3schools.com/colors/colors_palettes.asp\n",
    "<br>2. colorlover: https://github.com/jackparmer/colorlover</div>"
   ]
  },
  {
   "cell_type": "markdown",
   "metadata": {},
   "source": [
    "## Map\n",
    "We will learn two types of maps: scatter map and filled map. Scatter map is to show scattering points on the geo map while filled map is to show the value of a region by changing its color on the map.\n",
    "<br>For more details: https://plot.ly/python/reference/#scattermapbox and https://plot.ly/python/reference/#choropleth"
   ]
  },
  {
   "cell_type": "markdown",
   "metadata": {},
   "source": [
    "### 1. Scatter Map"
   ]
  },
  {
   "cell_type": "markdown",
   "metadata": {},
   "source": [
    "We will rely on a built-in tool in plot.ly, named \"mapbox\". Mapbox is an independent IT company focusing on developing GIS-related service. It has connections with plot.ly, IBM, and Google to provide far-reaching and accessible tools in their platforms. In order to use it, you need to apply for its account: https://www.mapbox.com/"
   ]
  },
  {
   "cell_type": "code",
   "execution_count": null,
   "metadata": {},
   "outputs": [],
   "source": [
    "mapbox_token='YOUR TOKEN'"
   ]
  },
  {
   "cell_type": "markdown",
   "metadata": {},
   "source": [
    "Besides, we need to use google map api to search for place's coordinates. So please go to google cloud platform: https://console.cloud.google.com/google/maps-apis and activate Place API."
   ]
  },
  {
   "cell_type": "code",
   "execution_count": null,
   "metadata": {},
   "outputs": [],
   "source": [
    "#install googlemaps library\n",
    "! pip3 install googlemaps"
   ]
  },
  {
   "cell_type": "code",
   "execution_count": null,
   "metadata": {},
   "outputs": [],
   "source": [
    "import googlemaps\n",
    "\n",
    "place_api='YOUR TOKEN'"
   ]
  },
  {
   "cell_type": "code",
   "execution_count": null,
   "metadata": {},
   "outputs": [],
   "source": [
    "client=googlemaps.Client(key=place_api) #create a client variable with your api"
   ]
  },
  {
   "cell_type": "code",
   "execution_count": null,
   "metadata": {},
   "outputs": [],
   "source": [
    "univs=client.places('universities in hong kong') #search for some places"
   ]
  },
  {
   "cell_type": "code",
   "execution_count": null,
   "metadata": {},
   "outputs": [],
   "source": [
    "type(univs) #look into the search result. It's a dictionary."
   ]
  },
  {
   "cell_type": "code",
   "execution_count": null,
   "metadata": {},
   "outputs": [],
   "source": [
    "univs.keys() #search results are stored with the key of \"results\""
   ]
  },
  {
   "cell_type": "code",
   "execution_count": null,
   "metadata": {},
   "outputs": [],
   "source": [
    "names=[]\n",
    "geos=[]\n",
    "ratings=[]\n",
    "for i in univs['results']: #go over every university and store its name, geolocation and rating into three blank lists respectively\n",
    "    names.append(i['name'])\n",
    "    geos.append(list(i['geometry']['location'].values()))\n",
    "    ratings.append(i['rating'])"
   ]
  },
  {
   "cell_type": "code",
   "execution_count": null,
   "metadata": {},
   "outputs": [],
   "source": [
    "#create a list of Scttermapbox objects. Each object stands for one scatter point on the map.\n",
    "data=[]\n",
    "for i in range(len(names)):\n",
    "    trace=go.Scattermapbox(lat=[geos[i][0]],lon=[geos[i][1]],text=names[i],\n",
    "                     marker={'size':ratings[i]*2})\n",
    "    data.append(trace)"
   ]
  },
  {
   "cell_type": "code",
   "execution_count": null,
   "metadata": {},
   "outputs": [],
   "source": [
    "#update the layout\n",
    "layout = go.Layout(\n",
    "    mapbox={\n",
    "           'accesstoken':mapbox_token,\n",
    "           'style':'dark',\n",
    "           'center':{'lat':geos[0][0],'lon':geos[0][1]},\n",
    "           'zoom':10\n",
    "    },\n",
    "    showlegend=False\n",
    ")"
   ]
  },
  {
   "cell_type": "code",
   "execution_count": null,
   "metadata": {},
   "outputs": [],
   "source": [
    "fig=go.Figure(data,layout)\n",
    "py.iplot(fig,filename='map')"
   ]
  },
  {
   "cell_type": "markdown",
   "metadata": {},
   "source": [
    "### 2. Filled Map\n",
    "Fill regions on the map with certain colors to represent the statistics. This type of map has an academic name of \"choropleth map\"."
   ]
  },
  {
   "cell_type": "code",
   "execution_count": null,
   "metadata": {},
   "outputs": [],
   "source": [
    "import pandas as pd\n",
    "freedom_table=pd.read_csv('https://juniorworld.github.io/python-workshop-2018/doc/human-freedom-index.csv')"
   ]
  },
  {
   "cell_type": "code",
   "execution_count": null,
   "metadata": {},
   "outputs": [],
   "source": [
    "freedom_table.head() #first column, i.e. iso contry code, can be used to create a map."
   ]
  },
  {
   "cell_type": "code",
   "execution_count": null,
   "metadata": {},
   "outputs": [],
   "source": [
    "trace=go.Choropleth(\n",
    "        locations=freedom_table['ISO_code'],\n",
    "        z=freedom_table['human freedom'],\n",
    "        text=freedom_table['countries']\n",
    "        \n",
    ")\n",
    "py.iplot([trace],filename='map')"
   ]
  },
  {
   "cell_type": "code",
   "execution_count": null,
   "metadata": {},
   "outputs": [],
   "source": [
    "#change color scale\n",
    "trace=go.Choropleth(\n",
    "        locations=freedom_table['ISO_code'],\n",
    "        z=freedom_table['human freedom'],\n",
    "        text=freedom_table['countries'],\n",
    "        colorscale='RdBu'\n",
    "        \n",
    ")\n",
    "py.iplot([trace],filename='map')"
   ]
  },
  {
   "cell_type": "code",
   "execution_count": null,
   "metadata": {},
   "outputs": [],
   "source": [
    "#change the map design by redefining line setting in marker parameter\n",
    "trace=go.Choropleth(\n",
    "        locations=freedom_table['ISO_code'],\n",
    "        z=freedom_table['human freedom'],\n",
    "        text=freedom_table['countries'],\n",
    "        colorscale='RdBu',\n",
    "        marker={'line':{'color':'white','width':0.2}}\n",
    "        \n",
    ")\n",
    "\n",
    "py.iplot([trace],filename='map')"
   ]
  },
  {
   "cell_type": "code",
   "execution_count": null,
   "metadata": {},
   "outputs": [],
   "source": [
    "#remove coastlines\n",
    "trace=go.Choropleth(\n",
    "        locations=freedom_table['ISO_code'],\n",
    "        z=freedom_table['human freedom'],\n",
    "        text=freedom_table['countries'],\n",
    "        colorscale='RdBu',\n",
    "        marker={'line':{'color':'white','width':0.2}}\n",
    "        \n",
    ")\n",
    "layout=go.Layout(geo={'showcoastlines':False})\n",
    "fig=go.Figure([trace],layout)\n",
    "py.iplot(fig,filename='map')"
   ]
  },
  {
   "cell_type": "code",
   "execution_count": null,
   "metadata": {},
   "outputs": [],
   "source": [
    "#try other alternative types of projection in the map layout\n",
    "#Alternative types: 'equirectangular', 'mercator', 'orthographic', 'natural earth', 'kavrayskiy7', 'miller', 'robinson',\n",
    "#'eckert4', 'azimuthal equal area', 'azimuthal equidistant', 'conic equal area', 'conic conformal', 'conic equidistant', \n",
    "#'gnomonic', 'stereographic', 'mollweide', 'hammer', 'transverse mercator', 'albers usa', 'winkel tripel', 'aitoff', 'sinusoidal'\n",
    "trace=go.Choropleth(\n",
    "        locations=freedom_table['ISO_code'],\n",
    "        z=freedom_table['human freedom'],\n",
    "        text=freedom_table['countries'],\n",
    "        colorscale='RdBu',\n",
    "        marker={'line':{'color':'white','width':0.2}}\n",
    "        \n",
    ")\n",
    "layout=go.Layout(geo={'projection':{'type':'orthographic'}})\n",
    "fig=go.Figure([trace],layout)\n",
    "py.iplot(fig,filename='map')"
   ]
  },
  {
   "cell_type": "markdown",
   "metadata": {},
   "source": [
    "#### <font style=\"color: blue\">Practice:</font>\n",
    "---\n",
    "<font style=\"color: blue\">Please create a world map representing the GDP values of the countries recorded in freedom_table. The map should meet following requirements:<br>\n",
    "    1. colorscale = Reds\n",
    "    2. projection type: natural earth\n",
    "</font>"
   ]
  }
 ],
 "metadata": {
  "kernelspec": {
   "display_name": "Python 3",
   "language": "python",
   "name": "python3"
  },
  "language_info": {
   "codemirror_mode": {
    "name": "ipython",
    "version": 3
   },
   "file_extension": ".py",
   "mimetype": "text/x-python",
   "name": "python",
   "nbconvert_exporter": "python",
   "pygments_lexer": "ipython3",
   "version": "3.6.5"
  },
  "widgets": {
   "application/vnd.jupyter.widget-state+json": {
    "state": {
     "080e2c47f8ad43f8af72a4742cf1e138": {
      "model_module": "@jupyter-widgets/controls",
      "model_module_version": "1.4.0",
      "model_name": "CheckboxModel",
      "state": {
       "description": "float -> integer",
       "disabled": false,
       "layout": "IPY_MODEL_d1bb9617ca9a469293c3d7872e048cf5",
       "style": "IPY_MODEL_46b4655aef3d497f97d962708c65df33",
       "value": false
      }
     },
     "09ce660d36034e27a17d579f4c9f9ab7": {
      "model_module": "@jupyter-widgets/base",
      "model_module_version": "1.1.0",
      "model_name": "LayoutModel",
      "state": {}
     },
     "0fc283fcb76f4be3a960745eed2085fa": {
      "model_module": "@jupyter-widgets/base",
      "model_module_version": "1.1.0",
      "model_name": "LayoutModel",
      "state": {}
     },
     "0fe58378d42648d0b73ff0f6454e0057": {
      "model_module": "@jupyter-widgets/base",
      "model_module_version": "1.1.0",
      "model_name": "LayoutModel",
      "state": {}
     },
     "12f31b4141844a6ea96726c39acc5e30": {
      "model_module": "@jupyter-widgets/controls",
      "model_module_version": "1.4.0",
      "model_name": "CheckboxModel",
      "state": {
       "description": "list -> boolean",
       "disabled": false,
       "layout": "IPY_MODEL_78ab52ea991743b590e8322cb50a6f7c",
       "style": "IPY_MODEL_f73a070b6b814a358c1e6a2c1b5176d3",
       "value": false
      }
     },
     "1b2c6cab5f134194b9263db4b76a30f9": {
      "model_module": "@jupyter-widgets/controls",
      "model_module_version": "1.4.0",
      "model_name": "CheckboxModel",
      "state": {
       "description": "string -> list",
       "disabled": false,
       "layout": "IPY_MODEL_dc3500e672b441f184cb66c9164f46c5",
       "style": "IPY_MODEL_3dbcc07594dc4af69db3bd8ed0488aab",
       "value": false
      }
     },
     "2402d123a94a4e88a71a9241817b4ddd": {
      "model_module": "@jupyter-widgets/controls",
      "model_module_version": "1.4.0",
      "model_name": "CheckboxModel",
      "state": {
       "description": "list -> integer",
       "disabled": false,
       "layout": "IPY_MODEL_588e4cdc3f85445587c599183cef6b82",
       "style": "IPY_MODEL_48f6441a930a4442b8a9774607eb2607",
       "value": false
      }
     },
     "263851430804425ba4c9912992ba392e": {
      "model_module": "@jupyter-widgets/controls",
      "model_module_version": "1.4.0",
      "model_name": "VBoxModel",
      "state": {
       "children": [
        "IPY_MODEL_331a9e88e84d4657901d770b98811c89",
        "IPY_MODEL_dd3cd9d0b4da42e38851025c52c016d7",
        "IPY_MODEL_c7f9522104d044b2865c5b5ace3b5838",
        "IPY_MODEL_1b2c6cab5f134194b9263db4b76a30f9"
       ],
       "layout": "IPY_MODEL_f95f5547e73b4ebebb45141e029cd7fa"
      }
     },
     "2d169e7d0d824f619d6fe9134201dc49": {
      "model_module": "@jupyter-widgets/controls",
      "model_module_version": "1.4.0",
      "model_name": "DescriptionStyleModel",
      "state": {
       "description_width": ""
      }
     },
     "2e47d0304aa142c68ae79ce9af1e5de0": {
      "model_module": "@jupyter-widgets/controls",
      "model_module_version": "1.4.0",
      "model_name": "CheckboxModel",
      "state": {
       "description": "integer -> string",
       "disabled": false,
       "layout": "IPY_MODEL_d2a31aff6ca44e299e4d3b3e0a688e0e",
       "style": "IPY_MODEL_86e22148b4ea403a9965d15f61ed7773",
       "value": false
      }
     },
     "2e65245b455242068b5d5e5121a66778": {
      "model_module": "@jupyter-widgets/controls",
      "model_module_version": "1.4.0",
      "model_name": "DescriptionStyleModel",
      "state": {
       "description_width": ""
      }
     },
     "31896adee2084ee8a38b6c7dca0bd78e": {
      "model_module": "@jupyter-widgets/controls",
      "model_module_version": "1.4.0",
      "model_name": "DescriptionStyleModel",
      "state": {
       "description_width": ""
      }
     },
     "32e66f8a5302444d9741b0b052a23fa7": {
      "model_module": "@jupyter-widgets/base",
      "model_module_version": "1.1.0",
      "model_name": "LayoutModel",
      "state": {}
     },
     "331a9e88e84d4657901d770b98811c89": {
      "model_module": "@jupyter-widgets/controls",
      "model_module_version": "1.4.0",
      "model_name": "CheckboxModel",
      "state": {
       "description": "string -> integer",
       "disabled": false,
       "layout": "IPY_MODEL_8b1fad754fa14059b682ca11c1469f8f",
       "style": "IPY_MODEL_a6eebb365fae434bba48e3fb56f3797d",
       "value": false
      }
     },
     "33c5cdcf55fb4721a57a50c2a5b5598a": {
      "model_module": "@jupyter-widgets/base",
      "model_module_version": "1.1.0",
      "model_name": "LayoutModel",
      "state": {}
     },
     "3730c393db284068afb44c0336c9fe69": {
      "model_module": "@jupyter-widgets/controls",
      "model_module_version": "1.4.0",
      "model_name": "CheckboxModel",
      "state": {
       "description": "boolean -> float",
       "disabled": false,
       "layout": "IPY_MODEL_33c5cdcf55fb4721a57a50c2a5b5598a",
       "style": "IPY_MODEL_8ac5c8abd45b45468472270c97163281",
       "value": false
      }
     },
     "3bcbe7f5655b48ec8a0e11a971305e5b": {
      "model_module": "@jupyter-widgets/controls",
      "model_module_version": "1.4.0",
      "model_name": "CheckboxModel",
      "state": {
       "description": "float -> list",
       "disabled": false,
       "layout": "IPY_MODEL_d0a3786bf784405d8a3b1d62fff9d4df",
       "style": "IPY_MODEL_eb9e207aef45431d979929a70d6dcdfe",
       "value": false
      }
     },
     "3dbcc07594dc4af69db3bd8ed0488aab": {
      "model_module": "@jupyter-widgets/controls",
      "model_module_version": "1.4.0",
      "model_name": "DescriptionStyleModel",
      "state": {
       "description_width": ""
      }
     },
     "4639370494564980a83c25276bf1c525": {
      "model_module": "@jupyter-widgets/controls",
      "model_module_version": "1.4.0",
      "model_name": "VBoxModel",
      "state": {
       "children": [
        "IPY_MODEL_78281b8599ef48e0ad7504242d9ec655",
        "IPY_MODEL_3730c393db284068afb44c0336c9fe69",
        "IPY_MODEL_dd92bb017b4a443cb4a32e6e96346ad6",
        "IPY_MODEL_d440a7f911d04b60a5ea23a47cac51d5",
        "IPY_MODEL_2402d123a94a4e88a71a9241817b4ddd",
        "IPY_MODEL_4756cdff64d0476eb778792ceafed665",
        "IPY_MODEL_12f31b4141844a6ea96726c39acc5e30",
        "IPY_MODEL_95012cc5cabb42c7b78294c683a57edb"
       ],
       "layout": "IPY_MODEL_ea32c50591e04ef984c8538179c8750b"
      }
     },
     "46b4655aef3d497f97d962708c65df33": {
      "model_module": "@jupyter-widgets/controls",
      "model_module_version": "1.4.0",
      "model_name": "DescriptionStyleModel",
      "state": {
       "description_width": ""
      }
     },
     "4756cdff64d0476eb778792ceafed665": {
      "model_module": "@jupyter-widgets/controls",
      "model_module_version": "1.4.0",
      "model_name": "CheckboxModel",
      "state": {
       "description": "list -> float",
       "disabled": false,
       "layout": "IPY_MODEL_781854e64bce447ea5646b2a2d37a21e",
       "style": "IPY_MODEL_63b666b6466f49a787ce5b4f04ecf795",
       "value": false
      }
     },
     "48f237b0a5e843a286d0c2061a771cda": {
      "model_module": "@jupyter-widgets/base",
      "model_module_version": "1.1.0",
      "model_name": "LayoutModel",
      "state": {}
     },
     "48f6441a930a4442b8a9774607eb2607": {
      "model_module": "@jupyter-widgets/controls",
      "model_module_version": "1.4.0",
      "model_name": "DescriptionStyleModel",
      "state": {
       "description_width": ""
      }
     },
     "524e0a435d7e4ead92056561e3013788": {
      "model_module": "@jupyter-widgets/controls",
      "model_module_version": "1.4.0",
      "model_name": "DescriptionStyleModel",
      "state": {
       "description_width": ""
      }
     },
     "563a591ca8f449e1a238a611497977a4": {
      "model_module": "@jupyter-widgets/controls",
      "model_module_version": "1.4.0",
      "model_name": "HBoxModel",
      "state": {
       "children": [
        "IPY_MODEL_aadb0e9a766b4ff88e2c66572d38a37d",
        "IPY_MODEL_4639370494564980a83c25276bf1c525",
        "IPY_MODEL_263851430804425ba4c9912992ba392e"
       ],
       "layout": "IPY_MODEL_5c3803e3ce814277b676f43f4079bc38"
      }
     },
     "588e4cdc3f85445587c599183cef6b82": {
      "model_module": "@jupyter-widgets/base",
      "model_module_version": "1.1.0",
      "model_name": "LayoutModel",
      "state": {}
     },
     "5c3803e3ce814277b676f43f4079bc38": {
      "model_module": "@jupyter-widgets/base",
      "model_module_version": "1.1.0",
      "model_name": "LayoutModel",
      "state": {}
     },
     "63b666b6466f49a787ce5b4f04ecf795": {
      "model_module": "@jupyter-widgets/controls",
      "model_module_version": "1.4.0",
      "model_name": "DescriptionStyleModel",
      "state": {
       "description_width": ""
      }
     },
     "781854e64bce447ea5646b2a2d37a21e": {
      "model_module": "@jupyter-widgets/base",
      "model_module_version": "1.1.0",
      "model_name": "LayoutModel",
      "state": {}
     },
     "78281b8599ef48e0ad7504242d9ec655": {
      "model_module": "@jupyter-widgets/controls",
      "model_module_version": "1.4.0",
      "model_name": "CheckboxModel",
      "state": {
       "description": "boolean -> integer",
       "disabled": false,
       "layout": "IPY_MODEL_a06e54ff34914ffcbfae071fb4de80ed",
       "style": "IPY_MODEL_524e0a435d7e4ead92056561e3013788",
       "value": false
      }
     },
     "78ab52ea991743b590e8322cb50a6f7c": {
      "model_module": "@jupyter-widgets/base",
      "model_module_version": "1.1.0",
      "model_name": "LayoutModel",
      "state": {}
     },
     "86e22148b4ea403a9965d15f61ed7773": {
      "model_module": "@jupyter-widgets/controls",
      "model_module_version": "1.4.0",
      "model_name": "DescriptionStyleModel",
      "state": {
       "description_width": ""
      }
     },
     "888434c979f04e12aac8f2646c93369f": {
      "model_module": "@jupyter-widgets/controls",
      "model_module_version": "1.4.0",
      "model_name": "DescriptionStyleModel",
      "state": {
       "description_width": ""
      }
     },
     "8ac5c8abd45b45468472270c97163281": {
      "model_module": "@jupyter-widgets/controls",
      "model_module_version": "1.4.0",
      "model_name": "DescriptionStyleModel",
      "state": {
       "description_width": ""
      }
     },
     "8b1fad754fa14059b682ca11c1469f8f": {
      "model_module": "@jupyter-widgets/base",
      "model_module_version": "1.1.0",
      "model_name": "LayoutModel",
      "state": {}
     },
     "911eb96c40f744bfa93164cdc9cac0f5": {
      "model_module": "@jupyter-widgets/controls",
      "model_module_version": "1.4.0",
      "model_name": "DescriptionStyleModel",
      "state": {
       "description_width": ""
      }
     },
     "95012cc5cabb42c7b78294c683a57edb": {
      "model_module": "@jupyter-widgets/controls",
      "model_module_version": "1.4.0",
      "model_name": "CheckboxModel",
      "state": {
       "description": "list -> string",
       "disabled": false,
       "layout": "IPY_MODEL_0fc283fcb76f4be3a960745eed2085fa",
       "style": "IPY_MODEL_feb0b4e84a17424ea6790a8a6dbd7139",
       "value": false
      }
     },
     "980b04576b014e998b763b98e353141f": {
      "model_module": "@jupyter-widgets/controls",
      "model_module_version": "1.4.0",
      "model_name": "DescriptionStyleModel",
      "state": {
       "description_width": ""
      }
     },
     "9b9fd7a1d0174c0d9843763e900aab5a": {
      "model_module": "@jupyter-widgets/controls",
      "model_module_version": "1.4.0",
      "model_name": "DescriptionStyleModel",
      "state": {
       "description_width": ""
      }
     },
     "a06e54ff34914ffcbfae071fb4de80ed": {
      "model_module": "@jupyter-widgets/base",
      "model_module_version": "1.1.0",
      "model_name": "LayoutModel",
      "state": {}
     },
     "a6eebb365fae434bba48e3fb56f3797d": {
      "model_module": "@jupyter-widgets/controls",
      "model_module_version": "1.4.0",
      "model_name": "DescriptionStyleModel",
      "state": {
       "description_width": ""
      }
     },
     "a7caa6bc99b64fe485c43f75cea49f4b": {
      "model_module": "@jupyter-widgets/controls",
      "model_module_version": "1.4.0",
      "model_name": "CheckboxModel",
      "state": {
       "description": "integer -> list",
       "disabled": false,
       "layout": "IPY_MODEL_0fe58378d42648d0b73ff0f6454e0057",
       "style": "IPY_MODEL_911eb96c40f744bfa93164cdc9cac0f5",
       "value": false
      }
     },
     "aa34f9124dce4f2981ccdc41cfd2026b": {
      "model_module": "@jupyter-widgets/base",
      "model_module_version": "1.1.0",
      "model_name": "LayoutModel",
      "state": {}
     },
     "aadb0e9a766b4ff88e2c66572d38a37d": {
      "model_module": "@jupyter-widgets/controls",
      "model_module_version": "1.4.0",
      "model_name": "VBoxModel",
      "state": {
       "children": [
        "IPY_MODEL_ee2a141c799e4ab1ae864b4984b1992e",
        "IPY_MODEL_e6ac8cb0bd5c429d8b97840b0dae2523",
        "IPY_MODEL_a7caa6bc99b64fe485c43f75cea49f4b",
        "IPY_MODEL_2e47d0304aa142c68ae79ce9af1e5de0",
        "IPY_MODEL_080e2c47f8ad43f8af72a4742cf1e138",
        "IPY_MODEL_f6ff3964100241c19ac10dd537866b65",
        "IPY_MODEL_3bcbe7f5655b48ec8a0e11a971305e5b",
        "IPY_MODEL_b973e671a4fc4741bec46c7a4fc6801d"
       ],
       "layout": "IPY_MODEL_e4d0940ebbde4afea334bc5a50d58b77"
      }
     },
     "b973e671a4fc4741bec46c7a4fc6801d": {
      "model_module": "@jupyter-widgets/controls",
      "model_module_version": "1.4.0",
      "model_name": "CheckboxModel",
      "state": {
       "description": "float -> string",
       "disabled": false,
       "layout": "IPY_MODEL_e1517a5ece41466c962bd97efd23f41d",
       "style": "IPY_MODEL_d96e918c59714edca31e188fbdba400f",
       "value": false
      }
     },
     "c7f9522104d044b2865c5b5ace3b5838": {
      "model_module": "@jupyter-widgets/controls",
      "model_module_version": "1.4.0",
      "model_name": "CheckboxModel",
      "state": {
       "description": "string -> boolean",
       "disabled": false,
       "layout": "IPY_MODEL_48f237b0a5e843a286d0c2061a771cda",
       "style": "IPY_MODEL_2e65245b455242068b5d5e5121a66778",
       "value": false
      }
     },
     "ce97ddd4384242d7b4f4d8973f3d934d": {
      "model_module": "@jupyter-widgets/base",
      "model_module_version": "1.1.0",
      "model_name": "LayoutModel",
      "state": {}
     },
     "d0a3786bf784405d8a3b1d62fff9d4df": {
      "model_module": "@jupyter-widgets/base",
      "model_module_version": "1.1.0",
      "model_name": "LayoutModel",
      "state": {}
     },
     "d1bb9617ca9a469293c3d7872e048cf5": {
      "model_module": "@jupyter-widgets/base",
      "model_module_version": "1.1.0",
      "model_name": "LayoutModel",
      "state": {}
     },
     "d2a31aff6ca44e299e4d3b3e0a688e0e": {
      "model_module": "@jupyter-widgets/base",
      "model_module_version": "1.1.0",
      "model_name": "LayoutModel",
      "state": {}
     },
     "d440a7f911d04b60a5ea23a47cac51d5": {
      "model_module": "@jupyter-widgets/controls",
      "model_module_version": "1.4.0",
      "model_name": "CheckboxModel",
      "state": {
       "description": "boolean -> string",
       "disabled": false,
       "layout": "IPY_MODEL_d5598195117f439d8eed0dd556a546c3",
       "style": "IPY_MODEL_31896adee2084ee8a38b6c7dca0bd78e",
       "value": false
      }
     },
     "d5598195117f439d8eed0dd556a546c3": {
      "model_module": "@jupyter-widgets/base",
      "model_module_version": "1.1.0",
      "model_name": "LayoutModel",
      "state": {}
     },
     "d96e918c59714edca31e188fbdba400f": {
      "model_module": "@jupyter-widgets/controls",
      "model_module_version": "1.4.0",
      "model_name": "DescriptionStyleModel",
      "state": {
       "description_width": ""
      }
     },
     "dc3500e672b441f184cb66c9164f46c5": {
      "model_module": "@jupyter-widgets/base",
      "model_module_version": "1.1.0",
      "model_name": "LayoutModel",
      "state": {}
     },
     "dd3cd9d0b4da42e38851025c52c016d7": {
      "model_module": "@jupyter-widgets/controls",
      "model_module_version": "1.4.0",
      "model_name": "CheckboxModel",
      "state": {
       "description": "string -> float",
       "disabled": false,
       "layout": "IPY_MODEL_f30b1f4890d84faeb4ab78e1f01ebbed",
       "style": "IPY_MODEL_2d169e7d0d824f619d6fe9134201dc49",
       "value": false
      }
     },
     "dd92bb017b4a443cb4a32e6e96346ad6": {
      "model_module": "@jupyter-widgets/controls",
      "model_module_version": "1.4.0",
      "model_name": "CheckboxModel",
      "state": {
       "description": "boolean -> list",
       "disabled": false,
       "layout": "IPY_MODEL_32e66f8a5302444d9741b0b052a23fa7",
       "style": "IPY_MODEL_980b04576b014e998b763b98e353141f",
       "value": false
      }
     },
     "e1517a5ece41466c962bd97efd23f41d": {
      "model_module": "@jupyter-widgets/base",
      "model_module_version": "1.1.0",
      "model_name": "LayoutModel",
      "state": {}
     },
     "e39cc79c87574f648ea15c0c7ece4595": {
      "model_module": "@jupyter-widgets/controls",
      "model_module_version": "1.4.0",
      "model_name": "DescriptionStyleModel",
      "state": {
       "description_width": ""
      }
     },
     "e4d0940ebbde4afea334bc5a50d58b77": {
      "model_module": "@jupyter-widgets/base",
      "model_module_version": "1.1.0",
      "model_name": "LayoutModel",
      "state": {}
     },
     "e6ac8cb0bd5c429d8b97840b0dae2523": {
      "model_module": "@jupyter-widgets/controls",
      "model_module_version": "1.4.0",
      "model_name": "CheckboxModel",
      "state": {
       "description": "integer -> boolean",
       "disabled": false,
       "layout": "IPY_MODEL_ce97ddd4384242d7b4f4d8973f3d934d",
       "style": "IPY_MODEL_9b9fd7a1d0174c0d9843763e900aab5a",
       "value": false
      }
     },
     "ea32c50591e04ef984c8538179c8750b": {
      "model_module": "@jupyter-widgets/base",
      "model_module_version": "1.1.0",
      "model_name": "LayoutModel",
      "state": {}
     },
     "eb9e207aef45431d979929a70d6dcdfe": {
      "model_module": "@jupyter-widgets/controls",
      "model_module_version": "1.4.0",
      "model_name": "DescriptionStyleModel",
      "state": {
       "description_width": ""
      }
     },
     "ee2a141c799e4ab1ae864b4984b1992e": {
      "model_module": "@jupyter-widgets/controls",
      "model_module_version": "1.4.0",
      "model_name": "CheckboxModel",
      "state": {
       "description": "integer -> float",
       "disabled": false,
       "layout": "IPY_MODEL_09ce660d36034e27a17d579f4c9f9ab7",
       "style": "IPY_MODEL_e39cc79c87574f648ea15c0c7ece4595",
       "value": false
      }
     },
     "f30b1f4890d84faeb4ab78e1f01ebbed": {
      "model_module": "@jupyter-widgets/base",
      "model_module_version": "1.1.0",
      "model_name": "LayoutModel",
      "state": {}
     },
     "f6ff3964100241c19ac10dd537866b65": {
      "model_module": "@jupyter-widgets/controls",
      "model_module_version": "1.4.0",
      "model_name": "CheckboxModel",
      "state": {
       "description": "float -> boolean",
       "disabled": false,
       "layout": "IPY_MODEL_aa34f9124dce4f2981ccdc41cfd2026b",
       "style": "IPY_MODEL_888434c979f04e12aac8f2646c93369f",
       "value": false
      }
     },
     "f73a070b6b814a358c1e6a2c1b5176d3": {
      "model_module": "@jupyter-widgets/controls",
      "model_module_version": "1.4.0",
      "model_name": "DescriptionStyleModel",
      "state": {
       "description_width": ""
      }
     },
     "f95f5547e73b4ebebb45141e029cd7fa": {
      "model_module": "@jupyter-widgets/base",
      "model_module_version": "1.1.0",
      "model_name": "LayoutModel",
      "state": {}
     },
     "feb0b4e84a17424ea6790a8a6dbd7139": {
      "model_module": "@jupyter-widgets/controls",
      "model_module_version": "1.4.0",
      "model_name": "DescriptionStyleModel",
      "state": {
       "description_width": ""
      }
     }
    },
    "version_major": 2,
    "version_minor": 0
   }
  }
 },
 "nbformat": 4,
 "nbformat_minor": 2
}
