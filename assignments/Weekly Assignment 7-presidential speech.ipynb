{
 "cells": [
  {
   "cell_type": "markdown",
   "metadata": {},
   "source": [
    "# Weekly Assignment 7"
   ]
  },
  {
   "cell_type": "markdown",
   "metadata": {},
   "source": [
    "_**Instruction**_\n",
    "<p>In this assignment, we are going to look into the content of inauguration speech to disentangle presidents' value priorities as well as their ideological orientations.</p>\n",
    "<p>Previous research (Jones et al., 2017) has identified ten clusters of values that are relevant to political ideology, as well as ten sets of keywords to gauge their magnitudes as follows:</p>\n",
    "\n",
    "|No.|Value|Keywords (example)|\n",
    "|:-----:|:-----:|:-----:|\n",
    "|1|Self-Direction|ability,accountability,freedom\n",
    "|2|Stimulation|action,active,confront\n",
    "|3|Hedonism|amusement,delight,gratification\n",
    "|4|Achievement|accomplish,attain,improve\n",
    "|5|Power|authorize,dominance,reign\n",
    "|6|Security|asylum,refuge,border,prison\n",
    "|7|Tradition|catholic,christian,jewish,patriot\n",
    "|8|Conformity|abide,mandate,rule,restraint\n",
    "|9|Benevolence|allegiance,altruism,sympathy\n",
    "|10|Universalism|equality,affordability,balances"
   ]
  },
  {
   "cell_type": "markdown",
   "metadata": {},
   "source": [
    "Please download the full file here:https://juniorworld.github.io/python-workshop/doc/Assignment2_Values.txt\n",
    "<p>File format: Every line refers to one value. Value and its keywords are separated by colon and function words are separated by comma.</p>\n",
    "\n",
    ">Value1:word1,word2,...\n",
    "<br>Value2:word1,word2,..."
   ]
  },
  {
   "cell_type": "markdown",
   "metadata": {},
   "source": [
    "## Q1 Value Dictionary\n",
    "Please import the file and generate a dictionary named \"<font style='color:red; font-weight:bold;'>value_dic</font>\" using <font style='color:red; font-weight:bold;'>split()</font> function. \n",
    "<br>\n",
    "The dictionary should have ten elements. Each element contains a full list of keywords for a specific value that meet the following requirements: <br>\n",
    "1. values are all presented in <font style='color:red; font-weight:bold;'>lower case</font>\n",
    "2. values are all presented by their <font style='color:red; font-weight:bold;'>lemmas</font>"
   ]
  },
  {
   "cell_type": "code",
   "execution_count": null,
   "metadata": {},
   "outputs": [],
   "source": [
    "value_dic={}\n",
    "#Write your code here.\n",
    "#--------------------------------------------------------------\n",
    "#Step1. open and read the file\n",
    "#Step2. clean the line by removing its line breaks\n",
    "#Step3. split the line first by colon and later by comma\n",
    "#Step4. convert letter case\n",
    "#Step5: lemmatize words\n",
    "#Step6: add values to dictionary\n",
    "#--------------------------------------------------------------\n",
    "\n",
    "\n",
    "\n",
    "\n",
    "\n"
   ]
  },
  {
   "cell_type": "code",
   "execution_count": null,
   "metadata": {},
   "outputs": [],
   "source": [
    "#Run this cell to self-check the result\n",
    "print(value_dic['Stimulation'])"
   ]
  },
  {
   "cell_type": "markdown",
   "metadata": {},
   "source": [
    "## Q2 Value Priority in Presidential Speeches\n",
    "Download the presidential speech data fram from:https://juniorworld.github.io/python-workshop/doc/presidential_speech.csv <br>\n",
    "Analyze the relative importance of each value in presidential speeches. Relative importance is defined as <font style=\"color:red;font-weight:bold;\">the number of times one value are mentioned per thousand words</font>.<br><br>\n",
    "For example, President Trump spoke 1446 words for his inauguration speech and keywords related to \"Self-Direction\" were mentioned 10 times. The relative importance of \"Self-Direction\" is (10/1446)\\*1000 ≈ 6.9<br><br>\n",
    "Suggested steps are:\n",
    "1. Convert the characters to lower case\n",
    "2. Remove punctuation\n",
    "3. Split text into words\n",
    "4. Lemmatize words\n",
    "5. Calculate the word count (WC) of the speech\n",
    "6. Run a for loop to count the frequencies of keywords related to different values in value_dict\n",
    "7. Add up keyword frequencies to yield the absolute value priority AVP\n",
    "8. Divide the absolute value priority (AVP) by word count (WC) and then multiply the result by 1000\n",
    "9. Save results (A list of 10 numbers) to a csv file, named \"president_value_priority.csv\"\n",
    "10. Repeat step 1~7 for all presidential speeches\n"
   ]
  },
  {
   "cell_type": "code",
   "execution_count": null,
   "metadata": {},
   "outputs": [],
   "source": [
    "import csv\n",
    "file=open('president_value_priority.csv','w',newline='\\n')\n",
    "writer=csv.writer(file)\n",
    "writer.writerow(['president','SelfDirection','Stimulation','Hedonism','Achievement','Power',\n",
    "                 'Security','Tradition','Conformity','Benevolence','Universalism'])\n",
    "#Write your code here\n",
    "#-------------------------\n",
    "\n",
    "\n",
    "\n",
    "\n",
    "\n",
    "\n",
    "\n",
    "\n",
    "\n",
    "#-------------------------\n",
    "file.close()"
   ]
  },
  {
   "cell_type": "code",
   "execution_count": null,
   "metadata": {},
   "outputs": [],
   "source": [
    "#Self-check check\n",
    "import pandas as pd\n",
    "table=pd.read_csv('president_value_priority.csv')\n",
    "table.head()"
   ]
  },
  {
   "cell_type": "markdown",
   "metadata": {},
   "source": [
    "## Q3\n",
    "Answer following questions according to the numbers inside \"president_value_priority.csv\""
   ]
  },
  {
   "cell_type": "markdown",
   "metadata": {},
   "source": [
    "Q3.1 If all inauguration speeches are considered, which value is the most important and most mentioned?"
   ]
  },
  {
   "cell_type": "code",
   "execution_count": null,
   "metadata": {},
   "outputs": [],
   "source": []
  },
  {
   "cell_type": "markdown",
   "metadata": {},
   "source": [
    "Q3.2 Among all studied presidents, who emphasizes the value of STIMULATION more often than others?"
   ]
  },
  {
   "cell_type": "code",
   "execution_count": null,
   "metadata": {},
   "outputs": [],
   "source": []
  },
  {
   "cell_type": "markdown",
   "metadata": {},
   "source": [
    "Q3.3 Among all studied values, what is the most important thing for Trump?"
   ]
  },
  {
   "cell_type": "code",
   "execution_count": null,
   "metadata": {},
   "outputs": [],
   "source": []
  },
  {
   "cell_type": "markdown",
   "metadata": {},
   "source": [
    "Q3.4 Among all studied values, what is the least important thing for Trump?"
   ]
  },
  {
   "cell_type": "code",
   "execution_count": null,
   "metadata": {},
   "outputs": [],
   "source": []
  },
  {
   "cell_type": "markdown",
   "metadata": {},
   "source": [
    "## Extra Exercise (Not Graded)"
   ]
  },
  {
   "cell_type": "markdown",
   "metadata": {},
   "source": [
    "### Q4 Word2Vec Model\n",
    "1. Divide each speech into sentences\n",
    "2. Convert letter case, remove punctuations, tokenize sentence, remove stop words from the sentence. The resulting data is a word-sentence matrix, which is a list of sentences and each sentence is constituted by a list of words.\n",
    "    - For example, Trump's speech contains 86 sentences. His word-sentence matrix should be of length 86. Each element in this list is a sentence, which is also a list, but a list of words. Suppose his first sentence is \"Thank you.\" The first sentence list should be like [\"thank\",\"you\"]\n",
    "3. Build a Word2Vec model based on each speech matrix, so that each president will have a word2vec model corresponding to their own speech. 12 presidents, 12 models.\n",
    "\n",
    "#### Q3.1: Which president is more likely to say this?\n",
    "Which president is more likely to say \"To be prepared for war is one of the most effectual means of preserving peace.\"\n",
    "\n",
    "#### Q3.2: Which president is more closely affiliated with George Wasthington's thoughts?\n",
    "1. Go over every sentence in Wasthington's speech\n",
    "2. Calculate its score in other 11 presidents' speech model\n",
    "3. Calculate the mean value of sentence scores as the finalized metric of ideological similarity between the subsequent president and Washington, the founding father of USA\n"
   ]
  },
  {
   "cell_type": "code",
   "execution_count": null,
   "metadata": {},
   "outputs": [],
   "source": []
  },
  {
   "cell_type": "markdown",
   "metadata": {},
   "source": [
    "***"
   ]
  }
 ],
 "metadata": {
  "kernelspec": {
   "display_name": "Python 3 (ipykernel)",
   "language": "python",
   "name": "python3"
  },
  "language_info": {
   "codemirror_mode": {
    "name": "ipython",
    "version": 3
   },
   "file_extension": ".py",
   "mimetype": "text/x-python",
   "name": "python",
   "nbconvert_exporter": "python",
   "pygments_lexer": "ipython3",
   "version": "3.10.9"
  },
  "widgets": {
   "application/vnd.jupyter.widget-state+json": {
    "state": {
     "09d403da72ce484c8059f560bd837121": {
      "model_module": "@jupyter-widgets/controls",
      "model_module_version": "1.4.0",
      "model_name": "DropdownModel",
      "state": {
       "_options_labels": [
        "Washington",
        "Jefferson",
        "Lincoln",
        "Roosevelt",
        "Kennedy",
        "Nixon",
        "Reagan",
        "Bush",
        "Clinton",
        "W Bush",
        "Obama",
        "Trump"
       ],
       "index": 0,
       "layout": "IPY_MODEL_5d041920c7cd48e2a363485668907b6d",
       "style": "IPY_MODEL_0e118725a2304b21b80c9097e5078e48"
      }
     },
     "0c14d355c296406cafa55fc7a8ff8703": {
      "model_module": "@jupyter-widgets/base",
      "model_module_version": "1.1.0",
      "model_name": "LayoutModel",
      "state": {}
     },
     "0e118725a2304b21b80c9097e5078e48": {
      "model_module": "@jupyter-widgets/controls",
      "model_module_version": "1.4.0",
      "model_name": "DescriptionStyleModel",
      "state": {
       "description_width": ""
      }
     },
     "108e50ab0f634a8e8356903e8b05b383": {
      "model_module": "@jupyter-widgets/base",
      "model_module_version": "1.1.0",
      "model_name": "LayoutModel",
      "state": {}
     },
     "36f14aa0711647fcaf7d3c41e5098cba": {
      "model_module": "@jupyter-widgets/controls",
      "model_module_version": "1.4.0",
      "model_name": "DescriptionStyleModel",
      "state": {
       "description_width": ""
      }
     },
     "427453b1a0234b0795232b2204adf254": {
      "model_module": "@jupyter-widgets/base",
      "model_module_version": "1.1.0",
      "model_name": "LayoutModel",
      "state": {}
     },
     "447e287667804afdb3703200255435b7": {
      "model_module": "@jupyter-widgets/base",
      "model_module_version": "1.1.0",
      "model_name": "LayoutModel",
      "state": {}
     },
     "48c28b30321d42b5aa6ca23b457faec8": {
      "model_module": "@jupyter-widgets/controls",
      "model_module_version": "1.4.0",
      "model_name": "DropdownModel",
      "state": {
       "_options_labels": [
        "Self-Direction",
        "Stimulation",
        "Hedonism",
        "Achievement",
        "Power",
        "Security",
        "Tradition",
        "Conformity",
        "Benevolence",
        "Universalism"
       ],
       "index": 0,
       "layout": "IPY_MODEL_0c14d355c296406cafa55fc7a8ff8703",
       "style": "IPY_MODEL_36f14aa0711647fcaf7d3c41e5098cba"
      }
     },
     "50b1ce134bfb4976b5524b63af79063b": {
      "model_module": "@jupyter-widgets/controls",
      "model_module_version": "1.4.0",
      "model_name": "DescriptionStyleModel",
      "state": {
       "description_width": ""
      }
     },
     "5d041920c7cd48e2a363485668907b6d": {
      "model_module": "@jupyter-widgets/base",
      "model_module_version": "1.1.0",
      "model_name": "LayoutModel",
      "state": {}
     },
     "6bf5d15ed7ba4ce48882118753034deb": {
      "model_module": "@jupyter-widgets/base",
      "model_module_version": "1.1.0",
      "model_name": "LayoutModel",
      "state": {}
     },
     "92f1a9bf5e1e456a9e928334a2c94444": {
      "model_module": "@jupyter-widgets/controls",
      "model_module_version": "1.4.0",
      "model_name": "DropdownModel",
      "state": {
       "_options_labels": [
        "Self-Direction",
        "Stimulation",
        "Hedonism",
        "Achievement",
        "Power",
        "Security",
        "Tradition",
        "Conformity",
        "Benevolence",
        "Universalism"
       ],
       "index": 0,
       "layout": "IPY_MODEL_108e50ab0f634a8e8356903e8b05b383",
       "style": "IPY_MODEL_9482fb8de0f24b67a9ea4476a4ab865a"
      }
     },
     "9482fb8de0f24b67a9ea4476a4ab865a": {
      "model_module": "@jupyter-widgets/controls",
      "model_module_version": "1.4.0",
      "model_name": "DescriptionStyleModel",
      "state": {
       "description_width": ""
      }
     },
     "b342823aa0e74a50bbbe2659fd0a1980": {
      "model_module": "@jupyter-widgets/controls",
      "model_module_version": "1.4.0",
      "model_name": "DropdownModel",
      "state": {
       "_options_labels": [
        "Washington",
        "Jefferson",
        "Lincoln",
        "Roosevelt",
        "Kennedy",
        "Nixon",
        "Reagan",
        "Bush",
        "Clinton",
        "W Bush",
        "Obama",
        "Trump"
       ],
       "index": 0,
       "layout": "IPY_MODEL_427453b1a0234b0795232b2204adf254",
       "style": "IPY_MODEL_e2aa6eccef004eda98c547964bb65ab1"
      }
     },
     "b79d13a09c964e2c9ad68347bc444f73": {
      "model_module": "@jupyter-widgets/controls",
      "model_module_version": "1.4.0",
      "model_name": "DropdownModel",
      "state": {
       "_options_labels": [
        "Self-Direction",
        "Stimulation",
        "Hedonism",
        "Achievement",
        "Power",
        "Security",
        "Tradition",
        "Conformity",
        "Benevolence",
        "Universalism"
       ],
       "index": 0,
       "layout": "IPY_MODEL_447e287667804afdb3703200255435b7",
       "style": "IPY_MODEL_50b1ce134bfb4976b5524b63af79063b"
      }
     },
     "e2aa6eccef004eda98c547964bb65ab1": {
      "model_module": "@jupyter-widgets/controls",
      "model_module_version": "1.4.0",
      "model_name": "DescriptionStyleModel",
      "state": {
       "description_width": ""
      }
     },
     "fa3f15da2c5b48ef902cb9eced151a83": {
      "model_module": "@jupyter-widgets/controls",
      "model_module_version": "1.4.0",
      "model_name": "AccordionModel",
      "state": {
       "_titles": {
        "0": "If all inauguration speeches are considered, which value is the most important and most mentioned?",
        "1": "Among all studied presidents, who emphasizes the value of STIMULATION more often than others?",
        "2": "Among all studied presidents, who emphasizes the value of POWER more often than others?",
        "3": "Among all studied values, what is the most important thing for Trump?",
        "4": "Among all studied values, what is the least important thing for Trump?"
       },
       "children": [
        "IPY_MODEL_b79d13a09c964e2c9ad68347bc444f73",
        "IPY_MODEL_b342823aa0e74a50bbbe2659fd0a1980",
        "IPY_MODEL_09d403da72ce484c8059f560bd837121",
        "IPY_MODEL_92f1a9bf5e1e456a9e928334a2c94444",
        "IPY_MODEL_48c28b30321d42b5aa6ca23b457faec8"
       ],
       "layout": "IPY_MODEL_6bf5d15ed7ba4ce48882118753034deb"
      }
     }
    },
    "version_major": 2,
    "version_minor": 0
   }
  }
 },
 "nbformat": 4,
 "nbformat_minor": 2
}
