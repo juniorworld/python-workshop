{
 "cells": [
  {
   "cell_type": "markdown",
   "id": "2c5ecaf6",
   "metadata": {},
   "source": [
    "# Class 10 - Web Crawling (Continued)"
   ]
  },
  {
   "cell_type": "code",
   "execution_count": null,
   "id": "d0b61f82",
   "metadata": {},
   "outputs": [],
   "source": [
    "from selenium import webdriver\n",
    "from selenium.webdriver.common.keys import Keys\n",
    "import chromedriver_autoinstaller\n",
    "from selenium.webdriver.common.by import By\n",
    "import pandas as pd"
   ]
  },
  {
   "cell_type": "code",
   "execution_count": null,
   "id": "95c9b8ac",
   "metadata": {},
   "outputs": [],
   "source": [
    "#Disable the automatic software signifier\n",
    "options = webdriver.ChromeOptions() \n",
    "options.add_argument(\"--disable-blink-features=AutomationControlled\") \n",
    "options.add_experimental_option(\"excludeSwitches\", [\"enable-automation\"]) \n",
    "options.add_experimental_option(\"useAutomationExtension\", False) \n",
    "driver = webdriver.Chrome(options=options) \n",
    "driver.execute_script(\"Object.defineProperty(navigator, 'webdriver', {get: () => undefined})\") "
   ]
  },
  {
   "cell_type": "markdown",
   "id": "ad6cbd21",
   "metadata": {},
   "source": [
    "## Red Book - Collect Post Details"
   ]
  },
  {
   "cell_type": "markdown",
   "id": "c6e18627",
   "metadata": {},
   "source": [
    "Download the file https://juniorworld.github.io/python-workshop/doc/RedBook_HKBU_COMM.csv"
   ]
  },
  {
   "cell_type": "code",
   "execution_count": null,
   "id": "b0648684",
   "metadata": {},
   "outputs": [],
   "source": [
    "#Read post table\n",
    "table=pd.read_csv('RedBook_HKBU_COMM.csv')"
   ]
  },
  {
   "cell_type": "code",
   "execution_count": null,
   "id": "6a8b2422",
   "metadata": {},
   "outputs": [],
   "source": [
    "#Open first post\n",
    "driver.get(table['Link'].iloc[0])"
   ]
  },
  {
   "cell_type": "code",
   "execution_count": null,
   "id": "7dc6e31f",
   "metadata": {},
   "outputs": [],
   "source": [
    "#Get title\n",
    "title=driver.find_element(By.CLASS_NAME,'title').text"
   ]
  },
  {
   "cell_type": "code",
   "execution_count": null,
   "id": "0141158c",
   "metadata": {},
   "outputs": [],
   "source": [
    "title"
   ]
  },
  {
   "cell_type": "code",
   "execution_count": null,
   "id": "1f60a8fd",
   "metadata": {},
   "outputs": [],
   "source": [
    "#Get content list\n",
    "content_list=driver.find_elements(By.CLASS_NAME,'desc')"
   ]
  },
  {
   "cell_type": "code",
   "execution_count": null,
   "id": "f6ca04af",
   "metadata": {},
   "outputs": [],
   "source": [
    "#Combine all content into a single string\n",
    "content='' #Initialize an empty string\n",
    "for i in content_list:\n",
    "    content=content+i.text"
   ]
  },
  {
   "cell_type": "code",
   "execution_count": null,
   "id": "68fa6dfc",
   "metadata": {},
   "outputs": [],
   "source": [
    "print(content)"
   ]
  },
  {
   "cell_type": "code",
   "execution_count": null,
   "id": "3d06974b",
   "metadata": {},
   "outputs": [],
   "source": [
    "#Get the post time\n",
    "date=driver.find_element(By.CLASS_NAME,'date').text"
   ]
  },
  {
   "cell_type": "code",
   "execution_count": null,
   "id": "47197586",
   "metadata": {},
   "outputs": [],
   "source": [
    "#Get the numbers of likes, favorites, and comments received\n",
    "#Hint: To avoid mismatch, you need to look up the condition in inspect window \n",
    "#      to assure you will not have mismatched results\n",
    "likes=driver.find_element(By.XPATH,\"//div[@class='left']/span[1]\").text\n",
    "favs=driver.find_element(By.XPATH,\"//div[@class='left']/span[2]\").text\n",
    "comments=driver.find_element(By.XPATH,\"//div[@class='left']/span[3]\").text"
   ]
  },
  {
   "cell_type": "code",
   "execution_count": null,
   "id": "57ba831d",
   "metadata": {},
   "outputs": [],
   "source": [
    "print(likes,favs,comments)"
   ]
  },
  {
   "cell_type": "code",
   "execution_count": null,
   "id": "ebfca4ea",
   "metadata": {},
   "outputs": [],
   "source": [
    "#Get img list\n",
    "#Find Element By Class Name does not support class name with spaces\n",
    "#You need to use XPATH to locate the element\n",
    "img_list=[]\n",
    "first_img=driver.find_element(By.XPATH,\"//div[@class='swiper-slide swiper-slide-active zoom-in']\")"
   ]
  },
  {
   "cell_type": "code",
   "execution_count": null,
   "id": "efed88c4",
   "metadata": {},
   "outputs": [],
   "source": [
    "#Use regular expression to find URL in any string\n",
    "#Characters allowed in URL: alphabetic, numbers, and a few special characters like . ? / : and -\n",
    "import re\n",
    "first_img_url=re.findall('http[a-zA-Z0-9.?/:\\-]+',first_img.get_attribute('style'))[0]"
   ]
  },
  {
   "cell_type": "code",
   "execution_count": null,
   "id": "ee6fc753",
   "metadata": {},
   "outputs": [],
   "source": [
    "#Extract the URL of the second img\n",
    "#Step 1: Identify the \"Next\" button on the image\n",
    "#Step 2: Click it\n",
    "#Step 3: Extract the url\n",
    "#--------------------------------------------------\n",
    "next_button=\n"
   ]
  },
  {
   "cell_type": "code",
   "execution_count": null,
   "id": "10a00e7a",
   "metadata": {},
   "outputs": [],
   "source": [
    "#Write a Loop to Collect All URLs\n",
    "#Flow Chart, Change value, Exit condition\n",
    "\n"
   ]
  },
  {
   "cell_type": "markdown",
   "id": "509af090",
   "metadata": {},
   "source": [
    "### Exercise 1\n",
    "Write a Loop to extract first 10 posts' details and save them as a csv named \"COMM_Post_Details.csv\""
   ]
  },
  {
   "cell_type": "code",
   "execution_count": null,
   "id": "2d9c5586",
   "metadata": {},
   "outputs": [],
   "source": [
    "#Write your code here\n"
   ]
  },
  {
   "cell_type": "markdown",
   "id": "4f9394eb",
   "metadata": {},
   "source": [
    "## Red Book - Collect Comment Details"
   ]
  },
  {
   "cell_type": "code",
   "execution_count": null,
   "id": "4cab76d8",
   "metadata": {},
   "outputs": [],
   "source": [
    "#Get a LIST of comments visible in the current view\n",
    "#Find Elements\n",
    "comments=driver.find_elements(By.CLASS_NAME,\"comment-item\")"
   ]
  },
  {
   "cell_type": "code",
   "execution_count": null,
   "id": "81ae6192",
   "metadata": {},
   "outputs": [],
   "source": [
    "#How many comments are visible?\n",
    "len(comments)"
   ]
  },
  {
   "cell_type": "code",
   "execution_count": null,
   "id": "f63aedb0",
   "metadata": {},
   "outputs": [],
   "source": [
    "comments[0].text"
   ]
  },
  {
   "cell_type": "code",
   "execution_count": null,
   "id": "9fb7e900",
   "metadata": {},
   "outputs": [],
   "source": [
    "#Way 1: Rude match. Split by Line Breaks\n",
    "#You can use line break to split text into various pieces of info\n",
    "#But this has a big condition: Red Book does not allow line break in the comment\n",
    "#This rule does not apply to other platforms, like Weibo or Facebook\n",
    "comments[0].text.split('\\n')"
   ]
  },
  {
   "cell_type": "code",
   "execution_count": null,
   "id": "cbe66b7f",
   "metadata": {},
   "outputs": [],
   "source": [
    "#Way 2: Precise match\n",
    "#Identify the child nodes by their XPATH\n",
    "#ABSOLUTE PATH: starting from the current node by default\n",
    "#Don't add \"/\" at the beginning -> / means starting from the root <html>\n",
    "#RELATIVE PATH: \".\" represent the current node\n",
    "comments[0].find_element(By.XPATH,'div[@class=\"right\"]/div[@class=\"author-wrapper\"]').text"
   ]
  },
  {
   "cell_type": "code",
   "execution_count": null,
   "id": "b0d2bc66",
   "metadata": {},
   "outputs": [],
   "source": [
    "#Get the comment content, comment time, comment location, likes received by the comment\n",
    "comment_content=\n",
    "comment_date=\n",
    "comment_location=\n",
    "comment_likes="
   ]
  },
  {
   "cell_type": "markdown",
   "id": "6b4a67f7",
   "metadata": {},
   "source": [
    "### Exercise 2\n",
    "Write a Loop to extract first 10 comments and save them as a csv named \"COMM_1POST_10comments.csv\""
   ]
  },
  {
   "cell_type": "code",
   "execution_count": null,
   "id": "9b6d63de",
   "metadata": {},
   "outputs": [],
   "source": [
    "#Write your code here\n"
   ]
  },
  {
   "cell_type": "markdown",
   "id": "8e78c882",
   "metadata": {},
   "source": [
    "## Scroll down in an internal container\n",
    "We need to scroll down in the comment container to load more posts. <br>\n",
    "However, comment container's behavior is independent from the page's behavior at large. If you scroll to bottom in the page, the status of the comment container will not be changed.<br>\n",
    "So, what we need to do here is to imitate scrolling behaviors specifically on the container element.<br>\n",
    "Technically, it is equivalent to scroll to the last visible content to the top of the container. "
   ]
  },
  {
   "cell_type": "markdown",
   "id": "1e4273f5",
   "metadata": {},
   "source": [
    "<div style=\"background-color:#B5CAA0\">\n",
    "<h2>Check the content loading mode</h2>\n",
    "<hr>\n",
    "Old Content: 1. Removed 2. Existing<br>\n",
    "New Content: 1. Whole new 2. Overlap 3. Gap\n",
    "</div>"
   ]
  },
  {
   "cell_type": "code",
   "execution_count": null,
   "id": "df8321ce",
   "metadata": {},
   "outputs": [],
   "source": [
    "#print out the last comment visible on the current page for reference\n",
    "comments[-1].text"
   ]
  },
  {
   "cell_type": "code",
   "execution_count": null,
   "id": "3fa5ce74",
   "metadata": {},
   "outputs": [],
   "source": [
    "#Way 1: Automate Scrolling Behaviors: ScrollIntoView\n",
    "driver.execute_script(\"arguments[0].scrollIntoView(true);\",comments[-1])"
   ]
  },
  {
   "cell_type": "code",
   "execution_count": null,
   "id": "a3960ede",
   "metadata": {},
   "outputs": [],
   "source": [
    "#Way 2: Automate Mouse Behaviors\n",
    "from selenium.webdriver.common.action_chains import ActionChains\n",
    "actions = ActionChains(driver)"
   ]
  },
  {
   "cell_type": "markdown",
   "id": "4cdbc2f3",
   "metadata": {},
   "source": [
    "<div class=\"alert alert-block alert-info\">\n",
    "**<b>Tip</b>** move_to_element() move the mouse to the in-view center point of the element. This is otherwise known as “hovering.” Note that the element must be in the viewport or else the command will error.</div>"
   ]
  },
  {
   "cell_type": "code",
   "execution_count": null,
   "id": "230915ac",
   "metadata": {},
   "outputs": [],
   "source": [
    "#Scroll to the last comment to load more comments\n",
    "actions.move_to_element(comments[-1]).perform()"
   ]
  },
  {
   "cell_type": "code",
   "execution_count": null,
   "id": "c081bc58",
   "metadata": {},
   "outputs": [],
   "source": [
    "#check the content loading mode\n",
    "\n"
   ]
  },
  {
   "cell_type": "markdown",
   "id": "85ddf8a6",
   "metadata": {},
   "source": [
    "### Exercise 3\n",
    "Write a Loop to extract ALL comments and save them as a data frame"
   ]
  },
  {
   "cell_type": "code",
   "execution_count": null,
   "id": "8a707ba3",
   "metadata": {},
   "outputs": [],
   "source": [
    "#Write your code here\n"
   ]
  },
  {
   "cell_type": "markdown",
   "id": "d2102a0c",
   "metadata": {},
   "source": [
    "## Instagram - HK01"
   ]
  },
  {
   "cell_type": "markdown",
   "id": "68a677cd",
   "metadata": {},
   "source": [
    "1. Navitage your browser to https://www.instagram.com/hk01news/\n",
    "2. Collect Post Link, First Image Link, Image Description (attribute \"alt\" in `<img>` tag)\n",
    "3. Mouse hover to the image and get the likes and comments from there\n",
    "4. Repeat step 2 and 3 for the first 12 posts"
   ]
  },
  {
   "cell_type": "code",
   "execution_count": null,
   "id": "aed9c41a",
   "metadata": {},
   "outputs": [],
   "source": [
    "driver.get('https://www.instagram.com/hk01news/')"
   ]
  },
  {
   "cell_type": "code",
   "execution_count": null,
   "id": "fc6390e3",
   "metadata": {},
   "outputs": [],
   "source": [
    "#get a list of posts located on the current page\n",
    "posts="
   ]
  },
  {
   "cell_type": "code",
   "execution_count": null,
   "id": "b6b48ce5",
   "metadata": {},
   "outputs": [],
   "source": [
    "len(posts)"
   ]
  },
  {
   "cell_type": "code",
   "execution_count": null,
   "id": "69e6569b",
   "metadata": {},
   "outputs": [],
   "source": [
    "firstpost_link="
   ]
  },
  {
   "cell_type": "code",
   "execution_count": null,
   "id": "ccf9c494",
   "metadata": {},
   "outputs": [],
   "source": [
    "#get link attribute \"srcset\"\n",
    "srcset=posts[0].find_element(By.XPATH,\".//img\").get_attribute('srcset')"
   ]
  },
  {
   "cell_type": "code",
   "execution_count": null,
   "id": "aa2e0319",
   "metadata": {},
   "outputs": [],
   "source": [
    "srcset"
   ]
  },
  {
   "cell_type": "code",
   "execution_count": null,
   "id": "8390e7d3",
   "metadata": {},
   "outputs": [],
   "source": [
    "firstpost_firstimg_link=srcset.split(' ')[0]\n",
    "firstpost_firstimg_desc="
   ]
  },
  {
   "cell_type": "code",
   "execution_count": null,
   "id": "499585cf",
   "metadata": {},
   "outputs": [],
   "source": [
    "#Hover over the first img to get the likes and comments counts"
   ]
  },
  {
   "cell_type": "markdown",
   "id": "8db6e79a",
   "metadata": {},
   "source": [
    "## Weibo - People's Daily"
   ]
  },
  {
   "cell_type": "markdown",
   "id": "a8524142",
   "metadata": {},
   "source": [
    "Log into your account and switch back to the **old version**\n",
    "What's good about the old version:\n",
    "1. Allows pagination by setting page parameter \"page=2\", \"page=3\", or date parameter \"stat_date=202303\"\n",
    "2. More stable and less complex\n",
    "3. No anti-bot techniques in place"
   ]
  },
  {
   "cell_type": "code",
   "execution_count": null,
   "id": "6eff973c",
   "metadata": {},
   "outputs": [],
   "source": [
    "driver.get(\"https://weibo.com/rmrb\")"
   ]
  },
  {
   "cell_type": "code",
   "execution_count": null,
   "id": "a7f5b204",
   "metadata": {},
   "outputs": [],
   "source": [
    "#get the posts visible on the current page\n",
    "post_list=driver.find_elements(By.XPATH,'//div[@class=\"WB_feed_detail clearfix\"]')"
   ]
  },
  {
   "cell_type": "code",
   "execution_count": null,
   "id": "2ee5a104",
   "metadata": {},
   "outputs": [],
   "source": [
    "len(post_list)"
   ]
  },
  {
   "cell_type": "code",
   "execution_count": null,
   "id": "5350fa36",
   "metadata": {},
   "outputs": [],
   "source": [
    "post_list[0].text"
   ]
  },
  {
   "cell_type": "code",
   "execution_count": null,
   "id": "ad4bd10d",
   "metadata": {},
   "outputs": [],
   "source": [
    "first_post=post_list[0]"
   ]
  },
  {
   "cell_type": "code",
   "execution_count": null,
   "id": "9a6c14f8",
   "metadata": {},
   "outputs": [],
   "source": [
    "#Get the post time\n",
    "created_at=first_post.find_element(By.XPATH,'.//div[@class=\"WB_from S_txt2\"]').text"
   ]
  },
  {
   "cell_type": "code",
   "execution_count": null,
   "id": "d680d38b",
   "metadata": {},
   "outputs": [],
   "source": [
    "#Get the following values for the first post\n",
    "#pid, text, comments, shares, likes\n",
    "pid=\n",
    "text=\n",
    "comments=\n",
    "shares=\n",
    "likes="
   ]
  },
  {
   "cell_type": "code",
   "execution_count": null,
   "id": "3e6ebb70",
   "metadata": {},
   "outputs": [],
   "source": [
    "#write a for loop to save the post details to a csv file\n",
    "\n"
   ]
  },
  {
   "cell_type": "code",
   "execution_count": null,
   "id": "04cdd42b",
   "metadata": {},
   "outputs": [],
   "source": [
    "#print out the last post for our own reference\n",
    "post_list[-1].text"
   ]
  },
  {
   "cell_type": "code",
   "execution_count": null,
   "id": "2d020b46",
   "metadata": {},
   "outputs": [],
   "source": [
    "#scroll to the bottom to load more posts\n",
    "driver.execute_script(\"window.scrollTo(0, document.body.scrollHeight);\")"
   ]
  },
  {
   "cell_type": "code",
   "execution_count": null,
   "id": "be9f98a0",
   "metadata": {},
   "outputs": [],
   "source": [
    "#check the page loading mode\n"
   ]
  },
  {
   "cell_type": "code",
   "execution_count": null,
   "id": "160e6903",
   "metadata": {},
   "outputs": [],
   "source": [
    "#scroll down the page five times\n",
    "#collect all posts\n",
    "\n"
   ]
  },
  {
   "cell_type": "code",
   "execution_count": null,
   "id": "ec58fc3b",
   "metadata": {},
   "outputs": [],
   "source": [
    "#collapse the post to show full text\n",
    "\n"
   ]
  }
 ],
 "metadata": {
  "kernelspec": {
   "display_name": "Python 3 (ipykernel)",
   "language": "python",
   "name": "python3"
  },
  "language_info": {
   "codemirror_mode": {
    "name": "ipython",
    "version": 3
   },
   "file_extension": ".py",
   "mimetype": "text/x-python",
   "name": "python",
   "nbconvert_exporter": "python",
   "pygments_lexer": "ipython3",
   "version": "3.10.9"
  }
 },
 "nbformat": 4,
 "nbformat_minor": 5
}
