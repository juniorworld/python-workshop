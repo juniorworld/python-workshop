{
 "cells": [
  {
   "cell_type": "markdown",
   "id": "96cd5e00-09a0-44d6-91fa-947392178346",
   "metadata": {},
   "source": [
    "# String Operations\n",
    "\n",
    "- String is a special type of list.\n",
    "- Extract elements from string: `[]`\n",
    "\n",
    "```python\n",
    "a = 'Hellow world!'\n",
    "a[:5] #Extract the first five chars\n",
    "a[-5:] #Extract the last five chars\n",
    "```\n",
    "- String combination: a `+` b\n",
    "- Case conversion: `.lower()` and `.upper()` methods can help you unify the letter cases.\n",
    "- String segmentation: `.split()`\n",
    "- String replacement: `.replace(x, y)` replace x with y\n",
    "- Clean up unprintable tails and heads: `.strip()` remove the spaces, tabs, and line breaks at the beginning or the end of a string"
   ]
  },
  {
   "cell_type": "markdown",
   "id": "80873dac-0d24-43ff-89f5-762a440d8e98",
   "metadata": {},
   "source": [
    "## Exercise\n",
    "1. Capitalize the first letter of each word in the title\n",
    "2. Expand the codes that you have written for Step 1 to lowercase the conjunctions \"at\", \"and\", \"but\", \"for\", \"in\", \"or\", \"nor\", and the articles \"the\", \"a\", and \"an\".\n",
    "3. Check if each sentence ends with a period. If not, add a period at the end.\n",
    "4. Check if the first letter of the sentence is capitalized. If not, uppercase it.\n",
    "5. Remove extra whitespaces. There could be extra 1, 2, 3, ... more whitespaces. Your solution should be able to handle sentences with arbitrary spaces. *Hint: You can use a loop to solve this question*\n",
    "6. Repeat Steps 1-5 over the file: https://juniorworld.github.io/python-workshop/doc/student_essay.txt\n",
    "\n",
    "   - Steps 1 & 2 are applied to title only. The first line in the file is the title.\n",
    "   - Steps 3-5 are applied to main text. The main text starts from the second line through the end. **One line one sentence.**\n",
    "   - Export the new essay as a file named \"student_essay_revised.txt\""
   ]
  },
  {
   "cell_type": "code",
   "execution_count": null,
   "id": "bf001bc3-dcae-40a5-a656-aa2b2a6f3233",
   "metadata": {},
   "outputs": [],
   "source": [
    "# Capitalizes the First Letter of Each Word in the Title\n",
    "# Expected outcome: Rally In Michigan: Trump Lashes Out At Judge Who Fined Him $355 Million\n",
    "title = 'rally in michigan: trump lashes out at judge who fined him $355 million'\n",
    "\n"
   ]
  },
  {
   "cell_type": "code",
   "execution_count": null,
   "id": "df1574d2-57d3-4152-ada0-9fbf89fd87c0",
   "metadata": {},
   "outputs": [],
   "source": [
    "# Expand the previous codes\n",
    "# Lowercase the conjunctions \"at\", \"and\", \"but\", \"for\", \"in\", \"or\", \"nor\", and the articles \"the\", \"a\", and \"an\".\n",
    "conjunctions = [\"at\", \"and\", \"but\", \"for\", \"in\", \"or\", \"nor\"]\n",
    "articles = [\"the\", \"a\", \"an\"]\n",
    "\n"
   ]
  },
  {
   "cell_type": "markdown",
   "id": "c62e1c32-0b82-4ade-a4c3-243e15f3184d",
   "metadata": {},
   "source": [
    "<div class=\"alert alert-block alert-info\">\n",
    "    \n",
    "`.join()` method can allow you to concate a list of string with a specific delimiter. For example: \" \".join(a)\n",
    "</div>"
   ]
  },
  {
   "cell_type": "code",
   "execution_count": null,
   "id": "3321ddce-c749-4736-adbb-e7b4e311ba4c",
   "metadata": {},
   "outputs": [],
   "source": [
    "# Try rewriting above syntax with .join() method\n"
   ]
  },
  {
   "cell_type": "code",
   "execution_count": null,
   "id": "93bee1a4-84c3-4824-b2ba-d3847d5301e6",
   "metadata": {},
   "outputs": [],
   "source": [
    "# Check if each sentence ends with a period.\n",
    "# If not, add a period to it.\n",
    "\n"
   ]
  },
  {
   "cell_type": "code",
   "execution_count": null,
   "id": "63fda6f6-e240-44e3-913e-9c1552e87679",
   "metadata": {},
   "outputs": [],
   "source": [
    "# Remove extra whitespaces\n",
    "\n"
   ]
  },
  {
   "cell_type": "code",
   "execution_count": null,
   "id": "141749e5-dfb8-4f49-b55c-97083dc66d73",
   "metadata": {},
   "outputs": [],
   "source": [
    "import re\n",
    "re.sub(' +',' ','hi  ')"
   ]
  },
  {
   "cell_type": "code",
   "execution_count": null,
   "id": "503977f7-8b91-4393-bdea-3ae36f39bfb4",
   "metadata": {},
   "outputs": [],
   "source": [
    "# Repeat Steps 1-4 over student_essay.txt\n",
    "file_in = open('student_essay.txt','r')\n",
    "\n",
    "\n",
    "#Steps 1-2\n",
    "\n",
    "\n",
    "\n",
    "#Steps 3-5\n",
    "\n",
    "\n",
    "# Export revised text\n",
    "file_out = open('student_essay_revised.txt','w')\n",
    "\n"
   ]
  },
  {
   "cell_type": "markdown",
   "id": "8ad99487-5f7f-4e74-8329-c820a3463e2c",
   "metadata": {},
   "source": [
    "# Dictionary Operations\n",
    "\n",
    "1. Create dictionaries: `a = {\"key1\":\"value1\", \"key2\":\"value2\"}`\n",
    "2. Extract values: `a[\"key1\"]`\n",
    "3. Add new items: `a[\"key3\"]=\"value3\"`\n",
    "4. Use `.values()`, `.keys()`, `.items()` to extract relevant elements"
   ]
  },
  {
   "cell_type": "markdown",
   "id": "1de66b32-5e2c-46f8-b21d-364bf1e13924",
   "metadata": {},
   "source": [
    "## Exercise\n",
    "1. Shopping cart\n",
    "2. Emoji Translation\n",
    "3. Sentence Scores"
   ]
  },
  {
   "cell_type": "code",
   "execution_count": null,
   "id": "5e4e6469-e671-476b-84ec-329228f32332",
   "metadata": {},
   "outputs": [],
   "source": [
    "# There are 1 banana, 1 apple, and 1 orange in the cart now\n",
    "# Update your cart dictionary with the new list of items\n",
    "shopping_cart={'Banana': 1, 'Apple': 1, 'Orange': 1}\n",
    "new_items=['Orange', 'Banana', 'Orange','Blueberries', 'Pear', 'Banana', 'Orange', 'Apple', 'Milk']\n",
    "\n"
   ]
  },
  {
   "cell_type": "markdown",
   "id": "c6b85ad1-f8ce-493f-a1f4-c411aa77cee4",
   "metadata": {},
   "source": [
    "Download the emoji dictionary from: https://juniorworld.github.io/python-workshop/doc/emoji.json"
   ]
  },
  {
   "cell_type": "code",
   "execution_count": null,
   "id": "f8cc25e8-1731-4fde-9bbb-1d8d3bc60955",
   "metadata": {},
   "outputs": [],
   "source": [
    "import json\n",
    "file=open('emoji.json','r',encoding='utf-8').read()\n",
    "emoji_dict=json.loads(file)"
   ]
  },
  {
   "cell_type": "code",
   "execution_count": null,
   "id": "25d749e2-0ecc-42f2-b471-7fa2e5a704e5",
   "metadata": {},
   "outputs": [],
   "source": [
    "type(emoji_dict)"
   ]
  },
  {
   "cell_type": "code",
   "execution_count": null,
   "id": "8e56f361-c5cd-402d-96f7-d5f2abf1b75e",
   "metadata": {},
   "outputs": [],
   "source": [
    "emoji_dict"
   ]
  },
  {
   "cell_type": "code",
   "execution_count": null,
   "id": "140b2dcf-5d02-4f80-99d8-83e82fba0879",
   "metadata": {},
   "outputs": [],
   "source": [
    "#Translate this song into emojis\n",
    "lyrics=\"\"\"Devil roll the dice\n",
    "Angel roll their eyes\n",
    "It's a cruel summer\n",
    "It's cool, that's what I tell 'em\"\"\"\n",
    "\n",
    "lines=lyrics.split(\"\\n\")\n",
    "for line in lines:\n"
   ]
  },
  {
   "cell_type": "markdown",
   "id": "c18aef2d-3e9a-4079-848b-f5ba37786c1b",
   "metadata": {},
   "source": [
    "| Letter                       | Value |   |   |   |\r\n",
    "|------------------------------|-------|---|---|---|\r\n",
    "| A, E, I, O, U, L, N, R, S, T | 1     |   |   |   |\r\n",
    "| D, G                         | 2     |   |   |   |\r\n",
    "| B, C, M, P                   | 3     |   |   |   |\r\n",
    "| F, H, V, W, Y                | 4     |   |   |   |\r\n",
    "| K                            | 5     |   |   |   |\r\n",
    "| J, X                         | 8     |   |   |   |\r\n",
    "| Q, Z                         | 10    |   |   |   |"
   ]
  },
  {
   "cell_type": "code",
   "execution_count": null,
   "id": "208fe45b-8a86-4dc3-86ac-a8301cf43f0a",
   "metadata": {},
   "outputs": [],
   "source": [
    "# Calculate the total score of the below sentence\n",
    "sentence = \"Outmanned and outgunned, Ukrainian ground forces are in perhaps their most precarious position since the opening months of the war.\"\n"
   ]
  },
  {
   "cell_type": "markdown",
   "id": "9cd26f05-09e5-48b2-aaec-42d373dbd443",
   "metadata": {},
   "source": [
    "# List Operations\n",
    "\n",
    "1. Create a list: `a = [value1, value2, value3]`\n",
    "   - Create an identity list: `a = [0]*3` will give you a [0, 0, 0] \n",
    "3. Access a value from the list: `a[index]`\n",
    "4. Access a sublist of values: `a[start_index : end_index]`\n",
    "5. Functions: `len()`, `min()`, `max()`, `sum()`\n",
    "6. List combination: `list1 + list2`, `list1.extend(list2)`, `list1.append(list2)`\n"
   ]
  },
  {
   "cell_type": "code",
   "execution_count": null,
   "id": "372199ad-2b61-477e-807f-77cc893f6789",
   "metadata": {},
   "outputs": [],
   "source": [
    "# List Combination\n",
    "a = [1, 2, 3, 4]\n",
    "b = [5, 6, 10, 11]\n",
    "c = a + b"
   ]
  },
  {
   "cell_type": "code",
   "execution_count": null,
   "id": "661c2ba9-879a-4d71-b49e-55df6ef860be",
   "metadata": {},
   "outputs": [],
   "source": [
    "# List extension: useful for concating two lists\n",
    "a = [1, 2, 3, 4]\n",
    "b = [5, 6, 10, 11]\n",
    "a.extend(b)\n",
    "a"
   ]
  },
  {
   "cell_type": "code",
   "execution_count": null,
   "id": "cbc0f0ce-f619-40ab-85a0-1225418c1b0a",
   "metadata": {},
   "outputs": [],
   "source": [
    "# List appendant\n",
    "a = [1, 2, 3, 4]\n",
    "b = [5, 6, 10, 11]\n",
    "a.append(b)\n",
    "a"
   ]
  },
  {
   "cell_type": "code",
   "execution_count": null,
   "id": "73806ab9-f64d-4c16-afda-b5d1cafa0d17",
   "metadata": {},
   "outputs": [],
   "source": [
    "# .append() is useful for adding one element to a list\n",
    "a = [1, 2, 3, 4]\n",
    "a.append(5)\n",
    "a"
   ]
  },
  {
   "cell_type": "markdown",
   "id": "5ca3902a-0b01-4d31-8aa6-1edd963edca6",
   "metadata": {},
   "source": [
    "## Exercise\n",
    "\n",
    "1. Element-wise multiplication\n",
    "2. Exhaustive multiplication\n",
    "3. Weighted grades"
   ]
  },
  {
   "cell_type": "code",
   "execution_count": null,
   "id": "678e110d-7266-4a41-9b23-d80e7fc53955",
   "metadata": {},
   "outputs": [],
   "source": [
    "# Write a program to get the products of element-wise multiplication of the following two lists\n",
    "# The expected outputs are: 5, 12, 30, 44\n",
    "a = [1, 2, 3, 4]\n",
    "b = [5, 6, 10, 11]\n"
   ]
  },
  {
   "cell_type": "code",
   "execution_count": null,
   "id": "621edd1d-7a7a-4a0b-bf88-c0b745b3b9a7",
   "metadata": {},
   "outputs": [],
   "source": [
    "# Multiply every element in a with every element in b\n",
    "# Output the sum of all products\n",
    "# Expected output is 320\n",
    "a = [1, 2, 3, 4]\n",
    "b = [5, 6, 10, 11]\n"
   ]
  },
  {
   "cell_type": "code",
   "execution_count": null,
   "id": "9879bb0f-83ed-4468-b965-4bb31d7a03d1",
   "metadata": {},
   "outputs": [],
   "source": [
    "# Move all zero digits to the end of a given list of numbers\n",
    "# Expected output is [3, 4, 6, 2, 6, 7, 6, 9, 10, 7, 4, 4, 5, 3, 2, 9, 7, 1, 0, 0, 0, 0, 0, 0, 0, 0, 0]\n",
    "a = [3, 4, 0, 0, 0, 6, 2, 0, 6, 7, 6, 0, 0, 0, 9, 10, 7, 4, 4, 5, 3, 0, 0, 2, 9, 7, 1]\n",
    "\n"
   ]
  },
  {
   "cell_type": "code",
   "execution_count": null,
   "id": "382cfaa0-1a81-4fb9-b5ee-af3e0015a6a5",
   "metadata": {},
   "outputs": [],
   "source": [
    "# Calculate the weighted average grades for the below listed three students\n",
    "# Weighted average = (10% * Homework_average) + (30% * Quizzes_average) + (60% * Tests_average)\n",
    "students=[{\"name\": \"Andrew\", \"homework\": [90.0,97.0,75.0,92.0], \"quizzes\": [88.0,40.0,94.0], \"tests\": [75.0,90.0]},\n",
    "          {\"name\": \"Alice\", \"homework\": [100.0, 92.0, 98.0, 100.0], \"quizzes\": [82.0, 83.0, 91.0], \"tests\": [89.0, 97.0]},\n",
    "          {\"name\": \"Tyler\", \"homework\": [0.0, 87.0, 75.0, 22.0], \"quizzes\": [0.0, 75.0, 78.0], \"tests\": [100.0, 100.0]}]\n",
    "\n"
   ]
  },
  {
   "cell_type": "markdown",
   "id": "07cedbc6-ec7a-40aa-b3e9-333baf3052ab",
   "metadata": {},
   "source": [
    "# DataFrame\n",
    "1. Create a dataframe:\n",
    "   - List: Use a list of lists to generate a dataframe where **rows** are created based on the list elements\n",
    "   - Dictionary: Use a dictionary to generate a dataframe where **columns** are created based on dictionary elements\n",
    "   - Import an existing table: `.read_csv()`\n",
    "2. `table.sort_values(column)` method allows us to re-order the table according to values under one or more columns\n",
    "3. `series.value_counts()` method allows us to count the frequencies of unique values existing in a column"
   ]
  },
  {
   "cell_type": "code",
   "execution_count": null,
   "id": "cb3193b1-dc7f-478c-8f62-27a07ac71617",
   "metadata": {},
   "outputs": [],
   "source": [
    "# Use a dataframe to represent the abovementioned student list\n",
    "\n"
   ]
  },
  {
   "cell_type": "markdown",
   "id": "4b627b7c-5c82-4d28-82cc-2b16eabcd21d",
   "metadata": {},
   "source": [
    "## Exercise\n",
    "\n",
    "Import \"human-freedom-index.csv\" to form a dataframe: https://juniorworld.github.io/python-workshop/doc/human-freedom-index.csv\n",
    "\n",
    "1. Create a pie chart to show the distribution of countries across various continents. Each fraction represents one continents.\n",
    "2. Create a grouped bar chart to show the average personal, economic, and human freedom levels across differnet continent. Each continent should encompass three bars, representing personal, economic, and human freedom respectively.\n",
    "3. Create a scatter plot where dots represent continents, x axis represents average personal freedom, and y axis represents average economic freedom."
   ]
  },
  {
   "cell_type": "code",
   "execution_count": null,
   "id": "0683c320-dbe1-4b2e-95f2-00e3e6d5188c",
   "metadata": {},
   "outputs": [],
   "source": [
    "# Write your code here\n",
    "\n"
   ]
  }
 ],
 "metadata": {
  "kernelspec": {
   "display_name": "Python 3 (ipykernel)",
   "language": "python",
   "name": "python3"
  },
  "language_info": {
   "codemirror_mode": {
    "name": "ipython",
    "version": 3
   },
   "file_extension": ".py",
   "mimetype": "text/x-python",
   "name": "python",
   "nbconvert_exporter": "python",
   "pygments_lexer": "ipython3",
   "version": "3.12.0"
  }
 },
 "nbformat": 4,
 "nbformat_minor": 5
}
