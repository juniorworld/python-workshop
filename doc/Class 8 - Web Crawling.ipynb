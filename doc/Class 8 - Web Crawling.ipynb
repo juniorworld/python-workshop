{
 "cells": [
  {
   "cell_type": "markdown",
   "metadata": {},
   "source": [
    "# Class 8 - Web Crawling"
   ]
  },
  {
   "cell_type": "markdown",
   "metadata": {},
   "source": [
    "---"
   ]
  },
  {
   "cell_type": "markdown",
   "metadata": {},
   "source": [
    "1. We will use `selenium` package to imitate human browsing behavior and collect data from websites. \n",
    " - Compared with other package, Selenium is more versatile, which supports both static and dynamic websites."
   ]
  },
  {
   "cell_type": "markdown",
   "metadata": {},
   "source": [
    "2. To enable `selenium`, you will need to install some browser driver, which will allow you to control browser using python scripts. \n",
    "  - We will rely on `chromedriver_autoinstaller` to automatically download and install chromedriver that supports the currently installed version of chrome. "
   ]
  },
  {
   "cell_type": "code",
   "execution_count": null,
   "metadata": {},
   "outputs": [],
   "source": [
    "! pip install selenium\n",
    "! pip install chromedriver_autoinstaller"
   ]
  },
  {
   "cell_type": "code",
   "execution_count": null,
   "metadata": {},
   "outputs": [],
   "source": [
    "from selenium import webdriver\n",
    "from selenium.webdriver.common.keys import Keys\n",
    "import chromedriver_autoinstaller\n",
    "from selenium.webdriver.common.by import By"
   ]
  },
  {
   "cell_type": "code",
   "execution_count": null,
   "metadata": {},
   "outputs": [],
   "source": [
    "#install the chrome driver\n",
    "chromedriver_autoinstaller.install()"
   ]
  },
  {
   "cell_type": "code",
   "execution_count": null,
   "metadata": {},
   "outputs": [],
   "source": [
    "#run an automatically controlled chrome\n",
    "driver=webdriver.Chrome()"
   ]
  },
  {
   "cell_type": "markdown",
   "metadata": {},
   "source": [
    "Download this file to your local folder: https://juniorworld.github.io/python-workshop/doc/html_assignment_solutions.html"
   ]
  },
  {
   "cell_type": "code",
   "execution_count": null,
   "metadata": {},
   "outputs": [],
   "source": [
    "#control the driver to open your html document for the last assignment\n",
    "#driver.get(PATH) support both local path or online path\n",
    "driver.get('ABSOLUTE PATH to the local assignment file')"
   ]
  },
  {
   "cell_type": "code",
   "execution_count": null,
   "metadata": {},
   "outputs": [],
   "source": [
    "#get a HTML file via a hyperlink\n",
    "driver.get('URL')"
   ]
  },
  {
   "cell_type": "code",
   "execution_count": null,
   "metadata": {},
   "outputs": [],
   "source": [
    "#print the title\n",
    "driver.title"
   ]
  },
  {
   "cell_type": "code",
   "execution_count": null,
   "metadata": {},
   "outputs": [],
   "source": [
    "#get the url of the page\n",
    "driver.current_url"
   ]
  },
  {
   "cell_type": "code",
   "execution_count": null,
   "metadata": {},
   "outputs": [],
   "source": [
    "#print the source html document\n",
    "print(driver.page_source)"
   ]
  },
  {
   "cell_type": "markdown",
   "metadata": {},
   "source": [
    "## Find Element(s) by ID\n",
    "Web elements in Selenium = Tags in HTML<br>\n",
    "We can locate elements by their IDs.\n",
    "- ID is the <font color=\"red\">UNIQUE</font> identifier of an element. \n",
    "- This is the most efficient way to locate an element\n",
    "- Syntax:\n",
    "\n",
    ">```python\n",
    "driver.find_element(By.ID,'id')\n",
    "```"
   ]
  },
  {
   "cell_type": "code",
   "execution_count": null,
   "metadata": {},
   "outputs": [],
   "source": [
    "#locate an element with ID = name and save it as a \"name\" variable\n",
    "name=driver.find_element(By.ID,'name')"
   ]
  },
  {
   "cell_type": "markdown",
   "metadata": {},
   "source": [
    "<div class=\"alert alert-block alert-info\">\n",
    "    **<b>Tip</b>** You can use <b>.send_keys(\"input_content\")</b> method to add content to the input field.</div>"
   ]
  },
  {
   "cell_type": "code",
   "execution_count": null,
   "metadata": {},
   "outputs": [],
   "source": [
    "#fill in your name in the input field\n",
    "name.send_keys('Billie Jean')"
   ]
  },
  {
   "cell_type": "markdown",
   "metadata": {},
   "source": [
    "<div class=\"alert alert-block alert-info\">\n",
    "**<b>Tip</b>** You can use <b>.clear()</b> to clear the input field.</div>"
   ]
  },
  {
   "cell_type": "code",
   "execution_count": null,
   "metadata": {},
   "outputs": [],
   "source": [
    "#clear the input field\n",
    "name.clear()"
   ]
  },
  {
   "cell_type": "markdown",
   "metadata": {},
   "source": [
    "#### Exercise\n",
    "1. locate an element with ID = pw and add a password \"123456\" to this field\n",
    "2. set the email address to \"123456@life.hkbu.edu.hk\""
   ]
  },
  {
   "cell_type": "code",
   "execution_count": null,
   "metadata": {},
   "outputs": [],
   "source": [
    "#Write your code here\n",
    "\n"
   ]
  },
  {
   "cell_type": "markdown",
   "metadata": {},
   "source": [
    "## Find Element(s) by Tag Name\n",
    "We can also locate elements by their tag names.\n",
    "Syntax:\n",
    "\n",
    ">```python\n",
    "driver.find_element(By.TAG_NAME,'p') #return the first element matched\n",
    "driver.find_elements(By.TAG_NAME,'p') #return a list of elements matched\n",
    "```"
   ]
  },
  {
   "cell_type": "code",
   "execution_count": null,
   "metadata": {},
   "outputs": [],
   "source": [
    "#get the first <a> tag\n",
    "link=driver.find_element(By.TAG_NAME,'a')"
   ]
  },
  {
   "cell_type": "markdown",
   "metadata": {},
   "source": [
    "<div class=\"alert alert-block alert-info\">\n",
    "**<b>Tip</b>** You can use .get_attribute(\"attribute_name\") to retrieve the value of a certain attribute.</div>"
   ]
  },
  {
   "cell_type": "code",
   "execution_count": null,
   "metadata": {},
   "outputs": [],
   "source": [
    "#print out the hyperlink inside <a> tag\n"
   ]
  },
  {
   "cell_type": "code",
   "execution_count": null,
   "metadata": {},
   "outputs": [],
   "source": [
    "#get all <input> tags\n",
    "inputs=driver.find_elements(By.TAG_NAME,'input')"
   ]
  },
  {
   "cell_type": "code",
   "execution_count": null,
   "metadata": {},
   "outputs": [],
   "source": [
    "#how many <input> tags are there in the HTML file?\n"
   ]
  },
  {
   "cell_type": "markdown",
   "metadata": {},
   "source": [
    "#### Excercise\n",
    "Write a for loop to print out the type of each input tag"
   ]
  },
  {
   "cell_type": "code",
   "execution_count": null,
   "metadata": {},
   "outputs": [],
   "source": [
    "#Write your code here\n"
   ]
  },
  {
   "cell_type": "markdown",
   "metadata": {},
   "source": [
    "## Find Element(s) by Xpath"
   ]
  },
  {
   "cell_type": "markdown",
   "metadata": {},
   "source": [
    "We can locate elements by their relative/absolute paths in the file with additional hints about their tag name, attribute name, and attribute value.<br>\n",
    "- Xpath is an expression of HTML element path\n",
    "    - `/` is the sign of **absolute path**:\n",
    "        - if used at the begining (rarely): this is a xpath starting from the <font color=\"red\">root</font> node\n",
    "        - if used in the middle: refer to the **direct child** element at the next level\n",
    "            - i.e. xpath of &lt;head&gt; can be written as \"html/head\" or \"/html/head\". \n",
    "            - If you write \"/head\", system will pop up a \"NoSuchElementException\" error because &lt;head&gt; is not the root of the file.\n",
    "            - HTML documents can be very long with very complex structure. So, we rarely start a xpath with \"/\" because we don't want to waste our time in exhausting the entire absolute path\n",
    "    - `//` is the sign of **relative path**: refer to any element that matches to the pattern <font color=\"red\">no matter where they are</font>.\n",
    "        - if used at the begining: this is a xpath starting **anywhere**\n",
    "            - \"//div\" will match all &lt;div&gt; = driver.find_element(By.CLASS_NAME,\"div\")\n",
    "        - if used in the middle: refer to the (direct or indirect) **descendant** elements, e.g. \"//div//p\" will match all &lt;p&gt; under any &lt;div&gt;\n",
    "        - what does \"//div/p\" match?\n",
    "    - **Attribute selector**: We can locate elements by specifying their attribute values\n",
    "        - Syntax:`//tag_name[@attribute_name=attribute_value]`\n",
    "        - Example: \"//input[@type='reset']\" will match all inputs whose input type is \"reset\""
   ]
  },
  {
   "cell_type": "code",
   "execution_count": null,
   "metadata": {},
   "outputs": [],
   "source": [
    "#locate the body by its absolute path\n",
    "body="
   ]
  },
  {
   "cell_type": "markdown",
   "metadata": {},
   "source": [
    "<div class=\"alert alert-block alert-info\">\n",
    "**<b>Tip</b>** You can use .text to retrieve text wrapped up in the tag.</div>"
   ]
  },
  {
   "cell_type": "code",
   "execution_count": null,
   "metadata": {},
   "outputs": [],
   "source": [
    "#print out the text of the matched element\n",
    "print(body.text)"
   ]
  },
  {
   "cell_type": "code",
   "execution_count": null,
   "metadata": {},
   "outputs": [],
   "source": [
    "#locate <body> tag by its relative xpath\n",
    "body=\n",
    "print(body.text)"
   ]
  },
  {
   "cell_type": "code",
   "execution_count": null,
   "metadata": {},
   "outputs": [],
   "source": [
    "#locate the reset button\n",
    "reset=driver.find_element(By.XPATH,'//input[@type=\"reset\"]')"
   ]
  },
  {
   "cell_type": "markdown",
   "metadata": {},
   "source": [
    "<div class=\"alert alert-block alert-info\">\n",
    "**<b>Tip</b>** You can use .click() method to click a link, a button, or simply anything that is clickable.</div>"
   ]
  },
  {
   "cell_type": "code",
   "execution_count": null,
   "metadata": {},
   "outputs": [],
   "source": [
    "#click the reset button\n",
    "reset.click()"
   ]
  },
  {
   "cell_type": "markdown",
   "metadata": {},
   "source": [
    "#### What if there are more than one element that can match the pattern?\n",
    "\n",
    "1. Specify the index of the element\n",
    "  - XPath follows the <font color=\"red\">1-based</font> indexing system. It starts counting items from 1.\n",
    "  - e.g. I want to get the fifth input element: `\"//input[5]\"`"
   ]
  },
  {
   "cell_type": "markdown",
   "metadata": {},
   "source": [
    "2. Use `driver.find_elements()` function, which will result in a <font color=\"red\">list</font> of elements. Then, use list indexing method to extract the target item\n",
    "  - driver.find_elements(By.XPATH,\"//input\")[4]"
   ]
  },
  {
   "cell_type": "code",
   "execution_count": null,
   "metadata": {},
   "outputs": [],
   "source": [
    "#1st way: Indexing in XPATH\n",
    "fifth_input=driver.find_element(By.XPATH,\"//input[5]\")"
   ]
  },
  {
   "cell_type": "code",
   "execution_count": null,
   "metadata": {},
   "outputs": [],
   "source": [
    "#2nd way: Indexing in Python List\n",
    "inputs=driver.find_elements(By.XPATH,\"//input\")\n",
    "fifth_input=inputs[4]"
   ]
  },
  {
   "cell_type": "code",
   "execution_count": null,
   "metadata": {},
   "outputs": [],
   "source": [
    "#get the type of the fifth input element\n",
    "fifth_input.get_attribute(\"type\")"
   ]
  },
  {
   "cell_type": "markdown",
   "metadata": {},
   "source": [
    "#### Excersie: Click the fourth radio dot"
   ]
  },
  {
   "cell_type": "code",
   "execution_count": null,
   "metadata": {},
   "outputs": [],
   "source": [
    "#Write your code here\n",
    "\n"
   ]
  },
  {
   "cell_type": "markdown",
   "metadata": {},
   "source": [
    "#### Excersie: Print out the text inside the sixth label tag"
   ]
  },
  {
   "cell_type": "code",
   "execution_count": null,
   "metadata": {},
   "outputs": [],
   "source": [
    "#Write your code here\n",
    "\n"
   ]
  },
  {
   "cell_type": "markdown",
   "metadata": {},
   "source": [
    "<div class=\"alert alert-block alert-info\">\n",
    "**<b>Tip</b>** You can use * (wildcard) to indicate match any element/attribute.</div>"
   ]
  },
  {
   "cell_type": "code",
   "execution_count": null,
   "metadata": {},
   "outputs": [],
   "source": [
    "#get any tag whose name is \"attitude\"\n",
    "driver.find_element(By.XPATH,\"//*[@name='attitude']\")"
   ]
  },
  {
   "cell_type": "code",
   "execution_count": null,
   "metadata": {},
   "outputs": [],
   "source": [
    "#get the first input tag whose value of any attribute is \"radio\"\n",
    "driver.find_element(By.XPATH,\"//input[@*='radio']\")"
   ]
  },
  {
   "cell_type": "markdown",
   "metadata": {},
   "source": [
    "<div class=\"alert alert-block alert-info\">\n",
    "    **<b>Tip</b>** You can use <font color=\"red\">and</font> and <font color=\"red\">or</font> operators to apply more complex conditions.</div>"
   ]
  },
  {
   "cell_type": "code",
   "execution_count": null,
   "metadata": {},
   "outputs": [],
   "source": [
    "inputs=driver.find_elements(By.XPATH,\"//input[@*='radio' or @type='range']\")"
   ]
  },
  {
   "cell_type": "code",
   "execution_count": null,
   "metadata": {},
   "outputs": [],
   "source": [
    "len(inputs)"
   ]
  },
  {
   "cell_type": "code",
   "execution_count": null,
   "metadata": {},
   "outputs": [],
   "source": [
    "#what is the result of the following syntax?\n",
    "len(driver.find_elements(By.XPATH,\"//input[@*='radio' and @type='range']\"))"
   ]
  },
  {
   "cell_type": "markdown",
   "metadata": {},
   "source": [
    "## Imitate Browsing Behavior"
   ]
  },
  {
   "cell_type": "markdown",
   "metadata": {},
   "source": [
    "Some frequently used behaviors:\n",
    "1. Click: `element.click()`\n",
    "2. Add content to the input field: `element.send_keys('something')`\n",
    "3. Clear existing content in the input field: `element.clear()`\n",
    "4. Scroll: \n",
    "    - <font color=\"red\"><b>Scroll to bottom:</b></font> `driver.execute_script(\"window.scrollTo(0, document.body.scrollHeight);\")`\n",
    "    - Scroll to a specific location:\n",
    "      - scroll down by 400px, `driver.execute_script(\"window.scrollTo(0, 400);\")`\n",
    "      - scroll right by 400px, `driver.execute_script(\"window.scrollTo(400, 0);\")`"
   ]
  },
  {
   "cell_type": "code",
   "execution_count": null,
   "metadata": {},
   "outputs": [],
   "source": [
    "#click the link and scroll to the page bottom\n"
   ]
  },
  {
   "cell_type": "markdown",
   "metadata": {},
   "source": [
    "---\n",
    "# Break\n",
    "---\n",
    "# Quiz\n",
    "\n",
    "https://www.menti.com/alv4rbooi7ro\n",
    "\n",
    "<img src=\"https://juniorworld.github.io/python-workshop/img/Week%208_selenium_quiz.png\" width=\"200\" align=\"left\">"
   ]
  },
  {
   "cell_type": "markdown",
   "metadata": {},
   "source": [
    "# Practice: Red Book"
   ]
  },
  {
   "cell_type": "code",
   "execution_count": null,
   "metadata": {},
   "outputs": [],
   "source": [
    "#navigate to Red Book explore page\n",
    "driver.get('https://www.xiaohongshu.com/explore')"
   ]
  },
  {
   "cell_type": "code",
   "execution_count": null,
   "metadata": {},
   "outputs": [],
   "source": [
    "#get a list of notes displayed on the page\n",
    "#class=note-item\n",
    "notes="
   ]
  },
  {
   "cell_type": "code",
   "execution_count": null,
   "metadata": {},
   "outputs": [],
   "source": [
    "print(len(notes))"
   ]
  },
  {
   "cell_type": "code",
   "execution_count": null,
   "metadata": {},
   "outputs": [],
   "source": [
    "#have a look at the text of the first note\n",
    "notes[0].text"
   ]
  },
  {
   "cell_type": "code",
   "execution_count": null,
   "metadata": {},
   "outputs": [],
   "source": [
    "print(notes[0].text)"
   ]
  },
  {
   "cell_type": "code",
   "execution_count": null,
   "metadata": {},
   "outputs": [],
   "source": [
    "#split the text by line break\n",
    "#post_title, author_name, likes\n",
    "notes[0].text.split('\\n')"
   ]
  },
  {
   "cell_type": "code",
   "execution_count": null,
   "metadata": {},
   "outputs": [],
   "source": [
    "#write a for loop to write all these info into a csv file\n",
    "#Hint1: encoding='utf-8', if you need to write Chinese characters in a text file\n",
    "#Hint2: values in csv file can be separated by \\t (tab)\n",
    "#Hint3: You can also create a dataframe and save it to an external csv file\n",
    "#------------------------------------------------------------\n",
    "\n"
   ]
  },
  {
   "cell_type": "code",
   "execution_count": null,
   "metadata": {},
   "outputs": [],
   "source": [
    "#scroll down the page to load more posts\n",
    "driver.execute_script(\"window.scrollTo(0, document.body.scrollHeight);\")"
   ]
  },
  {
   "cell_type": "code",
   "execution_count": null,
   "metadata": {},
   "outputs": [],
   "source": [
    "notes=driver.find_elements(By.XPATH,\"//*[@class='note-item']\")\n",
    "print(len(notes))"
   ]
  },
  {
   "cell_type": "code",
   "execution_count": null,
   "metadata": {},
   "outputs": [],
   "source": [
    "notes[0].text"
   ]
  },
  {
   "cell_type": "markdown",
   "metadata": {},
   "source": [
    "#### Exercise\n",
    "Write a nested for loop to:\n",
    "1. Write post info to a csv file\n",
    "2. Load more notes by scrolling to the bottom of the page\n",
    "3. Write new post info to the csv file\n",
    "4. Repeat Step 2 and 3 for FIVE times\n",
    "5. Close the csv file"
   ]
  },
  {
   "cell_type": "code",
   "execution_count": null,
   "metadata": {},
   "outputs": [],
   "source": [
    "#Write your code here\n",
    "\n"
   ]
  },
  {
   "cell_type": "code",
   "execution_count": null,
   "metadata": {},
   "outputs": [],
   "source": [
    "#add author home page ids\n"
   ]
  }
 ],
 "metadata": {
  "kernelspec": {
   "display_name": "Python 3 (ipykernel)",
   "language": "python",
   "name": "python3"
  },
  "language_info": {
   "codemirror_mode": {
    "name": "ipython",
    "version": 3
   },
   "file_extension": ".py",
   "mimetype": "text/x-python",
   "name": "python",
   "nbconvert_exporter": "python",
   "pygments_lexer": "ipython3",
   "version": "3.10.9"
  },
  "widgets": {
   "application/vnd.jupyter.widget-state+json": {
    "state": {
     "080e2c47f8ad43f8af72a4742cf1e138": {
      "model_module": "@jupyter-widgets/controls",
      "model_module_version": "1.4.0",
      "model_name": "CheckboxModel",
      "state": {
       "description": "float -> integer",
       "disabled": false,
       "layout": "IPY_MODEL_d1bb9617ca9a469293c3d7872e048cf5",
       "style": "IPY_MODEL_46b4655aef3d497f97d962708c65df33",
       "value": false
      }
     },
     "09ce660d36034e27a17d579f4c9f9ab7": {
      "model_module": "@jupyter-widgets/base",
      "model_module_version": "1.1.0",
      "model_name": "LayoutModel",
      "state": {}
     },
     "0fc283fcb76f4be3a960745eed2085fa": {
      "model_module": "@jupyter-widgets/base",
      "model_module_version": "1.1.0",
      "model_name": "LayoutModel",
      "state": {}
     },
     "0fe58378d42648d0b73ff0f6454e0057": {
      "model_module": "@jupyter-widgets/base",
      "model_module_version": "1.1.0",
      "model_name": "LayoutModel",
      "state": {}
     },
     "12f31b4141844a6ea96726c39acc5e30": {
      "model_module": "@jupyter-widgets/controls",
      "model_module_version": "1.4.0",
      "model_name": "CheckboxModel",
      "state": {
       "description": "list -> boolean",
       "disabled": false,
       "layout": "IPY_MODEL_78ab52ea991743b590e8322cb50a6f7c",
       "style": "IPY_MODEL_f73a070b6b814a358c1e6a2c1b5176d3",
       "value": false
      }
     },
     "1b2c6cab5f134194b9263db4b76a30f9": {
      "model_module": "@jupyter-widgets/controls",
      "model_module_version": "1.4.0",
      "model_name": "CheckboxModel",
      "state": {
       "description": "string -> list",
       "disabled": false,
       "layout": "IPY_MODEL_dc3500e672b441f184cb66c9164f46c5",
       "style": "IPY_MODEL_3dbcc07594dc4af69db3bd8ed0488aab",
       "value": false
      }
     },
     "2402d123a94a4e88a71a9241817b4ddd": {
      "model_module": "@jupyter-widgets/controls",
      "model_module_version": "1.4.0",
      "model_name": "CheckboxModel",
      "state": {
       "description": "list -> integer",
       "disabled": false,
       "layout": "IPY_MODEL_588e4cdc3f85445587c599183cef6b82",
       "style": "IPY_MODEL_48f6441a930a4442b8a9774607eb2607",
       "value": false
      }
     },
     "263851430804425ba4c9912992ba392e": {
      "model_module": "@jupyter-widgets/controls",
      "model_module_version": "1.4.0",
      "model_name": "VBoxModel",
      "state": {
       "children": [
        "IPY_MODEL_331a9e88e84d4657901d770b98811c89",
        "IPY_MODEL_dd3cd9d0b4da42e38851025c52c016d7",
        "IPY_MODEL_c7f9522104d044b2865c5b5ace3b5838",
        "IPY_MODEL_1b2c6cab5f134194b9263db4b76a30f9"
       ],
       "layout": "IPY_MODEL_f95f5547e73b4ebebb45141e029cd7fa"
      }
     },
     "2d169e7d0d824f619d6fe9134201dc49": {
      "model_module": "@jupyter-widgets/controls",
      "model_module_version": "1.4.0",
      "model_name": "DescriptionStyleModel",
      "state": {
       "description_width": ""
      }
     },
     "2e47d0304aa142c68ae79ce9af1e5de0": {
      "model_module": "@jupyter-widgets/controls",
      "model_module_version": "1.4.0",
      "model_name": "CheckboxModel",
      "state": {
       "description": "integer -> string",
       "disabled": false,
       "layout": "IPY_MODEL_d2a31aff6ca44e299e4d3b3e0a688e0e",
       "style": "IPY_MODEL_86e22148b4ea403a9965d15f61ed7773",
       "value": false
      }
     },
     "2e65245b455242068b5d5e5121a66778": {
      "model_module": "@jupyter-widgets/controls",
      "model_module_version": "1.4.0",
      "model_name": "DescriptionStyleModel",
      "state": {
       "description_width": ""
      }
     },
     "31896adee2084ee8a38b6c7dca0bd78e": {
      "model_module": "@jupyter-widgets/controls",
      "model_module_version": "1.4.0",
      "model_name": "DescriptionStyleModel",
      "state": {
       "description_width": ""
      }
     },
     "32e66f8a5302444d9741b0b052a23fa7": {
      "model_module": "@jupyter-widgets/base",
      "model_module_version": "1.1.0",
      "model_name": "LayoutModel",
      "state": {}
     },
     "331a9e88e84d4657901d770b98811c89": {
      "model_module": "@jupyter-widgets/controls",
      "model_module_version": "1.4.0",
      "model_name": "CheckboxModel",
      "state": {
       "description": "string -> integer",
       "disabled": false,
       "layout": "IPY_MODEL_8b1fad754fa14059b682ca11c1469f8f",
       "style": "IPY_MODEL_a6eebb365fae434bba48e3fb56f3797d",
       "value": false
      }
     },
     "33c5cdcf55fb4721a57a50c2a5b5598a": {
      "model_module": "@jupyter-widgets/base",
      "model_module_version": "1.1.0",
      "model_name": "LayoutModel",
      "state": {}
     },
     "3730c393db284068afb44c0336c9fe69": {
      "model_module": "@jupyter-widgets/controls",
      "model_module_version": "1.4.0",
      "model_name": "CheckboxModel",
      "state": {
       "description": "boolean -> float",
       "disabled": false,
       "layout": "IPY_MODEL_33c5cdcf55fb4721a57a50c2a5b5598a",
       "style": "IPY_MODEL_8ac5c8abd45b45468472270c97163281",
       "value": false
      }
     },
     "3bcbe7f5655b48ec8a0e11a971305e5b": {
      "model_module": "@jupyter-widgets/controls",
      "model_module_version": "1.4.0",
      "model_name": "CheckboxModel",
      "state": {
       "description": "float -> list",
       "disabled": false,
       "layout": "IPY_MODEL_d0a3786bf784405d8a3b1d62fff9d4df",
       "style": "IPY_MODEL_eb9e207aef45431d979929a70d6dcdfe",
       "value": false
      }
     },
     "3dbcc07594dc4af69db3bd8ed0488aab": {
      "model_module": "@jupyter-widgets/controls",
      "model_module_version": "1.4.0",
      "model_name": "DescriptionStyleModel",
      "state": {
       "description_width": ""
      }
     },
     "4639370494564980a83c25276bf1c525": {
      "model_module": "@jupyter-widgets/controls",
      "model_module_version": "1.4.0",
      "model_name": "VBoxModel",
      "state": {
       "children": [
        "IPY_MODEL_78281b8599ef48e0ad7504242d9ec655",
        "IPY_MODEL_3730c393db284068afb44c0336c9fe69",
        "IPY_MODEL_dd92bb017b4a443cb4a32e6e96346ad6",
        "IPY_MODEL_d440a7f911d04b60a5ea23a47cac51d5",
        "IPY_MODEL_2402d123a94a4e88a71a9241817b4ddd",
        "IPY_MODEL_4756cdff64d0476eb778792ceafed665",
        "IPY_MODEL_12f31b4141844a6ea96726c39acc5e30",
        "IPY_MODEL_95012cc5cabb42c7b78294c683a57edb"
       ],
       "layout": "IPY_MODEL_ea32c50591e04ef984c8538179c8750b"
      }
     },
     "46b4655aef3d497f97d962708c65df33": {
      "model_module": "@jupyter-widgets/controls",
      "model_module_version": "1.4.0",
      "model_name": "DescriptionStyleModel",
      "state": {
       "description_width": ""
      }
     },
     "4756cdff64d0476eb778792ceafed665": {
      "model_module": "@jupyter-widgets/controls",
      "model_module_version": "1.4.0",
      "model_name": "CheckboxModel",
      "state": {
       "description": "list -> float",
       "disabled": false,
       "layout": "IPY_MODEL_781854e64bce447ea5646b2a2d37a21e",
       "style": "IPY_MODEL_63b666b6466f49a787ce5b4f04ecf795",
       "value": false
      }
     },
     "48f237b0a5e843a286d0c2061a771cda": {
      "model_module": "@jupyter-widgets/base",
      "model_module_version": "1.1.0",
      "model_name": "LayoutModel",
      "state": {}
     },
     "48f6441a930a4442b8a9774607eb2607": {
      "model_module": "@jupyter-widgets/controls",
      "model_module_version": "1.4.0",
      "model_name": "DescriptionStyleModel",
      "state": {
       "description_width": ""
      }
     },
     "524e0a435d7e4ead92056561e3013788": {
      "model_module": "@jupyter-widgets/controls",
      "model_module_version": "1.4.0",
      "model_name": "DescriptionStyleModel",
      "state": {
       "description_width": ""
      }
     },
     "563a591ca8f449e1a238a611497977a4": {
      "model_module": "@jupyter-widgets/controls",
      "model_module_version": "1.4.0",
      "model_name": "HBoxModel",
      "state": {
       "children": [
        "IPY_MODEL_aadb0e9a766b4ff88e2c66572d38a37d",
        "IPY_MODEL_4639370494564980a83c25276bf1c525",
        "IPY_MODEL_263851430804425ba4c9912992ba392e"
       ],
       "layout": "IPY_MODEL_5c3803e3ce814277b676f43f4079bc38"
      }
     },
     "588e4cdc3f85445587c599183cef6b82": {
      "model_module": "@jupyter-widgets/base",
      "model_module_version": "1.1.0",
      "model_name": "LayoutModel",
      "state": {}
     },
     "5c3803e3ce814277b676f43f4079bc38": {
      "model_module": "@jupyter-widgets/base",
      "model_module_version": "1.1.0",
      "model_name": "LayoutModel",
      "state": {}
     },
     "63b666b6466f49a787ce5b4f04ecf795": {
      "model_module": "@jupyter-widgets/controls",
      "model_module_version": "1.4.0",
      "model_name": "DescriptionStyleModel",
      "state": {
       "description_width": ""
      }
     },
     "781854e64bce447ea5646b2a2d37a21e": {
      "model_module": "@jupyter-widgets/base",
      "model_module_version": "1.1.0",
      "model_name": "LayoutModel",
      "state": {}
     },
     "78281b8599ef48e0ad7504242d9ec655": {
      "model_module": "@jupyter-widgets/controls",
      "model_module_version": "1.4.0",
      "model_name": "CheckboxModel",
      "state": {
       "description": "boolean -> integer",
       "disabled": false,
       "layout": "IPY_MODEL_a06e54ff34914ffcbfae071fb4de80ed",
       "style": "IPY_MODEL_524e0a435d7e4ead92056561e3013788",
       "value": false
      }
     },
     "78ab52ea991743b590e8322cb50a6f7c": {
      "model_module": "@jupyter-widgets/base",
      "model_module_version": "1.1.0",
      "model_name": "LayoutModel",
      "state": {}
     },
     "86e22148b4ea403a9965d15f61ed7773": {
      "model_module": "@jupyter-widgets/controls",
      "model_module_version": "1.4.0",
      "model_name": "DescriptionStyleModel",
      "state": {
       "description_width": ""
      }
     },
     "888434c979f04e12aac8f2646c93369f": {
      "model_module": "@jupyter-widgets/controls",
      "model_module_version": "1.4.0",
      "model_name": "DescriptionStyleModel",
      "state": {
       "description_width": ""
      }
     },
     "8ac5c8abd45b45468472270c97163281": {
      "model_module": "@jupyter-widgets/controls",
      "model_module_version": "1.4.0",
      "model_name": "DescriptionStyleModel",
      "state": {
       "description_width": ""
      }
     },
     "8b1fad754fa14059b682ca11c1469f8f": {
      "model_module": "@jupyter-widgets/base",
      "model_module_version": "1.1.0",
      "model_name": "LayoutModel",
      "state": {}
     },
     "911eb96c40f744bfa93164cdc9cac0f5": {
      "model_module": "@jupyter-widgets/controls",
      "model_module_version": "1.4.0",
      "model_name": "DescriptionStyleModel",
      "state": {
       "description_width": ""
      }
     },
     "95012cc5cabb42c7b78294c683a57edb": {
      "model_module": "@jupyter-widgets/controls",
      "model_module_version": "1.4.0",
      "model_name": "CheckboxModel",
      "state": {
       "description": "list -> string",
       "disabled": false,
       "layout": "IPY_MODEL_0fc283fcb76f4be3a960745eed2085fa",
       "style": "IPY_MODEL_feb0b4e84a17424ea6790a8a6dbd7139",
       "value": false
      }
     },
     "980b04576b014e998b763b98e353141f": {
      "model_module": "@jupyter-widgets/controls",
      "model_module_version": "1.4.0",
      "model_name": "DescriptionStyleModel",
      "state": {
       "description_width": ""
      }
     },
     "9b9fd7a1d0174c0d9843763e900aab5a": {
      "model_module": "@jupyter-widgets/controls",
      "model_module_version": "1.4.0",
      "model_name": "DescriptionStyleModel",
      "state": {
       "description_width": ""
      }
     },
     "a06e54ff34914ffcbfae071fb4de80ed": {
      "model_module": "@jupyter-widgets/base",
      "model_module_version": "1.1.0",
      "model_name": "LayoutModel",
      "state": {}
     },
     "a6eebb365fae434bba48e3fb56f3797d": {
      "model_module": "@jupyter-widgets/controls",
      "model_module_version": "1.4.0",
      "model_name": "DescriptionStyleModel",
      "state": {
       "description_width": ""
      }
     },
     "a7caa6bc99b64fe485c43f75cea49f4b": {
      "model_module": "@jupyter-widgets/controls",
      "model_module_version": "1.4.0",
      "model_name": "CheckboxModel",
      "state": {
       "description": "integer -> list",
       "disabled": false,
       "layout": "IPY_MODEL_0fe58378d42648d0b73ff0f6454e0057",
       "style": "IPY_MODEL_911eb96c40f744bfa93164cdc9cac0f5",
       "value": false
      }
     },
     "aa34f9124dce4f2981ccdc41cfd2026b": {
      "model_module": "@jupyter-widgets/base",
      "model_module_version": "1.1.0",
      "model_name": "LayoutModel",
      "state": {}
     },
     "aadb0e9a766b4ff88e2c66572d38a37d": {
      "model_module": "@jupyter-widgets/controls",
      "model_module_version": "1.4.0",
      "model_name": "VBoxModel",
      "state": {
       "children": [
        "IPY_MODEL_ee2a141c799e4ab1ae864b4984b1992e",
        "IPY_MODEL_e6ac8cb0bd5c429d8b97840b0dae2523",
        "IPY_MODEL_a7caa6bc99b64fe485c43f75cea49f4b",
        "IPY_MODEL_2e47d0304aa142c68ae79ce9af1e5de0",
        "IPY_MODEL_080e2c47f8ad43f8af72a4742cf1e138",
        "IPY_MODEL_f6ff3964100241c19ac10dd537866b65",
        "IPY_MODEL_3bcbe7f5655b48ec8a0e11a971305e5b",
        "IPY_MODEL_b973e671a4fc4741bec46c7a4fc6801d"
       ],
       "layout": "IPY_MODEL_e4d0940ebbde4afea334bc5a50d58b77"
      }
     },
     "b973e671a4fc4741bec46c7a4fc6801d": {
      "model_module": "@jupyter-widgets/controls",
      "model_module_version": "1.4.0",
      "model_name": "CheckboxModel",
      "state": {
       "description": "float -> string",
       "disabled": false,
       "layout": "IPY_MODEL_e1517a5ece41466c962bd97efd23f41d",
       "style": "IPY_MODEL_d96e918c59714edca31e188fbdba400f",
       "value": false
      }
     },
     "c7f9522104d044b2865c5b5ace3b5838": {
      "model_module": "@jupyter-widgets/controls",
      "model_module_version": "1.4.0",
      "model_name": "CheckboxModel",
      "state": {
       "description": "string -> boolean",
       "disabled": false,
       "layout": "IPY_MODEL_48f237b0a5e843a286d0c2061a771cda",
       "style": "IPY_MODEL_2e65245b455242068b5d5e5121a66778",
       "value": false
      }
     },
     "ce97ddd4384242d7b4f4d8973f3d934d": {
      "model_module": "@jupyter-widgets/base",
      "model_module_version": "1.1.0",
      "model_name": "LayoutModel",
      "state": {}
     },
     "d0a3786bf784405d8a3b1d62fff9d4df": {
      "model_module": "@jupyter-widgets/base",
      "model_module_version": "1.1.0",
      "model_name": "LayoutModel",
      "state": {}
     },
     "d1bb9617ca9a469293c3d7872e048cf5": {
      "model_module": "@jupyter-widgets/base",
      "model_module_version": "1.1.0",
      "model_name": "LayoutModel",
      "state": {}
     },
     "d2a31aff6ca44e299e4d3b3e0a688e0e": {
      "model_module": "@jupyter-widgets/base",
      "model_module_version": "1.1.0",
      "model_name": "LayoutModel",
      "state": {}
     },
     "d440a7f911d04b60a5ea23a47cac51d5": {
      "model_module": "@jupyter-widgets/controls",
      "model_module_version": "1.4.0",
      "model_name": "CheckboxModel",
      "state": {
       "description": "boolean -> string",
       "disabled": false,
       "layout": "IPY_MODEL_d5598195117f439d8eed0dd556a546c3",
       "style": "IPY_MODEL_31896adee2084ee8a38b6c7dca0bd78e",
       "value": false
      }
     },
     "d5598195117f439d8eed0dd556a546c3": {
      "model_module": "@jupyter-widgets/base",
      "model_module_version": "1.1.0",
      "model_name": "LayoutModel",
      "state": {}
     },
     "d96e918c59714edca31e188fbdba400f": {
      "model_module": "@jupyter-widgets/controls",
      "model_module_version": "1.4.0",
      "model_name": "DescriptionStyleModel",
      "state": {
       "description_width": ""
      }
     },
     "dc3500e672b441f184cb66c9164f46c5": {
      "model_module": "@jupyter-widgets/base",
      "model_module_version": "1.1.0",
      "model_name": "LayoutModel",
      "state": {}
     },
     "dd3cd9d0b4da42e38851025c52c016d7": {
      "model_module": "@jupyter-widgets/controls",
      "model_module_version": "1.4.0",
      "model_name": "CheckboxModel",
      "state": {
       "description": "string -> float",
       "disabled": false,
       "layout": "IPY_MODEL_f30b1f4890d84faeb4ab78e1f01ebbed",
       "style": "IPY_MODEL_2d169e7d0d824f619d6fe9134201dc49",
       "value": false
      }
     },
     "dd92bb017b4a443cb4a32e6e96346ad6": {
      "model_module": "@jupyter-widgets/controls",
      "model_module_version": "1.4.0",
      "model_name": "CheckboxModel",
      "state": {
       "description": "boolean -> list",
       "disabled": false,
       "layout": "IPY_MODEL_32e66f8a5302444d9741b0b052a23fa7",
       "style": "IPY_MODEL_980b04576b014e998b763b98e353141f",
       "value": false
      }
     },
     "e1517a5ece41466c962bd97efd23f41d": {
      "model_module": "@jupyter-widgets/base",
      "model_module_version": "1.1.0",
      "model_name": "LayoutModel",
      "state": {}
     },
     "e39cc79c87574f648ea15c0c7ece4595": {
      "model_module": "@jupyter-widgets/controls",
      "model_module_version": "1.4.0",
      "model_name": "DescriptionStyleModel",
      "state": {
       "description_width": ""
      }
     },
     "e4d0940ebbde4afea334bc5a50d58b77": {
      "model_module": "@jupyter-widgets/base",
      "model_module_version": "1.1.0",
      "model_name": "LayoutModel",
      "state": {}
     },
     "e6ac8cb0bd5c429d8b97840b0dae2523": {
      "model_module": "@jupyter-widgets/controls",
      "model_module_version": "1.4.0",
      "model_name": "CheckboxModel",
      "state": {
       "description": "integer -> boolean",
       "disabled": false,
       "layout": "IPY_MODEL_ce97ddd4384242d7b4f4d8973f3d934d",
       "style": "IPY_MODEL_9b9fd7a1d0174c0d9843763e900aab5a",
       "value": false
      }
     },
     "ea32c50591e04ef984c8538179c8750b": {
      "model_module": "@jupyter-widgets/base",
      "model_module_version": "1.1.0",
      "model_name": "LayoutModel",
      "state": {}
     },
     "eb9e207aef45431d979929a70d6dcdfe": {
      "model_module": "@jupyter-widgets/controls",
      "model_module_version": "1.4.0",
      "model_name": "DescriptionStyleModel",
      "state": {
       "description_width": ""
      }
     },
     "ee2a141c799e4ab1ae864b4984b1992e": {
      "model_module": "@jupyter-widgets/controls",
      "model_module_version": "1.4.0",
      "model_name": "CheckboxModel",
      "state": {
       "description": "integer -> float",
       "disabled": false,
       "layout": "IPY_MODEL_09ce660d36034e27a17d579f4c9f9ab7",
       "style": "IPY_MODEL_e39cc79c87574f648ea15c0c7ece4595",
       "value": false
      }
     },
     "f30b1f4890d84faeb4ab78e1f01ebbed": {
      "model_module": "@jupyter-widgets/base",
      "model_module_version": "1.1.0",
      "model_name": "LayoutModel",
      "state": {}
     },
     "f6ff3964100241c19ac10dd537866b65": {
      "model_module": "@jupyter-widgets/controls",
      "model_module_version": "1.4.0",
      "model_name": "CheckboxModel",
      "state": {
       "description": "float -> boolean",
       "disabled": false,
       "layout": "IPY_MODEL_aa34f9124dce4f2981ccdc41cfd2026b",
       "style": "IPY_MODEL_888434c979f04e12aac8f2646c93369f",
       "value": false
      }
     },
     "f73a070b6b814a358c1e6a2c1b5176d3": {
      "model_module": "@jupyter-widgets/controls",
      "model_module_version": "1.4.0",
      "model_name": "DescriptionStyleModel",
      "state": {
       "description_width": ""
      }
     },
     "f95f5547e73b4ebebb45141e029cd7fa": {
      "model_module": "@jupyter-widgets/base",
      "model_module_version": "1.1.0",
      "model_name": "LayoutModel",
      "state": {}
     },
     "feb0b4e84a17424ea6790a8a6dbd7139": {
      "model_module": "@jupyter-widgets/controls",
      "model_module_version": "1.4.0",
      "model_name": "DescriptionStyleModel",
      "state": {
       "description_width": ""
      }
     }
    },
    "version_major": 2,
    "version_minor": 0
   }
  }
 },
 "nbformat": 4,
 "nbformat_minor": 2
}
